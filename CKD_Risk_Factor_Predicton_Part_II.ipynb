{
  "nbformat": 4,
  "nbformat_minor": 0,
  "metadata": {
    "colab": {
      "provenance": [],
      "toc_visible": true
    },
    "kernelspec": {
      "name": "python3",
      "display_name": "Python 3"
    },
    "language_info": {
      "name": "python"
    }
  },
  "cells": [
    {
      "cell_type": "markdown",
      "source": [
        "# **Installing and Importing Libraries**"
      ],
      "metadata": {
        "id": "aD1uyZXGE0Tz"
      }
    },
    {
      "cell_type": "code",
      "execution_count": null,
      "metadata": {
        "id": "P_JQhlah4tmO",
        "colab": {
          "base_uri": "https://localhost:8080/"
        },
        "outputId": "a0025fee-b1ab-4901-b6ec-658f47506e2e"
      },
      "outputs": [
        {
          "output_type": "stream",
          "name": "stdout",
          "text": [
            "  Preparing metadata (setup.py) ... \u001b[?25l\u001b[?25hdone\n",
            "  Building wheel for pyforest (setup.py) ... \u001b[?25l\u001b[?25hdone\n"
          ]
        }
      ],
      "source": [
        "# Installing & Importing libraries\n",
        "!pip install pyforest -q"
      ]
    },
    {
      "cell_type": "code",
      "source": [
        "import pyforest\n",
        "import warnings\n",
        "warnings.filterwarnings(\"ignore\", category=DeprecationWarning)"
      ],
      "metadata": {
        "id": "7zuhA8Fl4yS_"
      },
      "execution_count": null,
      "outputs": []
    },
    {
      "cell_type": "markdown",
      "source": [
        "#**Reading the data**"
      ],
      "metadata": {
        "id": "2auWjNBpE1zl"
      }
    },
    {
      "cell_type": "code",
      "source": [
        "df= pd.read_csv(\"ckd-v2.csv\")\n",
        "df.head(5)"
      ],
      "metadata": {
        "colab": {
          "base_uri": "https://localhost:8080/",
          "height": 235
        },
        "id": "snY4F-HV47is",
        "outputId": "bebf5c66-3e3b-413e-8306-daeb584c5ac1"
      },
      "execution_count": null,
      "outputs": [
        {
          "output_type": "display_data",
          "data": {
            "text/plain": [
              "<IPython.core.display.Javascript object>"
            ],
            "application/javascript": [
              "\n",
              "        if (window._pyforest_update_imports_cell) { window._pyforest_update_imports_cell('import pandas as pd'); }\n",
              "    "
            ]
          },
          "metadata": {}
        },
        {
          "output_type": "execute_result",
          "data": {
            "text/plain": [
              "   bp (Diastolic)  bp limit     sg     al  class  rbc     su   pc  pcc   ba  \\\n",
              "0             0.0       0.0  1.020  1.000    1.0  0.0 -0.001  0.0  0.0  0.0   \n",
              "1             0.0       0.0  1.010 -0.001    1.0  0.0 -0.001  0.0  0.0  0.0   \n",
              "2             0.0       0.0  1.010  4.001    1.0  1.0 -0.001  1.0  0.0  1.0   \n",
              "3             1.0       1.0  1.010  3.000    1.0  0.0 -0.001  0.0  0.0  0.0   \n",
              "4             0.0       0.0  1.016 -0.001    1.0  0.0 -0.001  0.0  0.0  0.0   \n",
              "\n",
              "   ...  htn   dm  cad  appet   pe  ane       grf  stage  affected     age  \n",
              "0  ...  0.0  0.0  0.0    0.0  0.0  0.0  227.9450    1.0       1.0  11.999  \n",
              "1  ...  0.0  0.0  0.0    0.0  0.0  0.0  227.9450    1.0       1.0  11.999  \n",
              "2  ...  0.0  0.0  0.0    1.0  0.0  0.0  139.8635    1.0       1.0  11.999  \n",
              "3  ...  0.0  0.0  0.0    0.0  0.0  0.0  139.8635    1.0       1.0  11.999  \n",
              "4  ...  0.0  1.0  0.0    1.0  1.0  0.0  139.8635    1.0       1.0  16.000  \n",
              "\n",
              "[5 rows x 29 columns]"
            ],
            "text/html": [
              "\n",
              "  <div id=\"df-c1f9e056-6e71-4b98-8e39-d24ab1864822\" class=\"colab-df-container\">\n",
              "    <div>\n",
              "<style scoped>\n",
              "    .dataframe tbody tr th:only-of-type {\n",
              "        vertical-align: middle;\n",
              "    }\n",
              "\n",
              "    .dataframe tbody tr th {\n",
              "        vertical-align: top;\n",
              "    }\n",
              "\n",
              "    .dataframe thead th {\n",
              "        text-align: right;\n",
              "    }\n",
              "</style>\n",
              "<table border=\"1\" class=\"dataframe\">\n",
              "  <thead>\n",
              "    <tr style=\"text-align: right;\">\n",
              "      <th></th>\n",
              "      <th>bp (Diastolic)</th>\n",
              "      <th>bp limit</th>\n",
              "      <th>sg</th>\n",
              "      <th>al</th>\n",
              "      <th>class</th>\n",
              "      <th>rbc</th>\n",
              "      <th>su</th>\n",
              "      <th>pc</th>\n",
              "      <th>pcc</th>\n",
              "      <th>ba</th>\n",
              "      <th>...</th>\n",
              "      <th>htn</th>\n",
              "      <th>dm</th>\n",
              "      <th>cad</th>\n",
              "      <th>appet</th>\n",
              "      <th>pe</th>\n",
              "      <th>ane</th>\n",
              "      <th>grf</th>\n",
              "      <th>stage</th>\n",
              "      <th>affected</th>\n",
              "      <th>age</th>\n",
              "    </tr>\n",
              "  </thead>\n",
              "  <tbody>\n",
              "    <tr>\n",
              "      <th>0</th>\n",
              "      <td>0.0</td>\n",
              "      <td>0.0</td>\n",
              "      <td>1.020</td>\n",
              "      <td>1.000</td>\n",
              "      <td>1.0</td>\n",
              "      <td>0.0</td>\n",
              "      <td>-0.001</td>\n",
              "      <td>0.0</td>\n",
              "      <td>0.0</td>\n",
              "      <td>0.0</td>\n",
              "      <td>...</td>\n",
              "      <td>0.0</td>\n",
              "      <td>0.0</td>\n",
              "      <td>0.0</td>\n",
              "      <td>0.0</td>\n",
              "      <td>0.0</td>\n",
              "      <td>0.0</td>\n",
              "      <td>227.9450</td>\n",
              "      <td>1.0</td>\n",
              "      <td>1.0</td>\n",
              "      <td>11.999</td>\n",
              "    </tr>\n",
              "    <tr>\n",
              "      <th>1</th>\n",
              "      <td>0.0</td>\n",
              "      <td>0.0</td>\n",
              "      <td>1.010</td>\n",
              "      <td>-0.001</td>\n",
              "      <td>1.0</td>\n",
              "      <td>0.0</td>\n",
              "      <td>-0.001</td>\n",
              "      <td>0.0</td>\n",
              "      <td>0.0</td>\n",
              "      <td>0.0</td>\n",
              "      <td>...</td>\n",
              "      <td>0.0</td>\n",
              "      <td>0.0</td>\n",
              "      <td>0.0</td>\n",
              "      <td>0.0</td>\n",
              "      <td>0.0</td>\n",
              "      <td>0.0</td>\n",
              "      <td>227.9450</td>\n",
              "      <td>1.0</td>\n",
              "      <td>1.0</td>\n",
              "      <td>11.999</td>\n",
              "    </tr>\n",
              "    <tr>\n",
              "      <th>2</th>\n",
              "      <td>0.0</td>\n",
              "      <td>0.0</td>\n",
              "      <td>1.010</td>\n",
              "      <td>4.001</td>\n",
              "      <td>1.0</td>\n",
              "      <td>1.0</td>\n",
              "      <td>-0.001</td>\n",
              "      <td>1.0</td>\n",
              "      <td>0.0</td>\n",
              "      <td>1.0</td>\n",
              "      <td>...</td>\n",
              "      <td>0.0</td>\n",
              "      <td>0.0</td>\n",
              "      <td>0.0</td>\n",
              "      <td>1.0</td>\n",
              "      <td>0.0</td>\n",
              "      <td>0.0</td>\n",
              "      <td>139.8635</td>\n",
              "      <td>1.0</td>\n",
              "      <td>1.0</td>\n",
              "      <td>11.999</td>\n",
              "    </tr>\n",
              "    <tr>\n",
              "      <th>3</th>\n",
              "      <td>1.0</td>\n",
              "      <td>1.0</td>\n",
              "      <td>1.010</td>\n",
              "      <td>3.000</td>\n",
              "      <td>1.0</td>\n",
              "      <td>0.0</td>\n",
              "      <td>-0.001</td>\n",
              "      <td>0.0</td>\n",
              "      <td>0.0</td>\n",
              "      <td>0.0</td>\n",
              "      <td>...</td>\n",
              "      <td>0.0</td>\n",
              "      <td>0.0</td>\n",
              "      <td>0.0</td>\n",
              "      <td>0.0</td>\n",
              "      <td>0.0</td>\n",
              "      <td>0.0</td>\n",
              "      <td>139.8635</td>\n",
              "      <td>1.0</td>\n",
              "      <td>1.0</td>\n",
              "      <td>11.999</td>\n",
              "    </tr>\n",
              "    <tr>\n",
              "      <th>4</th>\n",
              "      <td>0.0</td>\n",
              "      <td>0.0</td>\n",
              "      <td>1.016</td>\n",
              "      <td>-0.001</td>\n",
              "      <td>1.0</td>\n",
              "      <td>0.0</td>\n",
              "      <td>-0.001</td>\n",
              "      <td>0.0</td>\n",
              "      <td>0.0</td>\n",
              "      <td>0.0</td>\n",
              "      <td>...</td>\n",
              "      <td>0.0</td>\n",
              "      <td>1.0</td>\n",
              "      <td>0.0</td>\n",
              "      <td>1.0</td>\n",
              "      <td>1.0</td>\n",
              "      <td>0.0</td>\n",
              "      <td>139.8635</td>\n",
              "      <td>1.0</td>\n",
              "      <td>1.0</td>\n",
              "      <td>16.000</td>\n",
              "    </tr>\n",
              "  </tbody>\n",
              "</table>\n",
              "<p>5 rows × 29 columns</p>\n",
              "</div>\n",
              "    <div class=\"colab-df-buttons\">\n",
              "\n",
              "  <div class=\"colab-df-container\">\n",
              "    <button class=\"colab-df-convert\" onclick=\"convertToInteractive('df-c1f9e056-6e71-4b98-8e39-d24ab1864822')\"\n",
              "            title=\"Convert this dataframe to an interactive table.\"\n",
              "            style=\"display:none;\">\n",
              "\n",
              "  <svg xmlns=\"http://www.w3.org/2000/svg\" height=\"24px\" viewBox=\"0 -960 960 960\">\n",
              "    <path d=\"M120-120v-720h720v720H120Zm60-500h600v-160H180v160Zm220 220h160v-160H400v160Zm0 220h160v-160H400v160ZM180-400h160v-160H180v160Zm440 0h160v-160H620v160ZM180-180h160v-160H180v160Zm440 0h160v-160H620v160Z\"/>\n",
              "  </svg>\n",
              "    </button>\n",
              "\n",
              "  <style>\n",
              "    .colab-df-container {\n",
              "      display:flex;\n",
              "      gap: 12px;\n",
              "    }\n",
              "\n",
              "    .colab-df-convert {\n",
              "      background-color: #E8F0FE;\n",
              "      border: none;\n",
              "      border-radius: 50%;\n",
              "      cursor: pointer;\n",
              "      display: none;\n",
              "      fill: #1967D2;\n",
              "      height: 32px;\n",
              "      padding: 0 0 0 0;\n",
              "      width: 32px;\n",
              "    }\n",
              "\n",
              "    .colab-df-convert:hover {\n",
              "      background-color: #E2EBFA;\n",
              "      box-shadow: 0px 1px 2px rgba(60, 64, 67, 0.3), 0px 1px 3px 1px rgba(60, 64, 67, 0.15);\n",
              "      fill: #174EA6;\n",
              "    }\n",
              "\n",
              "    .colab-df-buttons div {\n",
              "      margin-bottom: 4px;\n",
              "    }\n",
              "\n",
              "    [theme=dark] .colab-df-convert {\n",
              "      background-color: #3B4455;\n",
              "      fill: #D2E3FC;\n",
              "    }\n",
              "\n",
              "    [theme=dark] .colab-df-convert:hover {\n",
              "      background-color: #434B5C;\n",
              "      box-shadow: 0px 1px 3px 1px rgba(0, 0, 0, 0.15);\n",
              "      filter: drop-shadow(0px 1px 2px rgba(0, 0, 0, 0.3));\n",
              "      fill: #FFFFFF;\n",
              "    }\n",
              "  </style>\n",
              "\n",
              "    <script>\n",
              "      const buttonEl =\n",
              "        document.querySelector('#df-c1f9e056-6e71-4b98-8e39-d24ab1864822 button.colab-df-convert');\n",
              "      buttonEl.style.display =\n",
              "        google.colab.kernel.accessAllowed ? 'block' : 'none';\n",
              "\n",
              "      async function convertToInteractive(key) {\n",
              "        const element = document.querySelector('#df-c1f9e056-6e71-4b98-8e39-d24ab1864822');\n",
              "        const dataTable =\n",
              "          await google.colab.kernel.invokeFunction('convertToInteractive',\n",
              "                                                    [key], {});\n",
              "        if (!dataTable) return;\n",
              "\n",
              "        const docLinkHtml = 'Like what you see? Visit the ' +\n",
              "          '<a target=\"_blank\" href=https://colab.research.google.com/notebooks/data_table.ipynb>data table notebook</a>'\n",
              "          + ' to learn more about interactive tables.';\n",
              "        element.innerHTML = '';\n",
              "        dataTable['output_type'] = 'display_data';\n",
              "        await google.colab.output.renderOutput(dataTable, element);\n",
              "        const docLink = document.createElement('div');\n",
              "        docLink.innerHTML = docLinkHtml;\n",
              "        element.appendChild(docLink);\n",
              "      }\n",
              "    </script>\n",
              "  </div>\n",
              "\n",
              "\n",
              "<div id=\"df-42826bb9-8c79-45fd-af4d-092b96b3a100\">\n",
              "  <button class=\"colab-df-quickchart\" onclick=\"quickchart('df-42826bb9-8c79-45fd-af4d-092b96b3a100')\"\n",
              "            title=\"Suggest charts\"\n",
              "            style=\"display:none;\">\n",
              "\n",
              "<svg xmlns=\"http://www.w3.org/2000/svg\" height=\"24px\"viewBox=\"0 0 24 24\"\n",
              "     width=\"24px\">\n",
              "    <g>\n",
              "        <path d=\"M19 3H5c-1.1 0-2 .9-2 2v14c0 1.1.9 2 2 2h14c1.1 0 2-.9 2-2V5c0-1.1-.9-2-2-2zM9 17H7v-7h2v7zm4 0h-2V7h2v10zm4 0h-2v-4h2v4z\"/>\n",
              "    </g>\n",
              "</svg>\n",
              "  </button>\n",
              "\n",
              "<style>\n",
              "  .colab-df-quickchart {\n",
              "      --bg-color: #E8F0FE;\n",
              "      --fill-color: #1967D2;\n",
              "      --hover-bg-color: #E2EBFA;\n",
              "      --hover-fill-color: #174EA6;\n",
              "      --disabled-fill-color: #AAA;\n",
              "      --disabled-bg-color: #DDD;\n",
              "  }\n",
              "\n",
              "  [theme=dark] .colab-df-quickchart {\n",
              "      --bg-color: #3B4455;\n",
              "      --fill-color: #D2E3FC;\n",
              "      --hover-bg-color: #434B5C;\n",
              "      --hover-fill-color: #FFFFFF;\n",
              "      --disabled-bg-color: #3B4455;\n",
              "      --disabled-fill-color: #666;\n",
              "  }\n",
              "\n",
              "  .colab-df-quickchart {\n",
              "    background-color: var(--bg-color);\n",
              "    border: none;\n",
              "    border-radius: 50%;\n",
              "    cursor: pointer;\n",
              "    display: none;\n",
              "    fill: var(--fill-color);\n",
              "    height: 32px;\n",
              "    padding: 0;\n",
              "    width: 32px;\n",
              "  }\n",
              "\n",
              "  .colab-df-quickchart:hover {\n",
              "    background-color: var(--hover-bg-color);\n",
              "    box-shadow: 0 1px 2px rgba(60, 64, 67, 0.3), 0 1px 3px 1px rgba(60, 64, 67, 0.15);\n",
              "    fill: var(--button-hover-fill-color);\n",
              "  }\n",
              "\n",
              "  .colab-df-quickchart-complete:disabled,\n",
              "  .colab-df-quickchart-complete:disabled:hover {\n",
              "    background-color: var(--disabled-bg-color);\n",
              "    fill: var(--disabled-fill-color);\n",
              "    box-shadow: none;\n",
              "  }\n",
              "\n",
              "  .colab-df-spinner {\n",
              "    border: 2px solid var(--fill-color);\n",
              "    border-color: transparent;\n",
              "    border-bottom-color: var(--fill-color);\n",
              "    animation:\n",
              "      spin 1s steps(1) infinite;\n",
              "  }\n",
              "\n",
              "  @keyframes spin {\n",
              "    0% {\n",
              "      border-color: transparent;\n",
              "      border-bottom-color: var(--fill-color);\n",
              "      border-left-color: var(--fill-color);\n",
              "    }\n",
              "    20% {\n",
              "      border-color: transparent;\n",
              "      border-left-color: var(--fill-color);\n",
              "      border-top-color: var(--fill-color);\n",
              "    }\n",
              "    30% {\n",
              "      border-color: transparent;\n",
              "      border-left-color: var(--fill-color);\n",
              "      border-top-color: var(--fill-color);\n",
              "      border-right-color: var(--fill-color);\n",
              "    }\n",
              "    40% {\n",
              "      border-color: transparent;\n",
              "      border-right-color: var(--fill-color);\n",
              "      border-top-color: var(--fill-color);\n",
              "    }\n",
              "    60% {\n",
              "      border-color: transparent;\n",
              "      border-right-color: var(--fill-color);\n",
              "    }\n",
              "    80% {\n",
              "      border-color: transparent;\n",
              "      border-right-color: var(--fill-color);\n",
              "      border-bottom-color: var(--fill-color);\n",
              "    }\n",
              "    90% {\n",
              "      border-color: transparent;\n",
              "      border-bottom-color: var(--fill-color);\n",
              "    }\n",
              "  }\n",
              "</style>\n",
              "\n",
              "  <script>\n",
              "    async function quickchart(key) {\n",
              "      const quickchartButtonEl =\n",
              "        document.querySelector('#' + key + ' button');\n",
              "      quickchartButtonEl.disabled = true;  // To prevent multiple clicks.\n",
              "      quickchartButtonEl.classList.add('colab-df-spinner');\n",
              "      try {\n",
              "        const charts = await google.colab.kernel.invokeFunction(\n",
              "            'suggestCharts', [key], {});\n",
              "      } catch (error) {\n",
              "        console.error('Error during call to suggestCharts:', error);\n",
              "      }\n",
              "      quickchartButtonEl.classList.remove('colab-df-spinner');\n",
              "      quickchartButtonEl.classList.add('colab-df-quickchart-complete');\n",
              "    }\n",
              "    (() => {\n",
              "      let quickchartButtonEl =\n",
              "        document.querySelector('#df-42826bb9-8c79-45fd-af4d-092b96b3a100 button');\n",
              "      quickchartButtonEl.style.display =\n",
              "        google.colab.kernel.accessAllowed ? 'block' : 'none';\n",
              "    })();\n",
              "  </script>\n",
              "</div>\n",
              "\n",
              "    </div>\n",
              "  </div>\n"
            ],
            "application/vnd.google.colaboratory.intrinsic+json": {
              "type": "dataframe",
              "variable_name": "df"
            }
          },
          "metadata": {},
          "execution_count": 3
        }
      ]
    },
    {
      "cell_type": "markdown",
      "source": [
        "#**Implementing Features Engineering**"
      ],
      "metadata": {
        "id": "Z42mHLZJV_R-"
      }
    },
    {
      "cell_type": "code",
      "source": [
        "# Adding both al_Sc ratio and bu_sc ratio\n",
        "df[\"al_sc_ratio\"]= df[\"al\"] / df[\"sc\"]\n",
        "df[\"bu_sc_ratio\"] = df[\"bu\"] / df[\"sc\"]"
      ],
      "metadata": {
        "id": "EZvvauWfV_d9"
      },
      "execution_count": null,
      "outputs": []
    },
    {
      "cell_type": "code",
      "source": [
        "df.head(5)"
      ],
      "metadata": {
        "colab": {
          "base_uri": "https://localhost:8080/",
          "height": 235
        },
        "id": "RTwXwZu0PIwH",
        "outputId": "9740733e-dc16-4868-bc47-c176fa85bf5b"
      },
      "execution_count": null,
      "outputs": [
        {
          "output_type": "execute_result",
          "data": {
            "text/plain": [
              "   bp (Diastolic)  bp limit     sg     al  class  rbc     su   pc  pcc   ba  \\\n",
              "0             0.0       0.0  1.020  1.000    1.0  0.0 -0.001  0.0  0.0  0.0   \n",
              "1             0.0       0.0  1.010 -0.001    1.0  0.0 -0.001  0.0  0.0  0.0   \n",
              "2             0.0       0.0  1.010  4.001    1.0  1.0 -0.001  1.0  0.0  1.0   \n",
              "3             1.0       1.0  1.010  3.000    1.0  0.0 -0.001  0.0  0.0  0.0   \n",
              "4             0.0       0.0  1.016 -0.001    1.0  0.0 -0.001  0.0  0.0  0.0   \n",
              "\n",
              "   ...  cad  appet   pe  ane       grf  stage  affected     age  al_sc_ratio  \\\n",
              "0  ...  0.0    0.0  0.0  0.0  227.9450    1.0       1.0  11.999     0.274048   \n",
              "1  ...  0.0    0.0  0.0  0.0  227.9450    1.0       1.0  11.999    -0.000274   \n",
              "2  ...  0.0    1.0  0.0  0.0  139.8635    1.0       1.0  11.999     1.096465   \n",
              "3  ...  0.0    0.0  0.0  0.0  139.8635    1.0       1.0  11.999     0.822143   \n",
              "4  ...  0.0    1.0  1.0  0.0  139.8635    1.0       1.0  16.000    -0.000274   \n",
              "\n",
              "   bu_sc_ratio  \n",
              "0    13.181420  \n",
              "1    13.181420  \n",
              "2    18.402302  \n",
              "3    13.181420  \n",
              "4    13.181420  \n",
              "\n",
              "[5 rows x 31 columns]"
            ],
            "text/html": [
              "\n",
              "  <div id=\"df-325e19d0-0513-4f8b-9ee6-c92ee3be6eb7\" class=\"colab-df-container\">\n",
              "    <div>\n",
              "<style scoped>\n",
              "    .dataframe tbody tr th:only-of-type {\n",
              "        vertical-align: middle;\n",
              "    }\n",
              "\n",
              "    .dataframe tbody tr th {\n",
              "        vertical-align: top;\n",
              "    }\n",
              "\n",
              "    .dataframe thead th {\n",
              "        text-align: right;\n",
              "    }\n",
              "</style>\n",
              "<table border=\"1\" class=\"dataframe\">\n",
              "  <thead>\n",
              "    <tr style=\"text-align: right;\">\n",
              "      <th></th>\n",
              "      <th>bp (Diastolic)</th>\n",
              "      <th>bp limit</th>\n",
              "      <th>sg</th>\n",
              "      <th>al</th>\n",
              "      <th>class</th>\n",
              "      <th>rbc</th>\n",
              "      <th>su</th>\n",
              "      <th>pc</th>\n",
              "      <th>pcc</th>\n",
              "      <th>ba</th>\n",
              "      <th>...</th>\n",
              "      <th>cad</th>\n",
              "      <th>appet</th>\n",
              "      <th>pe</th>\n",
              "      <th>ane</th>\n",
              "      <th>grf</th>\n",
              "      <th>stage</th>\n",
              "      <th>affected</th>\n",
              "      <th>age</th>\n",
              "      <th>al_sc_ratio</th>\n",
              "      <th>bu_sc_ratio</th>\n",
              "    </tr>\n",
              "  </thead>\n",
              "  <tbody>\n",
              "    <tr>\n",
              "      <th>0</th>\n",
              "      <td>0.0</td>\n",
              "      <td>0.0</td>\n",
              "      <td>1.020</td>\n",
              "      <td>1.000</td>\n",
              "      <td>1.0</td>\n",
              "      <td>0.0</td>\n",
              "      <td>-0.001</td>\n",
              "      <td>0.0</td>\n",
              "      <td>0.0</td>\n",
              "      <td>0.0</td>\n",
              "      <td>...</td>\n",
              "      <td>0.0</td>\n",
              "      <td>0.0</td>\n",
              "      <td>0.0</td>\n",
              "      <td>0.0</td>\n",
              "      <td>227.9450</td>\n",
              "      <td>1.0</td>\n",
              "      <td>1.0</td>\n",
              "      <td>11.999</td>\n",
              "      <td>0.274048</td>\n",
              "      <td>13.181420</td>\n",
              "    </tr>\n",
              "    <tr>\n",
              "      <th>1</th>\n",
              "      <td>0.0</td>\n",
              "      <td>0.0</td>\n",
              "      <td>1.010</td>\n",
              "      <td>-0.001</td>\n",
              "      <td>1.0</td>\n",
              "      <td>0.0</td>\n",
              "      <td>-0.001</td>\n",
              "      <td>0.0</td>\n",
              "      <td>0.0</td>\n",
              "      <td>0.0</td>\n",
              "      <td>...</td>\n",
              "      <td>0.0</td>\n",
              "      <td>0.0</td>\n",
              "      <td>0.0</td>\n",
              "      <td>0.0</td>\n",
              "      <td>227.9450</td>\n",
              "      <td>1.0</td>\n",
              "      <td>1.0</td>\n",
              "      <td>11.999</td>\n",
              "      <td>-0.000274</td>\n",
              "      <td>13.181420</td>\n",
              "    </tr>\n",
              "    <tr>\n",
              "      <th>2</th>\n",
              "      <td>0.0</td>\n",
              "      <td>0.0</td>\n",
              "      <td>1.010</td>\n",
              "      <td>4.001</td>\n",
              "      <td>1.0</td>\n",
              "      <td>1.0</td>\n",
              "      <td>-0.001</td>\n",
              "      <td>1.0</td>\n",
              "      <td>0.0</td>\n",
              "      <td>1.0</td>\n",
              "      <td>...</td>\n",
              "      <td>0.0</td>\n",
              "      <td>1.0</td>\n",
              "      <td>0.0</td>\n",
              "      <td>0.0</td>\n",
              "      <td>139.8635</td>\n",
              "      <td>1.0</td>\n",
              "      <td>1.0</td>\n",
              "      <td>11.999</td>\n",
              "      <td>1.096465</td>\n",
              "      <td>18.402302</td>\n",
              "    </tr>\n",
              "    <tr>\n",
              "      <th>3</th>\n",
              "      <td>1.0</td>\n",
              "      <td>1.0</td>\n",
              "      <td>1.010</td>\n",
              "      <td>3.000</td>\n",
              "      <td>1.0</td>\n",
              "      <td>0.0</td>\n",
              "      <td>-0.001</td>\n",
              "      <td>0.0</td>\n",
              "      <td>0.0</td>\n",
              "      <td>0.0</td>\n",
              "      <td>...</td>\n",
              "      <td>0.0</td>\n",
              "      <td>0.0</td>\n",
              "      <td>0.0</td>\n",
              "      <td>0.0</td>\n",
              "      <td>139.8635</td>\n",
              "      <td>1.0</td>\n",
              "      <td>1.0</td>\n",
              "      <td>11.999</td>\n",
              "      <td>0.822143</td>\n",
              "      <td>13.181420</td>\n",
              "    </tr>\n",
              "    <tr>\n",
              "      <th>4</th>\n",
              "      <td>0.0</td>\n",
              "      <td>0.0</td>\n",
              "      <td>1.016</td>\n",
              "      <td>-0.001</td>\n",
              "      <td>1.0</td>\n",
              "      <td>0.0</td>\n",
              "      <td>-0.001</td>\n",
              "      <td>0.0</td>\n",
              "      <td>0.0</td>\n",
              "      <td>0.0</td>\n",
              "      <td>...</td>\n",
              "      <td>0.0</td>\n",
              "      <td>1.0</td>\n",
              "      <td>1.0</td>\n",
              "      <td>0.0</td>\n",
              "      <td>139.8635</td>\n",
              "      <td>1.0</td>\n",
              "      <td>1.0</td>\n",
              "      <td>16.000</td>\n",
              "      <td>-0.000274</td>\n",
              "      <td>13.181420</td>\n",
              "    </tr>\n",
              "  </tbody>\n",
              "</table>\n",
              "<p>5 rows × 31 columns</p>\n",
              "</div>\n",
              "    <div class=\"colab-df-buttons\">\n",
              "\n",
              "  <div class=\"colab-df-container\">\n",
              "    <button class=\"colab-df-convert\" onclick=\"convertToInteractive('df-325e19d0-0513-4f8b-9ee6-c92ee3be6eb7')\"\n",
              "            title=\"Convert this dataframe to an interactive table.\"\n",
              "            style=\"display:none;\">\n",
              "\n",
              "  <svg xmlns=\"http://www.w3.org/2000/svg\" height=\"24px\" viewBox=\"0 -960 960 960\">\n",
              "    <path d=\"M120-120v-720h720v720H120Zm60-500h600v-160H180v160Zm220 220h160v-160H400v160Zm0 220h160v-160H400v160ZM180-400h160v-160H180v160Zm440 0h160v-160H620v160ZM180-180h160v-160H180v160Zm440 0h160v-160H620v160Z\"/>\n",
              "  </svg>\n",
              "    </button>\n",
              "\n",
              "  <style>\n",
              "    .colab-df-container {\n",
              "      display:flex;\n",
              "      gap: 12px;\n",
              "    }\n",
              "\n",
              "    .colab-df-convert {\n",
              "      background-color: #E8F0FE;\n",
              "      border: none;\n",
              "      border-radius: 50%;\n",
              "      cursor: pointer;\n",
              "      display: none;\n",
              "      fill: #1967D2;\n",
              "      height: 32px;\n",
              "      padding: 0 0 0 0;\n",
              "      width: 32px;\n",
              "    }\n",
              "\n",
              "    .colab-df-convert:hover {\n",
              "      background-color: #E2EBFA;\n",
              "      box-shadow: 0px 1px 2px rgba(60, 64, 67, 0.3), 0px 1px 3px 1px rgba(60, 64, 67, 0.15);\n",
              "      fill: #174EA6;\n",
              "    }\n",
              "\n",
              "    .colab-df-buttons div {\n",
              "      margin-bottom: 4px;\n",
              "    }\n",
              "\n",
              "    [theme=dark] .colab-df-convert {\n",
              "      background-color: #3B4455;\n",
              "      fill: #D2E3FC;\n",
              "    }\n",
              "\n",
              "    [theme=dark] .colab-df-convert:hover {\n",
              "      background-color: #434B5C;\n",
              "      box-shadow: 0px 1px 3px 1px rgba(0, 0, 0, 0.15);\n",
              "      filter: drop-shadow(0px 1px 2px rgba(0, 0, 0, 0.3));\n",
              "      fill: #FFFFFF;\n",
              "    }\n",
              "  </style>\n",
              "\n",
              "    <script>\n",
              "      const buttonEl =\n",
              "        document.querySelector('#df-325e19d0-0513-4f8b-9ee6-c92ee3be6eb7 button.colab-df-convert');\n",
              "      buttonEl.style.display =\n",
              "        google.colab.kernel.accessAllowed ? 'block' : 'none';\n",
              "\n",
              "      async function convertToInteractive(key) {\n",
              "        const element = document.querySelector('#df-325e19d0-0513-4f8b-9ee6-c92ee3be6eb7');\n",
              "        const dataTable =\n",
              "          await google.colab.kernel.invokeFunction('convertToInteractive',\n",
              "                                                    [key], {});\n",
              "        if (!dataTable) return;\n",
              "\n",
              "        const docLinkHtml = 'Like what you see? Visit the ' +\n",
              "          '<a target=\"_blank\" href=https://colab.research.google.com/notebooks/data_table.ipynb>data table notebook</a>'\n",
              "          + ' to learn more about interactive tables.';\n",
              "        element.innerHTML = '';\n",
              "        dataTable['output_type'] = 'display_data';\n",
              "        await google.colab.output.renderOutput(dataTable, element);\n",
              "        const docLink = document.createElement('div');\n",
              "        docLink.innerHTML = docLinkHtml;\n",
              "        element.appendChild(docLink);\n",
              "      }\n",
              "    </script>\n",
              "  </div>\n",
              "\n",
              "\n",
              "<div id=\"df-f35226a5-cf5c-4f96-a072-0c843439c67a\">\n",
              "  <button class=\"colab-df-quickchart\" onclick=\"quickchart('df-f35226a5-cf5c-4f96-a072-0c843439c67a')\"\n",
              "            title=\"Suggest charts\"\n",
              "            style=\"display:none;\">\n",
              "\n",
              "<svg xmlns=\"http://www.w3.org/2000/svg\" height=\"24px\"viewBox=\"0 0 24 24\"\n",
              "     width=\"24px\">\n",
              "    <g>\n",
              "        <path d=\"M19 3H5c-1.1 0-2 .9-2 2v14c0 1.1.9 2 2 2h14c1.1 0 2-.9 2-2V5c0-1.1-.9-2-2-2zM9 17H7v-7h2v7zm4 0h-2V7h2v10zm4 0h-2v-4h2v4z\"/>\n",
              "    </g>\n",
              "</svg>\n",
              "  </button>\n",
              "\n",
              "<style>\n",
              "  .colab-df-quickchart {\n",
              "      --bg-color: #E8F0FE;\n",
              "      --fill-color: #1967D2;\n",
              "      --hover-bg-color: #E2EBFA;\n",
              "      --hover-fill-color: #174EA6;\n",
              "      --disabled-fill-color: #AAA;\n",
              "      --disabled-bg-color: #DDD;\n",
              "  }\n",
              "\n",
              "  [theme=dark] .colab-df-quickchart {\n",
              "      --bg-color: #3B4455;\n",
              "      --fill-color: #D2E3FC;\n",
              "      --hover-bg-color: #434B5C;\n",
              "      --hover-fill-color: #FFFFFF;\n",
              "      --disabled-bg-color: #3B4455;\n",
              "      --disabled-fill-color: #666;\n",
              "  }\n",
              "\n",
              "  .colab-df-quickchart {\n",
              "    background-color: var(--bg-color);\n",
              "    border: none;\n",
              "    border-radius: 50%;\n",
              "    cursor: pointer;\n",
              "    display: none;\n",
              "    fill: var(--fill-color);\n",
              "    height: 32px;\n",
              "    padding: 0;\n",
              "    width: 32px;\n",
              "  }\n",
              "\n",
              "  .colab-df-quickchart:hover {\n",
              "    background-color: var(--hover-bg-color);\n",
              "    box-shadow: 0 1px 2px rgba(60, 64, 67, 0.3), 0 1px 3px 1px rgba(60, 64, 67, 0.15);\n",
              "    fill: var(--button-hover-fill-color);\n",
              "  }\n",
              "\n",
              "  .colab-df-quickchart-complete:disabled,\n",
              "  .colab-df-quickchart-complete:disabled:hover {\n",
              "    background-color: var(--disabled-bg-color);\n",
              "    fill: var(--disabled-fill-color);\n",
              "    box-shadow: none;\n",
              "  }\n",
              "\n",
              "  .colab-df-spinner {\n",
              "    border: 2px solid var(--fill-color);\n",
              "    border-color: transparent;\n",
              "    border-bottom-color: var(--fill-color);\n",
              "    animation:\n",
              "      spin 1s steps(1) infinite;\n",
              "  }\n",
              "\n",
              "  @keyframes spin {\n",
              "    0% {\n",
              "      border-color: transparent;\n",
              "      border-bottom-color: var(--fill-color);\n",
              "      border-left-color: var(--fill-color);\n",
              "    }\n",
              "    20% {\n",
              "      border-color: transparent;\n",
              "      border-left-color: var(--fill-color);\n",
              "      border-top-color: var(--fill-color);\n",
              "    }\n",
              "    30% {\n",
              "      border-color: transparent;\n",
              "      border-left-color: var(--fill-color);\n",
              "      border-top-color: var(--fill-color);\n",
              "      border-right-color: var(--fill-color);\n",
              "    }\n",
              "    40% {\n",
              "      border-color: transparent;\n",
              "      border-right-color: var(--fill-color);\n",
              "      border-top-color: var(--fill-color);\n",
              "    }\n",
              "    60% {\n",
              "      border-color: transparent;\n",
              "      border-right-color: var(--fill-color);\n",
              "    }\n",
              "    80% {\n",
              "      border-color: transparent;\n",
              "      border-right-color: var(--fill-color);\n",
              "      border-bottom-color: var(--fill-color);\n",
              "    }\n",
              "    90% {\n",
              "      border-color: transparent;\n",
              "      border-bottom-color: var(--fill-color);\n",
              "    }\n",
              "  }\n",
              "</style>\n",
              "\n",
              "  <script>\n",
              "    async function quickchart(key) {\n",
              "      const quickchartButtonEl =\n",
              "        document.querySelector('#' + key + ' button');\n",
              "      quickchartButtonEl.disabled = true;  // To prevent multiple clicks.\n",
              "      quickchartButtonEl.classList.add('colab-df-spinner');\n",
              "      try {\n",
              "        const charts = await google.colab.kernel.invokeFunction(\n",
              "            'suggestCharts', [key], {});\n",
              "      } catch (error) {\n",
              "        console.error('Error during call to suggestCharts:', error);\n",
              "      }\n",
              "      quickchartButtonEl.classList.remove('colab-df-spinner');\n",
              "      quickchartButtonEl.classList.add('colab-df-quickchart-complete');\n",
              "    }\n",
              "    (() => {\n",
              "      let quickchartButtonEl =\n",
              "        document.querySelector('#df-f35226a5-cf5c-4f96-a072-0c843439c67a button');\n",
              "      quickchartButtonEl.style.display =\n",
              "        google.colab.kernel.accessAllowed ? 'block' : 'none';\n",
              "    })();\n",
              "  </script>\n",
              "</div>\n",
              "\n",
              "    </div>\n",
              "  </div>\n"
            ],
            "application/vnd.google.colaboratory.intrinsic+json": {
              "type": "dataframe",
              "variable_name": "df"
            }
          },
          "metadata": {},
          "execution_count": 5
        }
      ]
    },
    {
      "cell_type": "markdown",
      "source": [
        "#**Simple Data Check**"
      ],
      "metadata": {
        "id": "hHytydYuEmnY"
      }
    },
    {
      "cell_type": "code",
      "source": [
        "na_records = df[df.isna().any(axis=1)]\n",
        "na_records"
      ],
      "metadata": {
        "colab": {
          "base_uri": "https://localhost:8080/",
          "height": 89
        },
        "id": "3LcHDdyG45xv",
        "outputId": "ca4ab343-9cd4-4bbe-9d95-0175518de857"
      },
      "execution_count": null,
      "outputs": [
        {
          "output_type": "execute_result",
          "data": {
            "text/plain": [
              "Empty DataFrame\n",
              "Columns: [bp (Diastolic), bp limit, sg, al, class, rbc, su, pc, pcc, ba, bgr, bu, sod, sc, pot, hemo, pcv, rbcc, wbcc, htn, dm, cad, appet, pe, ane, grf, stage, affected, age, al_sc_ratio, bu_sc_ratio]\n",
              "Index: []\n",
              "\n",
              "[0 rows x 31 columns]"
            ],
            "text/html": [
              "\n",
              "  <div id=\"df-839b1c42-6b2a-4cf7-ba9c-665ef172d530\" class=\"colab-df-container\">\n",
              "    <div>\n",
              "<style scoped>\n",
              "    .dataframe tbody tr th:only-of-type {\n",
              "        vertical-align: middle;\n",
              "    }\n",
              "\n",
              "    .dataframe tbody tr th {\n",
              "        vertical-align: top;\n",
              "    }\n",
              "\n",
              "    .dataframe thead th {\n",
              "        text-align: right;\n",
              "    }\n",
              "</style>\n",
              "<table border=\"1\" class=\"dataframe\">\n",
              "  <thead>\n",
              "    <tr style=\"text-align: right;\">\n",
              "      <th></th>\n",
              "      <th>bp (Diastolic)</th>\n",
              "      <th>bp limit</th>\n",
              "      <th>sg</th>\n",
              "      <th>al</th>\n",
              "      <th>class</th>\n",
              "      <th>rbc</th>\n",
              "      <th>su</th>\n",
              "      <th>pc</th>\n",
              "      <th>pcc</th>\n",
              "      <th>ba</th>\n",
              "      <th>...</th>\n",
              "      <th>cad</th>\n",
              "      <th>appet</th>\n",
              "      <th>pe</th>\n",
              "      <th>ane</th>\n",
              "      <th>grf</th>\n",
              "      <th>stage</th>\n",
              "      <th>affected</th>\n",
              "      <th>age</th>\n",
              "      <th>al_sc_ratio</th>\n",
              "      <th>bu_sc_ratio</th>\n",
              "    </tr>\n",
              "  </thead>\n",
              "  <tbody>\n",
              "  </tbody>\n",
              "</table>\n",
              "<p>0 rows × 31 columns</p>\n",
              "</div>\n",
              "    <div class=\"colab-df-buttons\">\n",
              "\n",
              "  <div class=\"colab-df-container\">\n",
              "    <button class=\"colab-df-convert\" onclick=\"convertToInteractive('df-839b1c42-6b2a-4cf7-ba9c-665ef172d530')\"\n",
              "            title=\"Convert this dataframe to an interactive table.\"\n",
              "            style=\"display:none;\">\n",
              "\n",
              "  <svg xmlns=\"http://www.w3.org/2000/svg\" height=\"24px\" viewBox=\"0 -960 960 960\">\n",
              "    <path d=\"M120-120v-720h720v720H120Zm60-500h600v-160H180v160Zm220 220h160v-160H400v160Zm0 220h160v-160H400v160ZM180-400h160v-160H180v160Zm440 0h160v-160H620v160ZM180-180h160v-160H180v160Zm440 0h160v-160H620v160Z\"/>\n",
              "  </svg>\n",
              "    </button>\n",
              "\n",
              "  <style>\n",
              "    .colab-df-container {\n",
              "      display:flex;\n",
              "      gap: 12px;\n",
              "    }\n",
              "\n",
              "    .colab-df-convert {\n",
              "      background-color: #E8F0FE;\n",
              "      border: none;\n",
              "      border-radius: 50%;\n",
              "      cursor: pointer;\n",
              "      display: none;\n",
              "      fill: #1967D2;\n",
              "      height: 32px;\n",
              "      padding: 0 0 0 0;\n",
              "      width: 32px;\n",
              "    }\n",
              "\n",
              "    .colab-df-convert:hover {\n",
              "      background-color: #E2EBFA;\n",
              "      box-shadow: 0px 1px 2px rgba(60, 64, 67, 0.3), 0px 1px 3px 1px rgba(60, 64, 67, 0.15);\n",
              "      fill: #174EA6;\n",
              "    }\n",
              "\n",
              "    .colab-df-buttons div {\n",
              "      margin-bottom: 4px;\n",
              "    }\n",
              "\n",
              "    [theme=dark] .colab-df-convert {\n",
              "      background-color: #3B4455;\n",
              "      fill: #D2E3FC;\n",
              "    }\n",
              "\n",
              "    [theme=dark] .colab-df-convert:hover {\n",
              "      background-color: #434B5C;\n",
              "      box-shadow: 0px 1px 3px 1px rgba(0, 0, 0, 0.15);\n",
              "      filter: drop-shadow(0px 1px 2px rgba(0, 0, 0, 0.3));\n",
              "      fill: #FFFFFF;\n",
              "    }\n",
              "  </style>\n",
              "\n",
              "    <script>\n",
              "      const buttonEl =\n",
              "        document.querySelector('#df-839b1c42-6b2a-4cf7-ba9c-665ef172d530 button.colab-df-convert');\n",
              "      buttonEl.style.display =\n",
              "        google.colab.kernel.accessAllowed ? 'block' : 'none';\n",
              "\n",
              "      async function convertToInteractive(key) {\n",
              "        const element = document.querySelector('#df-839b1c42-6b2a-4cf7-ba9c-665ef172d530');\n",
              "        const dataTable =\n",
              "          await google.colab.kernel.invokeFunction('convertToInteractive',\n",
              "                                                    [key], {});\n",
              "        if (!dataTable) return;\n",
              "\n",
              "        const docLinkHtml = 'Like what you see? Visit the ' +\n",
              "          '<a target=\"_blank\" href=https://colab.research.google.com/notebooks/data_table.ipynb>data table notebook</a>'\n",
              "          + ' to learn more about interactive tables.';\n",
              "        element.innerHTML = '';\n",
              "        dataTable['output_type'] = 'display_data';\n",
              "        await google.colab.output.renderOutput(dataTable, element);\n",
              "        const docLink = document.createElement('div');\n",
              "        docLink.innerHTML = docLinkHtml;\n",
              "        element.appendChild(docLink);\n",
              "      }\n",
              "    </script>\n",
              "  </div>\n",
              "\n",
              "\n",
              "  <div id=\"id_11e10a87-9800-4099-808f-d838124797dc\">\n",
              "    <style>\n",
              "      .colab-df-generate {\n",
              "        background-color: #E8F0FE;\n",
              "        border: none;\n",
              "        border-radius: 50%;\n",
              "        cursor: pointer;\n",
              "        display: none;\n",
              "        fill: #1967D2;\n",
              "        height: 32px;\n",
              "        padding: 0 0 0 0;\n",
              "        width: 32px;\n",
              "      }\n",
              "\n",
              "      .colab-df-generate:hover {\n",
              "        background-color: #E2EBFA;\n",
              "        box-shadow: 0px 1px 2px rgba(60, 64, 67, 0.3), 0px 1px 3px 1px rgba(60, 64, 67, 0.15);\n",
              "        fill: #174EA6;\n",
              "      }\n",
              "\n",
              "      [theme=dark] .colab-df-generate {\n",
              "        background-color: #3B4455;\n",
              "        fill: #D2E3FC;\n",
              "      }\n",
              "\n",
              "      [theme=dark] .colab-df-generate:hover {\n",
              "        background-color: #434B5C;\n",
              "        box-shadow: 0px 1px 3px 1px rgba(0, 0, 0, 0.15);\n",
              "        filter: drop-shadow(0px 1px 2px rgba(0, 0, 0, 0.3));\n",
              "        fill: #FFFFFF;\n",
              "      }\n",
              "    </style>\n",
              "    <button class=\"colab-df-generate\" onclick=\"generateWithVariable('na_records')\"\n",
              "            title=\"Generate code using this dataframe.\"\n",
              "            style=\"display:none;\">\n",
              "\n",
              "  <svg xmlns=\"http://www.w3.org/2000/svg\" height=\"24px\"viewBox=\"0 0 24 24\"\n",
              "       width=\"24px\">\n",
              "    <path d=\"M7,19H8.4L18.45,9,17,7.55,7,17.6ZM5,21V16.75L18.45,3.32a2,2,0,0,1,2.83,0l1.4,1.43a1.91,1.91,0,0,1,.58,1.4,1.91,1.91,0,0,1-.58,1.4L9.25,21ZM18.45,9,17,7.55Zm-12,3A5.31,5.31,0,0,0,4.9,8.1,5.31,5.31,0,0,0,1,6.5,5.31,5.31,0,0,0,4.9,4.9,5.31,5.31,0,0,0,6.5,1,5.31,5.31,0,0,0,8.1,4.9,5.31,5.31,0,0,0,12,6.5,5.46,5.46,0,0,0,6.5,12Z\"/>\n",
              "  </svg>\n",
              "    </button>\n",
              "    <script>\n",
              "      (() => {\n",
              "      const buttonEl =\n",
              "        document.querySelector('#id_11e10a87-9800-4099-808f-d838124797dc button.colab-df-generate');\n",
              "      buttonEl.style.display =\n",
              "        google.colab.kernel.accessAllowed ? 'block' : 'none';\n",
              "\n",
              "      buttonEl.onclick = () => {\n",
              "        google.colab.notebook.generateWithVariable('na_records');\n",
              "      }\n",
              "      })();\n",
              "    </script>\n",
              "  </div>\n",
              "\n",
              "    </div>\n",
              "  </div>\n"
            ],
            "application/vnd.google.colaboratory.intrinsic+json": {
              "type": "dataframe",
              "variable_name": "na_records"
            }
          },
          "metadata": {},
          "execution_count": 6
        }
      ]
    },
    {
      "cell_type": "code",
      "source": [
        "# Check for duplicates\n",
        "duplicates = df[df.duplicated()]\n",
        "\n",
        "# Print the duplicate rows\n",
        "if not duplicates.empty:\n",
        "    print(\"Duplicate rows found:\")\n",
        "    print(duplicates)\n",
        "else:\n",
        "    print(\"No duplicate rows found.\")"
      ],
      "metadata": {
        "colab": {
          "base_uri": "https://localhost:8080/"
        },
        "id": "PG69G3yl5Htu",
        "outputId": "ed48513a-6a4b-4526-afa3-d69fef55e6ec"
      },
      "execution_count": null,
      "outputs": [
        {
          "output_type": "stream",
          "name": "stdout",
          "text": [
            "No duplicate rows found.\n"
          ]
        }
      ]
    },
    {
      "cell_type": "markdown",
      "source": [
        "#**Read the Clusters Table**"
      ],
      "metadata": {
        "id": "aWdQt306-lyo"
      }
    },
    {
      "cell_type": "code",
      "source": [
        "cluster_df= pd.read_csv(\"ckd2-cluster.csv\")"
      ],
      "metadata": {
        "colab": {
          "base_uri": "https://localhost:8080/",
          "height": 17
        },
        "id": "REycc705-lAs",
        "outputId": "bf759a77-0298-4850-c439-2a4f2541a782"
      },
      "execution_count": null,
      "outputs": [
        {
          "output_type": "display_data",
          "data": {
            "text/plain": [
              "<IPython.core.display.Javascript object>"
            ],
            "application/javascript": [
              "\n",
              "        if (window._pyforest_update_imports_cell) { window._pyforest_update_imports_cell('import pandas as pd'); }\n",
              "    "
            ]
          },
          "metadata": {}
        }
      ]
    },
    {
      "cell_type": "code",
      "source": [
        "# Drop irrelevant clusters columns\n",
        "columns_to_drop = [\n",
        "    \"km_lloyd_distortion_clusters\",\n",
        "    \"km_lloyd_calinski_harabasz_clusters\",\n",
        "    \"km_elkan_distortion_clusters\",\n",
        "    \"km_elkan_silhouette_clusters\",\n",
        "    \"km_elkan_calinski_harabasz_clusters\"\n",
        "]\n",
        "\n",
        "cluster_df2= cluster_df.copy()\n",
        "cluster_df2= cluster_df2.drop(columns= columns_to_drop)\n",
        "cluster_df2.head(5)"
      ],
      "metadata": {
        "colab": {
          "base_uri": "https://localhost:8080/",
          "height": 235
        },
        "id": "prDBYiF2-lHr",
        "outputId": "a1e5c04d-d26a-49c4-8f34-8f50c5ddc6ee"
      },
      "execution_count": null,
      "outputs": [
        {
          "output_type": "execute_result",
          "data": {
            "text/plain": [
              "   bp (Diastolic)  bp limit     sg     al  class  rbc     su   pc  pcc   ba  \\\n",
              "0             0.0       0.0  1.020  1.000    1.0  0.0 -0.001  0.0  0.0  0.0   \n",
              "1             0.0       0.0  1.010 -0.001    1.0  0.0 -0.001  0.0  0.0  0.0   \n",
              "2             0.0       0.0  1.010  4.001    1.0  1.0 -0.001  1.0  0.0  1.0   \n",
              "3             1.0       1.0  1.010  3.000    1.0  0.0 -0.001  0.0  0.0  0.0   \n",
              "4             0.0       0.0  1.016 -0.001    1.0  0.0 -0.001  0.0  0.0  0.0   \n",
              "\n",
              "   ...  cad  appet   pe  ane       grf  stage  affected     age  sc_clusters  \\\n",
              "0  ...  0.0    0.0  0.0  0.0  227.9450    1.0       1.0  11.999            7   \n",
              "1  ...  0.0    0.0  0.0  0.0  227.9450    1.0       1.0  11.999            7   \n",
              "2  ...  0.0    1.0  0.0  0.0  139.8635    1.0       1.0  11.999            1   \n",
              "3  ...  0.0    0.0  0.0  0.0  139.8635    1.0       1.0  11.999            6   \n",
              "4  ...  0.0    1.0  1.0  0.0  139.8635    1.0       1.0  16.000            5   \n",
              "\n",
              "   km_lloyd_silhouette_clusters  \n",
              "0                             6  \n",
              "1                             6  \n",
              "2                             0  \n",
              "3                             0  \n",
              "4                             6  \n",
              "\n",
              "[5 rows x 31 columns]"
            ],
            "text/html": [
              "\n",
              "  <div id=\"df-1cd9910b-2d77-4c84-966d-c58d071c6d04\" class=\"colab-df-container\">\n",
              "    <div>\n",
              "<style scoped>\n",
              "    .dataframe tbody tr th:only-of-type {\n",
              "        vertical-align: middle;\n",
              "    }\n",
              "\n",
              "    .dataframe tbody tr th {\n",
              "        vertical-align: top;\n",
              "    }\n",
              "\n",
              "    .dataframe thead th {\n",
              "        text-align: right;\n",
              "    }\n",
              "</style>\n",
              "<table border=\"1\" class=\"dataframe\">\n",
              "  <thead>\n",
              "    <tr style=\"text-align: right;\">\n",
              "      <th></th>\n",
              "      <th>bp (Diastolic)</th>\n",
              "      <th>bp limit</th>\n",
              "      <th>sg</th>\n",
              "      <th>al</th>\n",
              "      <th>class</th>\n",
              "      <th>rbc</th>\n",
              "      <th>su</th>\n",
              "      <th>pc</th>\n",
              "      <th>pcc</th>\n",
              "      <th>ba</th>\n",
              "      <th>...</th>\n",
              "      <th>cad</th>\n",
              "      <th>appet</th>\n",
              "      <th>pe</th>\n",
              "      <th>ane</th>\n",
              "      <th>grf</th>\n",
              "      <th>stage</th>\n",
              "      <th>affected</th>\n",
              "      <th>age</th>\n",
              "      <th>sc_clusters</th>\n",
              "      <th>km_lloyd_silhouette_clusters</th>\n",
              "    </tr>\n",
              "  </thead>\n",
              "  <tbody>\n",
              "    <tr>\n",
              "      <th>0</th>\n",
              "      <td>0.0</td>\n",
              "      <td>0.0</td>\n",
              "      <td>1.020</td>\n",
              "      <td>1.000</td>\n",
              "      <td>1.0</td>\n",
              "      <td>0.0</td>\n",
              "      <td>-0.001</td>\n",
              "      <td>0.0</td>\n",
              "      <td>0.0</td>\n",
              "      <td>0.0</td>\n",
              "      <td>...</td>\n",
              "      <td>0.0</td>\n",
              "      <td>0.0</td>\n",
              "      <td>0.0</td>\n",
              "      <td>0.0</td>\n",
              "      <td>227.9450</td>\n",
              "      <td>1.0</td>\n",
              "      <td>1.0</td>\n",
              "      <td>11.999</td>\n",
              "      <td>7</td>\n",
              "      <td>6</td>\n",
              "    </tr>\n",
              "    <tr>\n",
              "      <th>1</th>\n",
              "      <td>0.0</td>\n",
              "      <td>0.0</td>\n",
              "      <td>1.010</td>\n",
              "      <td>-0.001</td>\n",
              "      <td>1.0</td>\n",
              "      <td>0.0</td>\n",
              "      <td>-0.001</td>\n",
              "      <td>0.0</td>\n",
              "      <td>0.0</td>\n",
              "      <td>0.0</td>\n",
              "      <td>...</td>\n",
              "      <td>0.0</td>\n",
              "      <td>0.0</td>\n",
              "      <td>0.0</td>\n",
              "      <td>0.0</td>\n",
              "      <td>227.9450</td>\n",
              "      <td>1.0</td>\n",
              "      <td>1.0</td>\n",
              "      <td>11.999</td>\n",
              "      <td>7</td>\n",
              "      <td>6</td>\n",
              "    </tr>\n",
              "    <tr>\n",
              "      <th>2</th>\n",
              "      <td>0.0</td>\n",
              "      <td>0.0</td>\n",
              "      <td>1.010</td>\n",
              "      <td>4.001</td>\n",
              "      <td>1.0</td>\n",
              "      <td>1.0</td>\n",
              "      <td>-0.001</td>\n",
              "      <td>1.0</td>\n",
              "      <td>0.0</td>\n",
              "      <td>1.0</td>\n",
              "      <td>...</td>\n",
              "      <td>0.0</td>\n",
              "      <td>1.0</td>\n",
              "      <td>0.0</td>\n",
              "      <td>0.0</td>\n",
              "      <td>139.8635</td>\n",
              "      <td>1.0</td>\n",
              "      <td>1.0</td>\n",
              "      <td>11.999</td>\n",
              "      <td>1</td>\n",
              "      <td>0</td>\n",
              "    </tr>\n",
              "    <tr>\n",
              "      <th>3</th>\n",
              "      <td>1.0</td>\n",
              "      <td>1.0</td>\n",
              "      <td>1.010</td>\n",
              "      <td>3.000</td>\n",
              "      <td>1.0</td>\n",
              "      <td>0.0</td>\n",
              "      <td>-0.001</td>\n",
              "      <td>0.0</td>\n",
              "      <td>0.0</td>\n",
              "      <td>0.0</td>\n",
              "      <td>...</td>\n",
              "      <td>0.0</td>\n",
              "      <td>0.0</td>\n",
              "      <td>0.0</td>\n",
              "      <td>0.0</td>\n",
              "      <td>139.8635</td>\n",
              "      <td>1.0</td>\n",
              "      <td>1.0</td>\n",
              "      <td>11.999</td>\n",
              "      <td>6</td>\n",
              "      <td>0</td>\n",
              "    </tr>\n",
              "    <tr>\n",
              "      <th>4</th>\n",
              "      <td>0.0</td>\n",
              "      <td>0.0</td>\n",
              "      <td>1.016</td>\n",
              "      <td>-0.001</td>\n",
              "      <td>1.0</td>\n",
              "      <td>0.0</td>\n",
              "      <td>-0.001</td>\n",
              "      <td>0.0</td>\n",
              "      <td>0.0</td>\n",
              "      <td>0.0</td>\n",
              "      <td>...</td>\n",
              "      <td>0.0</td>\n",
              "      <td>1.0</td>\n",
              "      <td>1.0</td>\n",
              "      <td>0.0</td>\n",
              "      <td>139.8635</td>\n",
              "      <td>1.0</td>\n",
              "      <td>1.0</td>\n",
              "      <td>16.000</td>\n",
              "      <td>5</td>\n",
              "      <td>6</td>\n",
              "    </tr>\n",
              "  </tbody>\n",
              "</table>\n",
              "<p>5 rows × 31 columns</p>\n",
              "</div>\n",
              "    <div class=\"colab-df-buttons\">\n",
              "\n",
              "  <div class=\"colab-df-container\">\n",
              "    <button class=\"colab-df-convert\" onclick=\"convertToInteractive('df-1cd9910b-2d77-4c84-966d-c58d071c6d04')\"\n",
              "            title=\"Convert this dataframe to an interactive table.\"\n",
              "            style=\"display:none;\">\n",
              "\n",
              "  <svg xmlns=\"http://www.w3.org/2000/svg\" height=\"24px\" viewBox=\"0 -960 960 960\">\n",
              "    <path d=\"M120-120v-720h720v720H120Zm60-500h600v-160H180v160Zm220 220h160v-160H400v160Zm0 220h160v-160H400v160ZM180-400h160v-160H180v160Zm440 0h160v-160H620v160ZM180-180h160v-160H180v160Zm440 0h160v-160H620v160Z\"/>\n",
              "  </svg>\n",
              "    </button>\n",
              "\n",
              "  <style>\n",
              "    .colab-df-container {\n",
              "      display:flex;\n",
              "      gap: 12px;\n",
              "    }\n",
              "\n",
              "    .colab-df-convert {\n",
              "      background-color: #E8F0FE;\n",
              "      border: none;\n",
              "      border-radius: 50%;\n",
              "      cursor: pointer;\n",
              "      display: none;\n",
              "      fill: #1967D2;\n",
              "      height: 32px;\n",
              "      padding: 0 0 0 0;\n",
              "      width: 32px;\n",
              "    }\n",
              "\n",
              "    .colab-df-convert:hover {\n",
              "      background-color: #E2EBFA;\n",
              "      box-shadow: 0px 1px 2px rgba(60, 64, 67, 0.3), 0px 1px 3px 1px rgba(60, 64, 67, 0.15);\n",
              "      fill: #174EA6;\n",
              "    }\n",
              "\n",
              "    .colab-df-buttons div {\n",
              "      margin-bottom: 4px;\n",
              "    }\n",
              "\n",
              "    [theme=dark] .colab-df-convert {\n",
              "      background-color: #3B4455;\n",
              "      fill: #D2E3FC;\n",
              "    }\n",
              "\n",
              "    [theme=dark] .colab-df-convert:hover {\n",
              "      background-color: #434B5C;\n",
              "      box-shadow: 0px 1px 3px 1px rgba(0, 0, 0, 0.15);\n",
              "      filter: drop-shadow(0px 1px 2px rgba(0, 0, 0, 0.3));\n",
              "      fill: #FFFFFF;\n",
              "    }\n",
              "  </style>\n",
              "\n",
              "    <script>\n",
              "      const buttonEl =\n",
              "        document.querySelector('#df-1cd9910b-2d77-4c84-966d-c58d071c6d04 button.colab-df-convert');\n",
              "      buttonEl.style.display =\n",
              "        google.colab.kernel.accessAllowed ? 'block' : 'none';\n",
              "\n",
              "      async function convertToInteractive(key) {\n",
              "        const element = document.querySelector('#df-1cd9910b-2d77-4c84-966d-c58d071c6d04');\n",
              "        const dataTable =\n",
              "          await google.colab.kernel.invokeFunction('convertToInteractive',\n",
              "                                                    [key], {});\n",
              "        if (!dataTable) return;\n",
              "\n",
              "        const docLinkHtml = 'Like what you see? Visit the ' +\n",
              "          '<a target=\"_blank\" href=https://colab.research.google.com/notebooks/data_table.ipynb>data table notebook</a>'\n",
              "          + ' to learn more about interactive tables.';\n",
              "        element.innerHTML = '';\n",
              "        dataTable['output_type'] = 'display_data';\n",
              "        await google.colab.output.renderOutput(dataTable, element);\n",
              "        const docLink = document.createElement('div');\n",
              "        docLink.innerHTML = docLinkHtml;\n",
              "        element.appendChild(docLink);\n",
              "      }\n",
              "    </script>\n",
              "  </div>\n",
              "\n",
              "\n",
              "<div id=\"df-75b4f3fd-8b62-4b18-9c4e-29dcaa7e2118\">\n",
              "  <button class=\"colab-df-quickchart\" onclick=\"quickchart('df-75b4f3fd-8b62-4b18-9c4e-29dcaa7e2118')\"\n",
              "            title=\"Suggest charts\"\n",
              "            style=\"display:none;\">\n",
              "\n",
              "<svg xmlns=\"http://www.w3.org/2000/svg\" height=\"24px\"viewBox=\"0 0 24 24\"\n",
              "     width=\"24px\">\n",
              "    <g>\n",
              "        <path d=\"M19 3H5c-1.1 0-2 .9-2 2v14c0 1.1.9 2 2 2h14c1.1 0 2-.9 2-2V5c0-1.1-.9-2-2-2zM9 17H7v-7h2v7zm4 0h-2V7h2v10zm4 0h-2v-4h2v4z\"/>\n",
              "    </g>\n",
              "</svg>\n",
              "  </button>\n",
              "\n",
              "<style>\n",
              "  .colab-df-quickchart {\n",
              "      --bg-color: #E8F0FE;\n",
              "      --fill-color: #1967D2;\n",
              "      --hover-bg-color: #E2EBFA;\n",
              "      --hover-fill-color: #174EA6;\n",
              "      --disabled-fill-color: #AAA;\n",
              "      --disabled-bg-color: #DDD;\n",
              "  }\n",
              "\n",
              "  [theme=dark] .colab-df-quickchart {\n",
              "      --bg-color: #3B4455;\n",
              "      --fill-color: #D2E3FC;\n",
              "      --hover-bg-color: #434B5C;\n",
              "      --hover-fill-color: #FFFFFF;\n",
              "      --disabled-bg-color: #3B4455;\n",
              "      --disabled-fill-color: #666;\n",
              "  }\n",
              "\n",
              "  .colab-df-quickchart {\n",
              "    background-color: var(--bg-color);\n",
              "    border: none;\n",
              "    border-radius: 50%;\n",
              "    cursor: pointer;\n",
              "    display: none;\n",
              "    fill: var(--fill-color);\n",
              "    height: 32px;\n",
              "    padding: 0;\n",
              "    width: 32px;\n",
              "  }\n",
              "\n",
              "  .colab-df-quickchart:hover {\n",
              "    background-color: var(--hover-bg-color);\n",
              "    box-shadow: 0 1px 2px rgba(60, 64, 67, 0.3), 0 1px 3px 1px rgba(60, 64, 67, 0.15);\n",
              "    fill: var(--button-hover-fill-color);\n",
              "  }\n",
              "\n",
              "  .colab-df-quickchart-complete:disabled,\n",
              "  .colab-df-quickchart-complete:disabled:hover {\n",
              "    background-color: var(--disabled-bg-color);\n",
              "    fill: var(--disabled-fill-color);\n",
              "    box-shadow: none;\n",
              "  }\n",
              "\n",
              "  .colab-df-spinner {\n",
              "    border: 2px solid var(--fill-color);\n",
              "    border-color: transparent;\n",
              "    border-bottom-color: var(--fill-color);\n",
              "    animation:\n",
              "      spin 1s steps(1) infinite;\n",
              "  }\n",
              "\n",
              "  @keyframes spin {\n",
              "    0% {\n",
              "      border-color: transparent;\n",
              "      border-bottom-color: var(--fill-color);\n",
              "      border-left-color: var(--fill-color);\n",
              "    }\n",
              "    20% {\n",
              "      border-color: transparent;\n",
              "      border-left-color: var(--fill-color);\n",
              "      border-top-color: var(--fill-color);\n",
              "    }\n",
              "    30% {\n",
              "      border-color: transparent;\n",
              "      border-left-color: var(--fill-color);\n",
              "      border-top-color: var(--fill-color);\n",
              "      border-right-color: var(--fill-color);\n",
              "    }\n",
              "    40% {\n",
              "      border-color: transparent;\n",
              "      border-right-color: var(--fill-color);\n",
              "      border-top-color: var(--fill-color);\n",
              "    }\n",
              "    60% {\n",
              "      border-color: transparent;\n",
              "      border-right-color: var(--fill-color);\n",
              "    }\n",
              "    80% {\n",
              "      border-color: transparent;\n",
              "      border-right-color: var(--fill-color);\n",
              "      border-bottom-color: var(--fill-color);\n",
              "    }\n",
              "    90% {\n",
              "      border-color: transparent;\n",
              "      border-bottom-color: var(--fill-color);\n",
              "    }\n",
              "  }\n",
              "</style>\n",
              "\n",
              "  <script>\n",
              "    async function quickchart(key) {\n",
              "      const quickchartButtonEl =\n",
              "        document.querySelector('#' + key + ' button');\n",
              "      quickchartButtonEl.disabled = true;  // To prevent multiple clicks.\n",
              "      quickchartButtonEl.classList.add('colab-df-spinner');\n",
              "      try {\n",
              "        const charts = await google.colab.kernel.invokeFunction(\n",
              "            'suggestCharts', [key], {});\n",
              "      } catch (error) {\n",
              "        console.error('Error during call to suggestCharts:', error);\n",
              "      }\n",
              "      quickchartButtonEl.classList.remove('colab-df-spinner');\n",
              "      quickchartButtonEl.classList.add('colab-df-quickchart-complete');\n",
              "    }\n",
              "    (() => {\n",
              "      let quickchartButtonEl =\n",
              "        document.querySelector('#df-75b4f3fd-8b62-4b18-9c4e-29dcaa7e2118 button');\n",
              "      quickchartButtonEl.style.display =\n",
              "        google.colab.kernel.accessAllowed ? 'block' : 'none';\n",
              "    })();\n",
              "  </script>\n",
              "</div>\n",
              "\n",
              "    </div>\n",
              "  </div>\n"
            ],
            "application/vnd.google.colaboratory.intrinsic+json": {
              "type": "dataframe",
              "variable_name": "cluster_df2"
            }
          },
          "metadata": {},
          "execution_count": 9
        }
      ]
    },
    {
      "cell_type": "markdown",
      "source": [
        "#**Compare the Clusters**"
      ],
      "metadata": {
        "id": "-M4FP7RzHYwe"
      }
    },
    {
      "cell_type": "code",
      "source": [
        "# Visualizing CKD presence distribution in clusters\n",
        "plt.figure(figsize=(12, 5))\n",
        "plt.subplot(1, 2, 1)\n",
        "sns.boxplot(x='km_lloyd_silhouette_clusters', y='class', data=cluster_df2)\n",
        "plt.title('CKD Presence in KMeans Clusters')\n",
        "\n",
        "plt.subplot(1, 2, 2)\n",
        "sns.boxplot(x='sc_clusters', y='class', data=cluster_df2)\n",
        "plt.title('CKD Presence in Spectral Clusters')\n",
        "\n",
        "plt.show()"
      ],
      "metadata": {
        "colab": {
          "base_uri": "https://localhost:8080/",
          "height": 487
        },
        "id": "CM2-Di2DPLFm",
        "outputId": "a6575a33-d5c2-4d78-c71c-ed7f89bbde52"
      },
      "execution_count": null,
      "outputs": [
        {
          "output_type": "display_data",
          "data": {
            "text/plain": [
              "<IPython.core.display.Javascript object>"
            ],
            "application/javascript": [
              "\n",
              "        if (window._pyforest_update_imports_cell) { window._pyforest_update_imports_cell('import matplotlib.pyplot as plt\\nimport pandas as pd'); }\n",
              "    "
            ]
          },
          "metadata": {}
        },
        {
          "output_type": "display_data",
          "data": {
            "text/plain": [
              "<IPython.core.display.Javascript object>"
            ],
            "application/javascript": [
              "\n",
              "        if (window._pyforest_update_imports_cell) { window._pyforest_update_imports_cell('import matplotlib.pyplot as plt\\nimport pandas as pd'); }\n",
              "    "
            ]
          },
          "metadata": {}
        },
        {
          "output_type": "display_data",
          "data": {
            "text/plain": [
              "<IPython.core.display.Javascript object>"
            ],
            "application/javascript": [
              "\n",
              "        if (window._pyforest_update_imports_cell) { window._pyforest_update_imports_cell('import matplotlib.pyplot as plt\\nimport pandas as pd\\nimport seaborn as sns'); }\n",
              "    "
            ]
          },
          "metadata": {}
        },
        {
          "output_type": "display_data",
          "data": {
            "text/plain": [
              "<IPython.core.display.Javascript object>"
            ],
            "application/javascript": [
              "\n",
              "        if (window._pyforest_update_imports_cell) { window._pyforest_update_imports_cell('import matplotlib.pyplot as plt\\nimport pandas as pd\\nimport seaborn as sns'); }\n",
              "    "
            ]
          },
          "metadata": {}
        },
        {
          "output_type": "display_data",
          "data": {
            "text/plain": [
              "<IPython.core.display.Javascript object>"
            ],
            "application/javascript": [
              "\n",
              "        if (window._pyforest_update_imports_cell) { window._pyforest_update_imports_cell('import matplotlib.pyplot as plt\\nimport pandas as pd\\nimport seaborn as sns'); }\n",
              "    "
            ]
          },
          "metadata": {}
        },
        {
          "output_type": "display_data",
          "data": {
            "text/plain": [
              "<IPython.core.display.Javascript object>"
            ],
            "application/javascript": [
              "\n",
              "        if (window._pyforest_update_imports_cell) { window._pyforest_update_imports_cell('import matplotlib.pyplot as plt\\nimport pandas as pd\\nimport seaborn as sns'); }\n",
              "    "
            ]
          },
          "metadata": {}
        },
        {
          "output_type": "display_data",
          "data": {
            "text/plain": [
              "<IPython.core.display.Javascript object>"
            ],
            "application/javascript": [
              "\n",
              "        if (window._pyforest_update_imports_cell) { window._pyforest_update_imports_cell('import matplotlib.pyplot as plt\\nimport pandas as pd\\nimport seaborn as sns'); }\n",
              "    "
            ]
          },
          "metadata": {}
        },
        {
          "output_type": "display_data",
          "data": {
            "text/plain": [
              "<IPython.core.display.Javascript object>"
            ],
            "application/javascript": [
              "\n",
              "        if (window._pyforest_update_imports_cell) { window._pyforest_update_imports_cell('import matplotlib.pyplot as plt\\nimport pandas as pd\\nimport seaborn as sns'); }\n",
              "    "
            ]
          },
          "metadata": {}
        },
        {
          "output_type": "display_data",
          "data": {
            "text/plain": [
              "<Figure size 1200x500 with 2 Axes>"
            ],
            "image/png": "[encoded data removed]"
          },
          "metadata": {}
        }
      ]
    },
    {
      "cell_type": "markdown",
      "source": [
        "#**Data Quality Check**"
      ],
      "metadata": {
        "id": "lCaL6zVUG6xt"
      }
    },
    {
      "cell_type": "code",
      "source": [
        "# Previously, we test the independency, normality and Homogeneity of Variance test\n",
        "# Implement VIF to check for multicollinearity\n",
        "from statsmodels.stats.outliers_influence import variance_inflation_factor\n",
        "\n",
        "# Calculate VIF for each feature\n",
        "vif_data = pd.DataFrame()\n",
        "vif_data[\"feature\"]= df.columns\n",
        "vif_data[\"VIF\"]= [variance_inflation_factor(df.values, i) for i in range(len(df.columns))]\n",
        "print(vif_data)"
      ],
      "metadata": {
        "colab": {
          "base_uri": "https://localhost:8080/",
          "height": 607
        },
        "id": "upquT4ZuG65j",
        "outputId": "020a8777-163d-454a-ed24-278c28a502d3"
      },
      "execution_count": null,
      "outputs": [
        {
          "output_type": "display_data",
          "data": {
            "text/plain": [
              "<IPython.core.display.Javascript object>"
            ],
            "application/javascript": [
              "\n",
              "        if (window._pyforest_update_imports_cell) { window._pyforest_update_imports_cell('import matplotlib.pyplot as plt\\nimport pandas as pd\\nimport seaborn as sns'); }\n",
              "    "
            ]
          },
          "metadata": {}
        },
        {
          "output_type": "stream",
          "name": "stdout",
          "text": [
            "           feature          VIF\n",
            "0   bp (Diastolic)    11.900179\n",
            "1         bp limit    12.599616\n",
            "2               sg  1190.258381\n",
            "3               al    28.090050\n",
            "4            class          inf\n",
            "5              rbc     1.975081\n",
            "6               su     3.012516\n",
            "7               pc     3.415817\n",
            "8              pcc     2.207126\n",
            "9               ba     1.500013\n",
            "10             bgr    13.139799\n",
            "11              bu   135.299025\n",
            "12             sod   885.035418\n",
            "13              sc   106.213016\n",
            "14             pot    12.156482\n",
            "15            hemo   123.777617\n",
            "16             pcv   114.562428\n",
            "17            rbcc    70.186792\n",
            "18            wbcc    14.881129\n",
            "19             htn     4.411535\n",
            "20              dm     3.717352\n",
            "21             cad     1.717733\n",
            "22           appet     1.955467\n",
            "23              pe     1.972468\n",
            "24             ane     2.538460\n",
            "25             grf    12.550571\n",
            "26           stage    38.138442\n",
            "27        affected          inf\n",
            "28             age    19.607731\n",
            "29     al_sc_ratio    26.451175\n",
            "30     bu_sc_ratio   131.343668\n"
          ]
        },
        {
          "output_type": "stream",
          "name": "stderr",
          "text": [
            "/usr/local/lib/python3.10/dist-packages/statsmodels/stats/outliers_influence.py:197: RuntimeWarning: divide by zero encountered in scalar divide\n",
            "  vif = 1. / (1. - r_squared_i)\n"
          ]
        }
      ]
    },
    {
      "cell_type": "code",
      "source": [
        "# Apply log transformation\n",
        "df2= df.copy()\n",
        "\n",
        "# Identify numerical columns\n",
        "numerical_columns= df2.select_dtypes(include= [np.number]).columns.tolist()\n",
        "\n",
        "# Apply log transformation to all numerical columns\n",
        "df2[numerical_columns]= df2[numerical_columns].apply(lambda x: np.log(x + 1))\n",
        "\n",
        "# Display the transformed dataset\n",
        "print(\"\\nTransformed Data:\")\n",
        "print(df2.head())"
      ],
      "metadata": {
        "colab": {
          "base_uri": "https://localhost:8080/",
          "height": 434
        },
        "id": "ZjYSOqX2c2FB",
        "outputId": "8e41df09-1e1c-4933-8101-e77d2120d99d"
      },
      "execution_count": null,
      "outputs": [
        {
          "output_type": "display_data",
          "data": {
            "text/plain": [
              "<IPython.core.display.Javascript object>"
            ],
            "application/javascript": [
              "\n",
              "        if (window._pyforest_update_imports_cell) { window._pyforest_update_imports_cell('import numpy as np\\nimport matplotlib.pyplot as plt\\nimport pandas as pd\\nimport seaborn as sns'); }\n",
              "    "
            ]
          },
          "metadata": {}
        },
        {
          "output_type": "display_data",
          "data": {
            "text/plain": [
              "<IPython.core.display.Javascript object>"
            ],
            "application/javascript": [
              "\n",
              "        if (window._pyforest_update_imports_cell) { window._pyforest_update_imports_cell('import numpy as np\\nimport matplotlib.pyplot as plt\\nimport pandas as pd\\nimport seaborn as sns'); }\n",
              "    "
            ]
          },
          "metadata": {}
        },
        {
          "output_type": "display_data",
          "data": {
            "text/plain": [
              "<IPython.core.display.Javascript object>"
            ],
            "application/javascript": [
              "\n",
              "        if (window._pyforest_update_imports_cell) { window._pyforest_update_imports_cell('import numpy as np\\nimport matplotlib.pyplot as plt\\nimport pandas as pd\\nimport seaborn as sns'); }\n",
              "    "
            ]
          },
          "metadata": {}
        },
        {
          "output_type": "display_data",
          "data": {
            "text/plain": [
              "<IPython.core.display.Javascript object>"
            ],
            "application/javascript": [
              "\n",
              "        if (window._pyforest_update_imports_cell) { window._pyforest_update_imports_cell('import numpy as np\\nimport matplotlib.pyplot as plt\\nimport pandas as pd\\nimport seaborn as sns'); }\n",
              "    "
            ]
          },
          "metadata": {}
        },
        {
          "output_type": "display_data",
          "data": {
            "text/plain": [
              "<IPython.core.display.Javascript object>"
            ],
            "application/javascript": [
              "\n",
              "        if (window._pyforest_update_imports_cell) { window._pyforest_update_imports_cell('import numpy as np\\nimport matplotlib.pyplot as plt\\nimport pandas as pd\\nimport seaborn as sns'); }\n",
              "    "
            ]
          },
          "metadata": {}
        },
        {
          "output_type": "display_data",
          "data": {
            "text/plain": [
              "<IPython.core.display.Javascript object>"
            ],
            "application/javascript": [
              "\n",
              "        if (window._pyforest_update_imports_cell) { window._pyforest_update_imports_cell('import numpy as np\\nimport matplotlib.pyplot as plt\\nimport pandas as pd\\nimport seaborn as sns'); }\n",
              "    "
            ]
          },
          "metadata": {}
        },
        {
          "output_type": "display_data",
          "data": {
            "text/plain": [
              "<IPython.core.display.Javascript object>"
            ],
            "application/javascript": [
              "\n",
              "        if (window._pyforest_update_imports_cell) { window._pyforest_update_imports_cell('import numpy as np\\nimport matplotlib.pyplot as plt\\nimport pandas as pd\\nimport seaborn as sns'); }\n",
              "    "
            ]
          },
          "metadata": {}
        },
        {
          "output_type": "display_data",
          "data": {
            "text/plain": [
              "<IPython.core.display.Javascript object>"
            ],
            "application/javascript": [
              "\n",
              "        if (window._pyforest_update_imports_cell) { window._pyforest_update_imports_cell('import numpy as np\\nimport matplotlib.pyplot as plt\\nimport pandas as pd\\nimport seaborn as sns'); }\n",
              "    "
            ]
          },
          "metadata": {}
        },
        {
          "output_type": "display_data",
          "data": {
            "text/plain": [
              "<IPython.core.display.Javascript object>"
            ],
            "application/javascript": [
              "\n",
              "        if (window._pyforest_update_imports_cell) { window._pyforest_update_imports_cell('import numpy as np\\nimport matplotlib.pyplot as plt\\nimport pandas as pd\\nimport seaborn as sns'); }\n",
              "    "
            ]
          },
          "metadata": {}
        },
        {
          "output_type": "display_data",
          "data": {
            "text/plain": [
              "<IPython.core.display.Javascript object>"
            ],
            "application/javascript": [
              "\n",
              "        if (window._pyforest_update_imports_cell) { window._pyforest_update_imports_cell('import numpy as np\\nimport matplotlib.pyplot as plt\\nimport pandas as pd\\nimport seaborn as sns'); }\n",
              "    "
            ]
          },
          "metadata": {}
        },
        {
          "output_type": "display_data",
          "data": {
            "text/plain": [
              "<IPython.core.display.Javascript object>"
            ],
            "application/javascript": [
              "\n",
              "        if (window._pyforest_update_imports_cell) { window._pyforest_update_imports_cell('import numpy as np\\nimport matplotlib.pyplot as plt\\nimport pandas as pd\\nimport seaborn as sns'); }\n",
              "    "
            ]
          },
          "metadata": {}
        },
        {
          "output_type": "display_data",
          "data": {
            "text/plain": [
              "<IPython.core.display.Javascript object>"
            ],
            "application/javascript": [
              "\n",
              "        if (window._pyforest_update_imports_cell) { window._pyforest_update_imports_cell('import numpy as np\\nimport matplotlib.pyplot as plt\\nimport pandas as pd\\nimport seaborn as sns'); }\n",
              "    "
            ]
          },
          "metadata": {}
        },
        {
          "output_type": "display_data",
          "data": {
            "text/plain": [
              "<IPython.core.display.Javascript object>"
            ],
            "application/javascript": [
              "\n",
              "        if (window._pyforest_update_imports_cell) { window._pyforest_update_imports_cell('import numpy as np\\nimport matplotlib.pyplot as plt\\nimport pandas as pd\\nimport seaborn as sns'); }\n",
              "    "
            ]
          },
          "metadata": {}
        },
        {
          "output_type": "display_data",
          "data": {
            "text/plain": [
              "<IPython.core.display.Javascript object>"
            ],
            "application/javascript": [
              "\n",
              "        if (window._pyforest_update_imports_cell) { window._pyforest_update_imports_cell('import numpy as np\\nimport matplotlib.pyplot as plt\\nimport pandas as pd\\nimport seaborn as sns'); }\n",
              "    "
            ]
          },
          "metadata": {}
        },
        {
          "output_type": "display_data",
          "data": {
            "text/plain": [
              "<IPython.core.display.Javascript object>"
            ],
            "application/javascript": [
              "\n",
              "        if (window._pyforest_update_imports_cell) { window._pyforest_update_imports_cell('import numpy as np\\nimport matplotlib.pyplot as plt\\nimport pandas as pd\\nimport seaborn as sns'); }\n",
              "    "
            ]
          },
          "metadata": {}
        },
        {
          "output_type": "display_data",
          "data": {
            "text/plain": [
              "<IPython.core.display.Javascript object>"
            ],
            "application/javascript": [
              "\n",
              "        if (window._pyforest_update_imports_cell) { window._pyforest_update_imports_cell('import numpy as np\\nimport matplotlib.pyplot as plt\\nimport pandas as pd\\nimport seaborn as sns'); }\n",
              "    "
            ]
          },
          "metadata": {}
        },
        {
          "output_type": "display_data",
          "data": {
            "text/plain": [
              "<IPython.core.display.Javascript object>"
            ],
            "application/javascript": [
              "\n",
              "        if (window._pyforest_update_imports_cell) { window._pyforest_update_imports_cell('import numpy as np\\nimport matplotlib.pyplot as plt\\nimport pandas as pd\\nimport seaborn as sns'); }\n",
              "    "
            ]
          },
          "metadata": {}
        },
        {
          "output_type": "display_data",
          "data": {
            "text/plain": [
              "<IPython.core.display.Javascript object>"
            ],
            "application/javascript": [
              "\n",
              "        if (window._pyforest_update_imports_cell) { window._pyforest_update_imports_cell('import numpy as np\\nimport matplotlib.pyplot as plt\\nimport pandas as pd\\nimport seaborn as sns'); }\n",
              "    "
            ]
          },
          "metadata": {}
        },
        {
          "output_type": "display_data",
          "data": {
            "text/plain": [
              "<IPython.core.display.Javascript object>"
            ],
            "application/javascript": [
              "\n",
              "        if (window._pyforest_update_imports_cell) { window._pyforest_update_imports_cell('import numpy as np\\nimport matplotlib.pyplot as plt\\nimport pandas as pd\\nimport seaborn as sns'); }\n",
              "    "
            ]
          },
          "metadata": {}
        },
        {
          "output_type": "display_data",
          "data": {
            "text/plain": [
              "<IPython.core.display.Javascript object>"
            ],
            "application/javascript": [
              "\n",
              "        if (window._pyforest_update_imports_cell) { window._pyforest_update_imports_cell('import numpy as np\\nimport matplotlib.pyplot as plt\\nimport pandas as pd\\nimport seaborn as sns'); }\n",
              "    "
            ]
          },
          "metadata": {}
        },
        {
          "output_type": "display_data",
          "data": {
            "text/plain": [
              "<IPython.core.display.Javascript object>"
            ],
            "application/javascript": [
              "\n",
              "        if (window._pyforest_update_imports_cell) { window._pyforest_update_imports_cell('import numpy as np\\nimport matplotlib.pyplot as plt\\nimport pandas as pd\\nimport seaborn as sns'); }\n",
              "    "
            ]
          },
          "metadata": {}
        },
        {
          "output_type": "display_data",
          "data": {
            "text/plain": [
              "<IPython.core.display.Javascript object>"
            ],
            "application/javascript": [
              "\n",
              "        if (window._pyforest_update_imports_cell) { window._pyforest_update_imports_cell('import numpy as np\\nimport matplotlib.pyplot as plt\\nimport pandas as pd\\nimport seaborn as sns'); }\n",
              "    "
            ]
          },
          "metadata": {}
        },
        {
          "output_type": "display_data",
          "data": {
            "text/plain": [
              "<IPython.core.display.Javascript object>"
            ],
            "application/javascript": [
              "\n",
              "        if (window._pyforest_update_imports_cell) { window._pyforest_update_imports_cell('import numpy as np\\nimport matplotlib.pyplot as plt\\nimport pandas as pd\\nimport seaborn as sns'); }\n",
              "    "
            ]
          },
          "metadata": {}
        },
        {
          "output_type": "display_data",
          "data": {
            "text/plain": [
              "<IPython.core.display.Javascript object>"
            ],
            "application/javascript": [
              "\n",
              "        if (window._pyforest_update_imports_cell) { window._pyforest_update_imports_cell('import numpy as np\\nimport matplotlib.pyplot as plt\\nimport pandas as pd\\nimport seaborn as sns'); }\n",
              "    "
            ]
          },
          "metadata": {}
        },
        {
          "output_type": "display_data",
          "data": {
            "text/plain": [
              "<IPython.core.display.Javascript object>"
            ],
            "application/javascript": [
              "\n",
              "        if (window._pyforest_update_imports_cell) { window._pyforest_update_imports_cell('import numpy as np\\nimport matplotlib.pyplot as plt\\nimport pandas as pd\\nimport seaborn as sns'); }\n",
              "    "
            ]
          },
          "metadata": {}
        },
        {
          "output_type": "display_data",
          "data": {
            "text/plain": [
              "<IPython.core.display.Javascript object>"
            ],
            "application/javascript": [
              "\n",
              "        if (window._pyforest_update_imports_cell) { window._pyforest_update_imports_cell('import numpy as np\\nimport matplotlib.pyplot as plt\\nimport pandas as pd\\nimport seaborn as sns'); }\n",
              "    "
            ]
          },
          "metadata": {}
        },
        {
          "output_type": "display_data",
          "data": {
            "text/plain": [
              "<IPython.core.display.Javascript object>"
            ],
            "application/javascript": [
              "\n",
              "        if (window._pyforest_update_imports_cell) { window._pyforest_update_imports_cell('import numpy as np\\nimport matplotlib.pyplot as plt\\nimport pandas as pd\\nimport seaborn as sns'); }\n",
              "    "
            ]
          },
          "metadata": {}
        },
        {
          "output_type": "display_data",
          "data": {
            "text/plain": [
              "<IPython.core.display.Javascript object>"
            ],
            "application/javascript": [
              "\n",
              "        if (window._pyforest_update_imports_cell) { window._pyforest_update_imports_cell('import numpy as np\\nimport matplotlib.pyplot as plt\\nimport pandas as pd\\nimport seaborn as sns'); }\n",
              "    "
            ]
          },
          "metadata": {}
        },
        {
          "output_type": "display_data",
          "data": {
            "text/plain": [
              "<IPython.core.display.Javascript object>"
            ],
            "application/javascript": [
              "\n",
              "        if (window._pyforest_update_imports_cell) { window._pyforest_update_imports_cell('import numpy as np\\nimport matplotlib.pyplot as plt\\nimport pandas as pd\\nimport seaborn as sns'); }\n",
              "    "
            ]
          },
          "metadata": {}
        },
        {
          "output_type": "display_data",
          "data": {
            "text/plain": [
              "<IPython.core.display.Javascript object>"
            ],
            "application/javascript": [
              "\n",
              "        if (window._pyforest_update_imports_cell) { window._pyforest_update_imports_cell('import numpy as np\\nimport matplotlib.pyplot as plt\\nimport pandas as pd\\nimport seaborn as sns'); }\n",
              "    "
            ]
          },
          "metadata": {}
        },
        {
          "output_type": "display_data",
          "data": {
            "text/plain": [
              "<IPython.core.display.Javascript object>"
            ],
            "application/javascript": [
              "\n",
              "        if (window._pyforest_update_imports_cell) { window._pyforest_update_imports_cell('import numpy as np\\nimport matplotlib.pyplot as plt\\nimport pandas as pd\\nimport seaborn as sns'); }\n",
              "    "
            ]
          },
          "metadata": {}
        },
        {
          "output_type": "display_data",
          "data": {
            "text/plain": [
              "<IPython.core.display.Javascript object>"
            ],
            "application/javascript": [
              "\n",
              "        if (window._pyforest_update_imports_cell) { window._pyforest_update_imports_cell('import numpy as np\\nimport matplotlib.pyplot as plt\\nimport pandas as pd\\nimport seaborn as sns'); }\n",
              "    "
            ]
          },
          "metadata": {}
        },
        {
          "output_type": "stream",
          "name": "stdout",
          "text": [
            "\n",
            "Transformed Data:\n",
            "   bp (Diastolic)  bp limit        sg        al     class       rbc        su  \\\n",
            "0        0.000000  0.000000  0.703098  0.693147  0.693147  0.000000 -0.001001   \n",
            "1        0.000000  0.000000  0.698135 -0.001001  0.693147  0.000000 -0.001001   \n",
            "2        0.000000  0.000000  0.698135  1.609638  0.693147  0.693147 -0.001001   \n",
            "3        0.693147  0.693147  0.698135  1.386294  0.693147  0.000000 -0.001001   \n",
            "4        0.000000  0.000000  0.701115 -0.001001  0.693147  0.000000 -0.001001   \n",
            "\n",
            "         pc  pcc        ba  ...  cad     appet        pe  ane       grf  \\\n",
            "0  0.000000  0.0  0.000000  ...  0.0  0.000000  0.000000  0.0  5.433482   \n",
            "1  0.000000  0.0  0.000000  ...  0.0  0.000000  0.000000  0.0  5.433482   \n",
            "2  0.693147  0.0  0.693147  ...  0.0  0.693147  0.000000  0.0  4.947791   \n",
            "3  0.000000  0.0  0.000000  ...  0.0  0.000000  0.000000  0.0  4.947791   \n",
            "4  0.000000  0.0  0.000000  ...  0.0  0.693147  0.693147  0.0  4.947791   \n",
            "\n",
            "      stage  affected       age  al_sc_ratio  bu_sc_ratio  \n",
            "0  0.693147  0.693147  2.564872     0.242199     2.651933  \n",
            "1  0.693147  0.693147  2.564872    -0.000274     2.651933  \n",
            "2  0.693147  0.693147  2.564872     0.740252     2.965392  \n",
            "3  0.693147  0.693147  2.564872     0.600013     2.651933  \n",
            "4  0.693147  0.693147  2.833213    -0.000274     2.651933  \n",
            "\n",
            "[5 rows x 31 columns]\n"
          ]
        }
      ]
    },
    {
      "cell_type": "code",
      "source": [
        "# Prepare data for VIF calculation\n",
        "X= df2[numerical_columns]\n",
        "\n",
        "# Add a constant column for intercept\n",
        "X= sm.add_constant(X)\n",
        "\n",
        "# Calculate VIF for each predictor\n",
        "transformed_vif_data= pd.DataFrame()\n",
        "transformed_vif_data[\"feature\"]= X.columns\n",
        "transformed_vif_data[\"VIF\"]= [variance_inflation_factor(X.values, i) for i in range(X.shape[1])]\n",
        "\n",
        "# Print the output\n",
        "print(\"\\nVIF after Transformation:\")\n",
        "print(transformed_vif_data)"
      ],
      "metadata": {
        "colab": {
          "base_uri": "https://localhost:8080/",
          "height": 660
        },
        "id": "c15l06Ojc2Hc",
        "outputId": "46c6bcc3-c1f0-4fef-9dd8-f21d6f4db704"
      },
      "execution_count": null,
      "outputs": [
        {
          "output_type": "display_data",
          "data": {
            "text/plain": [
              "<IPython.core.display.Javascript object>"
            ],
            "application/javascript": [
              "\n",
              "        if (window._pyforest_update_imports_cell) { window._pyforest_update_imports_cell('import statsmodels.api as sm\\nimport pandas as pd\\nimport matplotlib.pyplot as plt\\nimport seaborn as sns\\nimport numpy as np'); }\n",
              "    "
            ]
          },
          "metadata": {}
        },
        {
          "output_type": "display_data",
          "data": {
            "text/plain": [
              "<IPython.core.display.Javascript object>"
            ],
            "application/javascript": [
              "\n",
              "        if (window._pyforest_update_imports_cell) { window._pyforest_update_imports_cell('import statsmodels.api as sm\\nimport pandas as pd\\nimport matplotlib.pyplot as plt\\nimport seaborn as sns\\nimport numpy as np'); }\n",
              "    "
            ]
          },
          "metadata": {}
        },
        {
          "output_type": "stream",
          "name": "stdout",
          "text": [
            "\n",
            "VIF after Transformation:\n",
            "           feature           VIF\n",
            "0            const  1.871162e+05\n",
            "1   bp (Diastolic)  9.242992e+00\n",
            "2         bp limit  1.082446e+01\n",
            "3               sg  2.140369e+00\n",
            "4               al  3.735517e+01\n",
            "5            class           inf\n",
            "6              rbc  1.717317e+00\n",
            "7               su  2.686580e+00\n",
            "8               pc  2.845253e+00\n",
            "9              pcc  1.961955e+00\n",
            "10              ba  1.458857e+00\n",
            "11             bgr  2.382626e+00\n",
            "12              bu  3.276196e+03\n",
            "13             sod  1.939642e+00\n",
            "14              sc  2.078389e+03\n",
            "15             pot  1.948303e+00\n",
            "16            hemo  5.980025e+00\n",
            "17             pcv  4.868203e+00\n",
            "18            rbcc  2.372586e+00\n",
            "19            wbcc  1.363667e+00\n",
            "20             htn  2.708637e+00\n",
            "21              dm  2.517507e+00\n",
            "22             cad  1.575281e+00\n",
            "23           appet  1.572319e+00\n",
            "24              pe  1.631641e+00\n",
            "25             ane  2.206745e+00\n",
            "26             grf  1.555811e+01\n",
            "27           stage  1.913126e+01\n",
            "28        affected           inf\n",
            "29             age  1.581744e+00\n",
            "30     al_sc_ratio  3.303608e+01\n",
            "31     bu_sc_ratio  1.057630e+03\n"
          ]
        },
        {
          "output_type": "stream",
          "name": "stderr",
          "text": [
            "/usr/local/lib/python3.10/dist-packages/statsmodels/stats/outliers_influence.py:197: RuntimeWarning: divide by zero encountered in scalar divide\n",
            "  vif = 1. / (1. - r_squared_i)\n"
          ]
        }
      ]
    },
    {
      "cell_type": "markdown",
      "source": [
        "#**Exploring Mediation Analysis and Causal Inference**"
      ],
      "metadata": {
        "id": "HRTr8e7mofJ9"
      }
    },
    {
      "cell_type": "markdown",
      "source": [
        "#**Reflection:**\n",
        "\n",
        "Let's take a moment to reflect my learning experience before we go straight to Machine Learning.\n",
        "\n",
        "I remember when I first started my data science journey, I rushed to go after for the solution and build a machine learning model for eevry tasks I came across as I believe machine learning could solve everything.\n",
        "\n",
        "Until someone told me that I should have focusing on understanding and communication, instead of insisting to go adavanced.\n",
        "\n",
        "Since then, I took a very different approach, starting by paying more attention in understanding data, transforming data, understanding the impact of the transformation, and presenting insights using a structural approach, for example: The Minto Pyramid Framework.\n",
        "\n",
        "Before I begin my journey in data science, I developed a strong interest in behavioral finance (also known as human behaviour in finance) during my finance studies.\n",
        "\n",
        "Coming into data science, I brought the interest further into understanding the cause and the impact/effect. Knowing that correlation does not mean causation, I started explore outside of correlation, includes feature importance and predictive power score and other feature selection techiques in the past.\n",
        "\n",
        "Despite all these techniques helped in selecting the important features for machine learning, they all have one key similarity, THEY DO NOT EXPLAIN THE RELATIONSHIP OF THE CAUSATION.\n",
        "\n",
        "Therefore, in this particular project, I allocated significant amount of time with an objective of NOT TO FINISH THE TASK WITH A MACHINE LEARNING MODEL, BUT TO IDENTIFY THE EARLY INDICATOR AND UNDERSTANDING THE CAUSES OF CKD as the primary objective."
      ],
      "metadata": {
        "id": "21BnkB8TxZ75"
      }
    },
    {
      "cell_type": "markdown",
      "source": [
        "# **Let's Talk About Predictive Inference and Causal Inference**\n",
        "\n",
        "Predictive inference often exploits correlations, therefore, machine learning itself should not misuse and misinterpret these correlations as causal relationships without proper causal analysis and domain expertise.\n",
        "\n",
        "**Predictive Inference:**\n",
        "\n",
        "Predictive inference is like being a weather forecaster. You look at patterns in past weather data (like temperature, humidity, and wind patterns) to guess what the weather will be like tomorrow or next week. **You're not saying why the weather will be that way**, just that based on what you've seen before, this is what you think will happen.\n",
        "\n",
        "**Causal Inference:**\n",
        "\n",
        "Causal inference is more like being a detective. You're not just trying to predict what will happen, but you want to understand why it happens. If you see that every time it rains, the sidewalk gets wet, you might conclude that rain causes the sidewalk to get wet. But you'd also consider other possibilities – like someone using a sprinkler – before you decide that rain is definitely the cause.\n",
        "\n",
        "In simple terms:\n",
        "\n",
        "- Predictive inference tries to guess what will happen next based on patterns.\n",
        "- Causal inference tries to understand why things happen and what truly causes them.\n"
      ],
      "metadata": {
        "id": "YY0SAdV-zDik"
      }
    },
    {
      "cell_type": "markdown",
      "source": [
        "#**WHY Causal Inference?**\n",
        "\n",
        "The complexity of causal inference lies in the fact that we want to measure something that we will never actually observe.\n",
        "\n",
        "Think about choosing between two restaurants for dinner. You pick one and enjoy your meal. Now, you might wonder: \"Would I have had a better time at the other restaurant?\" That's the heart of causal inference. We can never know for sure because we can't be in two places at once. We only experience the choice we made. Researchers face this same challenge when trying to understand the effects of things like new teaching methods or health treatments. They have to find ways to figure out what would have happened if a different choice had been made, even though they can't actually see that alternate reality. It's like piecing together a story when you only have half the pages."
      ],
      "metadata": {
        "id": "Mukh9MZdzDl0"
      }
    },
    {
      "cell_type": "markdown",
      "source": [
        "#**So What is the KEY DIFFERENCES between predictive inference and causal inference?**\n",
        "\n",
        "In Machine learning model, we usually pick the features which has the potential to improve the model's prediction quality, this is also why pps is used (predictive power score). In causal inference, we are trying to find out what causes CKD in your cases and will include these features even if the predictive power is low.\n",
        "\n",
        "True Causal Inference goes a step further by attempting to establish cause-and-effect relationships in a more rigorous way. It typically requires data that includes different groups of people experiencing different scenarios or interventions. This helps to compare what happens when one group receives a certain treatment versus another group that does not, making it possible to isolate the true effect of the treatment.\n",
        "\n",
        "Given the lack of such detailed and specific data in the CKD dataset, I found that implementing true causal inference is very challenging. These methods usually need data that can show different outcomes under different conditions, which was not available in my case.\n",
        "\n",
        "Instead, I focused on mediation analysis that helps understanding the direct and indirect effects of variables within a causal pathway. For example, if exercise affects heart health, weight loss might be a mediator.\n"
      ],
      "metadata": {
        "id": "5pJM5l5mcek1"
      }
    },
    {
      "cell_type": "markdown",
      "source": [
        "# **Defining key features With Domain Knowledge**"
      ],
      "metadata": {
        "id": "rdpvzWCV9CVp"
      }
    },
    {
      "cell_type": "code",
      "source": [
        "# Define key features\n",
        "model_features= {\n",
        "    'ChatGPT': ['sc', 'grf', 'al', 'bu', 'dm'],\n",
        "    'Preplexity': ['grf', 'sc', 'bp', 'dm', 'bu'],\n",
        "    'Claude AI': ['grf', 'sc', 'bp', 'al', 'dm'],\n",
        "    'My Analysis': ['grf', 'al', 'bu', 'pcv', 'hemo']\n",
        "}\n",
        "\n",
        "# Create DataFrame\n",
        "data_features= pd.DataFrame(model_features)\n",
        "data_features"
      ],
      "metadata": {
        "id": "U8mqLl1D9Cg2",
        "colab": {
          "base_uri": "https://localhost:8080/",
          "height": 206
        },
        "outputId": "863f8f97-5335-4fab-b4cd-2a3cf04ba5b7"
      },
      "execution_count": null,
      "outputs": [
        {
          "output_type": "display_data",
          "data": {
            "text/plain": [
              "<IPython.core.display.Javascript object>"
            ],
            "application/javascript": [
              "\n",
              "        if (window._pyforest_update_imports_cell) { window._pyforest_update_imports_cell('import statsmodels.api as sm\\nimport pandas as pd\\nimport matplotlib.pyplot as plt\\nimport seaborn as sns\\nimport numpy as np'); }\n",
              "    "
            ]
          },
          "metadata": {}
        },
        {
          "output_type": "execute_result",
          "data": {
            "text/plain": [
              "  ChatGPT Preplexity Claude AI My Analysis\n",
              "0      sc        grf       grf         grf\n",
              "1     grf         sc        sc          al\n",
              "2      al         bp        bp          bu\n",
              "3      bu         dm        al         pcv\n",
              "4      dm         bu        dm        hemo"
            ],
            "text/html": [
              "\n",
              "  <div id=\"df-08c2ba79-391d-4ee0-bfa1-cb9fa779fe12\" class=\"colab-df-container\">\n",
              "    <div>\n",
              "<style scoped>\n",
              "    .dataframe tbody tr th:only-of-type {\n",
              "        vertical-align: middle;\n",
              "    }\n",
              "\n",
              "    .dataframe tbody tr th {\n",
              "        vertical-align: top;\n",
              "    }\n",
              "\n",
              "    .dataframe thead th {\n",
              "        text-align: right;\n",
              "    }\n",
              "</style>\n",
              "<table border=\"1\" class=\"dataframe\">\n",
              "  <thead>\n",
              "    <tr style=\"text-align: right;\">\n",
              "      <th></th>\n",
              "      <th>ChatGPT</th>\n",
              "      <th>Preplexity</th>\n",
              "      <th>Claude AI</th>\n",
              "      <th>My Analysis</th>\n",
              "    </tr>\n",
              "  </thead>\n",
              "  <tbody>\n",
              "    <tr>\n",
              "      <th>0</th>\n",
              "      <td>sc</td>\n",
              "      <td>grf</td>\n",
              "      <td>grf</td>\n",
              "      <td>grf</td>\n",
              "    </tr>\n",
              "    <tr>\n",
              "      <th>1</th>\n",
              "      <td>grf</td>\n",
              "      <td>sc</td>\n",
              "      <td>sc</td>\n",
              "      <td>al</td>\n",
              "    </tr>\n",
              "    <tr>\n",
              "      <th>2</th>\n",
              "      <td>al</td>\n",
              "      <td>bp</td>\n",
              "      <td>bp</td>\n",
              "      <td>bu</td>\n",
              "    </tr>\n",
              "    <tr>\n",
              "      <th>3</th>\n",
              "      <td>bu</td>\n",
              "      <td>dm</td>\n",
              "      <td>al</td>\n",
              "      <td>pcv</td>\n",
              "    </tr>\n",
              "    <tr>\n",
              "      <th>4</th>\n",
              "      <td>dm</td>\n",
              "      <td>bu</td>\n",
              "      <td>dm</td>\n",
              "      <td>hemo</td>\n",
              "    </tr>\n",
              "  </tbody>\n",
              "</table>\n",
              "</div>\n",
              "    <div class=\"colab-df-buttons\">\n",
              "\n",
              "  <div class=\"colab-df-container\">\n",
              "    <button class=\"colab-df-convert\" onclick=\"convertToInteractive('df-08c2ba79-391d-4ee0-bfa1-cb9fa779fe12')\"\n",
              "            title=\"Convert this dataframe to an interactive table.\"\n",
              "            style=\"display:none;\">\n",
              "\n",
              "  <svg xmlns=\"http://www.w3.org/2000/svg\" height=\"24px\" viewBox=\"0 -960 960 960\">\n",
              "    <path d=\"M120-120v-720h720v720H120Zm60-500h600v-160H180v160Zm220 220h160v-160H400v160Zm0 220h160v-160H400v160ZM180-400h160v-160H180v160Zm440 0h160v-160H620v160ZM180-180h160v-160H180v160Zm440 0h160v-160H620v160Z\"/>\n",
              "  </svg>\n",
              "    </button>\n",
              "\n",
              "  <style>\n",
              "    .colab-df-container {\n",
              "      display:flex;\n",
              "      gap: 12px;\n",
              "    }\n",
              "\n",
              "    .colab-df-convert {\n",
              "      background-color: #E8F0FE;\n",
              "      border: none;\n",
              "      border-radius: 50%;\n",
              "      cursor: pointer;\n",
              "      display: none;\n",
              "      fill: #1967D2;\n",
              "      height: 32px;\n",
              "      padding: 0 0 0 0;\n",
              "      width: 32px;\n",
              "    }\n",
              "\n",
              "    .colab-df-convert:hover {\n",
              "      background-color: #E2EBFA;\n",
              "      box-shadow: 0px 1px 2px rgba(60, 64, 67, 0.3), 0px 1px 3px 1px rgba(60, 64, 67, 0.15);\n",
              "      fill: #174EA6;\n",
              "    }\n",
              "\n",
              "    .colab-df-buttons div {\n",
              "      margin-bottom: 4px;\n",
              "    }\n",
              "\n",
              "    [theme=dark] .colab-df-convert {\n",
              "      background-color: #3B4455;\n",
              "      fill: #D2E3FC;\n",
              "    }\n",
              "\n",
              "    [theme=dark] .colab-df-convert:hover {\n",
              "      background-color: #434B5C;\n",
              "      box-shadow: 0px 1px 3px 1px rgba(0, 0, 0, 0.15);\n",
              "      filter: drop-shadow(0px 1px 2px rgba(0, 0, 0, 0.3));\n",
              "      fill: #FFFFFF;\n",
              "    }\n",
              "  </style>\n",
              "\n",
              "    <script>\n",
              "      const buttonEl =\n",
              "        document.querySelector('#df-08c2ba79-391d-4ee0-bfa1-cb9fa779fe12 button.colab-df-convert');\n",
              "      buttonEl.style.display =\n",
              "        google.colab.kernel.accessAllowed ? 'block' : 'none';\n",
              "\n",
              "      async function convertToInteractive(key) {\n",
              "        const element = document.querySelector('#df-08c2ba79-391d-4ee0-bfa1-cb9fa779fe12');\n",
              "        const dataTable =\n",
              "          await google.colab.kernel.invokeFunction('convertToInteractive',\n",
              "                                                    [key], {});\n",
              "        if (!dataTable) return;\n",
              "\n",
              "        const docLinkHtml = 'Like what you see? Visit the ' +\n",
              "          '<a target=\"_blank\" href=https://colab.research.google.com/notebooks/data_table.ipynb>data table notebook</a>'\n",
              "          + ' to learn more about interactive tables.';\n",
              "        element.innerHTML = '';\n",
              "        dataTable['output_type'] = 'display_data';\n",
              "        await google.colab.output.renderOutput(dataTable, element);\n",
              "        const docLink = document.createElement('div');\n",
              "        docLink.innerHTML = docLinkHtml;\n",
              "        element.appendChild(docLink);\n",
              "      }\n",
              "    </script>\n",
              "  </div>\n",
              "\n",
              "\n",
              "<div id=\"df-0c1b07af-7e09-421b-af2c-b7c5e4374b80\">\n",
              "  <button class=\"colab-df-quickchart\" onclick=\"quickchart('df-0c1b07af-7e09-421b-af2c-b7c5e4374b80')\"\n",
              "            title=\"Suggest charts\"\n",
              "            style=\"display:none;\">\n",
              "\n",
              "<svg xmlns=\"http://www.w3.org/2000/svg\" height=\"24px\"viewBox=\"0 0 24 24\"\n",
              "     width=\"24px\">\n",
              "    <g>\n",
              "        <path d=\"M19 3H5c-1.1 0-2 .9-2 2v14c0 1.1.9 2 2 2h14c1.1 0 2-.9 2-2V5c0-1.1-.9-2-2-2zM9 17H7v-7h2v7zm4 0h-2V7h2v10zm4 0h-2v-4h2v4z\"/>\n",
              "    </g>\n",
              "</svg>\n",
              "  </button>\n",
              "\n",
              "<style>\n",
              "  .colab-df-quickchart {\n",
              "      --bg-color: #E8F0FE;\n",
              "      --fill-color: #1967D2;\n",
              "      --hover-bg-color: #E2EBFA;\n",
              "      --hover-fill-color: #174EA6;\n",
              "      --disabled-fill-color: #AAA;\n",
              "      --disabled-bg-color: #DDD;\n",
              "  }\n",
              "\n",
              "  [theme=dark] .colab-df-quickchart {\n",
              "      --bg-color: #3B4455;\n",
              "      --fill-color: #D2E3FC;\n",
              "      --hover-bg-color: #434B5C;\n",
              "      --hover-fill-color: #FFFFFF;\n",
              "      --disabled-bg-color: #3B4455;\n",
              "      --disabled-fill-color: #666;\n",
              "  }\n",
              "\n",
              "  .colab-df-quickchart {\n",
              "    background-color: var(--bg-color);\n",
              "    border: none;\n",
              "    border-radius: 50%;\n",
              "    cursor: pointer;\n",
              "    display: none;\n",
              "    fill: var(--fill-color);\n",
              "    height: 32px;\n",
              "    padding: 0;\n",
              "    width: 32px;\n",
              "  }\n",
              "\n",
              "  .colab-df-quickchart:hover {\n",
              "    background-color: var(--hover-bg-color);\n",
              "    box-shadow: 0 1px 2px rgba(60, 64, 67, 0.3), 0 1px 3px 1px rgba(60, 64, 67, 0.15);\n",
              "    fill: var(--button-hover-fill-color);\n",
              "  }\n",
              "\n",
              "  .colab-df-quickchart-complete:disabled,\n",
              "  .colab-df-quickchart-complete:disabled:hover {\n",
              "    background-color: var(--disabled-bg-color);\n",
              "    fill: var(--disabled-fill-color);\n",
              "    box-shadow: none;\n",
              "  }\n",
              "\n",
              "  .colab-df-spinner {\n",
              "    border: 2px solid var(--fill-color);\n",
              "    border-color: transparent;\n",
              "    border-bottom-color: var(--fill-color);\n",
              "    animation:\n",
              "      spin 1s steps(1) infinite;\n",
              "  }\n",
              "\n",
              "  @keyframes spin {\n",
              "    0% {\n",
              "      border-color: transparent;\n",
              "      border-bottom-color: var(--fill-color);\n",
              "      border-left-color: var(--fill-color);\n",
              "    }\n",
              "    20% {\n",
              "      border-color: transparent;\n",
              "      border-left-color: var(--fill-color);\n",
              "      border-top-color: var(--fill-color);\n",
              "    }\n",
              "    30% {\n",
              "      border-color: transparent;\n",
              "      border-left-color: var(--fill-color);\n",
              "      border-top-color: var(--fill-color);\n",
              "      border-right-color: var(--fill-color);\n",
              "    }\n",
              "    40% {\n",
              "      border-color: transparent;\n",
              "      border-right-color: var(--fill-color);\n",
              "      border-top-color: var(--fill-color);\n",
              "    }\n",
              "    60% {\n",
              "      border-color: transparent;\n",
              "      border-right-color: var(--fill-color);\n",
              "    }\n",
              "    80% {\n",
              "      border-color: transparent;\n",
              "      border-right-color: var(--fill-color);\n",
              "      border-bottom-color: var(--fill-color);\n",
              "    }\n",
              "    90% {\n",
              "      border-color: transparent;\n",
              "      border-bottom-color: var(--fill-color);\n",
              "    }\n",
              "  }\n",
              "</style>\n",
              "\n",
              "  <script>\n",
              "    async function quickchart(key) {\n",
              "      const quickchartButtonEl =\n",
              "        document.querySelector('#' + key + ' button');\n",
              "      quickchartButtonEl.disabled = true;  // To prevent multiple clicks.\n",
              "      quickchartButtonEl.classList.add('colab-df-spinner');\n",
              "      try {\n",
              "        const charts = await google.colab.kernel.invokeFunction(\n",
              "            'suggestCharts', [key], {});\n",
              "      } catch (error) {\n",
              "        console.error('Error during call to suggestCharts:', error);\n",
              "      }\n",
              "      quickchartButtonEl.classList.remove('colab-df-spinner');\n",
              "      quickchartButtonEl.classList.add('colab-df-quickchart-complete');\n",
              "    }\n",
              "    (() => {\n",
              "      let quickchartButtonEl =\n",
              "        document.querySelector('#df-0c1b07af-7e09-421b-af2c-b7c5e4374b80 button');\n",
              "      quickchartButtonEl.style.display =\n",
              "        google.colab.kernel.accessAllowed ? 'block' : 'none';\n",
              "    })();\n",
              "  </script>\n",
              "</div>\n",
              "\n",
              "  <div id=\"id_7b457f52-667c-420a-b25c-09d3aa1fcddf\">\n",
              "    <style>\n",
              "      .colab-df-generate {\n",
              "        background-color: #E8F0FE;\n",
              "        border: none;\n",
              "        border-radius: 50%;\n",
              "        cursor: pointer;\n",
              "        display: none;\n",
              "        fill: #1967D2;\n",
              "        height: 32px;\n",
              "        padding: 0 0 0 0;\n",
              "        width: 32px;\n",
              "      }\n",
              "\n",
              "      .colab-df-generate:hover {\n",
              "        background-color: #E2EBFA;\n",
              "        box-shadow: 0px 1px 2px rgba(60, 64, 67, 0.3), 0px 1px 3px 1px rgba(60, 64, 67, 0.15);\n",
              "        fill: #174EA6;\n",
              "      }\n",
              "\n",
              "      [theme=dark] .colab-df-generate {\n",
              "        background-color: #3B4455;\n",
              "        fill: #D2E3FC;\n",
              "      }\n",
              "\n",
              "      [theme=dark] .colab-df-generate:hover {\n",
              "        background-color: #434B5C;\n",
              "        box-shadow: 0px 1px 3px 1px rgba(0, 0, 0, 0.15);\n",
              "        filter: drop-shadow(0px 1px 2px rgba(0, 0, 0, 0.3));\n",
              "        fill: #FFFFFF;\n",
              "      }\n",
              "    </style>\n",
              "    <button class=\"colab-df-generate\" onclick=\"generateWithVariable('data_features')\"\n",
              "            title=\"Generate code using this dataframe.\"\n",
              "            style=\"display:none;\">\n",
              "\n",
              "  <svg xmlns=\"http://www.w3.org/2000/svg\" height=\"24px\"viewBox=\"0 0 24 24\"\n",
              "       width=\"24px\">\n",
              "    <path d=\"M7,19H8.4L18.45,9,17,7.55,7,17.6ZM5,21V16.75L18.45,3.32a2,2,0,0,1,2.83,0l1.4,1.43a1.91,1.91,0,0,1,.58,1.4,1.91,1.91,0,0,1-.58,1.4L9.25,21ZM18.45,9,17,7.55Zm-12,3A5.31,5.31,0,0,0,4.9,8.1,5.31,5.31,0,0,0,1,6.5,5.31,5.31,0,0,0,4.9,4.9,5.31,5.31,0,0,0,6.5,1,5.31,5.31,0,0,0,8.1,4.9,5.31,5.31,0,0,0,12,6.5,5.46,5.46,0,0,0,6.5,12Z\"/>\n",
              "  </svg>\n",
              "    </button>\n",
              "    <script>\n",
              "      (() => {\n",
              "      const buttonEl =\n",
              "        document.querySelector('#id_7b457f52-667c-420a-b25c-09d3aa1fcddf button.colab-df-generate');\n",
              "      buttonEl.style.display =\n",
              "        google.colab.kernel.accessAllowed ? 'block' : 'none';\n",
              "\n",
              "      buttonEl.onclick = () => {\n",
              "        google.colab.notebook.generateWithVariable('data_features');\n",
              "      }\n",
              "      })();\n",
              "    </script>\n",
              "  </div>\n",
              "\n",
              "    </div>\n",
              "  </div>\n"
            ],
            "application/vnd.google.colaboratory.intrinsic+json": {
              "type": "dataframe",
              "variable_name": "data_features",
              "summary": "{\n  \"name\": \"data_features\",\n  \"rows\": 5,\n  \"fields\": [\n    {\n      \"column\": \"ChatGPT\",\n      \"properties\": {\n        \"dtype\": \"string\",\n        \"num_unique_values\": 5,\n        \"samples\": [\n          \"grf\",\n          \"dm\",\n          \"al\"\n        ],\n        \"semantic_type\": \"\",\n        \"description\": \"\"\n      }\n    },\n    {\n      \"column\": \"Preplexity\",\n      \"properties\": {\n        \"dtype\": \"string\",\n        \"num_unique_values\": 5,\n        \"samples\": [\n          \"sc\",\n          \"bu\",\n          \"bp\"\n        ],\n        \"semantic_type\": \"\",\n        \"description\": \"\"\n      }\n    },\n    {\n      \"column\": \"Claude AI\",\n      \"properties\": {\n        \"dtype\": \"string\",\n        \"num_unique_values\": 5,\n        \"samples\": [\n          \"sc\",\n          \"dm\",\n          \"bp\"\n        ],\n        \"semantic_type\": \"\",\n        \"description\": \"\"\n      }\n    },\n    {\n      \"column\": \"My Analysis\",\n      \"properties\": {\n        \"dtype\": \"string\",\n        \"num_unique_values\": 5,\n        \"samples\": [\n          \"al\",\n          \"hemo\",\n          \"bu\"\n        ],\n        \"semantic_type\": \"\",\n        \"description\": \"\"\n      }\n    }\n  ]\n}"
            }
          },
          "metadata": {},
          "execution_count": 14
        }
      ]
    },
    {
      "cell_type": "code",
      "source": [
        "df2.head(5)"
      ],
      "metadata": {
        "colab": {
          "base_uri": "https://localhost:8080/",
          "height": 273
        },
        "id": "r8CWpYNhPVJI",
        "outputId": "a5a55f5e-fc1d-40b7-bc11-0092af2cf575"
      },
      "execution_count": null,
      "outputs": [
        {
          "output_type": "execute_result",
          "data": {
            "text/plain": [
              "   bp (Diastolic)  bp limit        sg        al     class       rbc        su  \\\n",
              "0        0.000000  0.000000  0.703098  0.693147  0.693147  0.000000 -0.001001   \n",
              "1        0.000000  0.000000  0.698135 -0.001001  0.693147  0.000000 -0.001001   \n",
              "2        0.000000  0.000000  0.698135  1.609638  0.693147  0.693147 -0.001001   \n",
              "3        0.693147  0.693147  0.698135  1.386294  0.693147  0.000000 -0.001001   \n",
              "4        0.000000  0.000000  0.701115 -0.001001  0.693147  0.000000 -0.001001   \n",
              "\n",
              "         pc  pcc        ba  ...  cad     appet        pe  ane       grf  \\\n",
              "0  0.000000  0.0  0.000000  ...  0.0  0.000000  0.000000  0.0  5.433482   \n",
              "1  0.000000  0.0  0.000000  ...  0.0  0.000000  0.000000  0.0  5.433482   \n",
              "2  0.693147  0.0  0.693147  ...  0.0  0.693147  0.000000  0.0  4.947791   \n",
              "3  0.000000  0.0  0.000000  ...  0.0  0.000000  0.000000  0.0  4.947791   \n",
              "4  0.000000  0.0  0.000000  ...  0.0  0.693147  0.693147  0.0  4.947791   \n",
              "\n",
              "      stage  affected       age  al_sc_ratio  bu_sc_ratio  \n",
              "0  0.693147  0.693147  2.564872     0.242199     2.651933  \n",
              "1  0.693147  0.693147  2.564872    -0.000274     2.651933  \n",
              "2  0.693147  0.693147  2.564872     0.740252     2.965392  \n",
              "3  0.693147  0.693147  2.564872     0.600013     2.651933  \n",
              "4  0.693147  0.693147  2.833213    -0.000274     2.651933  \n",
              "\n",
              "[5 rows x 31 columns]"
            ],
            "text/html": [
              "\n",
              "  <div id=\"df-d2a0bfba-a2fc-4855-8a70-d746fc4945a9\" class=\"colab-df-container\">\n",
              "    <div>\n",
              "<style scoped>\n",
              "    .dataframe tbody tr th:only-of-type {\n",
              "        vertical-align: middle;\n",
              "    }\n",
              "\n",
              "    .dataframe tbody tr th {\n",
              "        vertical-align: top;\n",
              "    }\n",
              "\n",
              "    .dataframe thead th {\n",
              "        text-align: right;\n",
              "    }\n",
              "</style>\n",
              "<table border=\"1\" class=\"dataframe\">\n",
              "  <thead>\n",
              "    <tr style=\"text-align: right;\">\n",
              "      <th></th>\n",
              "      <th>bp (Diastolic)</th>\n",
              "      <th>bp limit</th>\n",
              "      <th>sg</th>\n",
              "      <th>al</th>\n",
              "      <th>class</th>\n",
              "      <th>rbc</th>\n",
              "      <th>su</th>\n",
              "      <th>pc</th>\n",
              "      <th>pcc</th>\n",
              "      <th>ba</th>\n",
              "      <th>...</th>\n",
              "      <th>cad</th>\n",
              "      <th>appet</th>\n",
              "      <th>pe</th>\n",
              "      <th>ane</th>\n",
              "      <th>grf</th>\n",
              "      <th>stage</th>\n",
              "      <th>affected</th>\n",
              "      <th>age</th>\n",
              "      <th>al_sc_ratio</th>\n",
              "      <th>bu_sc_ratio</th>\n",
              "    </tr>\n",
              "  </thead>\n",
              "  <tbody>\n",
              "    <tr>\n",
              "      <th>0</th>\n",
              "      <td>0.000000</td>\n",
              "      <td>0.000000</td>\n",
              "      <td>0.703098</td>\n",
              "      <td>0.693147</td>\n",
              "      <td>0.693147</td>\n",
              "      <td>0.000000</td>\n",
              "      <td>-0.001001</td>\n",
              "      <td>0.000000</td>\n",
              "      <td>0.0</td>\n",
              "      <td>0.000000</td>\n",
              "      <td>...</td>\n",
              "      <td>0.0</td>\n",
              "      <td>0.000000</td>\n",
              "      <td>0.000000</td>\n",
              "      <td>0.0</td>\n",
              "      <td>5.433482</td>\n",
              "      <td>0.693147</td>\n",
              "      <td>0.693147</td>\n",
              "      <td>2.564872</td>\n",
              "      <td>0.242199</td>\n",
              "      <td>2.651933</td>\n",
              "    </tr>\n",
              "    <tr>\n",
              "      <th>1</th>\n",
              "      <td>0.000000</td>\n",
              "      <td>0.000000</td>\n",
              "      <td>0.698135</td>\n",
              "      <td>-0.001001</td>\n",
              "      <td>0.693147</td>\n",
              "      <td>0.000000</td>\n",
              "      <td>-0.001001</td>\n",
              "      <td>0.000000</td>\n",
              "      <td>0.0</td>\n",
              "      <td>0.000000</td>\n",
              "      <td>...</td>\n",
              "      <td>0.0</td>\n",
              "      <td>0.000000</td>\n",
              "      <td>0.000000</td>\n",
              "      <td>0.0</td>\n",
              "      <td>5.433482</td>\n",
              "      <td>0.693147</td>\n",
              "      <td>0.693147</td>\n",
              "      <td>2.564872</td>\n",
              "      <td>-0.000274</td>\n",
              "      <td>2.651933</td>\n",
              "    </tr>\n",
              "    <tr>\n",
              "      <th>2</th>\n",
              "      <td>0.000000</td>\n",
              "      <td>0.000000</td>\n",
              "      <td>0.698135</td>\n",
              "      <td>1.609638</td>\n",
              "      <td>0.693147</td>\n",
              "      <td>0.693147</td>\n",
              "      <td>-0.001001</td>\n",
              "      <td>0.693147</td>\n",
              "      <td>0.0</td>\n",
              "      <td>0.693147</td>\n",
              "      <td>...</td>\n",
              "      <td>0.0</td>\n",
              "      <td>0.693147</td>\n",
              "      <td>0.000000</td>\n",
              "      <td>0.0</td>\n",
              "      <td>4.947791</td>\n",
              "      <td>0.693147</td>\n",
              "      <td>0.693147</td>\n",
              "      <td>2.564872</td>\n",
              "      <td>0.740252</td>\n",
              "      <td>2.965392</td>\n",
              "    </tr>\n",
              "    <tr>\n",
              "      <th>3</th>\n",
              "      <td>0.693147</td>\n",
              "      <td>0.693147</td>\n",
              "      <td>0.698135</td>\n",
              "      <td>1.386294</td>\n",
              "      <td>0.693147</td>\n",
              "      <td>0.000000</td>\n",
              "      <td>-0.001001</td>\n",
              "      <td>0.000000</td>\n",
              "      <td>0.0</td>\n",
              "      <td>0.000000</td>\n",
              "      <td>...</td>\n",
              "      <td>0.0</td>\n",
              "      <td>0.000000</td>\n",
              "      <td>0.000000</td>\n",
              "      <td>0.0</td>\n",
              "      <td>4.947791</td>\n",
              "      <td>0.693147</td>\n",
              "      <td>0.693147</td>\n",
              "      <td>2.564872</td>\n",
              "      <td>0.600013</td>\n",
              "      <td>2.651933</td>\n",
              "    </tr>\n",
              "    <tr>\n",
              "      <th>4</th>\n",
              "      <td>0.000000</td>\n",
              "      <td>0.000000</td>\n",
              "      <td>0.701115</td>\n",
              "      <td>-0.001001</td>\n",
              "      <td>0.693147</td>\n",
              "      <td>0.000000</td>\n",
              "      <td>-0.001001</td>\n",
              "      <td>0.000000</td>\n",
              "      <td>0.0</td>\n",
              "      <td>0.000000</td>\n",
              "      <td>...</td>\n",
              "      <td>0.0</td>\n",
              "      <td>0.693147</td>\n",
              "      <td>0.693147</td>\n",
              "      <td>0.0</td>\n",
              "      <td>4.947791</td>\n",
              "      <td>0.693147</td>\n",
              "      <td>0.693147</td>\n",
              "      <td>2.833213</td>\n",
              "      <td>-0.000274</td>\n",
              "      <td>2.651933</td>\n",
              "    </tr>\n",
              "  </tbody>\n",
              "</table>\n",
              "<p>5 rows × 31 columns</p>\n",
              "</div>\n",
              "    <div class=\"colab-df-buttons\">\n",
              "\n",
              "  <div class=\"colab-df-container\">\n",
              "    <button class=\"colab-df-convert\" onclick=\"convertToInteractive('df-d2a0bfba-a2fc-4855-8a70-d746fc4945a9')\"\n",
              "            title=\"Convert this dataframe to an interactive table.\"\n",
              "            style=\"display:none;\">\n",
              "\n",
              "  <svg xmlns=\"http://www.w3.org/2000/svg\" height=\"24px\" viewBox=\"0 -960 960 960\">\n",
              "    <path d=\"M120-120v-720h720v720H120Zm60-500h600v-160H180v160Zm220 220h160v-160H400v160Zm0 220h160v-160H400v160ZM180-400h160v-160H180v160Zm440 0h160v-160H620v160ZM180-180h160v-160H180v160Zm440 0h160v-160H620v160Z\"/>\n",
              "  </svg>\n",
              "    </button>\n",
              "\n",
              "  <style>\n",
              "    .colab-df-container {\n",
              "      display:flex;\n",
              "      gap: 12px;\n",
              "    }\n",
              "\n",
              "    .colab-df-convert {\n",
              "      background-color: #E8F0FE;\n",
              "      border: none;\n",
              "      border-radius: 50%;\n",
              "      cursor: pointer;\n",
              "      display: none;\n",
              "      fill: #1967D2;\n",
              "      height: 32px;\n",
              "      padding: 0 0 0 0;\n",
              "      width: 32px;\n",
              "    }\n",
              "\n",
              "    .colab-df-convert:hover {\n",
              "      background-color: #E2EBFA;\n",
              "      box-shadow: 0px 1px 2px rgba(60, 64, 67, 0.3), 0px 1px 3px 1px rgba(60, 64, 67, 0.15);\n",
              "      fill: #174EA6;\n",
              "    }\n",
              "\n",
              "    .colab-df-buttons div {\n",
              "      margin-bottom: 4px;\n",
              "    }\n",
              "\n",
              "    [theme=dark] .colab-df-convert {\n",
              "      background-color: #3B4455;\n",
              "      fill: #D2E3FC;\n",
              "    }\n",
              "\n",
              "    [theme=dark] .colab-df-convert:hover {\n",
              "      background-color: #434B5C;\n",
              "      box-shadow: 0px 1px 3px 1px rgba(0, 0, 0, 0.15);\n",
              "      filter: drop-shadow(0px 1px 2px rgba(0, 0, 0, 0.3));\n",
              "      fill: #FFFFFF;\n",
              "    }\n",
              "  </style>\n",
              "\n",
              "    <script>\n",
              "      const buttonEl =\n",
              "        document.querySelector('#df-d2a0bfba-a2fc-4855-8a70-d746fc4945a9 button.colab-df-convert');\n",
              "      buttonEl.style.display =\n",
              "        google.colab.kernel.accessAllowed ? 'block' : 'none';\n",
              "\n",
              "      async function convertToInteractive(key) {\n",
              "        const element = document.querySelector('#df-d2a0bfba-a2fc-4855-8a70-d746fc4945a9');\n",
              "        const dataTable =\n",
              "          await google.colab.kernel.invokeFunction('convertToInteractive',\n",
              "                                                    [key], {});\n",
              "        if (!dataTable) return;\n",
              "\n",
              "        const docLinkHtml = 'Like what you see? Visit the ' +\n",
              "          '<a target=\"_blank\" href=https://colab.research.google.com/notebooks/data_table.ipynb>data table notebook</a>'\n",
              "          + ' to learn more about interactive tables.';\n",
              "        element.innerHTML = '';\n",
              "        dataTable['output_type'] = 'display_data';\n",
              "        await google.colab.output.renderOutput(dataTable, element);\n",
              "        const docLink = document.createElement('div');\n",
              "        docLink.innerHTML = docLinkHtml;\n",
              "        element.appendChild(docLink);\n",
              "      }\n",
              "    </script>\n",
              "  </div>\n",
              "\n",
              "\n",
              "<div id=\"df-dced659c-861e-4e49-a7d9-c03a7063c319\">\n",
              "  <button class=\"colab-df-quickchart\" onclick=\"quickchart('df-dced659c-861e-4e49-a7d9-c03a7063c319')\"\n",
              "            title=\"Suggest charts\"\n",
              "            style=\"display:none;\">\n",
              "\n",
              "<svg xmlns=\"http://www.w3.org/2000/svg\" height=\"24px\"viewBox=\"0 0 24 24\"\n",
              "     width=\"24px\">\n",
              "    <g>\n",
              "        <path d=\"M19 3H5c-1.1 0-2 .9-2 2v14c0 1.1.9 2 2 2h14c1.1 0 2-.9 2-2V5c0-1.1-.9-2-2-2zM9 17H7v-7h2v7zm4 0h-2V7h2v10zm4 0h-2v-4h2v4z\"/>\n",
              "    </g>\n",
              "</svg>\n",
              "  </button>\n",
              "\n",
              "<style>\n",
              "  .colab-df-quickchart {\n",
              "      --bg-color: #E8F0FE;\n",
              "      --fill-color: #1967D2;\n",
              "      --hover-bg-color: #E2EBFA;\n",
              "      --hover-fill-color: #174EA6;\n",
              "      --disabled-fill-color: #AAA;\n",
              "      --disabled-bg-color: #DDD;\n",
              "  }\n",
              "\n",
              "  [theme=dark] .colab-df-quickchart {\n",
              "      --bg-color: #3B4455;\n",
              "      --fill-color: #D2E3FC;\n",
              "      --hover-bg-color: #434B5C;\n",
              "      --hover-fill-color: #FFFFFF;\n",
              "      --disabled-bg-color: #3B4455;\n",
              "      --disabled-fill-color: #666;\n",
              "  }\n",
              "\n",
              "  .colab-df-quickchart {\n",
              "    background-color: var(--bg-color);\n",
              "    border: none;\n",
              "    border-radius: 50%;\n",
              "    cursor: pointer;\n",
              "    display: none;\n",
              "    fill: var(--fill-color);\n",
              "    height: 32px;\n",
              "    padding: 0;\n",
              "    width: 32px;\n",
              "  }\n",
              "\n",
              "  .colab-df-quickchart:hover {\n",
              "    background-color: var(--hover-bg-color);\n",
              "    box-shadow: 0 1px 2px rgba(60, 64, 67, 0.3), 0 1px 3px 1px rgba(60, 64, 67, 0.15);\n",
              "    fill: var(--button-hover-fill-color);\n",
              "  }\n",
              "\n",
              "  .colab-df-quickchart-complete:disabled,\n",
              "  .colab-df-quickchart-complete:disabled:hover {\n",
              "    background-color: var(--disabled-bg-color);\n",
              "    fill: var(--disabled-fill-color);\n",
              "    box-shadow: none;\n",
              "  }\n",
              "\n",
              "  .colab-df-spinner {\n",
              "    border: 2px solid var(--fill-color);\n",
              "    border-color: transparent;\n",
              "    border-bottom-color: var(--fill-color);\n",
              "    animation:\n",
              "      spin 1s steps(1) infinite;\n",
              "  }\n",
              "\n",
              "  @keyframes spin {\n",
              "    0% {\n",
              "      border-color: transparent;\n",
              "      border-bottom-color: var(--fill-color);\n",
              "      border-left-color: var(--fill-color);\n",
              "    }\n",
              "    20% {\n",
              "      border-color: transparent;\n",
              "      border-left-color: var(--fill-color);\n",
              "      border-top-color: var(--fill-color);\n",
              "    }\n",
              "    30% {\n",
              "      border-color: transparent;\n",
              "      border-left-color: var(--fill-color);\n",
              "      border-top-color: var(--fill-color);\n",
              "      border-right-color: var(--fill-color);\n",
              "    }\n",
              "    40% {\n",
              "      border-color: transparent;\n",
              "      border-right-color: var(--fill-color);\n",
              "      border-top-color: var(--fill-color);\n",
              "    }\n",
              "    60% {\n",
              "      border-color: transparent;\n",
              "      border-right-color: var(--fill-color);\n",
              "    }\n",
              "    80% {\n",
              "      border-color: transparent;\n",
              "      border-right-color: var(--fill-color);\n",
              "      border-bottom-color: var(--fill-color);\n",
              "    }\n",
              "    90% {\n",
              "      border-color: transparent;\n",
              "      border-bottom-color: var(--fill-color);\n",
              "    }\n",
              "  }\n",
              "</style>\n",
              "\n",
              "  <script>\n",
              "    async function quickchart(key) {\n",
              "      const quickchartButtonEl =\n",
              "        document.querySelector('#' + key + ' button');\n",
              "      quickchartButtonEl.disabled = true;  // To prevent multiple clicks.\n",
              "      quickchartButtonEl.classList.add('colab-df-spinner');\n",
              "      try {\n",
              "        const charts = await google.colab.kernel.invokeFunction(\n",
              "            'suggestCharts', [key], {});\n",
              "      } catch (error) {\n",
              "        console.error('Error during call to suggestCharts:', error);\n",
              "      }\n",
              "      quickchartButtonEl.classList.remove('colab-df-spinner');\n",
              "      quickchartButtonEl.classList.add('colab-df-quickchart-complete');\n",
              "    }\n",
              "    (() => {\n",
              "      let quickchartButtonEl =\n",
              "        document.querySelector('#df-dced659c-861e-4e49-a7d9-c03a7063c319 button');\n",
              "      quickchartButtonEl.style.display =\n",
              "        google.colab.kernel.accessAllowed ? 'block' : 'none';\n",
              "    })();\n",
              "  </script>\n",
              "</div>\n",
              "\n",
              "    </div>\n",
              "  </div>\n"
            ],
            "application/vnd.google.colaboratory.intrinsic+json": {
              "type": "dataframe",
              "variable_name": "df2"
            }
          },
          "metadata": {},
          "execution_count": 15
        }
      ]
    },
    {
      "cell_type": "markdown",
      "source": [
        "#**Exploring Logistic Regression- Basic Mediation Analysis**"
      ],
      "metadata": {
        "id": "o98qDjZo9Kjy"
      }
    },
    {
      "cell_type": "markdown",
      "source": [
        "# **Hemoglobin as Predictor**"
      ],
      "metadata": {
        "id": "A5kdFGdJ2kTA"
      }
    },
    {
      "cell_type": "code",
      "source": [
        "# Perform mediation analysis with a binary outcome (logistic regression)\n",
        "# Exploring Mediation Analysis\n",
        "!pip install pyprocessmacro -q\n",
        "from pyprocessmacro import Process\n",
        "\n",
        "# Supress any warnings\n",
        "warnings.filterwarnings(\"ignore\", category= DeprecationWarning)\n",
        "\n",
        "# Model 1: HEMO> GRF > CLASS\n",
        "model_1= Process(data= df2, model= 4, x= \"hemo\", y= \"class\", m= [\"grf\"], y_model= \"logistic\")\n",
        "model_1_result= model_1.summary()"
      ],
      "metadata": {
        "colab": {
          "base_uri": "https://localhost:8080/"
        },
        "id": "0DOF-3yVFb0C",
        "outputId": "55b42bb9-0124-42c1-a266-ad55be2f9857"
      },
      "execution_count": null,
      "outputs": [
        {
          "output_type": "stream",
          "name": "stdout",
          "text": [
            "\u001b[?25l   \u001b[90m━━━━━━━━━━━━━━━━━━━━━━━━━━━━━━━━━━━━━━━━\u001b[0m \u001b[32m0.0/42.2 kB\u001b[0m \u001b[31m?\u001b[0m eta \u001b[36m-:--:--\u001b[0m\r\u001b[2K   \u001b[90m━━━━━━━━━━━━━━━━━━━━━━━━━━━━━━━━━━━━━━━━\u001b[0m \u001b[32m42.2/42.2 kB\u001b[0m \u001b[31m1.5 MB/s\u001b[0m eta \u001b[36m0:00:00\u001b[0m\n",
            "\u001b[?25hProcess successfully initialized.\n",
            "Based on the Process Macro by Andrew F. Hayes, Ph.D. (www.afhayes.com)\n",
            "\n",
            "\n",
            "****************************** SPECIFICATION ****************************\n",
            "\n",
            "Model = 4\n",
            "\n",
            "Variables:\n",
            "    Cons = Cons\n",
            "    x = hemo\n",
            "    y = class\n",
            "    m1 = grf\n",
            "\n",
            "Sample size:\n",
            "199\n",
            "\n",
            "Bootstrapping information for indirect effects:\n",
            "Final number of bootstrap samples: 5000\n",
            "Number of samples discarded due to convergence issues: 0\n",
            "\n",
            "***************************** OUTCOME MODELS ****************************\n",
            "\n",
            "Outcome = class \n",
            "OLS Regression Summary\n",
            "\n",
            "     R²  Adj. R²    MSE        F  df1  df2  p-value\n",
            " 0.6150   0.6090 0.0434 156.5249    2  196   0.0000\n",
            "\n",
            "Coefficients\n",
            "\n",
            "       coeff     se       t      p    LLCI    ULCI\n",
            "Cons  3.0680 0.1785 17.1874 0.0000  2.7181  3.4178\n",
            "hemo -0.7221 0.0894 -8.0765 0.0000 -0.8973 -0.5468\n",
            "grf  -0.1935 0.0284 -6.8126 0.0000 -0.2491 -0.1378\n",
            "\n",
            "-------------------------------------------------------------------------\n",
            "\n",
            "Outcome = grf \n",
            "OLS Regression Summary\n",
            "\n",
            "     R²  Adj. R²    MSE        F  df1  df2  p-value\n",
            " 0.4165   0.4106 0.2729 140.6243    1  197   0.0000\n",
            "\n",
            "Coefficients\n",
            "\n",
            "       coeff     se       t      p    LLCI    ULCI\n",
            "Cons -1.1759 0.4399 -2.6731 0.0081 -2.0381 -0.3137\n",
            "hemo  2.0316 0.1713 11.8585 0.0000  1.6958  2.3674\n",
            "\n",
            "-------------------------------------------------------------------------\n",
            "\n",
            "\n",
            "********************** DIRECT AND INDIRECT EFFECTS **********************\n",
            "\n",
            "Direct effect of hemo on class:\n",
            "\n",
            "  Effect     SE       t      p    LLCI    ULCI\n",
            " -0.7221 0.0894 -8.0765 0.0000 -0.8973 -0.5468\n",
            "\n",
            "Indirect effect of hemo on class:\n",
            "\n",
            "       Effect  Boot SE  BootLLCI  BootULCI\n",
            "  grf -0.3931   0.0822   -0.5645   -0.2406\n",
            "\n",
            "\n"
          ]
        }
      ]
    },
    {
      "cell_type": "markdown",
      "source": [
        "**Interpretation:**\n",
        "\n",
        "1. A substantial portion of the variance (61.50%) in the class is explained by the both glomerular filteration rate (grf) and hemoglobin (hemo), indicating a strong model.\n",
        "\n",
        "2. There is a strong and significant direct negative relationship (-0.7221) between hemoglobin and class, suggesting that as hemoglobin decreases, it increase the likelihood of having CKD.\n",
        "\n",
        "3. There is a strong and significant indirect negative relationship (-0.3931) between hemoglobin and class via glomerular filteration rate, suggesting that lower hemoglobin lead to lower glomerular filteration rate, and thus increase the likelihood of CKD.\n"
      ],
      "metadata": {
        "id": "Y_7wC6gKfEZ5"
      }
    },
    {
      "cell_type": "code",
      "source": [
        "# Model 2: HEMO> AL> CLASS\n",
        "model_2= Process(data= df2, model= 4, x= \"hemo\", y= \"class\", m= [\"al\"], y_model= \"logistic\")\n",
        "model_2_result= model_2.summary()"
      ],
      "metadata": {
        "colab": {
          "base_uri": "https://localhost:8080/"
        },
        "id": "aQdQcdt_bKfz",
        "outputId": "216a84c1-1a90-4d97-8bfa-fd72de747152"
      },
      "execution_count": null,
      "outputs": [
        {
          "output_type": "stream",
          "name": "stdout",
          "text": [
            "Process successfully initialized.\n",
            "Based on the Process Macro by Andrew F. Hayes, Ph.D. (www.afhayes.com)\n",
            "\n",
            "\n",
            "****************************** SPECIFICATION ****************************\n",
            "\n",
            "Model = 4\n",
            "\n",
            "Variables:\n",
            "    Cons = Cons\n",
            "    x = hemo\n",
            "    y = class\n",
            "    m1 = al\n",
            "\n",
            "Sample size:\n",
            "199\n",
            "\n",
            "Bootstrapping information for indirect effects:\n",
            "Final number of bootstrap samples: 5000\n",
            "Number of samples discarded due to convergence issues: 0\n",
            "\n",
            "***************************** OUTCOME MODELS ****************************\n",
            "\n",
            "Outcome = class \n",
            "OLS Regression Summary\n",
            "\n",
            "     R²  Adj. R²    MSE        F  df1  df2  p-value\n",
            " 0.6031   0.5969 0.0447 148.8833    2  196   0.0000\n",
            "\n",
            "Coefficients\n",
            "\n",
            "       coeff     se        t      p    LLCI    ULCI\n",
            "Cons  2.5695 0.2125  12.0902 0.0000  2.1530  2.9861\n",
            "hemo -0.8653 0.0800 -10.8138 0.0000 -1.0222 -0.7085\n",
            "al    0.1782 0.0285   6.2557 0.0000  0.1224  0.2341\n",
            "\n",
            "-------------------------------------------------------------------------\n",
            "\n",
            "Outcome = al \n",
            "OLS Regression Summary\n",
            "\n",
            "     R²  Adj. R²    MSE       F  df1  df2  p-value\n",
            " 0.2491   0.2414 0.2796 65.3482    1  197   0.0000\n",
            "\n",
            "Coefficients\n",
            "\n",
            "       coeff     se       t      p    LLCI    ULCI\n",
            "Cons  4.0737 0.4453  9.1489 0.0000  3.2010  4.9464\n",
            "hemo -1.4019 0.1734 -8.0838 0.0000 -1.7418 -1.0620\n",
            "\n",
            "-------------------------------------------------------------------------\n",
            "\n",
            "\n",
            "********************** DIRECT AND INDIRECT EFFECTS **********************\n",
            "\n",
            "Direct effect of hemo on class:\n",
            "\n",
            "  Effect     SE        t      p    LLCI    ULCI\n",
            " -0.8653 0.0800 -10.8138 0.0000 -1.0222 -0.7085\n",
            "\n",
            "Indirect effect of hemo on class:\n",
            "\n",
            "      Effect  Boot SE  BootLLCI  BootULCI\n",
            "  al -0.2498   0.0424   -0.3533   -0.1815\n",
            "\n",
            "\n"
          ]
        }
      ]
    },
    {
      "cell_type": "markdown",
      "source": [
        "**Interpretation:**\n",
        "\n",
        "1. A substantial portion of the variance (60.31%) in the class is explained by the both hemoglobin (hemo) and albumin (al), indicating a strong model.\n",
        "\n",
        "2. There is a strong and significant direct negative relationship (-0.8653) between hemoglobin and class, suggesting that as hemoglobin decreases, it increase the likelihood of having CKD.\n",
        "\n",
        "3. There is a strong and significant indirect negative relationship (-0.2498) between hemoglobin and class via albumin, suggesting that lower hemoglobin lead to higher albumin, and thus increase the likelihood of CKD.\n",
        "\n"
      ],
      "metadata": {
        "id": "ObqGRLcorGUU"
      }
    },
    {
      "cell_type": "code",
      "source": [
        "# Model 3: HEMO> SC> CLASS\n",
        "model_3= Process(data= df2, model= 4, x= \"hemo\", y= \"class\", m= [\"sc\"], y_model= \"logistic\")\n",
        "model_3_result= model_3.summary()"
      ],
      "metadata": {
        "colab": {
          "base_uri": "https://localhost:8080/"
        },
        "id": "63R-yVgnFXpC",
        "outputId": "926ef99e-53fa-4949-86d7-6b573507bc08"
      },
      "execution_count": null,
      "outputs": [
        {
          "output_type": "stream",
          "name": "stdout",
          "text": [
            "Process successfully initialized.\n",
            "Based on the Process Macro by Andrew F. Hayes, Ph.D. (www.afhayes.com)\n",
            "\n",
            "\n",
            "****************************** SPECIFICATION ****************************\n",
            "\n",
            "Model = 4\n",
            "\n",
            "Variables:\n",
            "    Cons = Cons\n",
            "    x = hemo\n",
            "    y = class\n",
            "    m1 = sc\n",
            "\n",
            "Sample size:\n",
            "199\n",
            "\n",
            "Bootstrapping information for indirect effects:\n",
            "Final number of bootstrap samples: 5000\n",
            "Number of samples discarded due to convergence issues: 0\n",
            "\n",
            "***************************** OUTCOME MODELS ****************************\n",
            "\n",
            "Outcome = class \n",
            "OLS Regression Summary\n",
            "\n",
            "     R²  Adj. R²    MSE        F  df1  df2  p-value\n",
            " 0.5270   0.5197 0.0533 109.1814    2  196   0.0000\n",
            "\n",
            "Coefficients\n",
            "\n",
            "       coeff     se        t      p    LLCI    ULCI\n",
            "Cons  3.5374 0.2865  12.3488 0.0000  2.9760  4.0988\n",
            "hemo -1.1635 0.0866 -13.4354 0.0000 -1.3333 -0.9938\n",
            "sc   -0.0713 0.0620  -1.1495 0.2517 -0.1928  0.0503\n",
            "\n",
            "-------------------------------------------------------------------------\n",
            "\n",
            "Outcome = sc \n",
            "OLS Regression Summary\n",
            "\n",
            "     R²  Adj. R²    MSE       F  df1  df2  p-value\n",
            " 0.2360   0.2282 0.0703 60.8596    1  197   0.0000\n",
            "\n",
            "Coefficients\n",
            "\n",
            "       coeff     se       t      p    LLCI    ULCI\n",
            "Cons  3.3939 0.2233 15.1970 0.0000  2.9562  3.8316\n",
            "hemo -0.6785 0.0870 -7.8013 0.0000 -0.8490 -0.5081\n",
            "\n",
            "-------------------------------------------------------------------------\n",
            "\n",
            "\n",
            "********************** DIRECT AND INDIRECT EFFECTS **********************\n",
            "\n",
            "Direct effect of hemo on class:\n",
            "\n",
            "  Effect     SE        t      p    LLCI    ULCI\n",
            " -1.1635 0.0866 -13.4354 0.0000 -1.3333 -0.9938\n",
            "\n",
            "Indirect effect of hemo on class:\n",
            "\n",
            "      Effect  Boot SE  BootLLCI  BootULCI\n",
            "  sc  0.0484   0.0522   -0.0251    0.1730\n",
            "\n",
            "\n"
          ]
        }
      ]
    },
    {
      "cell_type": "markdown",
      "source": [
        "**Interpretation:**\n",
        "\n",
        "1. A big portion of the variance (52.70%) in the class is explained by the both hemoglobin (hemo) and serum creatinine (sc), indicating a moderately strong model.\n",
        "\n",
        "2. There is a strong and significant direct negative relationship (-1.1635) between hemoglobin and class, suggesting that as hemoglobin decreases, it increase the likelihood of having CKD.\n",
        "\n",
        "3. There is a very weak indirect positive relationship (0.0484) between hemoglobin and class via serum creatinine and is negligible. It mean that changes in hemoglobin does not directly alter the risk of CKD via serum creatinine.\n",
        "\n"
      ],
      "metadata": {
        "id": "sfkEl63oa2jz"
      }
    },
    {
      "cell_type": "markdown",
      "source": [
        "#**Serum Creatinine as Predictor**"
      ],
      "metadata": {
        "id": "gI9rijoQ5mYI"
      }
    },
    {
      "cell_type": "code",
      "source": [
        "# Model 4: SC> BU> CLASS\n",
        "model_4= Process(data= df2, model= 4, x= \"sc\", y= \"class\", m= [\"bu\"], y_model= \"logistic\")\n",
        "model_4_result = model_4.summary()"
      ],
      "metadata": {
        "colab": {
          "base_uri": "https://localhost:8080/"
        },
        "id": "jVZAWhOwBn4Q",
        "outputId": "8fe97294-5eba-4a76-ca37-58e98b2870f1"
      },
      "execution_count": null,
      "outputs": [
        {
          "output_type": "stream",
          "name": "stdout",
          "text": [
            "Process successfully initialized.\n",
            "Based on the Process Macro by Andrew F. Hayes, Ph.D. (www.afhayes.com)\n",
            "\n",
            "\n",
            "****************************** SPECIFICATION ****************************\n",
            "\n",
            "Model = 4\n",
            "\n",
            "Variables:\n",
            "    Cons = Cons\n",
            "    x = sc\n",
            "    y = class\n",
            "    m1 = bu\n",
            "\n",
            "Sample size:\n",
            "199\n",
            "\n",
            "Bootstrapping information for indirect effects:\n",
            "Final number of bootstrap samples: 5000\n",
            "Number of samples discarded due to convergence issues: 0\n",
            "\n",
            "***************************** OUTCOME MODELS ****************************\n",
            "\n",
            "Outcome = class \n",
            "OLS Regression Summary\n",
            "\n",
            "     R²  Adj. R²    MSE       F  df1  df2  p-value\n",
            " 0.2079   0.1958 0.0892 25.7285    2  196   0.0000\n",
            "\n",
            "Coefficients\n",
            "\n",
            "       coeff     se       t      p    LLCI    ULCI\n",
            "Cons -1.1632 0.2289 -5.0824 0.0000 -1.6118 -0.7146\n",
            "sc   -0.2090 0.1230 -1.7001 0.0907 -0.4500  0.0320\n",
            "bu    0.4663 0.0868  5.3713 0.0000  0.2961  0.6364\n",
            "\n",
            "-------------------------------------------------------------------------\n",
            "\n",
            "Outcome = bu \n",
            "OLS Regression Summary\n",
            "\n",
            "     R²  Adj. R²    MSE        F  df1  df2  p-value\n",
            " 0.6747   0.6714 0.0601 408.5442    1  197   0.0000\n",
            "\n",
            "Coefficients\n",
            "\n",
            "      coeff     se       t      p   LLCI   ULCI\n",
            "Cons 2.2577 0.0970 23.2781 0.0000 2.0676 2.4478\n",
            "sc   1.1634 0.0576 20.2125 0.0000 1.0506 1.2762\n",
            "\n",
            "-------------------------------------------------------------------------\n",
            "\n",
            "\n",
            "********************** DIRECT AND INDIRECT EFFECTS **********************\n",
            "\n",
            "Direct effect of sc on class:\n",
            "\n",
            "  Effect     SE       t      p    LLCI   ULCI\n",
            " -0.2090 0.1230 -1.7001 0.0907 -0.4500 0.0320\n",
            "\n",
            "Indirect effect of sc on class:\n",
            "\n",
            "      Effect  Boot SE  BootLLCI  BootULCI\n",
            "  bu  0.5425   0.0870    0.3931    0.7204\n",
            "\n",
            "\n"
          ]
        }
      ]
    },
    {
      "cell_type": "markdown",
      "source": [
        "**Interpretation:**\n",
        "\n",
        "1. A small portion of the variance (20.79%) in the class is explained by the both blood urea (bu) and serum creatinine (sc), indicating a weak model.\n",
        "\n",
        "2. There is a weak and insignificant direct negative relationship (-0.2090) between serum creatinine and class, suggesting that as serum creatinine decreases, it increase the likelihood of having CKD.\n",
        "\n",
        "3. There is a strong and significant indirect positive relationship (0.5425) between serum creatinine and class via blood urea, suggesting higher serum creatinine will lead to higher blood urea, increase the likelihood of CKD.\n",
        "\n",
        "\n"
      ],
      "metadata": {
        "id": "YettxV6UwO9n"
      }
    },
    {
      "cell_type": "code",
      "source": [
        "# Model 5: SC> GRF> CLASS\n",
        "model_5= Process(data= df2, model= 4, x= \"sc\", y= \"class\", m= [\"grf\"], y_model= \"logistic\")\n",
        "model_5_result = model_5.summary()"
      ],
      "metadata": {
        "colab": {
          "base_uri": "https://localhost:8080/"
        },
        "id": "wSNG59p_6Ep3",
        "outputId": "6e6cafd1-c7d7-4942-a587-686329af9842"
      },
      "execution_count": null,
      "outputs": [
        {
          "output_type": "stream",
          "name": "stdout",
          "text": [
            "Process successfully initialized.\n",
            "Based on the Process Macro by Andrew F. Hayes, Ph.D. (www.afhayes.com)\n",
            "\n",
            "\n",
            "****************************** SPECIFICATION ****************************\n",
            "\n",
            "Model = 4\n",
            "\n",
            "Variables:\n",
            "    Cons = Cons\n",
            "    x = sc\n",
            "    y = class\n",
            "    m1 = grf\n",
            "\n",
            "Sample size:\n",
            "199\n",
            "\n",
            "Bootstrapping information for indirect effects:\n",
            "Final number of bootstrap samples: 5000\n",
            "Number of samples discarded due to convergence issues: 0\n",
            "\n",
            "***************************** OUTCOME MODELS ****************************\n",
            "\n",
            "Outcome = class \n",
            "OLS Regression Summary\n",
            "\n",
            "     R²  Adj. R²    MSE       F  df1  df2  p-value\n",
            " 0.4870   0.4791 0.0578 93.0415    2  196   0.0000\n",
            "\n",
            "Coefficients\n",
            "\n",
            "       coeff     se        t      p    LLCI    ULCI\n",
            "Cons  1.7755 0.1805   9.8379 0.0000  1.4218  2.1293\n",
            "sc    0.0169 0.0620   0.2717 0.7861 -0.1047  0.1384\n",
            "grf  -0.3384 0.0275 -12.2955 0.0000 -0.3924 -0.2845\n",
            "\n",
            "-------------------------------------------------------------------------\n",
            "\n",
            "Outcome = grf \n",
            "OLS Regression Summary\n",
            "\n",
            "     R²  Adj. R²    MSE       F  df1  df2  p-value\n",
            " 0.1723   0.1638 0.3872 41.0011    1  197   0.0000\n",
            "\n",
            "Coefficients\n",
            "\n",
            "       coeff     se       t      p    LLCI    ULCI\n",
            "Cons  5.5729 0.2462 22.6367 0.0000  5.0904  6.0554\n",
            "sc   -0.9355 0.1461 -6.4032 0.0000 -1.2218 -0.6491\n",
            "\n",
            "-------------------------------------------------------------------------\n",
            "\n",
            "\n",
            "********************** DIRECT AND INDIRECT EFFECTS **********************\n",
            "\n",
            "Direct effect of sc on class:\n",
            "\n",
            "  Effect     SE      t      p    LLCI   ULCI\n",
            "  0.0169 0.0620 0.2717 0.7861 -0.1047 0.1384\n",
            "\n",
            "Indirect effect of sc on class:\n",
            "\n",
            "       Effect  Boot SE  BootLLCI  BootULCI\n",
            "  grf  0.3166   0.0513    0.2365    0.4329\n",
            "\n",
            "\n"
          ]
        }
      ]
    },
    {
      "cell_type": "markdown",
      "source": [
        "**Interpretation:**\n",
        "\n",
        "1. A moderate portion of the variance (48.70%) in the class is explained by the both serum creatinine (sc) and glomerular filteration rate (grf), indicating a moderately strong model.\n",
        "\n",
        "2. There is a weak  and insignificant direct positive relationship (0.0169) between serum creatinine and class, suggesting serum creatinine does not have a strong direct effect on the likelihood of class outcome.\n",
        "\n",
        "3. There is a moderately strong and significant indirect positive relationship (0.3166) between serum creatinine and class via glomerular filteration rate, suggesting higher serum creatinine will lead to lower glomerular filteration rate, further increase chance of CKD.\n",
        "\n",
        "\n"
      ],
      "metadata": {
        "id": "lYRFkAcy8ncG"
      }
    },
    {
      "cell_type": "code",
      "source": [
        "# Model 6: SC> PCV> CLASS\n",
        "model_6= Process(data= df2, model= 4, x= \"sc\", y= \"class\", m= [\"pcv\"], y_model= \"logistic\")\n",
        "model_6_result = model_6.summary()"
      ],
      "metadata": {
        "colab": {
          "base_uri": "https://localhost:8080/"
        },
        "id": "4ArhcgFd65EA",
        "outputId": "11db94c6-1d08-4a00-8e14-3634a330e96d"
      },
      "execution_count": null,
      "outputs": [
        {
          "output_type": "stream",
          "name": "stdout",
          "text": [
            "Process successfully initialized.\n",
            "Based on the Process Macro by Andrew F. Hayes, Ph.D. (www.afhayes.com)\n",
            "\n",
            "\n",
            "****************************** SPECIFICATION ****************************\n",
            "\n",
            "Model = 4\n",
            "\n",
            "Variables:\n",
            "    Cons = Cons\n",
            "    x = sc\n",
            "    y = class\n",
            "    m1 = pcv\n",
            "\n",
            "Sample size:\n",
            "199\n",
            "\n",
            "Bootstrapping information for indirect effects:\n",
            "Final number of bootstrap samples: 5000\n",
            "Number of samples discarded due to convergence issues: 0\n",
            "\n",
            "***************************** OUTCOME MODELS ****************************\n",
            "\n",
            "Outcome = class \n",
            "OLS Regression Summary\n",
            "\n",
            "     R²  Adj. R²    MSE       F  df1  df2  p-value\n",
            " 0.4181   0.4092 0.0655 70.4167    2  196   0.0000\n",
            "\n",
            "Coefficients\n",
            "\n",
            "       coeff     se        t      p    LLCI    ULCI\n",
            "Cons  4.0369 0.4081   9.8922 0.0000  3.2371  4.8368\n",
            "sc   -0.0104 0.0685  -0.1518 0.8795 -0.1446  0.1238\n",
            "pcv  -0.9843 0.0938 -10.4911 0.0000 -1.1682 -0.8004\n",
            "\n",
            "-------------------------------------------------------------------------\n",
            "\n",
            "Outcome = pcv \n",
            "OLS Regression Summary\n",
            "\n",
            "     R²  Adj. R²    MSE       F  df1  df2  p-value\n",
            " 0.2292   0.2213 0.0378 58.5624    1  197   0.0000\n",
            "\n",
            "Coefficients\n",
            "\n",
            "       coeff     se       t      p    LLCI    ULCI\n",
            "Cons  4.2135 0.0769 54.7779 0.0000  4.0627  4.3643\n",
            "sc   -0.3493 0.0456 -7.6526 0.0000 -0.4388 -0.2598\n",
            "\n",
            "-------------------------------------------------------------------------\n",
            "\n",
            "\n",
            "********************** DIRECT AND INDIRECT EFFECTS **********************\n",
            "\n",
            "Direct effect of sc on class:\n",
            "\n",
            "  Effect     SE       t      p    LLCI   ULCI\n",
            " -0.0104 0.0685 -0.1518 0.8795 -0.1446 0.1238\n",
            "\n",
            "Indirect effect of sc on class:\n",
            "\n",
            "       Effect  Boot SE  BootLLCI  BootULCI\n",
            "  pcv  0.3438   0.0894    0.1898    0.5197\n",
            "\n",
            "\n"
          ]
        }
      ]
    },
    {
      "cell_type": "markdown",
      "source": [
        "**Interpretation:**\n",
        "\n",
        "1. A moderate portion of the variance (41.81%) in the class is explained by the both serum creatinine (sc) and packed cell volume (pcv), indicating a moderate model.\n",
        "\n",
        "2. There is a weak and insignificant direct negative relationship (-0.0104) between serum creatinine and class, suggesting serum creatinine does not have a strong direct effect on the likelihood of class outcome.\n",
        "\n",
        "3. There is a moderately strong and significant indirect positive relationship (0.3438) between serum creatinine and class via packed cell volume, suggesting higher serum creatinine will lead to lower packed cell volume, further increase chance of CKD.\n",
        "\n"
      ],
      "metadata": {
        "id": "mgErjvgD8o3w"
      }
    },
    {
      "cell_type": "code",
      "source": [
        "# Model 7: SC> AL> CLASS\n",
        "model_7= Process(data= df2, model= 4, x= \"sc\", y= \"class\", m= [\"al\"], y_model= \"logistic\")\n",
        "model_7_result = model_7.summary()"
      ],
      "metadata": {
        "colab": {
          "base_uri": "https://localhost:8080/"
        },
        "id": "p_3AEsQN65I6",
        "outputId": "5be297b4-d8d0-4a96-e834-cca4c29a42b4"
      },
      "execution_count": null,
      "outputs": [
        {
          "output_type": "stream",
          "name": "stdout",
          "text": [
            "Process successfully initialized.\n",
            "Based on the Process Macro by Andrew F. Hayes, Ph.D. (www.afhayes.com)\n",
            "\n",
            "\n",
            "****************************** SPECIFICATION ****************************\n",
            "\n",
            "Model = 4\n",
            "\n",
            "Variables:\n",
            "    Cons = Cons\n",
            "    x = sc\n",
            "    y = class\n",
            "    m1 = al\n",
            "\n",
            "Sample size:\n",
            "199\n",
            "\n",
            "Bootstrapping information for indirect effects:\n",
            "Final number of bootstrap samples: 5000\n",
            "Number of samples discarded due to convergence issues: 0\n",
            "\n",
            "***************************** OUTCOME MODELS ****************************\n",
            "\n",
            "Outcome = class \n",
            "OLS Regression Summary\n",
            "\n",
            "     R²  Adj. R²    MSE       F  df1  df2  p-value\n",
            " 0.3814   0.3718 0.0697 60.4109    2  196   0.0000\n",
            "\n",
            "Coefficients\n",
            "\n",
            "      coeff     se      t      p    LLCI   ULCI\n",
            "Cons 0.0549 0.1059 0.5189 0.6044 -0.1525 0.2624\n",
            "sc   0.1425 0.0651 2.1896 0.0297  0.0149 0.2701\n",
            "al   0.3103 0.0324 9.5854 0.0000  0.2468 0.3737\n",
            "\n",
            "-------------------------------------------------------------------------\n",
            "\n",
            "Outcome = al \n",
            "OLS Regression Summary\n",
            "\n",
            "     R²  Adj. R²    MSE       F  df1  df2  p-value\n",
            " 0.0936   0.0843 0.3376 20.3397    1  197   0.0000\n",
            "\n",
            "Coefficients\n",
            "\n",
            "       coeff     se       t      p    LLCI    ULCI\n",
            "Cons -0.5329 0.2299 -2.3184 0.0215 -0.9835 -0.0824\n",
            "sc    0.6152 0.1364  4.5100 0.0000  0.3479  0.8826\n",
            "\n",
            "-------------------------------------------------------------------------\n",
            "\n",
            "\n",
            "********************** DIRECT AND INDIRECT EFFECTS **********************\n",
            "\n",
            "Direct effect of sc on class:\n",
            "\n",
            "  Effect     SE      t      p   LLCI   ULCI\n",
            "  0.1425 0.0651 2.1896 0.0297 0.0149 0.2701\n",
            "\n",
            "Indirect effect of sc on class:\n",
            "\n",
            "      Effect  Boot SE  BootLLCI  BootULCI\n",
            "  al  0.1909   0.0548    0.1036    0.3204\n",
            "\n",
            "\n"
          ]
        }
      ]
    },
    {
      "cell_type": "markdown",
      "source": [
        "**Interpretation:**\n",
        "\n",
        "1. A moderate portion of the variance (38.14%) in the class is explained by the both serum creatinine (sc) and albumin (al), indicating a moderate model.\n",
        "\n",
        "2. There is a weak and significant direct positive relationship (0.1425) between serum creatinine and class, suggesting that as serum creatinine increase, it increase the likelihood of CKD.\n",
        "\n",
        "3. There is a moderate and significant indirect positive relationship (0.1909) between serum creatinine and class via albumin, suggesting higher serum creatinine will lead to higher albumin, further increase chance of CKD.\n",
        "\n"
      ],
      "metadata": {
        "id": "qojbCi3L8rvY"
      }
    },
    {
      "cell_type": "code",
      "source": [
        "# Model 8: SC> HEMO> CLASS\n",
        "model_8= Process(data= df2, model= 4, x= \"sc\", y= \"class\", m= [\"hemo\"], y_model= \"logistic\")\n",
        "model_8_result = model_8.summary()"
      ],
      "metadata": {
        "colab": {
          "base_uri": "https://localhost:8080/"
        },
        "id": "jAlqzGpY7xgl",
        "outputId": "e7d41ec3-3dfd-498c-f919-402393fa19e8"
      },
      "execution_count": null,
      "outputs": [
        {
          "output_type": "stream",
          "name": "stdout",
          "text": [
            "Process successfully initialized.\n",
            "Based on the Process Macro by Andrew F. Hayes, Ph.D. (www.afhayes.com)\n",
            "\n",
            "\n",
            "****************************** SPECIFICATION ****************************\n",
            "\n",
            "Model = 4\n",
            "\n",
            "Variables:\n",
            "    Cons = Cons\n",
            "    x = sc\n",
            "    y = class\n",
            "    m1 = hemo\n",
            "\n",
            "Sample size:\n",
            "199\n",
            "\n",
            "Bootstrapping information for indirect effects:\n",
            "Final number of bootstrap samples: 5000\n",
            "Number of samples discarded due to convergence issues: 0\n",
            "\n",
            "***************************** OUTCOME MODELS ****************************\n",
            "\n",
            "Outcome = class \n",
            "OLS Regression Summary\n",
            "\n",
            "     R²  Adj. R²    MSE        F  df1  df2  p-value\n",
            " 0.5270   0.5197 0.0533 109.1814    2  196   0.0000\n",
            "\n",
            "Coefficients\n",
            "\n",
            "       coeff     se        t      p    LLCI    ULCI\n",
            "Cons  3.5374 0.2865  12.3488 0.0000  2.9760  4.0988\n",
            "sc   -0.0713 0.0620  -1.1495 0.2517 -0.1928  0.0503\n",
            "hemo -1.1635 0.0866 -13.4354 0.0000 -1.3333 -0.9938\n",
            "\n",
            "-------------------------------------------------------------------------\n",
            "\n",
            "Outcome = hemo \n",
            "OLS Regression Summary\n",
            "\n",
            "     R²  Adj. R²    MSE       F  df1  df2  p-value\n",
            " 0.2360   0.2282 0.0361 60.8596    1  197   0.0000\n",
            "\n",
            "Coefficients\n",
            "\n",
            "       coeff     se       t      p    LLCI    ULCI\n",
            "Cons  3.1351 0.0751 41.7275 0.0000  2.9879  3.2824\n",
            "sc   -0.3478 0.0446 -7.8013 0.0000 -0.4352 -0.2604\n",
            "\n",
            "-------------------------------------------------------------------------\n",
            "\n",
            "\n",
            "********************** DIRECT AND INDIRECT EFFECTS **********************\n",
            "\n",
            "Direct effect of sc on class:\n",
            "\n",
            "  Effect     SE       t      p    LLCI   ULCI\n",
            " -0.0713 0.0620 -1.1495 0.2517 -0.1928 0.0503\n",
            "\n",
            "Indirect effect of sc on class:\n",
            "\n",
            "        Effect  Boot SE  BootLLCI  BootULCI\n",
            "  hemo  0.4047   0.0942    0.2382    0.5885\n",
            "\n",
            "\n"
          ]
        }
      ]
    },
    {
      "cell_type": "markdown",
      "source": [
        "**Interpretation:**\n",
        "\n",
        "1. A big portion of the variance (52.70%) in the class is explained by the both serum creatinine (sc) and hemoglobin (hemo), indicating a moderately strong model.\n",
        "\n",
        "2. There is a weak and insignificant direct negative relationship (-0.07135) between serum creatinine and class, suggesting serum creatinine does not have a strong direct effect on the likelihood of class outcome.\n",
        "\n",
        "3. There is a strong and significant indirect positive relationship (0.4047) between serum creatinine and class via hemoglobin, suggesting higher serum creatinine will lead to lower hemoglobin, further increase chance of CKD.\n",
        "\n"
      ],
      "metadata": {
        "id": "p_Vv8Pq08taR"
      }
    },
    {
      "cell_type": "markdown",
      "source": [
        "#**White Blood Cell Count as Predictor**"
      ],
      "metadata": {
        "id": "iHXECGn66ExI"
      }
    },
    {
      "cell_type": "code",
      "source": [
        "# Model 9: WBCC> HEMO> CLASS\n",
        "model_9= Process(data= df2, model= 4, x= \"wbcc\", y= \"class\", m= [\"hemo\"], y_model= \"logistic\")\n",
        "model_9_result = model_9.summary()"
      ],
      "metadata": {
        "colab": {
          "base_uri": "https://localhost:8080/"
        },
        "id": "2mQn4Le4Fb2n",
        "outputId": "6a3fbe84-e02c-4c66-bc1d-b90e2e4b6445"
      },
      "execution_count": null,
      "outputs": [
        {
          "output_type": "stream",
          "name": "stdout",
          "text": [
            "Process successfully initialized.\n",
            "Based on the Process Macro by Andrew F. Hayes, Ph.D. (www.afhayes.com)\n",
            "\n",
            "\n",
            "****************************** SPECIFICATION ****************************\n",
            "\n",
            "Model = 4\n",
            "\n",
            "Variables:\n",
            "    Cons = Cons\n",
            "    x = wbcc\n",
            "    y = class\n",
            "    m1 = hemo\n",
            "\n",
            "Sample size:\n",
            "199\n",
            "\n",
            "Bootstrapping information for indirect effects:\n",
            "Final number of bootstrap samples: 5000\n",
            "Number of samples discarded due to convergence issues: 0\n",
            "\n",
            "***************************** OUTCOME MODELS ****************************\n",
            "\n",
            "Outcome = class \n",
            "OLS Regression Summary\n",
            "\n",
            "     R²  Adj. R²    MSE        F  df1  df2  p-value\n",
            " 0.5380   0.5308 0.0520 114.1008    2  196   0.0000\n",
            "\n",
            "Coefficients\n",
            "\n",
            "       coeff     se        t      p    LLCI    ULCI\n",
            "Cons  1.9293 0.5896   3.2720 0.0013  0.7736  3.0849\n",
            "wbcc  0.1422 0.0580   2.4509 0.0151  0.0285  0.2559\n",
            "hemo -1.0833 0.0759 -14.2661 0.0000 -1.2321 -0.9345\n",
            "\n",
            "-------------------------------------------------------------------------\n",
            "\n",
            "Outcome = hemo \n",
            "OLS Regression Summary\n",
            "\n",
            "     R²  Adj. R²    MSE      F  df1  df2  p-value\n",
            " 0.0293   0.0194 0.0458 5.9545    1  197   0.0156\n",
            "\n",
            "Coefficients\n",
            "\n",
            "       coeff     se       t      p    LLCI    ULCI\n",
            "Cons  3.7409 0.4848  7.7165 0.0000  2.7907  4.6911\n",
            "wbcc -0.1309 0.0536 -2.4402 0.0156 -0.2360 -0.0258\n",
            "\n",
            "-------------------------------------------------------------------------\n",
            "\n",
            "\n",
            "********************** DIRECT AND INDIRECT EFFECTS **********************\n",
            "\n",
            "Direct effect of wbcc on class:\n",
            "\n",
            "  Effect     SE      t      p   LLCI   ULCI\n",
            "  0.1422 0.0580 2.4509 0.0151 0.0285 0.2559\n",
            "\n",
            "Indirect effect of wbcc on class:\n",
            "\n",
            "        Effect  Boot SE  BootLLCI  BootULCI\n",
            "  hemo  0.1418   0.0662    0.0184    0.2791\n",
            "\n",
            "\n"
          ]
        }
      ]
    },
    {
      "cell_type": "markdown",
      "source": [
        "**Interpretation:**\n",
        "\n",
        "1. A big portion of the variance (53.80%) in the class is explained by the both white blood cell count (wbcc) and hemoglobin (hemo), indicating a moderately strong model.\n",
        "\n",
        "2. There is a weak and significant direct positive relationship (0.1422) between white blood cell count and class, suggesting as white blood cell count increase, it increase the chance of CKD.\n",
        "\n",
        "3. There is a moderately strong and significant indirect positive relationship (0.1418) between white blood cell count and class via hemoglobin, suggesting higher white blood cell count, lead to lower hemoglobin, increasing the chance of CKD.\n",
        "\n"
      ],
      "metadata": {
        "id": "UTSHlOvoUKMK"
      }
    },
    {
      "cell_type": "code",
      "source": [
        "# Model 10: WBCC> GRF> CLASS\n",
        "model_10= Process(data= df2, model= 4, x= \"wbcc\", y= \"class\", m= [\"grf\"], y_model= \"logistic\")\n",
        "model_10_result = model_10.summary()"
      ],
      "metadata": {
        "colab": {
          "base_uri": "https://localhost:8080/"
        },
        "id": "oI3DGxDmTQ4E",
        "outputId": "7f4ec6a2-58e3-4a8b-c28b-6150d19bcbfe"
      },
      "execution_count": null,
      "outputs": [
        {
          "output_type": "stream",
          "name": "stdout",
          "text": [
            "Process successfully initialized.\n",
            "Based on the Process Macro by Andrew F. Hayes, Ph.D. (www.afhayes.com)\n",
            "\n",
            "\n",
            "****************************** SPECIFICATION ****************************\n",
            "\n",
            "Model = 4\n",
            "\n",
            "Variables:\n",
            "    Cons = Cons\n",
            "    x = wbcc\n",
            "    y = class\n",
            "    m1 = grf\n",
            "\n",
            "Sample size:\n",
            "199\n",
            "\n",
            "Bootstrapping information for indirect effects:\n",
            "Final number of bootstrap samples: 5000\n",
            "Number of samples discarded due to convergence issues: 0\n",
            "\n",
            "***************************** OUTCOME MODELS ****************************\n",
            "\n",
            "Outcome = class \n",
            "OLS Regression Summary\n",
            "\n",
            "     R²  Adj. R²    MSE       F  df1  df2  p-value\n",
            " 0.5023   0.4946 0.0561 98.8873    2  196   0.0000\n",
            "\n",
            "Coefficients\n",
            "\n",
            "       coeff     se        t      p    LLCI    ULCI\n",
            "Cons  0.4331 0.5701   0.7598 0.4483 -0.6842  1.5504\n",
            "wbcc  0.1484 0.0602   2.4645 0.0146  0.0304  0.2664\n",
            "grf  -0.3310 0.0250 -13.2237 0.0000 -0.3801 -0.2820\n",
            "\n",
            "-------------------------------------------------------------------------\n",
            "\n",
            "Outcome = grf \n",
            "OLS Regression Summary\n",
            "\n",
            "     R²  Adj. R²    MSE      F  df1  df2  p-value\n",
            " 0.0290   0.0191 0.4542 5.8841    1  197   0.0162\n",
            "\n",
            "Coefficients\n",
            "\n",
            "       coeff     se       t      p    LLCI    ULCI\n",
            "Cons  7.7228 1.5264  5.0595 0.0000  4.7311 10.7144\n",
            "wbcc -0.4096 0.1689 -2.4257 0.0162 -0.7406 -0.0787\n",
            "\n",
            "-------------------------------------------------------------------------\n",
            "\n",
            "\n",
            "********************** DIRECT AND INDIRECT EFFECTS **********************\n",
            "\n",
            "Direct effect of wbcc on class:\n",
            "\n",
            "  Effect     SE      t      p   LLCI   ULCI\n",
            "  0.1484 0.0602 2.4645 0.0146 0.0304 0.2664\n",
            "\n",
            "Indirect effect of wbcc on class:\n",
            "\n",
            "       Effect  Boot SE  BootLLCI  BootULCI\n",
            "  grf  0.1356   0.0577    0.0228    0.2522\n",
            "\n",
            "\n"
          ]
        }
      ]
    },
    {
      "cell_type": "markdown",
      "source": [
        "**Interpretation:**\n",
        "\n",
        "1. A big portion of the variance (50.23%) in the class is explained by the both white blood cell count (wbcc) and glomerular filteration rate (grf), indicating a moderately strong model.\n",
        "\n",
        "2. There is a weak and significant direct positive relationship (0.1484) between white blood cell count and class, suggesting as white blood cell count increase, it increase the chance of CKD.\n",
        "\n",
        "3. There is a moderately strong and significant indirect positive relationship (0.1356) between white blood cell count and class via glomerular filteration rate (grf), suggesting higher white blood cell count, lead to lower glomerular filteration rate, increasing the chance of CKD.\n",
        "\n"
      ],
      "metadata": {
        "id": "kzyIWjD_ohZ_"
      }
    },
    {
      "cell_type": "code",
      "source": [
        "# Model 11: WBCC> AL> CLASS\n",
        "model_11= Process(data= df2, model= 4, x= \"wbcc\", y= \"class\", m= [\"al\"], y_model= \"logistic\")\n",
        "model_11_result = model_11.summary()"
      ],
      "metadata": {
        "colab": {
          "base_uri": "https://localhost:8080/"
        },
        "id": "Pa7TMLYLTR1q",
        "outputId": "fd527fd1-12dd-45fd-af6b-515ed9e91ee8"
      },
      "execution_count": null,
      "outputs": [
        {
          "output_type": "stream",
          "name": "stdout",
          "text": [
            "Process successfully initialized.\n",
            "Based on the Process Macro by Andrew F. Hayes, Ph.D. (www.afhayes.com)\n",
            "\n",
            "\n",
            "****************************** SPECIFICATION ****************************\n",
            "\n",
            "Model = 4\n",
            "\n",
            "Variables:\n",
            "    Cons = Cons\n",
            "    x = wbcc\n",
            "    y = class\n",
            "    m1 = al\n",
            "\n",
            "Sample size:\n",
            "199\n",
            "\n",
            "Bootstrapping information for indirect effects:\n",
            "Final number of bootstrap samples: 5000\n",
            "Number of samples discarded due to convergence issues: 0\n",
            "\n",
            "***************************** OUTCOME MODELS ****************************\n",
            "\n",
            "Outcome = class \n",
            "OLS Regression Summary\n",
            "\n",
            "     R²  Adj. R²    MSE       F  df1  df2  p-value\n",
            " 0.3710   0.3613 0.0709 57.7935    2  196   0.0000\n",
            "\n",
            "Coefficients\n",
            "\n",
            "       coeff     se       t      p    LLCI   ULCI\n",
            "Cons -0.4788 0.6255 -0.7655 0.4449 -1.7046 0.7471\n",
            "wbcc  0.0847 0.0697  1.2151 0.2258 -0.0519 0.2213\n",
            "al    0.3205 0.0325  9.8721 0.0000  0.2569 0.3842\n",
            "\n",
            "-------------------------------------------------------------------------\n",
            "\n",
            "Outcome = al \n",
            "OLS Regression Summary\n",
            "\n",
            "     R²  Adj. R²    MSE       F  df1  df2  p-value\n",
            " 0.0839   0.0746 0.3412 18.0483    1  197   0.0000\n",
            "\n",
            "Coefficients\n",
            "\n",
            "       coeff     se       t      p    LLCI    ULCI\n",
            "Cons -5.1303 1.3229 -3.8781 0.0001 -7.7231 -2.5375\n",
            "wbcc  0.6218 0.1464  4.2483 0.0000  0.3349  0.9086\n",
            "\n",
            "-------------------------------------------------------------------------\n",
            "\n",
            "\n",
            "********************** DIRECT AND INDIRECT EFFECTS **********************\n",
            "\n",
            "Direct effect of wbcc on class:\n",
            "\n",
            "  Effect     SE      t      p    LLCI   ULCI\n",
            "  0.0847 0.0697 1.2151 0.2258 -0.0519 0.2213\n",
            "\n",
            "Indirect effect of wbcc on class:\n",
            "\n",
            "      Effect  Boot SE  BootLLCI  BootULCI\n",
            "  al  0.1993   0.0491    0.0999    0.2957\n",
            "\n",
            "\n"
          ]
        }
      ]
    },
    {
      "cell_type": "markdown",
      "source": [
        "**Interpretation:**\n",
        "1. A moderate portion of the variance (37.10%) in the class is explained by the both white blood cell count (wbcc) and albumin (al), indicating a moderately strong model.\n",
        "\n",
        "2. There is a weak and insignificant direct positive relationship (0.0847) between white blood cell count and class, suggesting suggesting white blood cell count does not have a strong direct effect on the likelihood of class outcome.\n",
        "\n",
        "3. There is a moderately strong and significant indirect positive relationship (0.1993) between white blood cell count and class via albumin (al), suggesting higher white blood cell count, lead to higher albumin, increasing the chance of CKD.\n",
        "\n"
      ],
      "metadata": {
        "id": "OIS6D8aqpc8q"
      }
    },
    {
      "cell_type": "code",
      "source": [
        "# Model 12: WBCC> PCV> CLASS\n",
        "model_12= Process(data= df2, model= 4, x= \"wbcc\", y= \"class\", m= [\"pcv\"], y_model= \"logistic\")\n",
        "model_12_result = model_12.summary()"
      ],
      "metadata": {
        "colab": {
          "base_uri": "https://localhost:8080/"
        },
        "id": "sz5YfMw2TR5_",
        "outputId": "80c8ae31-189a-4531-81fa-f4642f5a08ed"
      },
      "execution_count": null,
      "outputs": [
        {
          "output_type": "stream",
          "name": "stdout",
          "text": [
            "Process successfully initialized.\n",
            "Based on the Process Macro by Andrew F. Hayes, Ph.D. (www.afhayes.com)\n",
            "\n",
            "\n",
            "****************************** SPECIFICATION ****************************\n",
            "\n",
            "Model = 4\n",
            "\n",
            "Variables:\n",
            "    Cons = Cons\n",
            "    x = wbcc\n",
            "    y = class\n",
            "    m1 = pcv\n",
            "\n",
            "Sample size:\n",
            "199\n",
            "\n",
            "Bootstrapping information for indirect effects:\n",
            "Final number of bootstrap samples: 5000\n",
            "Number of samples discarded due to convergence issues: 0\n",
            "\n",
            "***************************** OUTCOME MODELS ****************************\n",
            "\n",
            "Outcome = class \n",
            "OLS Regression Summary\n",
            "\n",
            "     R²  Adj. R²    MSE       F  df1  df2  p-value\n",
            " 0.4343   0.4256 0.0637 75.2479    2  196   0.0000\n",
            "\n",
            "Coefficients\n",
            "\n",
            "       coeff     se        t      p    LLCI    ULCI\n",
            "Cons  2.4874 0.7000   3.5537 0.0005  1.1155  3.8593\n",
            "wbcc  0.1528 0.0643   2.3762 0.0185  0.0268  0.2788\n",
            "pcv  -0.9424 0.0825 -11.4165 0.0000 -1.1042 -0.7806\n",
            "\n",
            "-------------------------------------------------------------------------\n",
            "\n",
            "Outcome = pcv \n",
            "OLS Regression Summary\n",
            "\n",
            "     R²  Adj. R²    MSE      F  df1  df2  p-value\n",
            " 0.0320   0.0221 0.0475 6.5065    1  197   0.0115\n",
            "\n",
            "Coefficients\n",
            "\n",
            "       coeff     se       t      p    LLCI    ULCI\n",
            "Cons  4.8924 0.4934  9.9151 0.0000  3.9253  5.8595\n",
            "wbcc -0.1393 0.0546 -2.5508 0.0115 -0.2462 -0.0323\n",
            "\n",
            "-------------------------------------------------------------------------\n",
            "\n",
            "\n",
            "********************** DIRECT AND INDIRECT EFFECTS **********************\n",
            "\n",
            "Direct effect of wbcc on class:\n",
            "\n",
            "  Effect     SE      t      p   LLCI   ULCI\n",
            "  0.1528 0.0643 2.3762 0.0185 0.0268 0.2788\n",
            "\n",
            "Indirect effect of wbcc on class:\n",
            "\n",
            "       Effect  Boot SE  BootLLCI  BootULCI\n",
            "  pcv  0.1312   0.0616    0.0112    0.2531\n",
            "\n",
            "\n"
          ]
        }
      ]
    },
    {
      "cell_type": "markdown",
      "source": [
        "**Interpretation:**\n",
        "\n",
        "1. A moderate portion of the variance (43.43%) in the class is explained by the both white blood cell count (wbcc) and packed cell volume (pcv), indicating a moderately strong model.\n",
        "\n",
        "2. There is a weak and significant direct positive relationship (0.1528) between white blood cell count and class, suggesting that as white blood cell count increase, it increase the chance of CKD.\n",
        "\n",
        "3. There is a moderately strong and significant indirect positive relationship (0.1312) between white blood cell count and class via albumin (al), suggesting higher white blood cell count, lead to lower packed cell volume, increasing the chance of CKD.\n",
        "\n"
      ],
      "metadata": {
        "id": "1kvpN6M9qgJQ"
      }
    },
    {
      "cell_type": "code",
      "source": [
        "# Model 13: WBCC> BU> CLASS\n",
        "model_13= Process(data= df2, model= 4, x= \"wbcc\", y= \"class\", m= [\"bu\"], y_model= \"logistic\")\n",
        "model_13_result = model_13.summary()"
      ],
      "metadata": {
        "colab": {
          "base_uri": "https://localhost:8080/"
        },
        "id": "8EvdXYkoTUXQ",
        "outputId": "c66079ec-d9d4-404b-dda1-1b9b79db5f41"
      },
      "execution_count": null,
      "outputs": [
        {
          "output_type": "stream",
          "name": "stdout",
          "text": [
            "Process successfully initialized.\n",
            "Based on the Process Macro by Andrew F. Hayes, Ph.D. (www.afhayes.com)\n",
            "\n",
            "\n",
            "****************************** SPECIFICATION ****************************\n",
            "\n",
            "Model = 4\n",
            "\n",
            "Variables:\n",
            "    Cons = Cons\n",
            "    x = wbcc\n",
            "    y = class\n",
            "    m1 = bu\n",
            "\n",
            "Sample size:\n",
            "199\n",
            "\n",
            "Bootstrapping information for indirect effects:\n",
            "Final number of bootstrap samples: 5000\n",
            "Number of samples discarded due to convergence issues: 0\n",
            "\n",
            "***************************** OUTCOME MODELS ****************************\n",
            "\n",
            "Outcome = class \n",
            "OLS Regression Summary\n",
            "\n",
            "     R²  Adj. R²    MSE       F  df1  df2  p-value\n",
            " 0.2286   0.2167 0.0869 29.0382    2  196   0.0000\n",
            "\n",
            "Coefficients\n",
            "\n",
            "       coeff     se       t      p    LLCI    ULCI\n",
            "Cons -2.8495 0.6767 -4.2110 0.0000 -4.1758 -1.5232\n",
            "wbcc  0.2138 0.0746  2.8654 0.0046  0.0676  0.3601\n",
            "bu    0.3249 0.0494  6.5798 0.0000  0.2281  0.4216\n",
            "\n",
            "-------------------------------------------------------------------------\n",
            "\n",
            "Outcome = bu \n",
            "OLS Regression Summary\n",
            "\n",
            "     R²  Adj. R²    MSE      F  df1  df2  p-value\n",
            " 0.0204   0.0104 0.1809 4.1036    1  197   0.0441\n",
            "\n",
            "Coefficients\n",
            "\n",
            "      coeff     se      t      p   LLCI   ULCI\n",
            "Cons 2.2357 0.9634 2.3206 0.0213 0.3475 4.1240\n",
            "wbcc 0.2159 0.1066 2.0257 0.0441 0.0070 0.4248\n",
            "\n",
            "-------------------------------------------------------------------------\n",
            "\n",
            "\n",
            "********************** DIRECT AND INDIRECT EFFECTS **********************\n",
            "\n",
            "Direct effect of wbcc on class:\n",
            "\n",
            "  Effect     SE      t      p   LLCI   ULCI\n",
            "  0.2138 0.0746 2.8654 0.0046 0.0676 0.3601\n",
            "\n",
            "Indirect effect of wbcc on class:\n",
            "\n",
            "      Effect  Boot SE  BootLLCI  BootULCI\n",
            "  bu  0.0701   0.0404   -0.0089    0.1499\n",
            "\n",
            "\n"
          ]
        }
      ]
    },
    {
      "cell_type": "markdown",
      "source": [
        "**Interpretation:**\n",
        "\n",
        "1. A small portion of the variance (22.86%) in the class is explained by the both white blood cell count (wbcc) and blood urea (bu), indicating a weak model.\n",
        "\n",
        "2. There is a weak and significant direct positive relationship (0.2138) between white blood cell count and class, suggesting that as white blood cell count increase, it increase the chance of CKD.\n",
        "\n",
        "3. There is a very weak and insignificant indirect positive relationship (0.0701) between white blood cell count and class via blood urea, suggesting that changes in white blood cell count does not directly alter the risk of CKD via blood urea."
      ],
      "metadata": {
        "id": "NQXxxxL4d_Wg"
      }
    },
    {
      "cell_type": "markdown",
      "source": [
        "#**Other Factor as Predictor**"
      ],
      "metadata": {
        "id": "9MppeVIdd_Zq"
      }
    },
    {
      "cell_type": "code",
      "source": [
        "# Model 14: AL> BU> CLASS\n",
        "model_14= Process(data= df2, model= 4, x= \"al\", y= \"class\", m= [\"bu\"], y_model= \"logistic\")\n",
        "model_14_result = model_14.summary()"
      ],
      "metadata": {
        "colab": {
          "base_uri": "https://localhost:8080/"
        },
        "id": "I6PQIeh_o_kx",
        "outputId": "403de866-490b-4c09-f0fa-32aa545cdba3"
      },
      "execution_count": null,
      "outputs": [
        {
          "output_type": "stream",
          "name": "stdout",
          "text": [
            "Process successfully initialized.\n",
            "Based on the Process Macro by Andrew F. Hayes, Ph.D. (www.afhayes.com)\n",
            "\n",
            "\n",
            "****************************** SPECIFICATION ****************************\n",
            "\n",
            "Model = 4\n",
            "\n",
            "Variables:\n",
            "    Cons = Cons\n",
            "    x = al\n",
            "    y = class\n",
            "    m1 = bu\n",
            "\n",
            "Sample size:\n",
            "199\n",
            "\n",
            "Bootstrapping information for indirect effects:\n",
            "Final number of bootstrap samples: 5000\n",
            "Number of samples discarded due to convergence issues: 0\n",
            "\n",
            "***************************** OUTCOME MODELS ****************************\n",
            "\n",
            "Outcome = class \n",
            "OLS Regression Summary\n",
            "\n",
            "     R²  Adj. R²    MSE       F  df1  df2  p-value\n",
            " 0.4014   0.3922 0.0674 65.7187    2  196   0.0000\n",
            "\n",
            "Coefficients\n",
            "\n",
            "       coeff     se       t      p    LLCI   ULCI\n",
            "Cons -0.3810 0.1964 -1.9404 0.0538 -0.7659 0.0038\n",
            "al    0.2792 0.0341  8.1959 0.0000  0.2124 0.3460\n",
            "bu    0.1642 0.0484  3.3944 0.0008  0.0694 0.2590\n",
            "\n",
            "-------------------------------------------------------------------------\n",
            "\n",
            "Outcome = bu \n",
            "OLS Regression Summary\n",
            "\n",
            "     R²  Adj. R²    MSE       F  df1  df2  p-value\n",
            " 0.2081   0.2001 0.1463 51.7808    1  197   0.0000\n",
            "\n",
            "Coefficients\n",
            "\n",
            "      coeff     se        t      p   LLCI   ULCI\n",
            "Cons 4.0299 0.0348 115.9556 0.0000 3.9618 4.0981\n",
            "al   0.3213 0.0447   7.1959 0.0000 0.2338 0.4088\n",
            "\n",
            "-------------------------------------------------------------------------\n",
            "\n",
            "\n",
            "********************** DIRECT AND INDIRECT EFFECTS **********************\n",
            "\n",
            "Direct effect of al on class:\n",
            "\n",
            "  Effect     SE      t      p   LLCI   ULCI\n",
            "  0.2792 0.0341 8.1959 0.0000 0.2124 0.3460\n",
            "\n",
            "Indirect effect of al on class:\n",
            "\n",
            "      Effect  Boot SE  BootLLCI  BootULCI\n",
            "  bu  0.0528   0.0108    0.0343    0.0774\n",
            "\n",
            "\n"
          ]
        }
      ]
    },
    {
      "cell_type": "markdown",
      "source": [
        "**Interpretation:**\n",
        "\n",
        "1. A moderate portion of the variance (40.14%) in the class is explained by the both white albumin (al) and blood urea (bu), indicating a moderate model.\n",
        "\n",
        "2. There is a moderate and significant direct positive relationship (0.2792) between albumin and class, suggesting that as albumin increase, it increase the chance of CKD.\n",
        "\n",
        "3. There is a very weak and significant indirect positive relationship (0.0528) between albumin and class via blood urea, suggesting that as albumin increase, it increase blood urea, indirectly contribute to the increase chance of CKD.\n",
        "\n",
        "\n"
      ],
      "metadata": {
        "id": "7k0uFT2in6Qd"
      }
    },
    {
      "cell_type": "code",
      "source": [
        "# Model 15: GRF> AL> CLASS\n",
        "model_15= Process(data= df2, model= 4, x= \"grf\", y= \"class\", m= [\"al\"], y_model= \"logistic\")\n",
        "model_15_result = model_15.summary()"
      ],
      "metadata": {
        "colab": {
          "base_uri": "https://localhost:8080/"
        },
        "id": "uts6kuPqEuPf",
        "outputId": "aa82d2d5-e636-468f-bba3-e89638857a00"
      },
      "execution_count": null,
      "outputs": [
        {
          "output_type": "stream",
          "name": "stdout",
          "text": [
            "Process successfully initialized.\n",
            "Based on the Process Macro by Andrew F. Hayes, Ph.D. (www.afhayes.com)\n",
            "\n",
            "\n",
            "****************************** SPECIFICATION ****************************\n",
            "\n",
            "Model = 4\n",
            "\n",
            "Variables:\n",
            "    Cons = Cons\n",
            "    x = grf\n",
            "    y = class\n",
            "    m1 = al\n",
            "\n",
            "Sample size:\n",
            "199\n",
            "\n",
            "Bootstrapping information for indirect effects:\n",
            "Final number of bootstrap samples: 5000\n",
            "Number of samples discarded due to convergence issues: 0\n",
            "\n",
            "***************************** OUTCOME MODELS ****************************\n",
            "\n",
            "Outcome = class \n",
            "OLS Regression Summary\n",
            "\n",
            "     R²  Adj. R²    MSE        F  df1  df2  p-value\n",
            " 0.5720   0.5654 0.0482 130.9723    2  196   0.0000\n",
            "\n",
            "Coefficients\n",
            "\n",
            "       coeff     se       t      p    LLCI    ULCI\n",
            "Cons  1.3878 0.1158 11.9865 0.0000  1.1609  1.6147\n",
            "grf  -0.2576 0.0265 -9.7074 0.0000 -0.3096 -0.2056\n",
            "al    0.1857 0.0297  6.2453 0.0000  0.1274  0.2440\n",
            "\n",
            "-------------------------------------------------------------------------\n",
            "\n",
            "Outcome = al \n",
            "OLS Regression Summary\n",
            "\n",
            "     R²  Adj. R²    MSE       F  df1  df2  p-value\n",
            " 0.2568   0.2492 0.2768 68.0643    1  197   0.0000\n",
            "\n",
            "Coefficients\n",
            "\n",
            "       coeff     se       t      p    LLCI    ULCI\n",
            "Cons  2.3056 0.2236 10.3129 0.0000  1.8674  2.7437\n",
            "grf  -0.4522 0.0548 -8.2501 0.0000 -0.5596 -0.3447\n",
            "\n",
            "-------------------------------------------------------------------------\n",
            "\n",
            "\n",
            "********************** DIRECT AND INDIRECT EFFECTS **********************\n",
            "\n",
            "Direct effect of grf on class:\n",
            "\n",
            "  Effect     SE       t      p    LLCI    ULCI\n",
            " -0.2576 0.0265 -9.7074 0.0000 -0.3096 -0.2056\n",
            "\n",
            "Indirect effect of grf on class:\n",
            "\n",
            "      Effect  Boot SE  BootLLCI  BootULCI\n",
            "  al -0.0840   0.0146   -0.1197   -0.0594\n",
            "\n",
            "\n"
          ]
        }
      ]
    },
    {
      "cell_type": "markdown",
      "source": [
        "**Interpretation:**\n",
        "\n",
        "1. A big portion of the variance (57.20%) in the class is explained by the both glomerular filteration rate (grf) and albumin (al) indicating a strong model.\n",
        "\n",
        "2. There is a moderate and significant direct negative relationship (-0.2576) between glomerualr filteration rate and class, suggesting that as glomerular filteratrion rate decrease, it increase the chance of CKD.\n",
        "\n",
        "3. There is a very weak and significant indirect positive relationship (-0.084) between glomerular filteration rate and class via albumin, suggesting that as glomerualr filteration rate decrease, it increase albumin, increase the chance of CKD.\n",
        "\n",
        "\n"
      ],
      "metadata": {
        "id": "YPihfT9dpLDd"
      }
    },
    {
      "cell_type": "code",
      "source": [
        "# Model 16: PCV> GRF> CLASS\n",
        "model_16= Process(data= df2, model= 4, x= \"pcv\", y= \"class\", m= [\"grf\"], y_model= \"logistic\")\n",
        "model_16_result = model_16.summary()"
      ],
      "metadata": {
        "colab": {
          "base_uri": "https://localhost:8080/"
        },
        "id": "PvjLuyIZ-dHM",
        "outputId": "e130424a-0a2c-4d87-97a4-daf809378099"
      },
      "execution_count": null,
      "outputs": [
        {
          "output_type": "stream",
          "name": "stdout",
          "text": [
            "Process successfully initialized.\n",
            "Based on the Process Macro by Andrew F. Hayes, Ph.D. (www.afhayes.com)\n",
            "\n",
            "\n",
            "****************************** SPECIFICATION ****************************\n",
            "\n",
            "Model = 4\n",
            "\n",
            "Variables:\n",
            "    Cons = Cons\n",
            "    x = pcv\n",
            "    y = class\n",
            "    m1 = grf\n",
            "\n",
            "Sample size:\n",
            "199\n",
            "\n",
            "Bootstrapping information for indirect effects:\n",
            "Final number of bootstrap samples: 5000\n",
            "Number of samples discarded due to convergence issues: 0\n",
            "\n",
            "***************************** OUTCOME MODELS ****************************\n",
            "\n",
            "Outcome = class \n",
            "OLS Regression Summary\n",
            "\n",
            "     R²  Adj. R²    MSE        F  df1  df2  p-value\n",
            " 0.5761   0.5696 0.0477 133.1883    2  196   0.0000\n",
            "\n",
            "Coefficients\n",
            "\n",
            "       coeff     se       t      p    LLCI    ULCI\n",
            "Cons  3.4104 0.2650 12.8709 0.0000  2.8910  3.9297\n",
            "pcv  -0.5530 0.0861 -6.4248 0.0000 -0.7217 -0.3843\n",
            "grf  -0.2382 0.0279 -8.5489 0.0000 -0.2929 -0.1836\n",
            "\n",
            "-------------------------------------------------------------------------\n",
            "\n",
            "Outcome = grf \n",
            "OLS Regression Summary\n",
            "\n",
            "     R²  Adj. R²    MSE       F  df1  df2  p-value\n",
            " 0.3328   0.3260 0.3121 98.2551    1  197   0.0000\n",
            "\n",
            "Coefficients\n",
            "\n",
            "       coeff     se       t      p    LLCI    ULCI\n",
            "Cons -2.4536 0.6545 -3.7489 0.0002 -3.7364 -1.1708\n",
            "pcv   1.7818 0.1798  9.9124 0.0000  1.4295  2.1341\n",
            "\n",
            "-------------------------------------------------------------------------\n",
            "\n",
            "\n",
            "********************** DIRECT AND INDIRECT EFFECTS **********************\n",
            "\n",
            "Direct effect of pcv on class:\n",
            "\n",
            "  Effect     SE       t      p    LLCI    ULCI\n",
            " -0.5530 0.0861 -6.4248 0.0000 -0.7217 -0.3843\n",
            "\n",
            "Indirect effect of pcv on class:\n",
            "\n",
            "       Effect  Boot SE  BootLLCI  BootULCI\n",
            "  grf -0.4245   0.0750   -0.5797   -0.2863\n",
            "\n",
            "\n"
          ]
        }
      ]
    },
    {
      "cell_type": "markdown",
      "source": [
        "**Interpretation:**\n",
        "\n",
        "1. A big portion of the variance (57.60%) in the class is explained by the both glomerular filteration rate (grf) and packed cell volume (pcv), indicating a moderately strong model.\n",
        "\n",
        "2. There is a strong and significant direct negative relationship (-0.5530) between packed cell volume and class, suggesting that as packed cell volume decreases, it increase the likelihood of having CKD.\n",
        "\n",
        "3. There is a strong and significant indirect negative relationship (-0.4245) between packed cell volume and class via glomerular filteration rate, suggesting that lower packed cell volume lead to lower glomerular filteration rate, and thus increase the likelihood of CKD."
      ],
      "metadata": {
        "id": "Kg15U1OB-oSW"
      }
    },
    {
      "cell_type": "code",
      "source": [
        "# Model 17: BU> AL> CLASS\n",
        "model_17= Process(data= df2, model= 4, x= \"bu\", y= \"class\", m= [\"al\"], y_model= \"logistic\")\n",
        "model_17_result = model_17.summary()"
      ],
      "metadata": {
        "colab": {
          "base_uri": "https://localhost:8080/"
        },
        "id": "yzU8xxbBrla5",
        "outputId": "b4e72b68-77cd-460f-f4f6-44c552649bf8"
      },
      "execution_count": null,
      "outputs": [
        {
          "output_type": "stream",
          "name": "stdout",
          "text": [
            "Process successfully initialized.\n",
            "Based on the Process Macro by Andrew F. Hayes, Ph.D. (www.afhayes.com)\n",
            "\n",
            "\n",
            "****************************** SPECIFICATION ****************************\n",
            "\n",
            "Model = 4\n",
            "\n",
            "Variables:\n",
            "    Cons = Cons\n",
            "    x = bu\n",
            "    y = class\n",
            "    m1 = al\n",
            "\n",
            "Sample size:\n",
            "199\n",
            "\n",
            "Bootstrapping information for indirect effects:\n",
            "Final number of bootstrap samples: 5000\n",
            "Number of samples discarded due to convergence issues: 0\n",
            "\n",
            "***************************** OUTCOME MODELS ****************************\n",
            "\n",
            "Outcome = class \n",
            "OLS Regression Summary\n",
            "\n",
            "     R²  Adj. R²    MSE       F  df1  df2  p-value\n",
            " 0.4014   0.3922 0.0674 65.7187    2  196   0.0000\n",
            "\n",
            "Coefficients\n",
            "\n",
            "       coeff     se       t      p    LLCI   ULCI\n",
            "Cons -0.3810 0.1964 -1.9404 0.0538 -0.7659 0.0038\n",
            "bu    0.1642 0.0484  3.3944 0.0008  0.0694 0.2590\n",
            "al    0.2792 0.0341  8.1959 0.0000  0.2124 0.3460\n",
            "\n",
            "-------------------------------------------------------------------------\n",
            "\n",
            "Outcome = al \n",
            "OLS Regression Summary\n",
            "\n",
            "     R²  Adj. R²    MSE       F  df1  df2  p-value\n",
            " 0.2081   0.2001 0.2949 51.7808    1  197   0.0000\n",
            "\n",
            "Coefficients\n",
            "\n",
            "       coeff     se       t      p    LLCI    ULCI\n",
            "Cons -2.2249 0.3788 -5.8731 0.0000 -2.9674 -1.4824\n",
            "bu    0.6478 0.0900  7.1959 0.0000  0.4714  0.8242\n",
            "\n",
            "-------------------------------------------------------------------------\n",
            "\n",
            "\n",
            "********************** DIRECT AND INDIRECT EFFECTS **********************\n",
            "\n",
            "Direct effect of bu on class:\n",
            "\n",
            "  Effect     SE      t      p   LLCI   ULCI\n",
            "  0.1642 0.0484 3.3944 0.0008 0.0694 0.2590\n",
            "\n",
            "Indirect effect of bu on class:\n",
            "\n",
            "      Effect  Boot SE  BootLLCI  BootULCI\n",
            "  al  0.1809   0.0347    0.1208    0.2568\n",
            "\n",
            "\n"
          ]
        }
      ]
    },
    {
      "cell_type": "markdown",
      "source": [
        "**Interpretation:**\n",
        "\n",
        "1. A big portion of the variance (40.14%) in the class is explained by the both blood urea (bu) and albumin (al), indicating a moderately strong model.\n",
        "\n",
        "2. There is a weak and significant direct positive relationship (0.1642) between blood urea and class, suggesting that as blood urea increase, it increase the likelihood of having CKD.\n",
        "\n",
        "3. There is a weak and significant indirect negative relationship (0.1809) between blood urea and class via albumin, suggesting that higher blood urea lead to higher albumin, and thus increase the likelihood of CKD.\n",
        "\n"
      ],
      "metadata": {
        "id": "7OzRzvcgEWNW"
      }
    },
    {
      "cell_type": "markdown",
      "source": [
        "#**Exploring Advanced Mediation Analysis**"
      ],
      "metadata": {
        "id": "8GwDmcud0Jox"
      }
    },
    {
      "cell_type": "code",
      "source": [
        "# Mediation analysis with mediators\n",
        "advanced_model= Process(data= df2,\n",
        "                         model= 4,\n",
        "                         x= \"hemo\",\n",
        "                         y= \"class\",\n",
        "                         m= [\"pcv\", \"grf\", \"bu\", \"al\", \"cad\", \"ane\"],\n",
        "                         boot= 1000,\n",
        "                         y_model= \"logistic\")\n",
        "advanced_model.summary()"
      ],
      "metadata": {
        "id": "Em5P54kK9Vfn",
        "colab": {
          "base_uri": "https://localhost:8080/"
        },
        "outputId": "a08d2b18-6352-4a26-b830-5909a4fbe29e"
      },
      "execution_count": null,
      "outputs": [
        {
          "output_type": "stream",
          "name": "stdout",
          "text": [
            "Process successfully initialized.\n",
            "Based on the Process Macro by Andrew F. Hayes, Ph.D. (www.afhayes.com)\n",
            "\n",
            "\n",
            "****************************** SPECIFICATION ****************************\n",
            "\n",
            "Model = 4\n",
            "\n",
            "Variables:\n",
            "    Cons = Cons\n",
            "    x = hemo\n",
            "    y = class\n",
            "    m1 = pcv\n",
            "    m2 = grf\n",
            "    m3 = bu\n",
            "    m4 = al\n",
            "    m5 = cad\n",
            "    m6 = ane\n",
            "\n",
            "Sample size:\n",
            "199\n",
            "\n",
            "Bootstrapping information for indirect effects:\n",
            "Final number of bootstrap samples: 1000\n",
            "Number of samples discarded due to convergence issues: 0\n",
            "\n",
            "***************************** OUTCOME MODELS ****************************\n",
            "\n",
            "Outcome = class \n",
            "OLS Regression Summary\n",
            "\n",
            "     R²  Adj. R²    MSE       F  df1  df2  p-value\n",
            " 0.6854   0.6722 0.0364 59.4525    7  191   0.0000\n",
            "\n",
            "Coefficients\n",
            "\n",
            "       coeff     se       t      p    LLCI    ULCI\n",
            "Cons  3.8785 0.4105  9.4477 0.0000  3.0739  4.6831\n",
            "hemo -0.6889 0.1355 -5.0856 0.0000 -0.9545 -0.4234\n",
            "pcv  -0.1679 0.1224 -1.3715 0.1718 -0.4079  0.0720\n",
            "grf  -0.1757 0.0287 -6.1171 0.0000 -0.2320 -0.1194\n",
            "bu   -0.0950 0.0440 -2.1619 0.0319 -0.1812 -0.0089\n",
            "al    0.1429 0.0272  5.2527 0.0000  0.0896  0.1962\n",
            "cad  -0.0924 0.0682 -1.3553 0.1769 -0.2260  0.0412\n",
            "ane  -0.1906 0.0714 -2.6677 0.0083 -0.3306 -0.0506\n",
            "\n",
            "-------------------------------------------------------------------------\n",
            "\n",
            "Outcome = pcv \n",
            "OLS Regression Summary\n",
            "\n",
            "     R²  Adj. R²    MSE        F  df1  df2  p-value\n",
            " 0.7336   0.7309 0.0131 542.5326    1  197   0.0000\n",
            "\n",
            "Coefficients\n",
            "\n",
            "      coeff     se       t      p   LLCI   ULCI\n",
            "Cons 1.4009 0.0962 14.5583 0.0000 1.2123 1.5895\n",
            "hemo 0.8730 0.0375 23.2923 0.0000 0.7995 0.9464\n",
            "\n",
            "-------------------------------------------------------------------------\n",
            "\n",
            "Outcome = grf \n",
            "OLS Regression Summary\n",
            "\n",
            "     R²  Adj. R²    MSE        F  df1  df2  p-value\n",
            " 0.4165   0.4106 0.2729 140.6243    1  197   0.0000\n",
            "\n",
            "Coefficients\n",
            "\n",
            "       coeff     se       t      p    LLCI    ULCI\n",
            "Cons -1.1759 0.4399 -2.6731 0.0081 -2.0381 -0.3137\n",
            "hemo  2.0316 0.1713 11.8585 0.0000  1.6958  2.3674\n",
            "\n",
            "-------------------------------------------------------------------------\n",
            "\n",
            "Outcome = bu \n",
            "OLS Regression Summary\n",
            "\n",
            "     R²  Adj. R²    MSE        F  df1  df2  p-value\n",
            " 0.3381   0.3313 0.1223 100.6212    1  197   0.0000\n",
            "\n",
            "Coefficients\n",
            "\n",
            "       coeff     se        t      p    LLCI    ULCI\n",
            "Cons  7.1293 0.2944  24.2146 0.0000  6.5522  7.7063\n",
            "hemo -1.1502 0.1147 -10.0310 0.0000 -1.3750 -0.9255\n",
            "\n",
            "-------------------------------------------------------------------------\n",
            "\n",
            "Outcome = al \n",
            "OLS Regression Summary\n",
            "\n",
            "     R²  Adj. R²    MSE       F  df1  df2  p-value\n",
            " 0.2491   0.2414 0.2796 65.3482    1  197   0.0000\n",
            "\n",
            "Coefficients\n",
            "\n",
            "       coeff     se       t      p    LLCI    ULCI\n",
            "Cons  4.0737 0.4453  9.1489 0.0000  3.2010  4.9464\n",
            "hemo -1.4019 0.1734 -8.0838 0.0000 -1.7418 -1.0620\n",
            "\n",
            "-------------------------------------------------------------------------\n",
            "\n",
            "Outcome = cad \n",
            "OLS Regression Summary\n",
            "\n",
            "     R²  Adj. R²    MSE       F  df1  df2  p-value\n",
            " 0.1250   0.1161 0.0418 28.1479    1  197   0.0000\n",
            "\n",
            "Coefficients\n",
            "\n",
            "       coeff     se       t      p    LLCI    ULCI\n",
            "Cons  0.9863 0.1721  5.7320 0.0000  0.6490  1.3235\n",
            "hemo -0.3555 0.0670 -5.3055 0.0000 -0.4869 -0.2242\n",
            "\n",
            "-------------------------------------------------------------------------\n",
            "\n",
            "Outcome = ane \n",
            "OLS Regression Summary\n",
            "\n",
            "     R²  Adj. R²    MSE        F  df1  df2  p-value\n",
            " 0.3642   0.3577 0.0416 112.8447    1  197   0.0000\n",
            "\n",
            "Coefficients\n",
            "\n",
            "       coeff     se        t      p    LLCI    ULCI\n",
            "Cons  1.9302 0.1718  11.2338 0.0000  1.5935  2.2670\n",
            "hemo -0.7109 0.0669 -10.6228 0.0000 -0.8420 -0.5797\n",
            "\n",
            "-------------------------------------------------------------------------\n",
            "\n",
            "\n",
            "********************** DIRECT AND INDIRECT EFFECTS **********************\n",
            "\n",
            "Direct effect of hemo on class:\n",
            "\n",
            "  Effect     SE       t      p    LLCI    ULCI\n",
            " -0.6889 0.1355 -5.0856 0.0000 -0.9545 -0.4234\n",
            "\n",
            "Indirect effect of hemo on class:\n",
            "\n",
            "       Effect  Boot SE  BootLLCI  BootULCI\n",
            "  pcv -0.1466   0.1083   -0.3469    0.0848\n",
            "  grf -0.3569   0.0767   -0.5199   -0.2161\n",
            "   bu  0.1093   0.0503    0.0187    0.2171\n",
            "   al -0.2003   0.0427   -0.3082   -0.1311\n",
            "  cad  0.0328   0.0225   -0.0012    0.0805\n",
            "  ane  0.1355   0.0580    0.0440    0.2703\n",
            "\n",
            "\n"
          ]
        }
      ]
    },
    {
      "cell_type": "markdown",
      "source": [
        "**Interpretation:**\n",
        "\n",
        "1. A substantial portion of the variance (68.64%) in the class is explained by 8 keys variables selected, indicating a strong model.\n",
        "\n",
        "2. From the model above, we found that hemoglobin (hemo), albumin (al), glomerular filteration rate (grf), anemia (ane) and blood urea (bu) are significant features accoridng to the model.\n",
        "\n",
        "3. The study prove that 3 out 6 selected features has a negative relationship to the class- presence of CKD.\n",
        "\n",
        "4. The indirect effect analysis indicates that lower GFR contributes to CKD presence through its impact on albumin levels. Lower GFR leads to lower serum albumin, which is linked to a higher likelihood of CKD.\n"
      ],
      "metadata": {
        "id": "Nq9Ewygce5N9"
      }
    },
    {
      "cell_type": "code",
      "source": [
        "# Moderation analysis with a single mediator\n",
        "mediators= [\"pcv\", \"grf\", \"bu\", \"al\", \"cad\", \"ane\"]\n",
        "\n",
        "for mediator in mediators:\n",
        "    print(f\"Running analysis for mediator: {mediator}\")\n",
        "    moderated_model = Process(data= df2,\n",
        "                              model= 8,\n",
        "                              x= \"hemo\",\n",
        "                              y= \"class\",\n",
        "                              m= [mediator],\n",
        "                              w= \"wbcc\",\n",
        "                              boot= 1000)\n",
        "\n",
        "    # Print the summary for each mediator\n",
        "    summary = moderated_model.summary()\n",
        "    print(summary)"
      ],
      "metadata": {
        "id": "DzNAP5yIIsRl",
        "colab": {
          "base_uri": "https://localhost:8080/"
        },
        "outputId": "d472a28c-305b-4fb4-d2b2-29cf79f4fa6b"
      },
      "execution_count": null,
      "outputs": [
        {
          "output_type": "stream",
          "name": "stdout",
          "text": [
            "Running analysis for mediator: pcv\n",
            "Process successfully initialized.\n",
            "Based on the Process Macro by Andrew F. Hayes, Ph.D. (www.afhayes.com)\n",
            "\n",
            "\n",
            "****************************** SPECIFICATION ****************************\n",
            "\n",
            "Model = 8\n",
            "\n",
            "Variables:\n",
            "    Cons = Cons\n",
            "    x = hemo\n",
            "    y = class\n",
            "    m1 = pcv\n",
            "    w = wbcc\n",
            "\n",
            "Sample size:\n",
            "199\n",
            "\n",
            "Bootstrapping information for indirect effects:\n",
            "Final number of bootstrap samples: 1000\n",
            "Number of samples discarded due to convergence issues: 0\n",
            "\n",
            "***************************** OUTCOME MODELS ****************************\n",
            "\n",
            "Outcome = class \n",
            "OLS Regression Summary\n",
            "\n",
            "     R²  Adj. R²    MSE       F  df1  df2  p-value\n",
            " 0.5401   0.5282 0.0523 56.9649    4  194   0.0000\n",
            "\n",
            "Coefficients\n",
            "\n",
            "            coeff     se       t      p    LLCI    ULCI\n",
            "Cons       3.9330 5.9395  0.6622 0.5086 -7.7082 15.5742\n",
            "hemo      -1.6885 2.3730 -0.7115 0.4776 -6.3395  2.9626\n",
            "wbcc      -0.0613 0.6630 -0.0925 0.9264 -1.3609  1.2382\n",
            "hemo*wbcc  0.0804 0.2652  0.3031 0.7622 -0.4393  0.6000\n",
            "pcv       -0.1302 0.1429 -0.9114 0.3632 -0.4103  0.1498\n",
            "\n",
            "-------------------------------------------------------------------------\n",
            "\n",
            "Outcome = pcv \n",
            "OLS Regression Summary\n",
            "\n",
            "     R²  Adj. R²    MSE        F  df1  df2  p-value\n",
            " 0.7347   0.7292 0.0131 180.0017    3  195   0.0000\n",
            "\n",
            "Coefficients\n",
            "\n",
            "            coeff     se       t      p    LLCI   ULCI\n",
            "Cons       1.9959 2.9729  0.6713 0.5028 -3.8310 7.8227\n",
            "hemo       0.7277 1.1880  0.6125 0.5409 -1.6008 3.0562\n",
            "wbcc      -0.0646 0.3322 -0.1945 0.8460 -0.7158 0.5865\n",
            "hemo*wbcc  0.0156 0.1329  0.1175 0.9066 -0.2448 0.2760\n",
            "\n",
            "-------------------------------------------------------------------------\n",
            "\n",
            "\n",
            "********************** DIRECT AND INDIRECT EFFECTS **********************\n",
            "\n",
            "Conditional direct effect(s) of hemo on class at values of the moderator(s):\n",
            "\n",
            "   wbcc  Effect     SE       t      p    LLCI    ULCI\n",
            " 8.7505 -0.9853 0.1533 -6.4287 0.0000 -1.2857 -0.6849\n",
            " 9.0341 -0.9625 0.1479 -6.5078 0.0000 -1.2524 -0.6726\n",
            " 9.3177 -0.9397 0.1777 -5.2889 0.0000 -1.2880 -0.5915\n",
            "\n",
            "Conditional indirect effect(s) of hemo on class at values of the moderator(s):\n",
            "\n",
            " Mediator   wbcc  Effect  Boot SE  BootLLCI  BootULCI\n",
            "      pcv 8.7505 -0.1126   0.1309   -0.3467    0.1614\n",
            "      pcv 9.0341 -0.1131   0.1323   -0.3525    0.1701\n",
            "      pcv 9.3177 -0.1137   0.1343   -0.3478    0.1773\n",
            "\n",
            "**************** INDEX OF MODERATED MEDIATION ******************\n",
            "\n",
            " Moderator Mediator   Index  Boot SE    LLCI   ULCI\n",
            "      wbcc      pcv -0.0020   0.0312 -0.0853 0.0452\n",
            "\n",
            "\n",
            "None\n",
            "Running analysis for mediator: grf\n",
            "Process successfully initialized.\n",
            "Based on the Process Macro by Andrew F. Hayes, Ph.D. (www.afhayes.com)\n",
            "\n",
            "\n",
            "****************************** SPECIFICATION ****************************\n",
            "\n",
            "Model = 8\n",
            "\n",
            "Variables:\n",
            "    Cons = Cons\n",
            "    x = hemo\n",
            "    y = class\n",
            "    m1 = grf\n",
            "    w = wbcc\n",
            "\n",
            "Sample size:\n",
            "199\n",
            "\n",
            "Bootstrapping information for indirect effects:\n",
            "Final number of bootstrap samples: 1000\n",
            "Number of samples discarded due to convergence issues: 0\n",
            "\n",
            "***************************** OUTCOME MODELS ****************************\n",
            "\n",
            "Outcome = class \n",
            "OLS Regression Summary\n",
            "\n",
            "     R²  Adj. R²    MSE       F  df1  df2  p-value\n",
            " 0.6241   0.6143 0.0428 80.5094    4  194   0.0000\n",
            "\n",
            "Coefficients\n",
            "\n",
            "            coeff     se       t      p    LLCI    ULCI\n",
            "Cons       2.1973 5.3686  0.4093 0.6828 -8.3250 12.7196\n",
            "hemo      -0.7954 2.1487 -0.3702 0.7117 -5.0067  3.4159\n",
            "wbcc       0.0895 0.5998  0.1492 0.8815 -1.0861  1.2651\n",
            "hemo*wbcc  0.0100 0.2400  0.0415 0.9670 -0.4603  0.4802\n",
            "grf       -0.1886 0.0283 -6.6577 0.0000 -0.2441 -0.1331\n",
            "\n",
            "-------------------------------------------------------------------------\n",
            "\n",
            "Outcome = grf \n",
            "OLS Regression Summary\n",
            "\n",
            "     R²  Adj. R²    MSE       F  df1  df2  p-value\n",
            " 0.4213   0.4093 0.2735 47.3114    3  195   0.0000\n",
            "\n",
            "Coefficients\n",
            "\n",
            "            coeff      se       t      p     LLCI    ULCI\n",
            "Cons      -7.8261 13.5622 -0.5770 0.5646 -34.4076 18.7554\n",
            "hemo       5.2389  5.4196  0.9667 0.3349  -5.3833 15.8612\n",
            "wbcc       0.7551  1.5156  0.4982 0.6189  -2.2154  3.7256\n",
            "hemo*wbcc -0.3626  0.6061 -0.5982 0.5504  -1.5506  0.8254\n",
            "\n",
            "-------------------------------------------------------------------------\n",
            "\n",
            "\n",
            "********************** DIRECT AND INDIRECT EFFECTS **********************\n",
            "\n",
            "Conditional direct effect(s) of hemo on class at values of the moderator(s):\n",
            "\n",
            "   wbcc  Effect     SE       t      p    LLCI    ULCI\n",
            " 8.7505 -0.7083 0.1008 -7.0279 0.0000 -0.9058 -0.5108\n",
            " 9.0341 -0.7055 0.0915 -7.7083 0.0000 -0.8849 -0.5261\n",
            " 9.3177 -0.7027 0.1259 -5.5799 0.0000 -0.9495 -0.4558\n",
            "\n",
            "Conditional indirect effect(s) of hemo on class at values of the moderator(s):\n",
            "\n",
            " Mediator   wbcc  Effect  Boot SE  BootLLCI  BootULCI\n",
            "      grf 8.7505 -0.3896   0.0859   -0.5660   -0.2376\n",
            "      grf 9.0341 -0.3702   0.0823   -0.5383   -0.2231\n",
            "      grf 9.3177 -0.3508   0.0940   -0.5483   -0.1908\n",
            "\n",
            "**************** INDEX OF MODERATED MEDIATION ******************\n",
            "\n",
            " Moderator Mediator  Index  Boot SE    LLCI   ULCI\n",
            "      wbcc      grf 0.0684   0.1287 -0.1678 0.3500\n",
            "\n",
            "\n",
            "None\n",
            "Running analysis for mediator: bu\n",
            "Process successfully initialized.\n",
            "Based on the Process Macro by Andrew F. Hayes, Ph.D. (www.afhayes.com)\n",
            "\n",
            "\n",
            "****************************** SPECIFICATION ****************************\n",
            "\n",
            "Model = 8\n",
            "\n",
            "Variables:\n",
            "    Cons = Cons\n",
            "    x = hemo\n",
            "    y = class\n",
            "    m1 = bu\n",
            "    w = wbcc\n",
            "\n",
            "Sample size:\n",
            "199\n",
            "\n",
            "Bootstrapping information for indirect effects:\n",
            "Final number of bootstrap samples: 1000\n",
            "Number of samples discarded due to convergence issues: 0\n",
            "\n",
            "***************************** OUTCOME MODELS ****************************\n",
            "\n",
            "Outcome = class \n",
            "OLS Regression Summary\n",
            "\n",
            "     R²  Adj. R²    MSE       F  df1  df2  p-value\n",
            " 0.5386   0.5267 0.0525 56.6177    4  194   0.0000\n",
            "\n",
            "Coefficients\n",
            "\n",
            "            coeff     se       t      p    LLCI    ULCI\n",
            "Cons       3.5970 5.9450  0.6051 0.5459 -8.0550 15.2490\n",
            "hemo      -1.7826 2.3747 -0.7507 0.4538 -6.4368  2.8717\n",
            "wbcc      -0.0605 0.6643 -0.0911 0.9275 -1.3625  1.2415\n",
            "hemo*wbcc  0.0808 0.2656  0.3043 0.7612 -0.4398  0.6015\n",
            "bu         0.0203 0.0468  0.4350 0.6641 -0.0713  0.1120\n",
            "\n",
            "-------------------------------------------------------------------------\n",
            "\n",
            "Outcome = bu \n",
            "OLS Regression Summary\n",
            "\n",
            "     R²  Adj. R²    MSE       F  df1  df2  p-value\n",
            " 0.3403   0.3267 0.1231 33.5330    3  195   0.0000\n",
            "\n",
            "Coefficients\n",
            "\n",
            "            coeff     se       t      p     LLCI    ULCI\n",
            "Cons       3.7385 9.0990  0.4109 0.6816 -14.0952 21.5722\n",
            "hemo      -0.0338 3.6360 -0.0093 0.9926  -7.1603  7.0927\n",
            "wbcc       0.3743 1.0168  0.3681 0.7132  -1.6186  2.3673\n",
            "hemo*wbcc -0.1232 0.4067 -0.3030 0.7622  -0.9203  0.6738\n",
            "\n",
            "-------------------------------------------------------------------------\n",
            "\n",
            "\n",
            "********************** DIRECT AND INDIRECT EFFECTS **********************\n",
            "\n",
            "Conditional direct effect(s) of hemo on class at values of the moderator(s):\n",
            "\n",
            "   wbcc  Effect     SE        t      p    LLCI    ULCI\n",
            " 8.7505 -1.0753 0.1047 -10.2664 0.0000 -1.2805 -0.8700\n",
            " 9.0341 -1.0523 0.0968 -10.8747 0.0000 -1.2420 -0.8627\n",
            " 9.3177 -1.0294 0.1382  -7.4465 0.0000 -1.3003 -0.7585\n",
            "\n",
            "Conditional indirect effect(s) of hemo on class at values of the moderator(s):\n",
            "\n",
            " Mediator   wbcc  Effect  Boot SE  BootLLCI  BootULCI\n",
            "       bu 8.7505 -0.0226   0.0466   -0.1102    0.0731\n",
            "       bu 9.0341 -0.0233   0.0476   -0.1019    0.0818\n",
            "       bu 9.3177 -0.0240   0.0494   -0.1034    0.0882\n",
            "\n",
            "**************** INDEX OF MODERATED MEDIATION ******************\n",
            "\n",
            " Moderator Mediator   Index  Boot SE    LLCI   ULCI\n",
            "      wbcc       bu -0.0025   0.0231 -0.0906 0.0262\n",
            "\n",
            "\n",
            "None\n",
            "Running analysis for mediator: al\n",
            "Process successfully initialized.\n",
            "Based on the Process Macro by Andrew F. Hayes, Ph.D. (www.afhayes.com)\n",
            "\n",
            "\n",
            "****************************** SPECIFICATION ****************************\n",
            "\n",
            "Model = 8\n",
            "\n",
            "Variables:\n",
            "    Cons = Cons\n",
            "    x = hemo\n",
            "    y = class\n",
            "    m1 = al\n",
            "    w = wbcc\n",
            "\n",
            "Sample size:\n",
            "199\n",
            "\n",
            "Bootstrapping information for indirect effects:\n",
            "Final number of bootstrap samples: 1000\n",
            "Number of samples discarded due to convergence issues: 0\n",
            "\n",
            "***************************** OUTCOME MODELS ****************************\n",
            "\n",
            "Outcome = class \n",
            "OLS Regression Summary\n",
            "\n",
            "     R²  Adj. R²    MSE       F  df1  df2  p-value\n",
            " 0.6067   0.5965 0.0448 74.8010    4  194   0.0000\n",
            "\n",
            "Coefficients\n",
            "\n",
            "            coeff     se       t      p    LLCI    ULCI\n",
            "Cons       5.3479 5.4944  0.9733 0.3316 -5.4209 16.1166\n",
            "hemo      -2.2152 2.1938 -1.0097 0.3139 -6.5150  2.0847\n",
            "wbcc      -0.3124 0.6148 -0.5081 0.6120 -1.5173  0.8926\n",
            "hemo*wbcc  0.1515 0.2455  0.6171 0.5379 -0.3297  0.6328\n",
            "al         0.1709 0.0294  5.8121 0.0000  0.1132  0.2285\n",
            "\n",
            "-------------------------------------------------------------------------\n",
            "\n",
            "Outcome = al \n",
            "OLS Regression Summary\n",
            "\n",
            "     R²  Adj. R²    MSE       F  df1  df2  p-value\n",
            " 0.2939   0.2794 0.2656 27.0570    3  195   0.0000\n",
            "\n",
            "Coefficients\n",
            "\n",
            "            coeff      se       t      p     LLCI    ULCI\n",
            "Cons      -9.8027 13.3665 -0.7334 0.4642 -36.0005 16.3951\n",
            "hemo       2.5279  5.3414  0.4733 0.6365  -7.9410 12.9969\n",
            "wbcc       1.5186  1.4937  1.0167 0.3106  -1.4090  4.4463\n",
            "hemo*wbcc -0.4284  0.5974 -0.7171 0.4741  -1.5992  0.7424\n",
            "\n",
            "-------------------------------------------------------------------------\n",
            "\n",
            "\n",
            "********************** DIRECT AND INDIRECT EFFECTS **********************\n",
            "\n",
            "Conditional direct effect(s) of hemo on class at values of the moderator(s):\n",
            "\n",
            "   wbcc  Effect     SE        t      p    LLCI    ULCI\n",
            " 8.7505 -0.8893 0.0913  -9.7418 0.0000 -1.0682 -0.7104\n",
            " 9.0341 -0.8463 0.0842 -10.0536 0.0000 -1.0113 -0.6813\n",
            " 9.3177 -0.8033 0.1247  -6.4447 0.0000 -1.0477 -0.5590\n",
            "\n",
            "Conditional indirect effect(s) of hemo on class at values of the moderator(s):\n",
            "\n",
            " Mediator   wbcc  Effect  Boot SE  BootLLCI  BootULCI\n",
            "       al 8.7505 -0.2086   0.0441   -0.3167   -0.1351\n",
            "       al 9.0341 -0.2293   0.0437   -0.3404   -0.1605\n",
            "       al 9.3177 -0.2501   0.0542   -0.3861   -0.1573\n",
            "\n",
            "**************** INDEX OF MODERATED MEDIATION ******************\n",
            "\n",
            " Moderator Mediator   Index  Boot SE    LLCI   ULCI\n",
            "      wbcc       al -0.0732   0.0814 -0.2325 0.0897\n",
            "\n",
            "\n",
            "None\n",
            "Running analysis for mediator: cad\n",
            "Process successfully initialized.\n",
            "Based on the Process Macro by Andrew F. Hayes, Ph.D. (www.afhayes.com)\n",
            "\n",
            "\n",
            "****************************** SPECIFICATION ****************************\n",
            "\n",
            "Model = 8\n",
            "\n",
            "Variables:\n",
            "    Cons = Cons\n",
            "    x = hemo\n",
            "    y = class\n",
            "    m1 = cad\n",
            "    w = wbcc\n",
            "\n",
            "Sample size:\n",
            "199\n",
            "\n",
            "Bootstrapping information for indirect effects:\n",
            "Final number of bootstrap samples: 1000\n",
            "Number of samples discarded due to convergence issues: 0\n",
            "\n",
            "***************************** OUTCOME MODELS ****************************\n",
            "\n",
            "Outcome = class \n",
            "OLS Regression Summary\n",
            "\n",
            "     R²  Adj. R²    MSE       F  df1  df2  p-value\n",
            " 0.5384   0.5265 0.0525 56.5716    4  194   0.0000\n",
            "\n",
            "Coefficients\n",
            "\n",
            "            coeff     se       t      p    LLCI    ULCI\n",
            "Cons       3.7120 5.9450  0.6244 0.5331 -7.9399 15.3639\n",
            "hemo      -1.8028 2.3759 -0.7588 0.4489 -6.4596  2.8540\n",
            "wbcc      -0.0602 0.6646 -0.0905 0.9280 -1.3628  1.2424\n",
            "hemo*wbcc  0.0816 0.2658  0.3068 0.7593 -0.4395  0.6026\n",
            "cad        0.0258 0.0800  0.3226 0.7473 -0.1310  0.1827\n",
            "\n",
            "-------------------------------------------------------------------------\n",
            "\n",
            "Outcome = cad \n",
            "OLS Regression Summary\n",
            "\n",
            "     R²  Adj. R²    MSE      F  df1  df2  p-value\n",
            " 0.1278   0.1098 0.0421 9.5223    3  195   0.0000\n",
            "\n",
            "Coefficients\n",
            "\n",
            "            coeff     se       t      p     LLCI   ULCI\n",
            "Cons      -1.5081 5.3181 -0.2836 0.7770 -11.9314 8.9152\n",
            "hemo       0.7561 2.1252  0.3558 0.7224  -3.4092 4.9213\n",
            "wbcc       0.2813 0.5943  0.4734 0.6365  -0.8835 1.4462\n",
            "hemo*wbcc -0.1251 0.2377 -0.5265 0.5991  -0.5910 0.3407\n",
            "\n",
            "-------------------------------------------------------------------------\n",
            "\n",
            "\n",
            "********************** DIRECT AND INDIRECT EFFECTS **********************\n",
            "\n",
            "Conditional direct effect(s) of hemo on class at values of the moderator(s):\n",
            "\n",
            "   wbcc  Effect     SE        t      p    LLCI    ULCI\n",
            " 8.7505 -1.0891 0.0949 -11.4779 0.0000 -1.2751 -0.9031\n",
            " 9.0341 -1.0660 0.0859 -12.4027 0.0000 -1.2344 -0.8975\n",
            " 9.3177 -1.0429 0.1309  -7.9661 0.0000 -1.2994 -0.7863\n",
            "\n",
            "Conditional indirect effect(s) of hemo on class at values of the moderator(s):\n",
            "\n",
            " Mediator   wbcc  Effect  Boot SE  BootLLCI  BootULCI\n",
            "      cad 8.7505 -0.0088   0.0235   -0.0475    0.0377\n",
            "      cad 9.0341 -0.0097   0.0251   -0.0483    0.0416\n",
            "      cad 9.3177 -0.0106   0.0275   -0.0575    0.0456\n",
            "\n",
            "**************** INDEX OF MODERATED MEDIATION ******************\n",
            "\n",
            " Moderator Mediator   Index  Boot SE    LLCI   ULCI\n",
            "      wbcc      cad -0.0032   0.0180 -0.0825 0.0146\n",
            "\n",
            "\n",
            "None\n",
            "Running analysis for mediator: ane\n",
            "Process successfully initialized.\n",
            "Based on the Process Macro by Andrew F. Hayes, Ph.D. (www.afhayes.com)\n",
            "\n",
            "\n",
            "****************************** SPECIFICATION ****************************\n",
            "\n",
            "Model = 8\n",
            "\n",
            "Variables:\n",
            "    Cons = Cons\n",
            "    x = hemo\n",
            "    y = class\n",
            "    m1 = ane\n",
            "    w = wbcc\n",
            "\n",
            "Sample size:\n",
            "199\n",
            "\n",
            "Bootstrapping information for indirect effects:\n",
            "Final number of bootstrap samples: 1000\n",
            "Number of samples discarded due to convergence issues: 0\n",
            "\n",
            "***************************** OUTCOME MODELS ****************************\n",
            "\n",
            "Outcome = class \n",
            "OLS Regression Summary\n",
            "\n",
            "     R²  Adj. R²    MSE       F  df1  df2  p-value\n",
            " 0.5538   0.5423 0.0508 60.1989    4  194   0.0000\n",
            "\n",
            "Coefficients\n",
            "\n",
            "            coeff     se       t      p    LLCI    ULCI\n",
            "Cons       2.9119 5.8510  0.4977 0.6193 -8.5558 14.3797\n",
            "hemo      -1.4237 2.3393 -0.6086 0.5435 -6.0086  3.1612\n",
            "wbcc       0.0777 0.6550  0.1186 0.9057 -1.2060  1.3614\n",
            "hemo*wbcc  0.0214 0.2621  0.0816 0.9351 -0.4923  0.5350\n",
            "ane       -0.2065 0.0792 -2.6086 0.0098 -0.3617 -0.0514\n",
            "\n",
            "-------------------------------------------------------------------------\n",
            "\n",
            "Outcome = ane \n",
            "OLS Regression Summary\n",
            "\n",
            "     R²  Adj. R²    MSE       F  df1  df2  p-value\n",
            " 0.3721   0.3592 0.0415 38.5251    3  195   0.0000\n",
            "\n",
            "Coefficients\n",
            "\n",
            "            coeff     se       t      p     LLCI   ULCI\n",
            "Cons      -3.6856 5.2858 -0.6973 0.4865 -14.0456 6.6745\n",
            "hemo       1.7410 2.1123  0.8242 0.4108  -2.3990 5.8810\n",
            "wbcc       0.6324 0.5907  1.0705 0.2857  -0.5254 1.7901\n",
            "hemo*wbcc -0.2757 0.2362 -1.1672 0.2446  -0.7387 0.1873\n",
            "\n",
            "-------------------------------------------------------------------------\n",
            "\n",
            "\n",
            "********************** DIRECT AND INDIRECT EFFECTS **********************\n",
            "\n",
            "Conditional direct effect(s) of hemo on class at values of the moderator(s):\n",
            "\n",
            "   wbcc  Effect     SE        t      p    LLCI    ULCI\n",
            " 8.7505 -1.2366 0.1040 -11.8884 0.0000 -1.4405 -1.0327\n",
            " 9.0341 -1.2305 0.0990 -12.4322 0.0000 -1.4245 -1.0365\n",
            " 9.3177 -1.2245 0.1408  -8.6968 0.0000 -1.5004 -0.9485\n",
            "\n",
            "Conditional indirect effect(s) of hemo on class at values of the moderator(s):\n",
            "\n",
            " Mediator   wbcc  Effect  Boot SE  BootLLCI  BootULCI\n",
            "      ane 8.7505  0.1387   0.0636    0.0375    0.2817\n",
            "      ane 9.0341  0.1549   0.0709    0.0421    0.3138\n",
            "      ane 9.3177  0.1710   0.0815    0.0420    0.3564\n",
            "\n",
            "**************** INDEX OF MODERATED MEDIATION ******************\n",
            "\n",
            " Moderator Mediator  Index  Boot SE    LLCI   ULCI\n",
            "      wbcc      ane 0.0569   0.0625 -0.0390 0.2152\n",
            "\n",
            "\n",
            "None\n"
          ]
        }
      ]
    },
    {
      "cell_type": "markdown",
      "source": [
        "**Interpretation: WBCC> HEMO> PCV> CLASS**\n",
        "\n",
        "- With the index of moderated mediation at -0.0020, and a confidence interval between -0.0853 and 0.0452, we can conclude that the moderation mediation is statiscally insignificant.\n"
      ],
      "metadata": {
        "id": "JV746db3GoFv"
      }
    },
    {
      "cell_type": "markdown",
      "source": [
        "**Interpretation: WBCC > HEMO > GRF > CLASS**\n",
        "\n",
        "- With the index of moderated mediation is 0.0684, and a confidence interval between -0.1678 and 0.3500, we can conclude that the moderated mediated effect is statiscally insignificant."
      ],
      "metadata": {
        "id": "tU4UEJG9S6PW"
      }
    },
    {
      "cell_type": "markdown",
      "source": [
        "**Interpretation: WBCC > HEMO > BU > CLASS**\n",
        "\n",
        "- With the index of moderated mediation is -0.0025, and a confidence interval between -0.0906 and 0.0262, we can conclude that the moderated mediation effect is statiscally insignificant.\n",
        "\n"
      ],
      "metadata": {
        "id": "dJLoOFTDS6WP"
      }
    },
    {
      "cell_type": "markdown",
      "source": [
        "**Interpretation: WBCC > HEMO > AL > CLASS**\n",
        "\n",
        "- With the index of moderated mediation is -0.0732, and a confidence interval between -0.2325 and -0.0897, we can conclude that the moderated mediation effect is statistically insignificant."
      ],
      "metadata": {
        "id": "hOyxsGWQS6al"
      }
    },
    {
      "cell_type": "markdown",
      "source": [
        "**Interpretation: WBCC > HEMO > CAD > CLASS**\n",
        "\n",
        "- With the index of -0.0032, and a confidence interval between -0.0825 and 0.0146, we can conclude that the moderated mediation effect is statistically insignificant."
      ],
      "metadata": {
        "id": "9mMa0E03S6fC"
      }
    },
    {
      "cell_type": "markdown",
      "source": [
        "**Interpretation: WBCC > HEMO > ANE > CLASS**\n",
        "\n",
        "- With the index of 0.0569, and a confidence interval between -0.039 and 0.2152, we can conclude that the moderated mediation effect is statistically insignificant."
      ],
      "metadata": {
        "id": "P8ZufE-0S6jy"
      }
    },
    {
      "cell_type": "markdown",
      "source": [
        "# **Key Findings From Both The Mediator & Moderator**\n",
        "\n",
        "We found that hemoglobin (hemo) has significant influence to the presence of CKD (both direct and indirect). Meanwhile, we noticed that while white blood cell count (wbcc) has certain direct influence to the presence of CKD, however, white blood cell count appear insignificant whe come into indirect effect and moderator.\n"
      ],
      "metadata": {
        "id": "C9S0D3SootQj"
      }
    },
    {
      "cell_type": "markdown",
      "source": [
        "#**Creating Causal Directed Acyclic Graph (DAG)**"
      ],
      "metadata": {
        "id": "87FOecu3MDj8"
      }
    },
    {
      "cell_type": "code",
      "source": [
        "# Creating DAGs\n",
        "!pip install graphviz -q\n",
        "from graphviz import Digraph\n",
        "\n",
        "# Ignore the warnings\n",
        "warnings.filterwarnings(\"ignore\", category= ImportWarning)\n",
        "warnings.filterwarnings(\"ignore\", category= ResourceWarning)\n",
        "\n",
        "# Initialise the diagraph\n",
        "dot= Digraph(\"Direct Effects\")\n",
        "\n",
        "# Set graph attributes for size and aspect ratio & better resolution\n",
        "dot.attr(size= \"20, 20\", ratio= \"expand\", dpi= \"300\")\n",
        "\n",
        "# Define the nodes\n",
        "dot.node(\"hemo\", \"Hemoglobin\")\n",
        "dot.node(\"pcv\", \"Packed Cell Volume\")\n",
        "dot.node(\"class\", \"Class\")\n",
        "dot.node(\"grf\", \"Glomerular Filteration Rate\")\n",
        "dot.node(\"al\", \"Albumin\")\n",
        "dot.node(\"sc\", \"Serum Creatinine\")\n",
        "dot.node(\"bu\", \"Blood Urea\")\n",
        "dot.node(\"wbcc\", \"White Blood Cell Count\")\n",
        "\n",
        "# Add edges for significant direct and indirect effects from analysis\n",
        "# Direct effect\n",
        "# Solid line for significant effect and dashed line for insignificant effect\n",
        "dot.edge(\"hemo\", \"class\", label= \"Direct: -0.7221\", style= \"solid\", color= \"black\") # model 1 (significant both)\n",
        "dot.edge(\"hemo\", \"class\", label= \"Direct: -0.8653\", style= \"solid\", color= \"red\") # model 2 (significant both)\n",
        "dot.edge(\"sc\", \"class\", label= \"Direct: -0.2090\", style= \"dashed\", color= \"purple\") # model 4 (insignificant direct, significant indirect)\n",
        "dot.edge(\"sc\", \"class\", label= \"Direct: 0.0169\", style= \"dashed\", color= \"gold\") # model 5 (insignificant direct, significant indirect)\n",
        "dot.edge(\"sc\", \"class\", label= \"Direct: -0.0104\", style= \"dahsed\", coloe= \"navy\") # model 6 (insignificant direct, significant indirect) **\n",
        "dot.edge(\"sc\", \"class\", label= \"Direct: 0.1425\", style= \"solid\", color= \"orange\") # model 7 (significant both)\n",
        "dot.edge(\"sc\", \"class\", label= \"Direct: -0.0713\", style= \"dashed\", color= \"indigo\") # model 8 (insignificant direct, significant indirect)\n",
        "dot.edge(\"wbcc\", \"class\", label= \"Direct: 0.1422\", style= \"solid\", color= \"magenta\") # model 9 (significant both)\n",
        "dot.edge(\"wbcc\", \"class\", label= \"Direct: 0.1484\", style= \"solid\", color= \"brown\") # model 10(significant both)\n",
        "dot.edge(\"wbcc\", \"class\", label= \"Direct: 0.1528\", style= \"solid\", color= \"blue\") # model 12 (significant both)\n",
        "dot.edge(\"al\", \"class\", label= \"Direct: 0.2792\", style= \"solid\", color= \"teal\") # model 14 (significant both)\n",
        "dot.edge(\"grf\", \"class\", label= \"Direct: -0.2576\", style= \"solid\", color= \"olive\") # model 15 (significant both)\n",
        "dot.edge(\"pcv\", \"class\", label= \"Direct: -0.5530\", style= \"solid\", color= \"green\") # model 16 (significant both)\n",
        "dot.edge(\"bu\", \"class\", label= \"Direct: 0.1642\", style= \"solid\", color= \"pink\") # model 17 (significant both)\n",
        "\n",
        "# Add a simple legend\n",
        "dot.node(\"Legend:\\nSolid line - Significant Effect\\nDashed line - Insignificant Effect\", shape= \"plaintext\")\n",
        "\n",
        "# Add a title\n",
        "dot.attr(labelloc= \"t\", label= \"Direct Causal Graph for CKD\")\n",
        "\n",
        "# Save and render the combined graph\n",
        "dot.render(\"Direct Causal_Graph for CKD\", format= \"png\", view= True)"
      ],
      "metadata": {
        "colab": {
          "base_uri": "https://localhost:8080/",
          "height": 72
        },
        "id": "SP3k8eO6M3sQ",
        "outputId": "5702d75c-d2a6-45df-fb97-af8cc1ae81a2"
      },
      "execution_count": 42,
      "outputs": [
        {
          "output_type": "stream",
          "name": "stderr",
          "text": [
            "Warning: gvrender_set_style: unsupported style dahsed - ignoring\n"
          ]
        },
        {
          "output_type": "execute_result",
          "data": {
            "text/plain": [
              "'Direct Causal_Graph for CKD.png'"
            ],
            "application/vnd.google.colaboratory.intrinsic+json": {
              "type": "string"
            }
          },
          "metadata": {},
          "execution_count": 42
        }
      ]
    },
    {
      "cell_type": "markdown",
      "source": [
        "![image.png](data:image/png;base64,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)"
      ],
      "metadata": {
        "id": "jc_jk08EPAFr"
      }
    },
    {
      "cell_type": "code",
      "source": [
        "# Indirect Effects DAG\n",
        "dot_indirect= Digraph(\"Indirect Effects\")\n",
        "\n",
        "# Set graph attributes for size and aspect ratio& better resolution\n",
        "dot_indirect.attr(size= \"20, 20\", ratio= \"expand\", dpi= \"300\")\n",
        "\n",
        "# Define the nodes for the indirect effects graph\n",
        "dot_indirect.node(\"hemo\", \"Hemoglobin\")\n",
        "dot_indirect.node(\"pcv\", \"Packed Cell Volume\")\n",
        "dot_indirect.node(\"class\", \"Class\")\n",
        "dot_indirect.node(\"grf\", \"Glomerular Filteration Rate\")\n",
        "dot_indirect.node(\"al\", \"Albumin\")\n",
        "dot_indirect.node(\"sc\", \"Serum Creatinine\")\n",
        "dot_indirect.node(\"bu\", \"Blood Urea\")\n",
        "dot_indirect.node(\"wbcc\", \"White Blood Cell Count\")\n",
        "\n",
        "# Indirect effect\n",
        "dot_indirect.edge(\"grf\", \"class\", label= \"Indirect: -0.3931\", style= \"solid\", color= \"black\") # model 1\n",
        "dot_indirect.edge(\"al\", \"class\", label= \"Indirect: -0.2498\", style= \"solid\", color= \"red\") # model 2\n",
        "dot_indirect.edge(\"bu\", \"class\", label= \"Indirect: 0.5425\", style= \"solid\", color= \"purple\") # model 4\n",
        "dot_indirect.edge(\"grf\", \"class\", label= \"Indirect: 0.3166\", style= \"solid\", color= \"gold\") # model 5\n",
        "dot_indirect.edge(\"pcv\", \"class\", label= \"Indirect: 0.3438\", style= \"sold\", color= \"navy\") # model 6\n",
        "dot_indirect.edge(\"al\", \"class\", label= \"Indirect: 0.1909\", style= \"solid\", color= \"orange\") # model 7\n",
        "dot_indirect.edge(\"hemo\", \"class\", label= \"Indirect: 0.4047\", style= \"solid\", color= \"indigo\") # model 8\n",
        "dot_indirect.edge(\"hemo\", \"class\", label= \"Indirect: 0.1418\", style= \"solid\", color= \"magenta\") # model 9\n",
        "dot_indirect.edge(\"grf\", \"class\", label= \"Indirect: 0.1356\", style= \"solid\", color= \"brown\") # model 10\n",
        "dot_indirect.edge(\"pcv\", \"class\", label= \"Indirect: 0.1312\", style= \"solid\", color= \"blue\") # model 12\n",
        "dot_indirect.edge(\"bu\", \"class\", label= \"Indirect: 0.0528\", style= \"solid\", color= \"teal\") # model 14\n",
        "dot_indirect.edge(\"al\", \"class\", label= \"Indirect: -0.0840\", style= \"solid\", color= \"olive\") # model 15\n",
        "dot_indirect.edge(\"grf\", \"class\", label= \"Indirect: -0.4245\", style= \"solid\", color= \"green\") # model 16\n",
        "dot_indirect.edge(\"al\", \"class\", label= \"Indirect: 0.1809\", style= \"solid\", color= \"pink\") # model 17\n",
        "\n",
        "# Add a simple legend\n",
        "dot_indirect.node(\"Legend:\\nSolid line - Significant Effect\\nDashed line - Insignificant Effect\", shape= \"plaintext\")\n",
        "\n",
        "# Add a title\n",
        "dot_indirect.attr(labelloc= \"t\", label= \"Inirect Causal Graph for CKD\")\n",
        "\n",
        "# Save and render the combined graph\n",
        "dot_indirect.render(\"Indirect Causal_Graph for CKD\", format= \"png\", view= True)"
      ],
      "metadata": {
        "colab": {
          "base_uri": "https://localhost:8080/",
          "height": 72
        },
        "id": "r5w7xuWyTei8",
        "outputId": "b1b2fc10-545b-49e2-ed6e-9e874be6083e"
      },
      "execution_count": 46,
      "outputs": [
        {
          "output_type": "stream",
          "name": "stderr",
          "text": [
            "Warning: gvrender_set_style: unsupported style sold - ignoring\n"
          ]
        },
        {
          "output_type": "execute_result",
          "data": {
            "text/plain": [
              "'Indirect Causal_Graph for CKD.png'"
            ],
            "application/vnd.google.colaboratory.intrinsic+json": {
              "type": "string"
            }
          },
          "metadata": {},
          "execution_count": 46
        }
      ]
    },
    {
      "cell_type": "markdown",
      "source": [
        "![image.png](data:image/png;base64,iVBORw0KGgoAAAANSUhEUgAAB34AAAB/CAYAAAAARGOuAAAgAElEQVR4XuzdCbztU/k/8GXmZg6JlMwhDSppECqNEpVCgyYqkoiMlShToRKVKSGFJBo1qqQ5Iko0qIQimWf/73vdnvv/3v079zrD3vvsfc6z7mu/9j3n7P39ru9nrfVMn+dZa56r//SnB5dccsmSLRFIBBKBiSIwz0QvkN9PBCaMwIMdVzArO3834Zv09wJz6v5oFtyQP3p/gc67JQKJQCKQCCQCiUAikAgkAolAIpAIJAKJQCKQCCQCiUAiMNwIzHPzzTc/uMQSSwz3U2TvE4FEIBFIBBKBRCARSAQSgUQgEUgEEoFEIBFIBBKBRCARSAQSgUQgEUgEEoFEIBGYxgjMc+NNNz249FJLTWMI8tETgUQgEUgEEoFEIBFIBBKBRCARSAQSgUQgEUgEEoFEIBFIBBKBRCARSAQSgUQgERhuBJL4He7xy94nAolAIpAIJAKJQCKQCCQCiUAikAgkAolAIpAIJAKJQCKQCCQCiUAikAgkAolAIlCS+M1JkAgkAolAIpAIJAKJQCKQCCQCiUAikAgkAolAIpAIJAKJQCKQCCQCiUAikAgkAonAkCOQxO+QD2B2PxFIBBKBRCARSAQSgUQgEUgEEoFEIBFIBBKBRCARSAQSgUQgEUgEEoFEIBFIBBKBJH5zDiQCiUAikAgkAolAIpAIJAKJQCIwwAhcd9115ZprrinzzjtvefjDH14e+9jHjqq3v/3tb8svfvGLstFGG5XVV1+9PPDAA+Xee+8tCy200Ki+360P/e1vfys//vGPyx133FEe85jHlKc+9alliSWW6Nbl53idu+++u5xxxhllxowZZcstt6z4dTaY/PCHPyxXXXVVWWSRRcp6661X1l577TLffPN1rX8XXHBBufrqq8uLX/zisvzyyz/kdWF1xRVXlHXXXbdsuOGGD/n5uX3gT3/6U7nooosKLFZZZZWy/vrrl8UWW6xcfvnl5c4776zzwfPOM8885Q9/+EO55557ylprrVX+8Y9/1L/5nqbfo513E+pwfjkRSAQSgUQgEUgEEoFEIBFIBBKBRGBCCCTxOyH48suJQCKQCCQCiUAikAgkAolAIpAI9BaB3/zmN2WvvfYq//73v8uhhx5anve8543qhki/t7zlLZX0fOc731kuueSScsQRR5STTjppRBJ0VBdtfQgxeNxxx5XXvOY1Zemllx7x62effXb9zNZbb10WXXTR8u1vf7sSkd/97nfLcsstN9Zbjunz+ve5z32ufPSjHy0w7CS8//Of/5R3vOMdZYUVVqgEq58/85nPlOc///nlwx/+8JjuNbcPX3zxxeW1r31t+chHPlJe+MIXzvW63/zmN+vntt9++9pn/0fKjqedfPLJ5ayzzqrYL7jgguWrX/1qJXdh/61vfavsueee5RnPeEadUwjfl770pXVumSsXXnhh2XvvvcvLX/7ySvr6HpL8sMMOKyuttNJ4upPfSQQSgUQgEUgEEoFEIBFIBBKBRCAR6AMCSfz2AeS8RSKQCCQCiUAikAgkAolAIpAIJAITQQA59/vf/76Stvfff38lA1WwqgZGaC611FKzXf7vf/97JWORd6uttlol82677bby3//+t6y44orlvvvuq1WtrqO682EPe1hZcskl6zUQzKpBOwk+3//Xv/5Vll122UriutYzn/nM8sUvfrGsscYaZYEFFpitD3/5y18qkfiVr3ylrLPOOrP+9ta3vrXss88+tYIUOev+KplVomrtviEbtXa1bvTjEY94RK3mjXbrrbeWG2+8sT5f9OWvf/1rJT5V3S688MKz9Q/pC8tPf/rTs37/85//vJx55pnl8MMPr/2Yf/7569/gqX9RqayK2fVgobXH5IYbbqi/axPbm2++eR0DVbz6HFi3O+RZ999///Lggw9W4tnPnhsh7dke/ehH14/7vc8Yv5tvvrmOFXK2TRD/7ne/Ky972cvK9773vVplHd9785vfXA455JACu+c85zl1fnj/0Ic+VCuxt9hii1ldeuITn1iOP/748pSnPKXe05j96Ec/Kt/5zndqdXS2RCARSAQSgUQgEUgEEoFEIBFIBBKBwUMgid/BG5PsUSKQCCQCiUAikAgkAolAIpAIJAKzIYCYU3WpghUxqYp20003LbfcckutzjzggAPKxhtvXO66667y7ne/u9x+++1l1VVXrcTfdtttV3bYYYfy3ve+t25p/PnPf76ceOKJdRvk5z73uZXM/eMf/1i+/OUv1+uqyEVwIj5VnC6++OKVvP3sZz9byeBLL7207L777pUMfd/73levgdDcd999Z+vzxz72sXoP/Ws3ZC9C03bGCE6kperkt73tbbUiVlWpymDP6ffI0Ne//vXl1a9+dfnJT35SXFeVru8Hcal/qlsRyEhZ111zzTXrc6m27SR+4abPp512Wnn2s589W/9Uv6qQPfLII8t5551Xn+/6668vSGQk8Qc+8IFK3v7zn/8sT3/608u73vWucu6555ZjjjmmbqWs2Wbb93bdddf6MxIWdgj2n/70p7V/z3rWs2a7L9x33nnn+jvfNebGW3UuEhnJq0/64W8wQOB6Nji0K8Hf//73FyT2N77xjf/zbMhs+G+yySblla98ZUFU+7/5E80YIXw9E3JfgxmCH2b6ly0RSAQSgUQgEUgEEoFEIBFIBBKBRGDwEEjid/DGJHuUCCQCiUAikAgkAolAIpAIJAKJwGwItIlfhCwi8clPfnI56KCDysc//vHys5/9rBJytvf91Kc+Vc/UVYXqfN83vOEN5e1vf3slDFWeOtMWAen7SEvbQX//+9+vVaS77bZbJWr9HWGKHEXIPu1pTytf+MIX6nfOOeecWoWKUEYKuqczhDsrfpGezia23fNITZ+d+2ubZVWkCN8f/OAHleBERCJTkaXIUNWutrtGAKtEjX7CQsUq0tpZtT6vWlcl9LHHHjtH4lc1sgpXWDzucY+r3VM563qqWZGjSPQnPOEJBYm67bbbVoxUzzo32RbIiO+tttqqfP3rX68ErM+o5LVdtCpmxK7tlVU72z76BS94QXnPe95TK24R8Kpp2814IdKNA3JZhfcrXvGKSuwieRH6Kn9d/4Mf/GAdYwS5zyFyEd3R4GQ8TjjhhDmupM0226yS0LvsskudR+02EvHr785A3mmnncqOO+6YKzQRSAQSgUQgEUgEEoFEIBFIBBKBRGAAEUjidwAHJbuUCCQCiUAikAgkAolAIpAIJAKJQBuBNvHr9yo1VcC+6lWvqkSsalzvtlFG2h511FH160hb5C3yFBnqHFckK4JSpavqWWSuhkBWUYpURj5effXVdZto5KPrqPS1vXA0RCnS9fTTT6/VxZ0NYYpYVLE6UlONe+CBB9Ytk11LleyvfvWrcvfdd9fqUxW8iFYk7yMf+ciyxx571GvZchjJ6/k9j+bcWtXKtrxG6qpYRlTPqeJXBS8SE2kbVboqob/2ta9V4hmWnhWxjTx1P8321khZ7/qN2D3//PPLWmutVV73utfVqltEu+b8XIS737/4xS+uJDvy95RTTinO8kXUd7YgfuGC4NUnZLjmO4jjyy67rFYM64MtwEdqtpVWyWsb7jk1VbvI7y996Ut1G2oEcLSRiF+/Qy4jrm2fnS0RSAQSgUQgEUgEEoFEIBFIBBKBRGDwEEjid/DGJHuUCCQCiUAikAgkAolAIpAIJAKJwGwIINtUdiJ4NcSbClOVpypjVd0i8JB3iNM4txYJaTtiBKQtnRGQKled0asa+BOf+EStatVUyCJxVc8601XFqwpTBKPrODdWFakqXddS5eoayEXn9XY2Fam+h9BFRkdDqqqGVTmqUli1qS2dPY+tnF0foexzUfG78sorV9JTvxCzSFAk9Wte85paCfv4xz++kqCIYISxbaL1689//nPZZpttanVsnNerH66D+PR521ZH+/Wvf137cckll9Szk5G3MLfFsXbEEUfUeyOIXQ8x7NxlhKgKaYS1CmrNVsmqlJH07qMCGjGM8EVg28a5s9myOyp+fe7oo4+uW29rxgUhrI+e1bgggEdq+ocoh337uc0Rz434h7HtuY2j6l9bgSPZNX140pOeVOfRBhtsUH/nmhILkPOI+GyJQCKQCCQCiUAikAgkAolAIpAIJAKDh0ASv4M3JtmjRCARSAQSgUQgEUgEEoFEIBFIBGYhgGRF0CExEbwqUVXh2rYZoasy1HbKSD3nAL/jHe+oJOE888xTCUfksCpZJCAiFinqLFwksN9vueWWlQhWKbvFFltUMliFK3JRVazKWmThm970pvKSl7ykkp8qXLfffvtKbiJgbUfs77YkjoY8RHY6M9cZtCpk9RGhq7+qkD0L8hKp6BmdSYwMRqgiepGOntMz+Pt+++1Xq2aR2c7+tT2y+6vatf2wZwlyFPHrmZHh7qnyud1sNQ0/2ya7HqJblTDyW6WyrbFhhJj23Mhr22gjeuHrLGG/VxGsShoeiHJk7cUXX1wJZSS77aP1/41vfGOt/oXfj370o1rNi3SNduONN9bvwE21tC2nnXlsHJDzng/R7rxm2Nx22231b8jxzgYXn1t66aXrGMD51FNPrff1jNdee23FVX/8XX+Nvbljm2gV2O6tutlW1ba39pwwN/eyJQKJQCKQCCQCiUAikAgkAolAIpAIDCYCSfwO5rhkrxKBRCARSAQSgUQgEUgEEoFEIBGoCCDdVPVqKkpVoqo6RQwiZRGciDrkrLNxEYq2c1YFu9xyy1UyWGWsLYMRfqusskpZfPHFK9mHEETY2lI57oXYRBr7vupVFaNIYVtBu48zcRGmqn/dy1bHPmsr43Z1qeuprEVWq1JFRi6//PKVXFxmmWXqObhIWt9xzq9tmZG+zg7W1xNPPLGSjqpLkaKqnFUdI121IDWXXXbZipH+IZ6RpJdffnndytqz2/LYltWI2c7mevqHsHVOru+7j34gSG2rrH8qXVdcccVajYxs1XdksepjWCFs3/zmN9fncx2kMKLWc6nuRbgutthilTSFGTIcqayiOJrxQIxr8NQPlcfOAkYewwJ2tuCOamHXd52Rmq2ZkbWeAZmMIDZutsHWBxjpq2QAW3XDUFIAEh2prArbs/uMeYQIHqmyO5dpIpAIJAKJQCKQCCQCiUAikAgkAonA4CCQxO/gjEX2JBFIBBKBRCARSAQSgUQgEUgEEoFEYAgRuOWWWyphbSvnqGQewsfILicCiUAikAgkAolAIpAIJAKJQCKQCAw5Akn8DvkAZvcTgUQgEUgEEoFEIBFIBBKBRCARSAQmFwFbVTtbeMEFF6xn5aqqzpYIJAKJQCKQCCQCiUAikAgkAolAIpAI9BuBJH77jXjeLxFIBBKBRCARSAQSgUQgEUgEEoFEIBFIBBKBRCARSAQSgUQgEUgEEoFEIBFIBBKBLiOQxG+XAc3LJQKJQCKQCCQCiUAikAgkAolAIpAIJAKJQCKQCCQCiUAikAgkAolAIpAIJAKJQCLQbwSS+O034nm/RCARSAQSgUQgEUgEEoFEIBFIBBKBRCARSAQSgUQgEUgEEoFEIBFIBBKBRCARSAS6jEASv10GNC+XCCQCiUAikAgkAolAIpAIJAKJQCKQCCQCiUAikAgkAolAIpAIJAKJQCKQCCQCiUC/EUjit9+I5/0SgUQgEUgEEoFEIBFIBBKBRCARSAQSgUQgEUgEEoFEIBFIBBKBRCARSAQSgUQgEegyAkn8dhnQvFwikAgkAolAIpAIJAKJQCKQCCQCiUAikAgkAolAIpAIJAKJQCKQCCQCiUAikAgkAv1GIInffiOe90sEEoFEIBFIBBKBRCARSAQSgUQgEUgEEoFEIBFIBBKBRCARSAQSgUQgEUgEJhmBBx98sNx1111l/vnnL/fdd19ZeOGFyzzzzDNpvbrlllvKddddV5Zbbrmy5JJLTlo/hvnGSfwO8+hl3xOBRCARSAQSgUQgEUgEEoFEIBFIBBKBRCARSAQSgUQgEUgEEoFEIBFIBBKBcSBw8803l3322af8/Oc/L5tuumn54Ac/WMnfyWq/+93vyrvf/e6ywQYblAMPPHCyujHU903id6iHLzufCCQCiUAikAgkAolAIpAIJAKJQCKQCCQCiUAikAgkAolAIpAIJAKJQCKQCIwPgT/84Q/lRS96UfnZz35Wll122fFdpIvfOvLII8s111xTvGcbOwLThvi95557yh133FFuvfXWcttttxVZDErG/d/L7/397rvvLj5777331rJ2L6XuDzzwQEVXifu8885bX0rfvRZccMH6kgWx6KKLznotvvjiZYklliiLLbbYrJfP+G62ROD++++v88w2CnfeeWd99zIPb7/99v/ze38zP72bl+05an66nncvczZegXTMO3N4vvnmmzWP/X+BBRaYNZ/93zxdaKGF6rvXIossMuv9YQ972Gw/+5v573s5t3NeJwKJwHgRCJ1LttHD7VfIR+9+H7q6/f/4Xls2umZbPnbKyZCX5GL8P/of+p4sjf/7W8jPTjkaNoF38jDkonfyNGyF+L/3kJ/xt/Zn43rjxTO/lwgkAolAIjC4CNBH/M+bbrqpvv7973+X//znP7N81PBLQ6eFL8rWDts9bHW+pu3PllpqqbLMMsuUhz/84fX//FD6KFsikAgkAv1EILaKJOPE3Lwi/hbxODG4sOvZ82z2sNN9XyPv2OAjxd3IPbE37+JuZF783zv5mK0/CBg7YyimRXdFTMsY+9nvI97Vjnu1Y1rGPl7hk4Xea8ez2vFYurAdywr/i3/Vjl/5/4wZM+p88S6+5b0dx+oPUnmXfiMQNlTEDMQQIqYaczXirPG3dpyhkxuIuELIKu/BF5ibbe4gZFjn/I15G/acn0PGxRxuxw3C1vMe8YOYu/G7eI+4br9xzvtNLQSuuuqq8pKXvKRcdNFFZemll57t4X7yk5+U0047rc71Zz3rWWXbbbetf//Nb35Tjj766Lol84Ybblh++ctf1ncEsuuceuqp9TvPeMYzymtf+9ryi1/8onz1q18t66+/flHV+/vf/77sscceZd11163XO//888vpp59eVl111fLPf/6z4CEOO+ywqQV0n55myhC/hPWNN95Yrr322vL3v/+9vq6//vryr3/9q5JoDIwwGgnFUPomT5C1/h8CMwK2BHAQvREYDmFPiXi1lUcQyWHkxHsYsoS6+3DEH/GIR5QVVlihPOpRjyorrrhiXSAM1sncP71P825K3iYCOMZc4MZ8FMjxztHx+u9//1vnYhgTvhPGa5AFnYo9lHv796HQ24RtGBDeNe9hfLTnLmHbNqzbZEsY7WEMBdnSNoL0v+2cuZam/7F+Yo5HEEoAisLwHskQPpNzfUouhXyoaYoA+RHOPb1L3kWCVQR9ItgTyVZB7tKl4UBFkGekJCsyb06kavwt3sOBGsm5CvkY8jIcM/cMojcSaWI4w7HrDEzEz21ZGvZBkNFkaJuYDicyft8Z6Ij+RHKZZ2oH+MNuEejyikCX/0cgwztbJlsikAgkAonA5CFApzib6k9/+lORQX/11VfXn+lFfyOnyXD2sRdfkCyPwDXZTxeEvqKb2kF2djmdGr5GECz0jOuzt/mcj33sY8saa6xRAyj8z9QPkzcn8s6JwFRAgA0rYeUf//hHrcT529/+VoOzYh/8AHZvkHJsUnIuYm/xf3IuEiIjrhFkSBAoZF7Y1eRaxCeieMO7+5GD5GHE3SLmJxnmkY98ZHn0ox9dVlpppSr//I5czTZnBGBOn/DnjLNxFVv1LtblFcSZcTFOMXYRF4rxHamYwPi0fbfQc2191/bT9DTiTp2+VxDIEZuNwoo2yWy+RhzO5yKmKx4VRTzmacSvxK5UupkrXvQz3ZwJBZOzaoyf+Wa9m5PmX9g7EXOIRJOIV0bMkiwJ3z8KuDoJ1ki+bvMBwQm0YwvtmGubK4gCmIhfRPJKO7E8YgvtWEJ7LrflXMRIOpPe2/xDOzGwnRwY/Y7YQTtWYH57tZNlyGVzP+f25MztQbxrEL9IXjH8aPyY7bbbrpx88slVPr7mNa8pu+++e9l4440rybvffvtVMvi9731vufLKK8uZZ55ZuY9tttmmnHTSSWX55Zev/3/nO99ZCeCddtqp6u/jjjuufOELXygXXHBB+cpXvlL9pc0337zeB1eGKHb9Qw89tH5+r732KjvvvHNZc801BxG+gevT0BG/BBpCl9NsMvzxj3+sZC8FQPASYpxbk4NR5/8Utd9HMHQyRiEC4vrJWAojmXGs/36moDwDh/8xj3lMncQcdP8X5M02uQgQMIIq5h8Hx7gZP2MXhC4FbwzDqTGW8SIwzUNjSdG2Ew0o2WGsljWv26RwGFtt8htmCHAYRSJEkBrWZCRBcMhizVq3cEvjY3LnfN49EYgdCMLBJ+84/ZHcEsSuz7WrZ9sONFkXDkf8v01QRhZ2O+s6HKzplBxCf7SzksPhg22bUA8SPQJefqaf4jNkcgRf6KPIcId5VIGxixjroZ/C4csZnwgkAolAIjAxBNjG/FSZ7LLfkSHkO5m7yiqrVOJ15ZVXrkQEG5ju60WjQ+gHJLM+COIgn/kuAo36s95665WnPvWp5XGPe1zVFdkSgUQgERgJAX78X/7yl1lVOYhe8oW9Lr5Bnilm8Ir4W8Q7+k2wkn2RgMpnIQOjMCSSbvgX+kcWk39eYm7s4enS6IGIbQU+3m+44Ybq5yGcNPGYSE7iPyBE4z12OBTfCpJpWJKKYue9qE4O8tCzh6/L74WRGJfPBUnsuRXtiDlHEQ9CAza5y8bYVlDsyhkxcmsU/jEGsLeeg9hEvLJXwr8NEtOYxP/j721CM4jezmSCsfV2MD8diQ9R1WyuRmwgiPLYccE8b8dl29jCKHZREDOIeIG5HbvJ+Ptknvc6mCMw9Xo1J+L3Yx/7WDn++OPrmbt8m7POOqvqTsTsjjvuWC677LIqJ5G4Xuecc06tAv7Upz5Vdtttt/qds88+u8rKU045pZLG1u3+++9ffv3rX5dddtml/PjHPy6f+MQnajXwt771rQquc4bN4SOOOKLGvA444IDy1re+tay22mpTD/wePNHAE78GVaaASfDb3/62Em4aRct5Ro7KYA5FO8xB4qha/utf/1qdc8/t/zBgbCGBn/zkJ5fHP/7x1cjI1n0EKE3GLqP3z3/+cw2QIHgRl8aHIUvZCZaEscfR8XNkAQrgDPM87D6qs1+R0WZOcxbhikiHeRDpUaXvW4wKOMvQtd45Z+Y+RZEY93qk8vpTHQHOAQPKmhMItha9W48cXeuUUywpJXYeCEc/nH6Gmv9HcCeyRaeiUzUs80EgJ4JexjCyooOs51j7nffYZo9c5uxxkGN3Bok49FvoOGOdyTjDMguyn4lAItBPBMhS52B973vfq4nJZOVaa61VSdW11167Jjb2m/yY2/PT+/r5q1/9qlxyySU1yC94vckmm5RnP/vZA3GeVz/HL++VCCQCsyPAJxB7k8AiJkXGiXXwxck2cSk+OXJg2HxydjIbGHnt2WwvKe6DAGHrrrPOOuVpT3ta3W5SguSwN89rPBH3kpLEGfl75L4gvNgW/048tU1iwsKYDwuR2+txEieMCtPwmcUMxaf9bI1ofClrQ5LX6quvPivRa7oSwmIJYn6RhGbuxe6c/FE+q1iDGKqYdySOiAEG+RjFM7DN+djdmU4GSBon/6J4Jyr8zes4iiQKndzdGEQsKBJ+7KZg7IzVINm73UVr+lyNrnjxi18821bPQbzydVTcih/xd4y7BFPk7cUXX1xBUrWrwhfxe8ghh9Sf991331nfsbaf8pSnVAKZj2SLZ5zfu971rvKjH/2oVvaqNvY97eCDD67xyY9+9KPTZxC6+KQDSfwi2y688MLqQFMMAsoMTKSndxNjOgWVGRiM0UsvvbRmjjPaGA6M0Y022qjikhXBY18VFBuDn7HvBVcGsMbIp8SQjTJYzDnGB5yHzbkZOzKT/w2GNeOiTcIbH/LAemBMGA8ZPjJ0OZ+5bd3kj1v2YPAQkLAiwCuxQiKRdcTZikxP8owTFdtYIfkYb5z/2KWAIzZdndXBG9Hu94hDbscRxjwdyMnjnJsz5k7sSCJwZC5w9OhHupGT5/+Sn3pVtdb9J84rJgKJQCLQHQSQIoIazqYS6EWc2ops2BJ0kSBI4O9+97uVENb/LbbYoj5P6v/uzJW8SiIwyAgI4JJjP/jBDyrZq8pO4rXA7BOf+MQaE5nq1bDsYKQoWSjmxh7mH5HpYm7DUFmExBEvEdsSO0Rsi6do/Dq2u7gJAl/sxO+SSOvOyuRP8aPgz9+2M6UYLj/K+uI/mUOKeMSv+E9TKaaNOOQ/ijeYd2L6/EiyRBPTj6MOY4cAP8OFbEmysDvzsJdXicTy2PZdTCm2+CdnJJyTQQh8dmTsckPuiC1lpXAvR6d71zaGV1xxRT3jt73Vs/N1Efuf/exn6+/pDlW73iWN2rr529/+dk14QfJKHjvvvPPKD3/4w7ot889//vM6Bz7/+c9XmehsYFs+kwf77LNP/TviFxfotcMOO9Rzgs0nPol5dNRRR9UHlbTqPsmDjW7cB4b4pRiUcSvrJlAoRHuDP+EJT5htT/HRPdbU/hRSDF4//elP64JjlKp6fuELX1gxy626Rh5/QWwOjUwSggzxASsCRDa+pAJBbAb+VDLCptpqQGQxLBjUnJrY7l2mGvJBlq4D4hnUFFO2RGA6IMDZjGMQrAlZenEMQmzDxuDm6EcyC1nHCcug7nSYIRN7RnYHxz22zOPUe8lylwns7/SpIFJkuHP2GPIZUJoY9vntRCARGCwEJMHYfswWZqpUBEae//znT5kqWcFb/viXv/zlGsSV8e8ML/ZCtkQgEZhaCCA6BWbFlBAvT3/608tznvOc6kdP911eFAkgT5HhiGD2LGzIfPbuIDQBejER8S0BckQjHaV/4lviIuxyCSB5U24AACAASURBVPMZ35qcETNG/KfYKl0cEllmnJBj4lZ2B0EKD8sY8QnFo23rKh7HJ/Q7ScDIXLEGzyPuEEe4JbE7OfOvn3fF40TyQ+xi6l3sVqwKgWdOkEt0DA5jqicU9RP/bt1LEhQiFrlqnEIuIfw//vGPly9+8Yu1SNPaNuYHHnhg5VBOPPHEuvWzY2SMuYItP2sqdRG7YkPi+R/60IdqHN8WznSrd4QyXfaGN7yhbL/99uV973tf5W3MF/JFQomzgxU+PvOZzyzHHntsTczK9tAITCrxa5LICPjSl75USTiDhrxkpAzjeacPDXdvPiHoykH/5je/WQP9tqbZeuuthyIrsTeIzLyqOUVY2Srg8ssvrwJG5ipBFJmrtq/JNjUQoFwoA44Zgp+BbXyf9KQn1YQIFfJJcE2NsZ7uT8GBJOs5WuY7o0k2Mb2J3I3sSsZ0bI0+3THL5+8tAhwEGe4CToKI5qREBISwTG6JVXQv58GcTBuvt+ORV08EEoHeICBJWaBB4OJNb3pTDdZO5Uaen3zyyTUQ84pXvKK8/vWvz6qcqTzg+WzTAgF+hOp+ySuC9KpZJXionsk2MgKqk5Bc5557bq2IRl4403AydIBdeshk223qEwLR8XdigIpmFDIMC4E4neeb5Fnjh0BBbiDG+Esbb7xxHctBSrbi40mCMPf5eEgY/ZNUEFu/i7Nm0cV0ntFzf3acBRLYrjLmuyIFFcLitfgfu0uI1yrkyTa5CLARxHAka5BLftb8HLpFrN34SfLQokpYLFKch++Ag/n0pz8962E6v0N3xXd9h56N90gUEfOUhGZ3ivi8Pog9SSRIXTe6uTIpxK/Jw9BE+MpGk0WsLDyzgEY3aHP7lIXBIBWYYPS97W1vq4J0ujRk7wUXXFC+853v1G2cza8NNtigZq8iQ5L4my4zodQzKhgVF110Ud2yyc9Ihxe96EXVmM65MH3mwlR40sjm5nAJxDKuBJ7tjuGF5JXNnYTaVBjtqfEM5qiEhMgIF9yQ4a6Zr+QwJ8//syUCiUAiMMgISC6UeS7QsPvuu09KsH8y8RGsO+KII6oMP+CAA6rdkS0RSASGDwFFF5/5zGdqwBRxifTNGNzYxlGwW6xNPFOF40477dRzncCmVtHrvEP2NHJEYruXGFceRTa2MRzET9OvdnQUy7SFLlL1pS99aR3jfsetzHFndSou8m5nPVtTx9bvEh/IkGyJwEQQYFMjgBUyeOEyzCtV8HSTSs/cOWwiCPfvu3TUW97ylprwbwzJso985CPTiovqH9pjv1PfiV+KTJk3AwUpKUMoW/cRoJydOfW5z32uVjzuueeeA5U11u0nZpCcccYZtdLT3Apyb5izzgjPbhvxvbhmjGUvr92N+SKrkvyR4Sy7mRH96le/eujOYesGFnmNwUdAlh25JonFzgUy3GyZJLOcTO91Nvegr+fBH8Hs4UgIyOQU2DCnJTHYpYGeUw38vOc9r87tfgc3cqQSgUQgEZgbArYms+WZRGVBjYm2tn4dNl3LJjnkkEMqDvDIlggkAsOBANvrAx/4QFEt6gw9ifHdaMMmw7rxzO1r2HHPLhBimvREt3eTM1623Uf4IkBe8IIXVHtZVdVUbdN9ThlX1ZF2LXSshCRa407n9jK2KfZgy/evf/3rdVcxW7cqnhEzQ0KnfzZYK24qrhM7dJp7zncVJ7BVsBiBBAhJB9OpDeP4ilfiYySOIO0zOWRwZmzfiF/BPnt/25Zkv/32G3NWHKPHfuL2Fafwdt1111rZ5HBnijF+1+/zbT2X/cgdXG1P8zkpYwJMhrTslfe85z3/ZwYQbJRrtytf4Hb00UdX8uDDH/5wvf9UajIfGduUwstf/vJK+MoymUhDlsukjK0MbC3wyle+csxJCjA/5phjyhvf+May+eabj7lLn/jEJ8o3vvGN+nyxhUL7IirnzTnbrjDUGGObbLJJednLXjbHzF3Z+vpl6wUOoOCN7dVtVxfNFuzWmnO9zEcJGrZQMMdPP/30Ok85jJ3ZwQzT448/vh7Q/tznPnfMz9vPL9iO9Oyzzy7f//73a9WCTF1ZjNkSgclGQFWN3TAYvIsuumh1tmQ82n6t29W8dkWQ9U+vau5nK0dOnrUs0CBRa1AStMi8/fffv24nfNJJJ03oPHvndQnWaOHIMrBtU7XDDjtUHYCQ9OzuaVsr5444h4aM9J3xJuZ0fl8FNx3mvJKJNmNJdzC4I0NWn1V1SBaYW6NHtH5WfsBcpq/ghsQcODj2wzyUxJUtEUgEEoHJRIBsUul7+OGHjyvoxO8VSN15551nPYYMePYnW5zc844woHu73fip9J2AWbe2jbTl49vf/vZ6zuVb3/rWbnc5r5cIJAJdRkDSs/P03vzmN5fttttuTFe3NaNYkpiSmIjA7lJLLVXtSjsPddP/l6S911571W2UxQ3bzfagZKX7IwI8h/PIxQJtOxvbVY/p4br0YXY9jFRTk+8C3t1oihrEpdZYY4165qFtnCfSyO4jjzyy2tp8BDuhwbFbumEiffNdutJ5kOaaJuF52223rfOsG40+5Ou0Kwh/+MMfVhweantZcTC+n8/2u/GTTjnllHo+pjifddxNElZBhOp181ccVTzVenooTEaDg533xNxg7ihCc9hzSPwlQxB94o76INbxta99rR4pscUWW8x2eeuevSQBHpk0Hp811qkYZ/jx+iXOa4dMScni5c7xfsc73jGax5vjZ1Rsk2UIcxzASA0/IJ5hPWqSObbZZpu63kdq4h94lIhNHHbYYcX8PeGEE+pZq53Nboe22bXzFvzsTmBLf4kj441hzOmBXd/66ua8dC842tLe3FTYZv6LEXiWQWgqlumgmFN01+te97q6C99IzTPwKcT7jL3nIPfE+h2F1W4f+9jH6s4SxrAdwxmJf7Km3NP9e93OPPPMWkglLmktbrXVVrMSyax36xhfMJ7m2axzMbFIovr85z9ffSZ8hJgWW2bhhRcez+VH/I5YlBjjnCrL3Z9scP/YVtp8l4xDVminnXZa7aO2yy67lFNPPbUeO8lWefe73z2mvk40zjinm/WF+AUkh9fEMFCMxrE24AqEE8zAd/YBgUXYyX6K303GHt8INAqSQJqTYaL/n/zkJ6uiMxE6G4VHiG+22WZjhWZUn1dqv/fee5f3v//9Fbthbwx9hLutfAUfkJfdUmCUKqUom/35z39+DUgjP4wv5T3aZtEiTZ1VsNtuu432a7M+xxByaDll7kzidiMUkROEnwPOCT9C0jojcJEXIzXKyfgjcAllmb8IAoRwNNd21oi5iBSyvmDruzvuuGMlSRmDnY0io+hgNiyBIAYR2UGBeU6GdLZEYDIQYJQLGnDuIoGjl8QXOce5kMRhrXOgGJYcLuuf0y2B49BDDy3PfvazJwOSEe+JgN1yyy3r1lMTyXq2backFbJNwN07mWsMBJbIBYaggIix4WiwNzjEr3rVq6pOmJOcnRtY5KudBtrfl+BjPCbqZLovveO4B8+GuGdvMUY5TXQZnTGnxkZhr0msm6xmS/PzzjuvOhScIPpmTg7wZPUx75sIJALTAwFymV1IL4z32By+BJ1Ct4fOkLBMz7M9yTkBTja94Em3Gz3GTyBLR0oiHe/9HK0jIB82xHivk99LBBKB3iLArheYlhQ4nkRO/j170hb3qk41cSuBa7aaGBf/ny/RjR0RkJ0SLVUdthty1339XT8EuPku4jNIq4MPPrge8TWZTSxGrE3AfiIk7fXXX19365OI6d35vRNt/A+EidgSvSauY9zEByXxTHYz3gcddFDFjt2PSNFPfdPHbjT+rdiW2Fo04wUXAfq5NXpcvI0PN1lNYgT/kW3CP5+of2T9HHfccXU9OXaRTke2d7OpVmbfIIkklfPd/Xz++efXpGq/R4BJSuC77rHHHnW+dxZKmb9sGaQKEuxTn/pUPcZtpIKqOfXfNRz/piBHzINNFIkrYvR8fLiK7bv+RJtYgpd7dDaFO+a3eLakPzaVeW7NS/YYqZG1/ma87Owp2ZstqWCg83x2cRxxHkS5uCycEfDIYlsqd7sSE7/BzrWeetVg5vnF/yUHSCSY7IaHUHgolkRX+hkvhAMYqbHJJT3gtMSykJuSDYyjxPd2M4bWpWfuPF4FIY7/CP6Jjsc5IPV72cSTzFOxJWfuStT54he/WAvLNFyfPox3RxH4SJiAIx1vzBXRme8Sztwf19BN4ldM0Hh5jpESF9g64oDmG9lhLZEX1h955fvGwjoXM3Qd61iShjHuTGJ5qPGhY9gz3Y4D94X4ldUgmOgBJtIoDsYKYiuqOglJEwvDHqQro8tB0gRgTH6VoQK7hJzMZ0QaJ54ha7GqFg3SmKEhEOvzCMDI2MDaE7R+th2hSWBAVEltuummdbBl6piwKokEMBl9FqymOlPgWMaerEWTFpHIuKPA44xGJK3grICtvqrS7cbWBoSMSU3Bj4XAnMiY9eK78GIwmAsC1L3Y9x/RQeiEIRwkqflgbDkfBHRbyVJ2hBFhQIHL9mTA+AzcGRoUgkxBWVkEAWFmLNqEv/ktq8SYc7I4OZ3Og/tEVVpb8HGG9EuGnvlHCPs7IUWxWIdIW3NRP6xJGXaMgM7G+LPOBLw0z+d7BLrnF5xHwLtfGIkEs+szNAhE64FR6jl91lxGrjA4OGcMK9VuDG5C03yn9NrPKwsKHoR/Nwn+9vOaU7E9k6qOyUgg6cVayWsOBwKcC8Y4B5wh2I8sRs4G2YDsi8YBFDxBdtJ/iF9ZqqqONbLJ9tMcJUYtB4QTHbLF/+lcmePIRzqtXf1vjQtAaWQrXWr9+72AOGJSs/4FJBi5DDCyRBYkWckxJM/INs4jfc15RHjKvOMM+q7MbFX8qppl1JLdnUQt+er6dj7QGNGem/5lQ7iWl/75vnvS+4hfRi8DW0ai/rEj6CL2h+CB82vJac/H1oiEK9Vfkkzi++Qw+cZ+CQOPIcmeiGxCz07+klPkIJzYGUiCkfSfvptHqpbpI3JWH4wdDGEWmbPsEOPpnvQpHUG3sHEY2OweY+Z+MBgpo7gXqywCjXSO8aZLsyUCiUAi0C8EyDx6kvyRbDSeRv8IxrD/yU9BS418kyUelVx0Cp3I76OH2cR0CluZbuMPkNH8ODY13WmnKLaqz9E7PuNvbAk6Wb/9nb/JZqdrPBMdRKfQJ2xz9x3vjjeuTW/wPbodRBwP3vmdRCARmB0BxIqkbcTKRBI/2Kl8FLa1xl8ntwQ5rX3+v9hJ7CBmq0dxDnEEsihiFXOKHwhwIy/YrOSUYLIYXWcjaxB3EWT2d/EOhBLScG72P5kpHsiu58OQj+xs/WQ381n4ERMtJOArSawX/B1Pgio/A1GjGhK50a1G7/BP9CsKCsRY+Gz8Ga3Tz0OUiUv6jLHhf7gG7Iwpf00Mk2/GZ+O/+jz/QbwH5jD1e3Ej8SJxo85Gz4nnir21iVXj4tpiaXwZfpxriv/6HP0nZmsOeKYgThCC5ojvIr7oR8/P50VQqcrWF2PNJ3J919J3fo6iCD6t+C69KlbGlzR36MvQv8bXfejXdpI03QpbVW+2qB1P0dPcxt0zi90p3OCvjad5biQqewB50cukCfFz5BZMzQuJzmL3fm8+iTXCmq/KpmDjSFIhL9hDYu3wN64+Yyx9zjghiIw9WYMr4D+TIWKGIxVkuYY5Ydw8O9uKb63ATF8kHpCbEf905qzYrznPXopKRlW67iW+qe8RW9cnsgzxw6f2jH7ubLgH66ddDcwuI488sya+wf+3tiIWI2GQHPQOS7YkEq6TsJeo4BnM1XYz/9m0Yh0IVNyE9UpOx/o1X4PrkGwQW/aSD+xLWLA7xbthT+6Ko7J5FTvpbzeqxec0r9meYthkkESIuSW1j2dtjOU7MPDsiEFN7MXcCP4nZAGSFMawhSkyEIaw87MYUMwtsoOuJbfgaQfRkNHRNzJJDEfCjPlOBtJhcDdO9LIYV/gHseurz6oiJrfbPNVon9n6sHYRsRodan4jRcloMtda8Lz0B7lvXYoHiinpk/XNdrDu+DnWIHvCOPJz4Bc7K0TxHf5B38kC1yd741msEfKLbjE/zXm+DlluzYqVkR+Sbt1TfI68NwbmspglnD0bHdNJsntO8U0JtNaO5zLX9Vc/IvEMZ2NOkstkC5tJPNA6dQ9jjSeJBLzO/pMjMBTDE6OMeOJEbZIY254Tvya/xWBCTLT0nzBkFFBSJpNm0nOqCUmK2P9NdsYSw8YiYUTIHJQx57sUOOPQRCD4CUVEFSPLJGRkbb/99tX5JkgNpsVDcTMUfT+UgQlikZloQfwaKBPL4maIeqeUOPi2rYnzVRgfhLYFQ3lZkP7OGPEctpdkaBFsjN9uZGAZB4rO9sHD2ChQ42MsxrpV0Viel3JF1pojhId7xlYLxomCNPZwZIAI/BtDFbfGnrJlPCrtl7XGIULuWvyuS2AKvEsCMCaEvQQJQpRgM1cjYMTY6NwyyJrihAWJ0vlslIW5zrCiTAg4Vb6EEcM0iF9GGCE0EvFrnnDgXItQkylMCDOqCWcYmft+b9sga9O6QXAgJFQBEOQEnWe0Ljw3IWlNMrDcn0L0HMiGUOB+JjAlKVBo+sFwQiRbu71q+kyOMICzJQL9QIB8Z8AybEKv9fq+dBvdKMt0btmSbeIXOW0ty+ZnxHGw9F1mLH1IdzGeyALykkyzvukyRg5SlbxjBDGY6FYvhhi5ScbpC51Iz9KD5JIEH4YW2U8XB/GryoDR5pqMbdckL2JHDTJGgIe+ZVSSVYJf7Wadkz/0P0eNoW0rLTLT3yLrlu1BF7inYBfZiryFocADXQ4L32Fw0xkcJg5V7JzgmWAnKE8v+D7DkmO67777VkOPrPN8+sPoIys9E9uBgw4n1+Us+j0Z7Dk7m2dizNJDHAzjJQhHBwjckNOehyEpgOaZBV3YKewRfSXjjSd8JQH5rM95dW5F1Mv5Sj/J5hZs6WUWcS+fIa+dCCQCw4cAmUl/CLCN1+lWUSLIIOhBVyKA+cKCAGzlNvErkMlXYCcLNNJ3ZDbfgG4SAKVDBB3oEDqA7hCsoN/YxuQ+HSH4wG4mv9nydBafRYAO+Uw3CjbSv3wRQeTxBqZdzz3zvN/hm+PZ46mPALtRjCqIhPE+MTuarc0OYyeSi2IxsYUhu5KtT+6Il5BH5I7gq6As25yMYzO34wd8BLE48kPQW3CVXBQQjcByu89kotgaezyaBEtxDT5HbBXdtv8FWcXTfEasQf/IO8FZBDNyhc3NJxHnGMmuHituEkrJerGPsTS2uBimGNdYq4RGcx9+kPiLOJMgczvpBz78PAlP3gXn+YkS4vl2ElYF3ZF3fDxxVjiLgdFNxhIJJY5FP3nnu4kT0W0SD8wLsbPOyjZEG39P7GykKid+lRiNoL54LV+R7jF+9Cufhj/Dd+GDiqHyEQXO9cvzImI8g/F2DX2l2/k+/ExzwPfEmyKJACZ0KKKZL+L+ns3LWjC+iAI4+ay5LG7Hp7f2YMWv8/luH6MDd/YBW2GsCQaIFfPMuuPj9brxo425eKR7i9sjpPxO/FRc07OIA7JpxDiNt/ihGLw4g3EjU8wfxI+5zJYih4wdckeMgQ8Na7F/PmtnYpuxFMs1B8xx9g/Zw27yPfOFTHFPJJS5a36LE5B7XuaWucaOM/7muJdkcDJOvNL60gfX7CR+g8A2Z+ZUoQkP8ozP73N8c/IrSF9rQMKMPoxE/MYW7nOK+RsL94CpuAGbV3Wy59Bvsts4eHYxHmuMXBMPYj/Cm2wQu7COrCHEnhgwXdFZgdyLOSZOJIbG1u72+hptf2FjfMgjMZ+2/IINzCSvk5WSeug3OJHvSHdzzBgYZ3PfXOEviCn5PNvd3O/cYh7f4H7kDRlovSChySXjYj77v1iSPpBr+kYGis/jp8gl40V/j7bhBdxXzI7sMOejCMGc8Sz+5l3Fq8+7Pj/GPLW+PIv+WtvWoWemW6w5ut13yVDyFA7kf/QRfuS0Ne9vZAv7xpz1/GKXdDv/BzZsCfqLr0MmS0SyNuFqjbi//7tf7NQaJH4bkxhbMovvhFQmu6xB81BynTUgdoa3Eyd1HRiRIWKGYp3uJWboOu3+i9kh+skmss3z+bzn6NZRfz0nfk08JFk3tn4xsAYUSJERYdJbHJGxJnPBwHknwAhI2WIMPr8jJBFxJrlBNwEYCshiA8YwsBj9X6MQOcqEl0C0z2kWMKHv3u2FxzEngC1uAWD9MtgIcJPd/YOsY5jIRHINE8aijXfGD8PMc5o0Bn2iRrt+MygpJAt9vHuvj1Yw9OJzQWDqfy+bMZT1JJjCUaHcBehVTBljCpsQIaSRqxaneULAaYwIWTgEuAwUQodgJGwYKQxRBjGBRuATZuarMY4kBILE4mdYd2aemLfWg/k0UmO0ExL6w0FTaeB+rk/QjIb4NVesGcLVOjDnPbN7IjrMbc11CXpCu+34wUCGEtIBKWNOE8rWnyQJQtl4Wm/6ZG1ZMwwgwSwENZw8A2M9tqY1BgyqXjTj6ln1cxjXRy8wyWv2DgHGEKOMET/RxKix9JJsYXQx7uP8cU4OPcXwsvYERRhPDFqGCBlEbljHdBXZhAT1ObKOziMzBYDD+SczOPqcZU4xBzgqjDlnjF5/Iz+tewaXzFlGquA2vUfGMqAEe+DUrvil18kezpjvcUTYB+SczwoOMZbJX2u7syLJvRlvdLFrcEI9IweG3GUkc4KC+GU0smfII/qcftDYAH7n+wxBTqXfCd5zcMlKcoss1BcYtr/ve4xyMtO7wEcEvAQkODPGivEowYax7O+2KnPNzmYcY8t9fSdn3YMuIovbmBlfhisjnSwn9yP72M+c83AayXd6sBtBsbHMVzqM3cJZiYzVsXw/P5sIJAKJwFgRoAvI8bFsI9i+h4A3UoRPKtmKzhWEFGzuJH7pOUE9zj6fg7NP90gW9aLPEMiRXMRX9TnyUIBeMEfwk04VxKAv6AHBMC1+7zN8UL4mncAWYH/TIw91Bvyc8KMXBbf4B9kSgURgcBBgi7Kj2c8T3UkI8UtOsQsFNuNIGPKN38A+JNvEvMRQ2PhxfJKAJ9vf7jnkRDt+EAUiZJQ4iH6KwYk1dG71DNmHIn59ptP+h4OYH3uabcyP8CyCyXwvRR9iO/rCtmb3TrSJWbCVkXJjSRxCBAhs81960egNegG+SCX+CJ+NPyWOpc98QIQDvwAm/BakPt8EwQhPxAGfhB7hB7Z1DH+SD8fXgK9YjnvSNXSc+dC5iw+CydiYZ3NKLhVvEyfio9Chxo1Pwl8TT0Xo0318a2SQPhpXz8qv9Df4iru2CyfoTPE4MWN9lrzAZ9P4XIguvq1x4U+JEfGV4GW+KAgy711DH801Pi18+J6eS9yrF/6LGFmc0zyW+cKvsx77mVALB3JBfBJmxon9YlyMUdha5gaCHflOzvh97AjGhkGusJf4y3xsCR+acUUaietr5I+kl4jNBj7mr7iG6/CLzRXjLS4pZtEmfvnb5lrYUua1tWCOItZCVpiT5r2+4hhwD9aFdSyW0Omrm5vsPMngURnaHj9r03phM+qTeQsPMQvfMecfivjFH4i54mJGasbD88QxU+YzLM1568pcFzfhf4vTiIXrl9iQpAMyAxnGzjUeYr76B5d+NhyTvomxT0YjH8kGY0UmiZfBwLhFMhT96HNkH3LTO8xgDMe2bR87Z5ApYlvkigSXzuNmgn+KwkO6mbxBKor90Md0LQISaU//mfeuRy+Zw5JazHtrsU2c+z7ZSdd7jk7ikZy0TsT+yPggYuGP+5AMQa6a4/S4vlvLfkfW04l0DX3EJpAUa93jvvzNvIQZvSI2Jt4FA41ctcasG2vEXBR7UyAhycw92RKwUHSin+6NtzOvySCEr7VJfxk333Uv959TAoG5LolM4pr1TRfG0WjuK5bo+4EBvwxfg3z2OTIAVvAme7139l8ClPF3Dz7oRLfy71wPPSd+I6MM0BNtBsUkJvxj+2WCk9EiAM2xjkwbCt7EMWFlY8kgsviQUyajSUN5eDeZCG6GJsFhMYYiNCktLAPtM4Stxmm2KBi8sfA4vyYaRWMBEfgMPwMYxiTBbSA1ishEYcRarJRXnCtgQsv6ZkwTuBZAt7KpPbNg7zBu92yMjPl4AzGjnYMWHCHczrYkAAkLwX5ChdI1hxgFFi4DQvZcu1GGscUzgebvlCbjDzlBoZqnBCrhYJ2YA94F6M13CqJzq2dCzFwOQ6h9T4qFMnHd+J5rcXIo8xAmDMW5Vfy6JkOGoY+I5SB5HhUQ5nmQzuYvoU3wtolfxrDxYvAQ7BxB2SyEmL77HiGOHNE364ehp++wh5E+GgO/D8eJ8OzldqPGyNoczzlIo51f+blEAALWASe3l1XsIyFNRpAFjEqGoEZHcZolOFnLgsCMe7pJ4hPdykClNzi89KT1zXCUrEK3MWjILPLA5xl/kjTYAQxzhlKcD64PdGNk6tJvHItoHBbf8S6IAysyN4hf+pFcoc8YseQyXU4euxZDzvNEBfBIOJBn+hw7Hrh2bAvl+4w1BG2b+CWzyVDPHtmXkZHL4WTAa8aUzGRscypV/zJ+Y4vP9veR02S6vzOK2S9+DlsDtgx7OCPqPbPPctxHIn7ZHzCIrZ59XrBEliHSnsFrfIwle4Tu8juy3diGEy1Aw0CPbaqNmWePZIF+rmK6iO6AQbZEIBFIBHqNAKdcog89OZ5G/tOvdKLGfxQMlrjaSfzy+QQN2MIa+5fdTdYKbrCVBV/oVDqKjSx46XpsbMFL/iu5z7egGwQyI1jpOrGLUdv+juNa6NZIZBrrswr8fFoF1P9I5rF+Pz+fCCQCvUGAbUpmWN8TbWIZfHz2JX+cPSgZhb0fFUNsRZ8R5GVvIhY05AsyTRyPf9GOH5BVfASBY8Fk10bKIW/iPOF23/kDCAZxv2iCpWzqsF077X/xNcF4zBUW2wAAIABJREFU/ZHU7R7iIvwFtrX+kJtxdEwEnyeCmR0J2fNiHWNJ7OVzIF1VQHa7GTM2fuzugKQxLsaNvmFj88novRhj80eCEBIY5pFAwKehG4P45avxGfg8fA//j2Np6EDjbAzEuuxgGAHzeEbYI1f5bZ1n7eq3/tBhrsFn0RQM6K9nEO+NI/3ECF1f4J/PqY/iqfog1iR2y7+L5vvieMYLUWIuRkW5viPOJGAhCswNc43+5SMjLulffUKyqVTjH3sG8WZ9Ep8WG+5FXCl2qRprQq7YOCKjn2QZXxsBAxvzSvyP389OMvei8hWG7BE+OjvKeBpDTSGLv4uTimWLzYYPj8Akp2IrcfOG/dRZOW8nKYVk5gAZpsGCX4xM5n+LzyOkfdfcCHz1yXiKfbCxEGiaceBPm3cS3fVDMz/Ml85t66O4RqxgpMIusSF4kKfkh3lk7UmAJhdHQ/zqi3UVfWzLEwnV1huSMI41hIHn1R82Y/AQbMsgf8lasfB2wof143tkvngH+dzP5n7kOdkyGY09H0cZ2G7ZHDFWkjfFifQv5iR5RG7CC95B/PqOOWWut/WncfIdtnznVs+dxK84iRgTPagfxswYIjytMz6G+R76OGSmmJP7to+OtA70zU6EfBbyM5q5GxW+1h8dhzcz58lC61PcEHeFowti1poSa9In+LgnfWxtWUvGz7zSL/iQmfQKPgF/EGvIc/F1yFcxIXGqdmIbX4td4nP6av2R6+J35Ae9T+6143x0Lowi2WGkeUTek1U+J7HXs8fRs+Kb+qv/sGnLMLaMdabPZJIGH3PD+u7sP/lizCUcPdS582Od7z0nfk1UAjbONRprB9ufdx2KlyERxA8SkFA3oFFtxEGOCkmDauARaz5HWHKaYwsVhozJ5JoUOsPH4Eew2OBSDgYoArn6ZEAJYsYDx5nRZLJYhJEV5z4CtowfRBnBG1uGuIbJKvDqusg+hqkguyAzgatPjDMTJcjfieDnuzC08Amj9iKe6HX79X2CgUJlpPfyHFaEBOVKQEQT3DAfCFONAUo4mwvGktESlVLmEsVImDFwCTDCy+9lVBHe5mZk//m/cUZ6UrgEC4HCCBHg79wuwxzlwBBuoQhUrBGa5pKtO5ClcXYl40bmiT5aB+a3nxlL5kQ4S53jKHuN0Ysk8lnPYh4TqIw3DVnAAWCEEHqR6cuZkvGE1DC3XUPWDqWDrJAdZRwREXDmUFBODBC46SesyJDIhoNTnH3WizlnbGHoWSbzvIhePFtec/AQkIlmzZAL4622Ge9Tyb5nrFl3kd1Gl5EnfifIzOkgQ6xDxgfj1frmSNCLYaBxCmI3jEhWoYMZdQxZBi3dJhjgnprPuy/Slh7u3NaMDmQcCyhJfqFLBXzoWAYb+cOB5zzSrxrZQI7qDzlFdpIzc2r6x5kaKRuWDCDDyBwykrwNg448ChnBkCR7OaGSw+KMRslBxpUuEcjgSJJ/jHK/i++T05Jr9MH92BSMYv/XkN/uQea27RbPDpeRAmMcLwSCrZtg7B1m9Ke/yWonszXYwxhu9IbGgLcTA+w43RGk0094keX9bAh5xnFsm9rPe+e9EoFEYHoiQEZz5tvnr40FCd+jKyJjG2HCb3BNcl8wkZ6ia8lgulNAQpCd/iB36V06kpz3OTpAxj6d6nP8TXpOYk9bjwrUCBxGAI4Pwralx9r2t+CFZB4BlfGe76dvV/zsF2WvvRuiYp4Gocbfrq/5vDe/aHRG/TlbIpAI9BUBMoJtJ/Y00aNk2O+RUOgh+PVkG1nDXo/qOsnTfIeIZQjI8yt8TpULn6IdPxAMRnKKA7BVg6BD/oYd3AbNd8lBn41gLxmofwhkrdP+F0jls/BDguhCsJKL+sqPID/ZyAi8qNqZyGC5FnueDzGW5rnEVcj/bm3vGPcn75FBEnwDO5ggc8wRvh7fMM6qFSsS9+J3CeLz26JPdqsTmxTs9zv6THyOjontcQNHOoY/hPgUM/MeVYZtbNo7IcbvkUkSavmDxoZOjGN7xGxU14rPCcAL8ktsMqZILXMlKjP5PIjftj/mSLWoTENQ8DNcS8w6iF8+L/8NNu14caf+VdwhJih+5/7WQWxNynd1nShaGst8eKjPIquttbEWWCFT2AISpvvVEBxsFn6ttYHUgrt4OoJUwoHGvhGjhKl1ZM5Gogei33o17kF0iaOTLWLb7SIthBP5Y+23G6LOeJoLce65+WvumsPWgDls7iHIJXFE0ZZYrs+ZV/z2iH0oGJFo4/M+Qx6JaSKPVVWO5Kvrt2SXKCrTR7aYmIY5rt+eB5/gOTyfeWXsxFLYqIEhedEZR7I2oyo/dkrkT+M69Mv6NVcjCcPaIhsUDSElrR9kINsU5uSl+LPv4V2se7EGdq35J06h4tW1YdGPY6HEVMhuMnO8Z11PdP7DRjwpbGjjFHyPeRo7eRoruhARCGNEYsSNfN+W5MaCrDBuYjVRnS6O31mwF/yTOLu1Q5bDwxyWVEFmu771JS4WuxKI4VgbSFc6gXyKI71GgwWeDUcRSbHkLhJTH/EV1i++wDon6+Mcb/PJ78SVzCuxfnaJRFZ+USQL6YO++9m8ot/JqdguHZ5e1gf/yFw01+gx16Hb8SvkOLlA51un7tmWH9aQPpPrdAld51q+Y710Vv7GzoRRpCI26Lq4G3YM3id2M4GB8eJ3GR+2Sewi4Wg3spAMohvpyeg/P9Gz8x3F4IwrOdItTqLnxC8BY5sZhs9EqvQIaUoCkUTAGEzEH5KLgKZoGY5AMiEJRgKPIUAYY/sJBYvThPd5gWnXoThU5nKQAe+7hJsFarKZGLH1JOLZJGY8MIwYsPpEUDJmLFzBU5OPEctocj1CkzIwMSgyBrO/6auMNBPEYpVhLrjMyHBtk8bCJyj8bqIHpbsmA7hz24vRLPRB+QyFBStEZLeNYs9ovN3DomNkxjkkFD8BZOHHmSEElvlHMPssoxVxHwS7ueozjAMCjiEh68P4WxM+TxAwwGWuEUDGhqCQ1EB5EtbmbueiZ7DJBqF0fZ+DZE7ru+A+4cpJE6g3p8xvxIPrW5McNZ+1tsytOSlM89hai8oyioZwY+AicW1549owMI8ZUZS/sUHiehbf8Ts4MPoIec+t/4Sfeen5GeBRIWFNeSbCXn+jeo1i68W4E/Sy1hjRvThXZ1DWT/ZjsBAwx60/ZFs42/3oIT0QZ0swWjgVDBakLtnE6WWoMJjILIYb/WrtkyOcMsalFxlAd5FD1jsDkuFCJyItyUjyKwJC9Fhs987xjjN+JdtEdhtZoQ9kpHsjIl2HTuaM0fcMODKGAUh26Kfv6zeZIpvdNUc6x1hilb/F+U7tM470ib6W+MLuEIjxTr/T3+QDo9L1/V6QyRiS9wL3ntUzcZBcF5HrRU7SH5xCwXv6wHOwIRDbrsXG8B0Ogetw5uAuSYCOQQjAnP7zDMhfjkU0ARrOJMeDPI5jKVwTQS04x+ZBNMiohhObBrbIZAYwPeI+npODJzuUEcwxNy4M+n41RjWbil7Q52yJQCKQCPQDAYEr/hc/bazbpLKX2bRksQCa5jquRzeSsXQGm5PzTw8IBEUSpKAyWcz2Jrv5sgIEviMhlAynF+kCfqxrxDZu5D6ZKfAjwMS2pZf4NPQamS/YKBDP9/V9uoveHE9CLZv5bZtvVdZf7wnOEyrlgSajXVZ7vDz8PP8jgRHBzTPNfDW/m795b5KTZnv3e38P0rgfg533SASmKAJ8ZoHfIEXH85gStMmakGF8cL47+55diywTXwv/nw3NvmZv8vXZpQLhcX5tO37AhiW/kGSuy/YVCxHDYxPzT9pNoJpfIEbHRiUrEStkLduUD8P3EIdr2//IEr6DYDXbXuBanMH32OfkGLkoCC72ErsvjAcv3yGPBfDZ0GNtfA3YdnsbXtVG/KHYopVfJUjOrqdf+DIIemMhgO7zCgO8/J4/wQ+hDyPhVVwM4eEz9JlgvXFz3djy1XjAPWJC4mLGPaotAx/9icpZOhIBZv6YY8bV35CnxjVic+Jj+mq8+Ix+rx/0LGKD/hXXE48Wc+JX0anGxbz2Pf1DmtHZcYSOz5pjxjHODRY/M7c9F//PvelPvrvndj995fvpo36ICcZ5se2KurHOiZE+b0z4jmLcYz3flM/PVqDzyYix2jjj6X9UucLGGtbIDWs1YoyRfGEbVfYOuWFNmi/kA2IMWWztIm6NF/mh2hohY36LuZuTbCQ8QXu7VPLD+JnzYgfmItKHj+1a4pX6RGaRF7gLfUWukzX8ZOsEGWMemafmDnvN2PvZ5yWB853FLCIJpJOcF3+NMTCH9AFJxL9nD0aSjOcyzn7HD/YdawM+vqNC3fqCa1Tzx/h4JvEW89x6Rixbh2xRMR/z1zx1PTajeI5G7orXivWIrVgv1olxYDuK+SCkyU1xC31BMoYssRY6q/rHM2fm9p0411b8utc7gc6tH+I95JOxIRfNBc9uztAt5DiMJWPSO5LYyUjzxdiZv8aUzDc3cUXBBXhG+kg833XMO836NRbWgflK18CAzHJtstDfzX+xHpyA+7iWeI++xO6y4ll8gNE2ayD0O2KSvmZj4MboUM9i/bo/m0FhpGQtxQPmCHuB/JT8Q+7oE07My5rzOz5LHG2GP/CdkAGRZOOzsDR3xQPNc9e0nv3NGPi/54UDjs93rUu+EIyjQh3PJj5H1rNt+E5teS0Wx0/jf0VxqfXi+ekBYyPu5vpw5oPBQH8kisDfz56JLQJvto7vwiL6z2byeWOjT2QjORAJKqMdozl9rufErxsTkACjmGIbxLF2XJA6iB+TGugCtphxSit+R/GZdAK1QIotCoFK4ZiYgKeINdkVmHfXEtj0QvCZ1H7HYJCZTVhafCYsJUGQK+VmCOuXBejzMRkIaJNNENoEQPQZPIqI0eD/Jp5JiOBjJPi+nxk+nsfilvlImLi+bIqJKGYZRcbAxOw863Cs4zGZnw/iGr6CH5R9NxshgFhmHBiv2PrTPcwbDoZ5IljuZ46GeS1IhGCNrQTMIwrZ2JmLxtE1janvMAQIFwaDuRBbGfudeU04mK+uY16NtFWQe8oU0V9zrb0ldJzt6HuEiHkc68CzMGZ8P+bdnDIRBY18pp10wFhhnMQ2OtaRa8XcZWTBgTFOWDMK9IPRxNBHeFi3rmltWJsErPnN2IIZ4sEag0Wc+YLg6AXpa70ztBDMndt1d3Nu5bUSgZEQsEY4XtYR46Bza/deokZfMpqscZl6suesMY4qB4gushY5E2STF3nGsaIXY9s3zrQ1LQHEO3lCJviMBCbyx9+sNTKczCODyEg60O9cN87W9jOC2buANXnGwHIN8kEfGUX0qUxgzonvk0Fkqut6Jnp0pDMy9I1s08id9hZcDPOQUfQ9GQWHuKfvMmTdn8MRNoC+hqwm66PCV//ZD/qPoI7v+6z7wp/tQo8w0N2fQ+ueDEOYMDD1F56eVcDe8yEE2lm+ZLPrkbf6Qy+4NtyMqc/qm/6TxV6uKxBH3rJtfI9j6GfPTtb7HXuqV+erd85xmHIuZQ8ztjsztnu5JvLaiUAikAhAgDPPNhXkGEvjn0gAJZ/JfE0wR1CI/NXI5dBRbGn+n0AcuR/y1+fIbrqEvgy/g54QyI4t1+gOuo9+aPu1rume+hK+CH+TLqOj6Xh/1w/6bCxnUepb7KpxShPkXwBZ226I30oCP1DK/f97Nbq73Hd/83Pz8n7vff//Z5/xd6+Zu6HNJH9dF0G8AIK4eS3YvPw/fq6VxVlRPJb5mZ+dPgiQHwiO2N5wPE/Od+fPsyvZmBq7lC2qsbfZuGQXP4I8YruRZ2xoMYggpkaKH7gGuRjnriJ22Lz8hk5yMD4r3sL+9xmkZRSXkGliHfyQTvs/YhI+y7bWJ30W1xF7cF94+d5EjkMTjBabQVqNlZDzfDBCsvC7xBmjEnI8Y9f5HddWccWHcH1EaegonxU/5ReKf8GIruDnae1Yq5/DlxGfhKk5wN+i67SINfJpXEfMh96iiyJ21tk/88DYis2Kv/E76GA+YHzX79uxOUmw5pt+iDdpdCr9xL9DbPBzPBO9Z156folW8HDt0I/mskZ3+x3dGXGytu70TGJv/CRrIeJ95r/n1h9zQMxZLLmTkJvIWOozIsNYIShiu9GxXtN4IhXgEefmjtUGGOs9rVl4BYElxsmOifXLjoFl+LrmgXGII9+Mh37zWckjtpHvs5lgHP6zeWTutOeJvroW3Dyn8fMzeSWWbI7qj7nh/8ELiFGQEWSKsQwuwzjw1ckcMZGocNUfsix2G52bLNMn+Is5mCv67D2av+EMrCtrtS3fyFb2m+eI82NHSt6zHlV4+oyk83ZMhK2K2yBjPFvEmsWsPbP57LmsbWsWNq4j5mNtGS8YxniIFxgDRNZEOIu5zSv44pWQ1AjROEt+rHOxW58318SpjaExJ2/a3AT8JbGb93ShMQqZCm/r1xyBK9veWOAIzFOxD58379tcgM+K9cA+Ym4huzq5JGNF/sW6IU+NuX7xKcazixtZKHZprOMsY/0wb8jpWL/mgErfiIEhW3FknocsiGeONU92uo516NnCn/G72LUkbA1992zkv3kpHtfm4VzfmjFfjIu+uK6mzxFHI3vIibAP2BNh28QcsQatNbEwL8016U56zXj6Gcb6SWZ4NmNpTH1H/FPf6aj2/Bip/zBE3tNp3Twbvi/EL3BkAVDAMhO6TdR1a+HO7TqCn1h7GTIELMJRNkE3B6OXzyGbgnJkIFhEU6HJWmJcW0AyaUZyDqbCc+Yz9A4BSktWp/Wt+rmfhFvvniqvPIwIMAok50R1EYdUosNEd3kYRiyyz9MTAYYyEp/DTCbLeJR9OZbz0aYncvnUiUAi0AsEBI9lqm/X7HSxdesM+l7ca9iuKTAls1+CzkRIkv/z3JUwbpHFgiwI4lmvhjhHGnshlmsEpkUQL7hAKQs1ryYg//8J4oY4tuV0tkRgGiIgwKsiUYAcCZytdwiIcyJrVNpNhLAVNBa7U8WkgpAt3E3ysHcI5JV7hYA5wT8St1J5Jim2G1XEiH6VhogNfpfK1Db52KvnyesmAmNBQIKGncfIRMSdZKau2p5j6Ux+dlQISFySbIMvU3kreWCYd50d1UMP8If6RvzCQCk4g8jWLLYG6Iay6he2lK2AJKJIlpCMjWEgiWQgyOZifNqGRcbUVGoyTeJwbhkVDBbZMWkcT6VR7u6zyPaRRWMLGFlAgnq2Xs2WCAwCAnSN7VDMT7sPMJhsASRrjYzrRcX7IDx39mH6IWCuyzaWCSv7VPWAxEDyWJV0zvXpNyfyiROBQUPgn02m/NubqoKtm63utm3Ik2xl1taqqo7GUy3QNQyRxCqFgxy+pyGI72mI4Xj5PRIZ6asyuKmuqGTwwgs15HBDDCOI/ZwVw10bkrzQYCKgosiWkHwKhFG/dm8ZTDS63yvVXopCxNvIxW6dyadyVKEJW1lVoy1be3FWbPcRySt2C4HY9cMZl+K4CpEQv91uqhZtiy32oCrUUU92AZtqseNu45bX6x0CKiQl0qiWVGWKQFTlO4xFhL1DaXCvrKpW4aEKX9WrOMCM7UzeePWV+PWYtgSw97jydPvFO4OhW8bR5ME4eHeGryxspenOp2AsTuUmS82WFM6IoCRsr22LGmX/Ob+m8siP7tnIHWQawpfzZOsSZy/k9qGjwy8/NTkI2NLHOVeSjmxBYtsT5K9dDmxnYouRYUqgmhwU866DgoBEG1vvSEiz1ZyAlma7HttkCTAM8zEUg4Jz9iMRSATGiUCzpWmzV1lp9gArTfSzNELKGS/lrsaGPLrZheD3jW/xwWZ3GFtGTsfG13K2m2QdidwCOQPfVAXbWjrI4Lubc4jvurv52TbTzQt5jPitlcINGbxIQwpXYrj52dbS2RKBKYIAH8LOb3ZMs6vQ65qdDMa7TewUgWTCjyFh0e5ztlK1K6AChF408TxHtanOVO3mDE4JkknK9QLtyb8mXavYCGnC/0d0OVNWfLPXzbbnttsWVzW/JYmYa3w0W6BmcU2vR2D6Xt+8J+vEbMlUxTriXpIQzEHHJfa62XHMveNoA/Ndpep4d0y1o9/nPve5ut2vIwXHs36sRVs/2/mh3Q/bTNvyWlGis9kdLaAoTmyw17ulXXHFFbOOIxVXbx8ZMNoxEufU5/FgEvfwvLZxjmMVbJOsKty1+WqSpWzJ36+Gg7O1NnsrjvZBdptDsYW0Pkvk8b755pvXdxyFbaed6d2rses78RugyyZCTHq3l7ZBGekcvn4N0lS4jwlu33QTiaBkfJo8E1lMw4iLfeIRJYwWJLC97hF8soRsCdHPxT+M+E2FPhOgzvhhOHCSZBoRtrbOJW/SUZoKozy9nkF1pLNubK+INEOgIdJkfgu+0p+MYw5ar85VmV6I59NOBAFnHzG+OXCCFmw9hjD961gG5wzJWPf/Xp8pNZHnyO8mAonAFESgObKnEUilKSEojZAqzQHoDqosjffdEH4N6dc4343RWJoswZnvzRE5DzSBBQGWL3zhC3VXAgGc6ZKoIoBhFxJ+O9n93ve+d9YZfUM/O2wZjRQOQvhOpHDzM7JYpbAqYWTwjIVnviOHs0J46Id9Oj+ALTORlc7eE0zfeuuta0J0ttEjoDqSLrjsssvq1riC7v3QB44fEOtDCPIJxbjsCiUhmA+Y9vTox3DQPolkRfY689H27Pz75z3veTV2Fedb9rvPSDBxB3OOL+e4Q3NuvfXWqwno5EYmj/R7VKbO/cQFxAniTFu6iRw1v8g17/2OaenThz70oXqO8F577VXPfacr11lnnXLggQeOmUdgP5PXtqZGKI9nvdhRgp4++OCDa9JPNGfKss31U7wbMW5HAPwPudHLRiY47sX5uPoV5+uO5Z577713jQUhtMfbHGFhJ2Fcj3g/ThFWiFbHzMKmmzuc3NkkCNsa/21ve9uIfML3v//9iov4liJELc6AP/zww+vPzlR3VjidLdHGWeG77LJL3f1Of8dyzJ8jISRGjIZHnTTiNwaXkpN5iKSzsFV9eBmsbA+NAANQRZgJQyHLtjDhYTjSAe8PfcWp9QmLiTKxTQR8BKMt/nXXXbcqE/NMdkUaysM77rJpEAyI3ksuuaTIQCL4GcnG2Ba5a6+99tQJUg3vUGXPu4QAo0PlOgL4/PPPr8coyJJEADMiGM0MMckOZJzscEZEPzIlu/SIeZlhQKCJi9/dBMmv//f15Zq/XVOuuvqqGqxg4HKUZCyah+YlnStAkFvUDcPAZh8TgSmEQJMA2kTIZxK8qniRvU1ybCXvmsBqozRL4zGXJjO0NOnhpdmrc64Pz97kaNu5gLMtwELOTcXGx5Q5LwC2zDLLlHe+851Vlk+LZoto5wojgu+8q5Q7mhdC2O/na84MVhX8sEVmvhZOMnhazIkp9pAC3GeddVb53ve+V/2DzTbbrGyyySZTVp5NdPhsW6nyCl7iRi996UtrtU4/CN+R+s7O5gcKwIt96JMCB8k5gvB8v+lW/DHRMe7X91X/8ZUkDojjimGJZxk/hJcjFMYS/O9Xv8kMfRZv0+cbb7yxEmHIYMSDHZzEIfh6WWjTr1EZ/PuIvyN1yVCyCpHJljbnzRVxWgSg+TNZSQ5tFBUOIVCRqZoECPa+oz6dW6uJu4nFWafttaoQz+8RvOEb4CMQtjgv11pppZVm25FUQoVd0Dx7O04CH3EVn3/ta19bdmyOm5Fo1G5wtIWyilGVvna5dOSA/+sjfk3ckLwRF2xXk7LxFZKojB3Pud4SnvgE73nPe2qFrXuSbcaZ/mmT9u7jM+RDfE5f6c+ITwYOgY9+q+RFcLuWOeQaUTmrAEaRH9zIG4V/+za7MnmnD71U28b20grD9KM9NoGxfpBjmmfwe/ck8+AU93RsBkL3nHPOqeMyY8aM/7MA7c7wzGc+sxK8moJMcpNs90xIeSSwhC3nth977LH1PcbGc5oznQWLnf2Hl2tJxtUnfZkbpzXpxG8gJRtC9ty3zv9WVSYLLbJAecJ6TywbPuXZZc21VxsIITAIYtUEt5gYeoRSbMGx8cYbV2M9g6pzHyWLl8Ix1xgsfiZQCGZBaS8Cyc+TZcgPwjwbxD6oeCQEzXlKkNFASfqdJAdKi/Jx9rZxlEmTLREYVgTMd8YMQ808N+cZK37HGLGFvTkf5K7MMoFZxlH7O77LMfMdBgVj0DYxjBUGDlnnewy+Xm0tMqxjkP2eafwKLplDnAsVBv+47h/lj0//Y7nql1eV//7iv+WR9zX6c9nVy2qPXq3K3ses+pjyyBUfWZZ8+JIJYSKQCCQC/UHANs2NjKrbMzd2fiV6VfWq7m302yyCF8nbJMk2nv+EKjfp49NOO61ue0wPIwAkGo4UBOgPAN25C5kvYRbhK+glmGtLWLZ1NhGhJuPJVtGI4DuaOXdXs3W06mDbQqsKXuxhM99tHZ0tERgCBPgN4krWvCR5u2KpnlENbP1PV/JQsFfMSBWOSkx+FHLCNtkSywep8RnpJPEtcpvPKCgsIM4ul4Dpnd+YScD9HTmBfv6TMTGfYgck8UfkiGPpvNgRsV1pf3s4/rsh9PiFVzW7ppAdqjeRHGSKOKr5Jq4qRiHmoNhGvCHP+Rw/5oP6TWNu7JFW4lD4CgSouY+wQswhSJFZiF7yyJwYxAQBBYm77rprlftRSIfoU7VrruMQVP96Blv7brfddrVq1dref//961q21pG0jtzENyDoJIoifnFd/AfFaOLZqjzhImaHxH39619fcVTNav3AzY6ujlhBPrcbue/4QnpKoZvqW9+zM5EqUnFzpLN+iuXYdhqhyXc55JBD6jbynmfnnXeuyV9jaXwDldCIx913370+l/7DyMszijseddRRNVkW4WrLar/X7/e9730VI/cmR1TuIv/xWRdeeGGVF0hU59ybK/BG6iJVYaai1/EzKmyRqr7ve/wukBNbAAAgAElEQVQxOlEf/M7xsipxHTdr7vFxYOLaUZ3rs64hwdVzGEfjAx/zgU20zz77VMzcUyKArfc9d2dzDrXCG+NgHcBXIoFmt5UDDjig+ouez9nVSGH9cX33Ovfcc6tuoDOMubnR2X/HuCr4NMb0Bx3//ve/f64+6MAQv23AbvrnreXMT3+rnHHM+eVRqz6i3L7i75vMgIXqYHM8PdicGPaxTNZB/6wJKxPCoFskJoUsA8F5GJj0DFALKtv4EIhqURhblN4pKEaabBSECJLEwrIACQBCC6mYVcLjw3xu3wqSwbw3DoShl3mvitffGZLGhDNKGIdCzPHo/njkFfuDAIPYHGd0MBoZftYA+SQAY75T+nGGBoNorIEYAQzXZAAyxL1f15xliEiWEWj9MATdLzLhyDv38jM9g2z2SoetP/Oil3dhXxh3c4+j5sUx4WiYF+YKwpdTryEzzA1zYqWVVyr3bXFf+d1Cvyt/vufP5cEZD5aHN/8e3fxbo/m3ZvPP/5du/mVLBBKBRKDrCKjYbYIGleBVxdvotEZgNZWXDeHWyKi6RbPzZ1Xz2rbZ73vU6FYOuQAE2UlXb7TRRrXqaljOApZAKdChcoy/Sc9LJhaIEJjI9hAIIINVBd92R/NqyGCVwbaJntFUBSOCF20qAmwRnS0RGHAEkIUCtIKPgqPiIQKu4m9eAtrj2apywB+7do/9i7hCnpKDbGLP6mxTMl1Aeph20+Pf8ScF/MW4kDHsfvJd0i8yTgxFjCsIuUwAHt9MRXrxmcwhBIZgvxffno3AZ2cPiF0hSpAC3dx+dHy97s23FHPxKaNQQ8zB3ION+WcNiaNaW2SLF2wkKXhJTOj39r69QWJqXTViBuSKl/EVqzXHEYr+LrZAvoifkyv0RZD+w8RXjET80guIUfLUXBaXphMRrgcddFAlXY888shKFiM2+QMSqpCQYiqqOxF6dmOQPOS4GISknVrZ20Eqs7t9D8EI41NOOaXGahxZ+clPfnKOxG/s3KHKFO6qcNn1dqawq4B4nmsgHhGFeCRbLSNqkanur6hwLGsP8YtIdR1yD5mp8lh8XlEiQtjzwOmEE06ofpGtqWFBB6meRoQjN22dLL54zDHHVLz00XEK+qk61m4bdjlkn8DO9tv0lf/7jGpopC/CVh80pDu9jVj27DDVH/odXoh413MMpBisCmb+HNmE3OXXuW+Q+7bqNs9twS8RgOwaiX+ACzzc01wh6z2jZo3A5rDDDqs42LXXLlIS7+gM/XNPXKd5RXefeOKJ1Q5p9//b3/52Ja0R0HCWWPBQXMjAEL933npP+e0P/lJ+/rUry3+uv72s9sQVytM3b7aLWG/Zcvd9d1VCzsB4yRAQjKQYgMLJDsOFoBm2Sj9VvJEhQzkyOg28SY/okuXBULAALK50wnuvSBlpDH5zzcJFPhK+hBOniNFCMJpvxsOCjv9TbALkFN9YyZneP9nk3IERCDeKi2HcJhkYDQwGgSfClPEMuzAIGQ7WN/ILxonp5Ixh3rU7CJjn5AlFLjuWjLEuyBNGEFkfWzb3a6skBDMD1ivIP/KODrI29U/whz5iZFmDEjDIOS/r0nr1f5m8/mYN09E+K5szyeLuzJ+RrkK+GkN2kS1w6C+vGFNzzjj6mQ4znuwO42lcJDkZKw43e4MDbu7RbTGuc8vIbe5W/t78a/I7y+XNP+/NbCrzNf9WaP49rvm3bvNvtebfMs2/bIlAIpAIjAoBlZSqdlXxNvqykrxNkGlWFa/K3capr1s1N8mZtYp3EptgmOCPM/r4cfTf6musWZ705A3K2mut2sjWR862vdtkdJXsv/bafzZc+ZVN8OOKhty5tLHJb6z2h6CNjHeJrtkmgEAT2KlVwbc2RPCtt8/8/zzN1uKLNttCL7HYzHfbRWdLBAYcAX6AoKcq0jhKiR/ATpSMisAS2GczDsNOaYKu4hB8HTE3ybZijIL07Gh2r1ibgC1fbDzbXw7ykPIBxF08O1KYnoJFkDb8AX6AuJYxjhhXxLYkgQ4T+d2NseBj8YFhF36y+cJPFtSn9/0t4lfwE7sSn0bAwHGYSK9uYDana/BT+aQwQxiKsXo3B2EIZ3iznfil1h/syJeINfiZrPEyH302YwxjHzXzVWxW3EBcIBLBxQuMjzERrzXnjQv5COcoEiAbgrQ3x817YzOIFbxjRWck4heZaLtlPI15q7pSjASGiFU60u9VeZqTCDz/Fw8jJ1RoIutghKxE9noX90OMxnbRiOPPfvaztZIUKYwQ1RC4CMzOrZ6j4heRaU2oAKWTd9ttt0r8Ij+R08YOcb3ffvtVHScBxbWsIWMrJunoh3bCKtIZ+WpMjz766FlbIQeencTvlltuWUlka9c5u1tttVVR/YrYVGlsp4w3vvGNlWjVnKVs3R966KG1olbfVeFqiEzEsM8iTSWPqBz2vK6LoPW8b3rTm6rvorKX/+X5YKHBy7OqfkYOI9Tbu+O6pq2hjZfdFhydBysYIPHpSH33OWPh2awb2yojsGNr6M75hdB3P89j/bCh/BzNkayx1TPi15nBtnr2Qj7DLhJokLkf+MAH6th19t/1/F7182jOdJ5U4pdfdNUvry0XndtUOP32urL8ykuVDbdYs6z19EeVhWbMfYskIBoE7LwFaBJQJBafgTMRDKxFxJkV0LQ4vaJqySD3ynhhWFpEDCkvQdgIvjK4IrhOoPqbxYiwji0xGNLILobXVBCgYxW4g/x5yi+MFoaflzGlJM1LCpRQsGA5R4xoc47xYowjyy32tPc3/6dIZzTbgy3cnBU177wL1u+aFw+VvdEPrMznJtLWzOn7m/l8b11nXgw4hkIYDZ7fnA6CN4yFMBisTfMZBhRfOBfWaBh1yKMkd/sxqnmPXiPAmOFUx3k4dJa1YO6T8YIKMtEkNQx6wIRMC8dX0CS2/7XeOQledFmQxPSf75Adse7JNHIuSGHvDE4Gopf/z5jRZPrOWKL5uZGB889X5YWX78bL9dpndvR6HLt5fXrBK84PgZOXYLwXmerFboB3m8gNeyJkrs/F91yPrmDTBM4wNa/YPWwg8847XUTOksPGoxd2UPM05drm3++bf5c1/65o/jV1xaXRcLUauKkdKY9v/q3S/GtGvZsQ57USgURgGBFo5GAldRu/bhbJ2wRLakPoInebQEWt5nUWbyO7BrmRyVf/5e/lNz/9XvnXj/cu1967evnjLSuUGYssPKvaCsHK/mULk8ndCKq3g9T0Mx+FHRIJrOzyBRZYsAkMzdvol+80AZGPN9Vsr2js7mar4my9QYAP5azg/97WHBbXvJwdrAJ4yYYEXmLR3Ba6N6jnVXuAALuTLyP2JoGVbBH/YIsu2GxvvtSyS5THPHzNstgyTTLrCstXmxNhEwnxZFwvqkrbcbfwRYK8QND9Q7yiSbq9ufFV7mziF+xjMTYBcn4Ykk4MbrrG3Pgh9AWiHxHnFQnAfm/c+XT8DHEt48inCH/COPMp+Bze4etz4jnejTlfYzJjWvpvnrZjWPyqSIgNv9Z7xLP4YO0YFp8pfCrzxUvwP0gvz5pt/AiYhzAXZzUG5qN1HO8xVuYjG4u9Y16ZZ14RU40E9PZ8jJiDMTRO1nokp8f8nOw5+lDIdcYQYj5H/CDiBBE7CLxinge5Hmsg8BNXgUnEqSMma17HcWDWu3U/bNuRPxSmI/0dgYg0jDN+fQYZByMEpkpRxwsi5OhDWy2rNiVjxKdUoyLzzKfTTz+9zmeVmchjGCP3VI0ikl0HAYpM9HkELJ20zTbb1ETMPfbYo3ZRlahqVp9rtzjj1449+qcKFIeEdEQ4Io4lo2qIXtsrqzp237PPPrtW5+qzWCUCuh2D5z/grMjtkY59QFwjkPfcc8/KhageRppbYwhf21/DJvQLYlMV6/HHH1+JbxWs5uSHP/zh+rNn3mGHHWpfEaUIYcQvwhepbqtmegnBHPd5y1veUj+LUEaMqj5WMaupYkb8GjvPZlzFXPWHDYNg94zG1Jpwr/POO6/aBghfSWHuHc8GR7LHGHgWyQ9sj0695jmQ0cYgmmuxMzTPqqJYUac54R7ui8w2XuaPdaafyGf3cfRGu/+S1oyhrb+R3cjkkfrSniuTQvz+5/rbyk+/8ofym+/8qSyw8Pxl/c1WLeu/YLWyxLITD/4RdALQJqlBiglLYQiWEnxAjAECagj9eO8MMgf55t2C1lwjArcReL37nrvLyjetXP4xb7OF5gPXlQfue6B+tl1Rw/CNSprIpCNUGU7TQZCOR/gO43fMiTYZSqiFEROkid9FcJ+wmXfeBxohdFvzu4c1wrUJCvxv7pgX8WKY+H8YKO2/URbxivkd5EgQMK5Jyfs5XuZxvPyuPbfbv//rXzdt+vibRmhx8ByYPtPQomRmktYztwKl0LwzECJDNJyAXjl8wzhHss9TCwHrivEnu86LQWGtWwsUPYOD8cFBHPYzAEczcoyPIDHblaixVRBsyEg/VwelOtdNYsnt/y6L3n9OWX/dGeW8n21Yk03a8su9yTevkG/kYMi+IIVDNvp9fK4tI+P3cb3IFo7rGs+ZCS8zZWb7/235GUk+D9qpoPn8zc3n7/mfQ9opZ8Nh8z6bIfY/wlafwv5oy1YBlHBYvZtTkekciWzhyJLHkxlYmdvcaCjtck3zT1Xwxc0/lcGqhZdr/q3T/GtOuSprN/+yKng0Kyw/kwgMMQLO3W2c94Y5KE1kojTedWmct5lVkLZqVsVrq+YmQar+PKzVkTde0Jw1fFQpyzXZ7Svv2HB+DzbBi2tmnX0maTl21aAXyG6ynzwPmR4BzXYyaCQPRQJmO2HI7+JadAc7nN2B4FB9ZKcsgTztr3/9ThNI+EgTBHpDE0DYZogn1JB1vfG7yi1NJfDNt848K3jBhnRfavGGCG5eCyQBP2Sjmd1tELjzntvLtX+5oVxw+N/KrVc28YiXX1quv+nvjXy7qSaFklFh+0YyaMi2TgKGrAtbPGzw2NmmnSgZ5IV3cZeI0bGl+VmR+Cje9rPmmr9pdM4JTSB63SbhZoEk6MY8b4NMiirAKGiJndy8t+NaQcy1/ayIYcV7xLXaca62Pxf+TCSoxhjzyfzfPeK9Hc+KpNp4D38sfDnXDbIriGyxKvFYryB34+fww3qRKDvmgcgvVASs+ZhvkewRu11FjMHPnfFW34vk9LY/3hlXiNhC+70dbxA3aP+tc66OFE+I+Rux2Ji/EUvonMvtn+Mz7ZgEHPQj4gchS9mPkfwdyfaxK1v8PrbU9tleJOMM6zQ1ZxCTSEYVr+aS6k7JMAhCPI4qWokJiEvbD6saRdp5GR9Vq2eeeWYlB23hi4hU/YsERsr6u22PEccIRoSl+0nQ9POpp55atxL2O//HZyGbbenrrNiII5oT7oFgdG07DSAO6TzVsu7rHvpA39p2WmWs/vuOeeOatjBGPB533HGjnguIzDiDGJlrV17XVTUsoRXpqxoV+YpER06Sp37vLFtbFyO16RXVxO6PiPVCdjrn2NbYiGnbVuP29E91tfvAF0GL8FVJjHyGGcLdu/mNRIYJYlk/EKi2woZVFIA6O9k9keQqmFU424IZgYxktkW1bb5tJe1v4rlIWGStraA9Q/hU5rz4L2IfKevsZw0nqVr42GOPrcS+imX9URWOfDfPPvOZz9SCIJXdvudv+kXGqOjVN7hG/80zOPo8TN1DcgEyeU6tr8TvH3/1z3LB6ZeWv//hxrLG01Yoz3rF2uXRay/bd7lAyIaiiMqayJAJ4zHIXIohBGxkxehwu/ooCOOFm2rNVX6ySrn/nKba8+QHyozFZ1THPbeg6PsQD+UNzzvvykbAX9gI4Gc1WSLLzqrkamdzxfycEznbJhoYHEE0tDPY2oaK349EKreTIeL/F1/8iCbz5t5GiD/YbB+xYDO3c5uyoZxo2emuIGAtMnqQvDICGWscSgaGs9cpfMbdsB090BVwxnuR+7/dBEKPL2X+5lzGJXZsrtK8Ny3kWmxPHM59yMFw4tpVtO0AQGeyS1tOur5xC+cvggmdMrPt0I1EIM/XXOOGk04q9zUB9rUag36+/wUVwlbgjLUDHiF3/T6uN17Yhvl7N5WbypXNP0Twpc2/65t/KoARwOs3/1QFL9/8y5YIJAJDikATZKskr22am3OVGq+4NOUbDdnVVDw2JGQleZukqEryNgGVKdHubp7vsg81pN7fSll3v4bUm7MjHjookqIigBm7Z6g2Cts/9BQ7Po5diOTLCObFbkJ+Hs32h7feem2z/dyeTXLRcs1WYQc11514EvaUGMN+PYREMNtB39icUX17cz7wws25wMssObMa2DnB2RKBIUDghl88UK44/t6y9FoLlHXeOm+Ztylkbzeyq72bTSR9eo/da8i5IOoifuEakbxJ5gWxEcmRAuDtSr7Y+nWkBMhTmoqm05rg9CFNtc4T8+zyns+qIOvbuxO1yfr4fZukbRO54asZyzapz0/rJN06ieRIKmi/xw5S7QrknoOQNxhYBCKBLmIIIxV1RaJJZ9y1TdzGnA37rJ2c4Hft3RsjcSDmb5tI7ozJtuMH7d3P2nM9YgijsfUGdiAGrGNIVkRcJInAWAWuCt0o0lOFbqtec0dVrhig5EoFHs5jZbezxRGPdvZB4CEuJV/a8Q9ZTK4hNxHJiGbEqe8gMh2joLkWotM2yPrhPrY2DqLR/U9qYk/IafFH145tjm0tbdtif0MGknsXXXRRfUfYmm/ODLbtvx0bEMZjOXdcpaq+aSpgVQzb0lplsKpa/XAPz2g7Y1tYw9QxCkhMFauIXQ3JqQoZyXrxxReXDTbYoJ5FrCpWnxC1GpJTzBUJ71kR3CqdYamaGbkKe0QwktfW2pqKXzgjhX3XWCFQrU/kun6rGpbMxJ7YaKONKrGswVGfkMAwVsl8xhln1OdDECN52+vP2Pp8Z/N8nhMpfeWVV9Y/qwpGKtOFSHGkvP4ZF74gLP2OHvMzgjz6j/zGM6oClpBgnu26665zPaO558TvfffcX375javKD8/4XXnwgQfLhluuVZ76otXKIos1js1UbQc0D9b4buWQqfqA+VzdRuDww3/SCOdrmv3kX9gohcbhH9DWFCmXgw+euQtfkwjTKKIB7Wh2KxHoMgIMe1lctt9gdDAABBhkoiF6KXRVNWl8jwP4u37RBD0/2kR3moDz0u9qtkB8wjguMvlfub8xyn7dbNezZOMgrN5sf5Nt7AioClYJ/Mvm36+bf84ObmrfKgH8jOaf92YvibFfOL+RCCQCvUfArkhN1vEskldFbxMgaaIlpVGQMwle2zU3wY8pQ/J2onrNWc121Z8u5VEvb7albs7manbHGfQmGHPhhYc21cgXNhnjRzTVTjODTtn6jID1owr4383eIbaDVgG8XKPvmi10syUCg4jAnTc8UC49tjkn8toHy7pvX6gs+8TBlncXNTsz7dcEbN/eVFu9kj7KlggkAolAIpAIJAKTioCqY7FVVcmqb23hrJq5fSbvpHZwCty8Z8TvHbfcXX7UkL0/a6oYl1lpibLpdo8va234qCkA2SgewW7Qb2leT25e7xzF5/Mj0xYB5+Xuvrusn9IcXL5ZQyQNh3PfJBA11b9NIcO6palQbmITg8tVT9u5lQ8+cQQYILZfkU3lHCvZl86ykImG6JVNlm0CCNx3XSk3NYLknj83FVE7lfKw50/gYoPx1fubioVfNdkx8zdJAU/afff/x959gNlZVI0DH9J7CIEkEJAA0hFQQCzYFcWCBbF3/dS/qKj42XtBsTfsIHZAQNBPEARRESkCUkMPLSSk97LZbPI/v3cz8XLZcpPsZtvMfd5nk1ved+bM6WfOOeHz791OsN4BtfZnoVfw3fG6Ml5Xx2t2vLaL1+HxOiJee8crmiH09mWU+RUI9E8I6MGrJ69M3ltvbQ36GnrwcqqHnKwyeaOlTb8fK+4NOHwuSkhEwO6AT6U0Ntbdx8Zdd/05AsBfiT5XH4kWFUf2sdn3s+nqCTxvYWtf4NHRz3pKlOeOymJlFAj0BgisD1/XnWeuSff+qTlNe+HQtOexw/rCGZcKdDPjFPu7o0TjEZG988Eo2VhGgUCBQIFAgUCBQIFAz0HgrrAl9fSVQCPDXv9gfWvL6DoIdHngd8Xi1emSX9yYrrnwrrTHwVPSc950cNppz+26bsZ95U5xYDe9Jq63xhWHvssoEKiHwNy5K6Kswp8ia3Zq1KV/cp8DkBZtUXEgylWkqLUfaF7wvM/tYZnwwyFA0VCqRNkQJUmUINOf94gjjqhKk8joLaMrIBC9c5ecFtdvUhr38ijr/JbIiuobh14aWn1kT13/7W+n1VHO9NDo+yIIXEbXQEBPYD2C/xmva+PVFK994vW0eB0ar5IN3DVwLncpEHgEBJaFYRN9l6ogryv600aDvdagrnLNUVor6lK19uQNw33AjPVRqvfuaFFw/5mRyRxG37S+3St3wYI70p///L7YyhdGD653DZht7LULlQU8b1FrFvDIqJa2U5RD97eMAoEegsCcf69N03/SlEZPHRRZviPSqEl9ryT5yrD3jv/zn9O4KKF4khKeA0lm9RDelMcWCBQIFAgUCBQIdAQBvtjSc7p7cKTLAr+rV6xJF592Q7r6/+6sMnuPfMvBafudo0TRQB4zY/GqPX4+rnKgcCBjwiPWftddC6M5+/lR9/7A9LrXhbOsDw+V/KK6aVXJL3qMR1+CPryYMvUBBwHBXVm9F198cVVaRH+Nww47rOrvsO+++xblo6sxoinqxC/4TAQGIntl+2AYQ/pvJZDboufG3MCtwz71qTRyIGS8dTWuNHA/paCviNc/4uXf+gE/I15PjVfpDdwAAMtXCgTagoCA7gPRnzZkYjSeau3LK/AbfWMrJe+gKMcvo1eP3qiEMWDH4giA3xxG3ogIxunlO6J/9CNvalqSzj//3Wn8+EelZzzj81GVaAAF8nsrMke7rCoDeO6CyCYPOtw5Ks4MKRVFeut29cd5rZi9Lt38w6a08qH1ab//GZYmH9q3q60ocf/xKPv8ULRp+X708RvBkVFGgUCBQIFAgUCBQIFAgUA/g8AWB3717f37GbekSyPL99GH7piOeschJeBbiyQ3x3/eHdcP4tq3n2FPWc5mQeDmm+em97znguiRe0Q68sg9NusevfFHeqD/5CcpmqunCGqH/6tUJOuN21TmFBBYvXp11av3/Cj1dfvtt1clm5/+9KdXmb27cGSX0Q0QCKflou+ntPzcKOv8/gggPL8bntH7bnnfBReku88+Ox0STdHHR/Z4Gd0HgWVpWfp3vC6O123xmhivZ8dLIHhSvMooECgQaAcCS5a0lmy+/vrWQK+SzTKgdt21tVyzS1/eOBhVRkCgZXX0Mf52SnP+mtLeIc92CsW3n41169bGgbiPJEHgo476bhzuLEp9r9hiGcCz5oU+tbQ1+3f70munV+xLP57E2tXr0x2/WZMevHRt2u1FQ9Mex/Sdss6NbMtJl1+ern/oofTj6C04dtiwRn5SvlMgUCBQIFAgUCBQIFAg0GcgsEWB39uumJnO+foVafyk0eml73/CwCzp3MhW/yO+9Nm4TourxBQagVi//c51181OH/jARZEh+8z05Cf3P2RYGIfRv/a1lG64IaX3vjel5z63325lWVgfhMB//vOfdN555wV+3hDVKXcI/HxuespTnpImTSpBoW7dzrUPRpZKNAMfHA7K7UMYDp7YrY/rbTeX9XvjySenA9/97jTp0EN72/T65XxWp9VVEPjP8bolXlPj9cJ4PSVeY+JVRoHAgIXAuihNHP3rqwAvZS0OP6XIeEoTJrSWbH7sY+OgapxU1ae3jEdCYN7lKU3/UkrbynoOuTa0f1e3uuyyL6W5c29ML3rRT9KwYYV39hqSWBmHD+6bFfgXWYq7RRuSwSX7t9fsTT+ayAMXN6fbf70mbbff4LTfW4enEdv1vbLOjWzHd6++Ov3jvvvSKUcfXZV/LqNAoECgQKBAoECgQKBAoL9AYLMCv8sXrUpnfvHyNPOOBellH3xCOuCpcSK8jI4h8If4OJKd0q/iigqXZQw8CFx//UPpfe/7cwRGj0yHHtq/HWrXXZfSl7/c6kf8cPjFJIqUUSDQExCYM2dO+tOf/pQuvPDC8IsNroK9Rx55ZNpxxx17YjoD75krLo7Szpzk0ftwnMb3A3MsiWy6a7/0pbTHy1+edj3qqIEJhB5a9Yq0ouoJ/H/xui9eh8TrmHgdEK8yCgT6PQRWrUrpnntas3mvvTaCRfe1Llk2ryCv3ryUNGWcy2gfAmuix+r0UGyXRLuC/aNNwfZPGDDQuuqq70RL58vSi198agR/S9Z3r9r4mXNas38fHYeJR5as7F61N314Mgtuakm3nNKUBg3eJh3w9mFp2737/8GC78chzb/de2/62UtekkYP5BYGfRhvy9QLBAoECgQKBAoECgQeCYFNDvxe++e707nfuDId+vxHpxe869A0ZFj/VwS7DHF+GXc6K65fxDW+y+5abtQHIHD77QvSO9/5x3TSSc9Jj398nMweIOM3v0np5z9P6ZnPTOm444pfcYBse69Y5rXh4D7jjDOqUs6Pe9zj0jHHRKDngBLo2aqbs+jkyCT7U0qTogzA8OgHOcDHqvnz078///m0ffTH3O8tbxng0OiZ5c9Jc6oA8IXxGhGvl8XrefHy7zIKBPoFBJZGEOi221K65pqUbooetHPnpjR6dGtvXoFeZZu1NFDKuYzGIPDg/0Vm9HdS2jHK2Oz9noDdwCsHevXV34vg7z+r4O/QoaMag1v51taBgMDv/VGeffedoxx70HoZBQKbCYHlD65L009Zk5bf35L2ft3wNPXpA6vv7TeuuCLdEAeGfxqZv0OLjNxMLCo/KxAoECgQKBAoECgQ6E0QaDjw29zUkn77uX+kB26dn97whWekXfYraaubtVVF1RsAACAASURBVJE/jl/9Ja6fxVUO128WCPvajx56aHl6/et/nz72saekZzxjWl+b/hbPd3EkSXw7WqGFLZXe/vaUXvayLb5luUGBQJsQWBclLC+66KL0mzhx0NzcnF4Sp7af//znR1vCkqGydVEmetDN/Wj0QYw+dJOD+Af171KYmwLblugvfe1JJ6VBkU3wuA9+MOIHAy+AsCnw6q7vrk/r0xXxOj1esoCfE69XxWv7UpKlu0Be7ttdEIgDJWl6ZKFGtlIV6BX4nRjl9GXyxqGnqnyz/5ex6RBYFcG0mz+XUlP0MXnMp+PQ7sA+wPSvf30tzZs3Pco+/zjODQysgNCmI89W/sXyldGn+4HWzN8xJTC/laHf5x+3Zun6qqTzQ1dEH98XDk27v2xYGqgk/slLL00rwob8RlSHKqNAoECgQKBAoECgQKBAoK9DoKHA7/wHlqYfHX9h2u3ASekVHz8iDRlasny3aOPj0Hj4G1M6Ja5im20RKHv7j1evXpte+9pz0rHH7pde9aqBnW14660pffWrKak6+P73p8h87u27V+bXVyDQ0tKS/vCHP6Rf//rXadttt01veMMb0lOf+tS+Mv3+Nc/1TSk9FOn9Q+Jw2A4nxtpKVllbG3zzD3+YFt9xRzrsk59Mw9XEL6PHIHBvujf9Ol7KQR8Rr7fEa8d4lVEg0CshIINXgPeqq1oze/XnnTIlpagkEH1EUtprr8j6K4edtnjv7o2SNTNOjZLYr05pDxUa+mdvy02F0yWXfDStX78+PfvZUfa6jN4FgWUrAmdnxmGP3aLKSjlU1rs2p3fOpmVNSnefvSbdd0FzmvKEIWnv1w5Lw8YPbF63Lvjb2//4x3RwyNV3F2dF70TcMqsCgQKBAoECgQKBAoGGIdBp4Pfu62anU/734qqs85OP2bfhG5cvdgKBb8XnV8Yl+FuqMvVbdPngBy+KPrcj08c//pR+u8ZNXdhfIuP9e99LabfwSwgAazNXRoHA5kLg/PPPT6ecckraYYcd0jve8Y6oZBmlLMvoGQhUQd93pDQsSopO/HjPzKEPPXXGueeme6P/9CHRCH38ox/dh2beP6c6P81Pv4qXMtBPjdc74rVdvMooEOhRCMyLygk33hg2QxgNt9ySUlQNqEo1C/KSd3jHiFKqvMv2aPndEVj/bMR5I6NVlu/ooqTWwnbdupZ03nlvTtOmPS3Q761dBvZyoy6CwLxFKS2Ia+/o2z2w43ddBNB+epv10e79wuZ01+/WpPF7DE77vnFYGj21HNTMu72sqSm98qyz0oee/OT09GnT+ikSlGUVCBQIFAgUCBQIFAgMBAh0GPi95Z/3p1998m/pzSc9K+01gPqSbrWNF/yV+fvTuMrh/K0G9q31oDPPvCWde+5t6Ve/elmURCvWdy3co4JSwCWl009P6elPT9H/OEWAfGvtTHlOf4DADTfckL72tegdG+P4448PH3g4wcvoQQisi6DvuyLTN3rMbf+JHpxH33r0nCjPevP3v5/2jZ6/Oz2lHBDqDbu3IC1IP47X3+P1ini9IV5D4lVGgcBWgcCCBSldf31KV1/dWsJZmZSddmoN9B5ySGugd/jwrTKVAfWQ9SHD7vpRSg+cHTCOA0yPOnZALX9TFrtq1cJ01lmvTM961pcCNYvutSmw2yrfveO+lLYNx8KkcnBpq8C7jz3kwb+vTXf8dk1Um9km7fumYWnC3qWSX1tbeEscujr+ggvSb1/+8rTDqFKir4+heZlugUCBQIFAgUCBQIHABgi0G/i94+pZ6dQPXZzedfJR6VH771AA1l0QODlufElcMn9L4Ku7oLzV7/tAlEd/05vOTb/4xUvT1Kklqt/eBiyKQ+k/Cj/b3/6W0jHHpCjRW/yZWx1Z+9gDl0dZSwHfq8Mpftxxx6UXvOAFfWwF/XS686MP4rog6Enf7KcL7L5lLbv//nTtiSemnaI8+V6veU33PajceZMg8EB6IH01Xv5+NF6Pj1cZBQJdDoFly1oDvP/6V2tmrx69O0apcUHeww5Lac+ooFACvV0O9ofdcHHA/aaQYaMiwL7/JyODuti9nQH8wQevCt39M9HK5qw0bFgpXdUZvLbq56ui+srd0e93v8j6HVSyOLcq7Hvxw+Zctbbq46t3795vGJ52OLgEfDvbrlP+85907axZ6fvF1uwMVOXzAoECgQKBAoECgQKBXgqBNgO/c+9dnL755j+k//nmkWn3g6NvVBndCwFB33Pj+klcBdzdC+utdPe3v/2P6RnP2C29+tUDu69vo+COuEf6TvS+jpaX6Y1vTOmlLy2+ikZhN5C+d8UVV6TPf/7z6clReuv9USd8VDmB3Tu2f3kIsCWRwr9T9ETcpvSV25xNaY4DDdd++ctpWPTmPPgDH0iDhg7dnNuU33QDBGT+nhSvJ8XrQ/GKDnjd8JRyywEDgTXRVFFvXhm911yTkp6920Vm3sEHp/SkJ6W0b7TVGTlywICjRxfaEmWzb4/yS3Mujb6oJ0TA/cgenU5fe/hll52Y1q1bm572tE/1tan3//nK+t0h+MqEcvi4/292xyuce21LuiMCvi3N69PerxmWpjyxVDBpFCf0+33NOeekt4R8PnKPPRr9WflegUCBQIFAgUCBQIFAgUCvgcAjAr/NTS3pq68+Jz37zQelx79or14z0X4/kTNihQLAMoDjcH8ZfRcCf//7fen73/93lDE+Jm2zTSnxvCk7edNNrf1/VTr8n/9J6bnP3ZRfl+/2Zwh8J04GXBAltz7zmc+kww8/vD8vtW+tbe2slGZFqv6Op6Y09FF9a+69bLbrw8F08w9+kJbceWc65GMfSyOjb3UZvQMCK9PK9IV43Ravr8drt3iVUSDQMARmzkwpyrpXWb13Rw9Zh5Ye85jWQO+BB6Y0fnzDtypf7CIIzLs8Mq2/HIGxgyLY/uGQXyVAtqmQbW5emc4885jQ1b+Vtt9+7039efl+d0JAr9/lK1PabWp3PqXcuxdDYN51LZHh25Scb9nzlcOiqkwJ+G7Odt04Z076xF//ms56xSvSsMElS3pzYFh+UyBQIFAgUCBQIFAg0HMQeETg99xvXpUWz1mR3vTlZ/bcrAbqk/8SCz8xrq/GVVom9UksWLcuToa+5uzoOXp4euITd+mTa+gNk77qqjgDEYcgWlpSevvbU2QT9IZZlTn0BARWRX/DE044IbJK1qWvfOUrady4cT0xjfLM9iAw5z1RFjME1vhI1S+jSyBw3/nnp7vOOisdFL2rtz8oghJl9BoInJfOS9+K12fj9dR4lVEg0CYElGu++eaULrssSgjHiTZ9evXmPeKI1l69SjmX0TMQaF4SAd+TUloc+7L/x6In/RN7Zh795KnTp5+d7rnnkmi78f1+sqJ+soyVEe27f3ZkspdDSv1kRxtextx/R4bv6U1p7YaA79QS8G0Ydu198b1x8PiIRz0qvWL//bf4XuUGBQIFAgUCBQIFAgUCBQJbEwIPC/wunL0sffNNf0gfPuOYNGbbEVtzHuVZGQJR9S0qCab0vriOLmDpaxC48sqZ6bvfvTr9+tcv62tT75XzvTSq7/30p1E9NhKn3/nOVp9pGQMHAkvDef4/kfr92Mc+Nn3kIx8ZOAvvKyttir6I86PE405nBZGWTIKu3LaF0fPz+m98I0174QvT7i95SVfeutxrCyFwS7olHR+v98br6KKobSE0+9HP77mnNaPXFT0BIwUypSc8oTWrV5/eIYVH9vhuz/pzlHaOPvRTnh1NLt8bPUWG9/iU+voE1q1rjqzfl6cjj/xaVCwvJat6zX6uaU7pruijs18pT9tr9qSbJzL78rXpzjPXpPXr4pzRscNSCfh2HcBvjpYMn/nb39IZL395Glz6ZncdYMudCgQKBAoECgQKBAoEuh0CDwv8nvO1K9KgIYPSS95Xymh2O+Q7ekC05UnHxXXUhr89Opny8E2BwAknXBT9R3dJL3tZ9Ggro8sgcPHFrQHgEXEe5W1vKwHgLgNsL77RihUrot/zG9OznvWs9P/+3//rxTMdwFOb+4HoRRnZUmOPHcBA6L6lr164MF0XfX9HTZmSDnzve0M/K4Gj7oP2pt35gfRAemu83hev58erjAEIgZVRRvXGOPzy97+ndP31Ka1dm9IBB6T01MgEf9zjSvnm3oQSq+dEBvYXUvL3gDistG3sUxldBoFrr/1RJLUvjMOZH+2ye5YbbSEEmoMf3RkOhX13bz09W0a/hEC02E4PXtqc7j63OQ2Ocyx7RUnnyYcXXbE7Nvu10ev3hCc+MT2uVOzoDvCWexYIFAgUCBQIFAgUCHQTBDYGflvWrksnvfLs9LZvHJkm7Vp6TXUTvBu/bVSJi4SScE7E9aW4SgJ247DroW+uXNmcXv3qs9PPfvbiOPU+sodm0b8fe8klrQFgLXbe8paUnlkq0vfLDW+JGt9vjxrfhxxySHrXu97VL9fY5xe1Lsplznp9ZPv+OrKmSm/E7trP9UELN33/+2nJjBnpkMh6HzV5cnc9qtx3EyEwM81Mr4/XN+N1cLzKGAAQiF5/VUavEs6zo4zqxIkpPf7xrddeewUvHDQAgNDHlnjfmSnd97OUdn9VSjuXlgTdsXtLltyXLrzwA+nYY8+MGGPpgdkdMN7ke65uSumeB1sDv2X0Owg0r1if7r9gbXrob9ukkTsMTnu+Yps0tpw579Z9/ul116WFTU3pQxH8LaNAoECgQKBAoECgQKBAoK9AYGPgd869i9NpH74kfej0YzYeDG1ubk7/+Mc/qrXor/jUOMU+fHjnZbEefPDBKHX76/SYxzwmHXXUUWn9+vVp8eLFafz48eET6RmnyL333pvOO++8qj/kK17xijR69OgO9+g3v/lN2n333aNKW5Rp2zBmRem2s88+u4LBK1/5ymo9tWPJkiXpF7/4RXrta18bgb/t0urVq9M///nP6q9h7Z7vnkMaydxZHz/S8/fauL4V16O2DK2uvPLKtHz58mRfDz/88GqOjYxf/epXad68eVXJ1TFjxiTrHDlyZBo2bFgjP+/y76yNrIqzov+h/TjyyCMjwaL9k/tzwkn3hz/8Ib3qVa9KY8c+Mjhx+umnp1122SWydJ/8sHmee+65adKkSVGhL0r01QwwvPzyy6u9f9nLXvYwGN5ww0PpG9+4Mv38561lOQca/eAR10fWyxVXXBG9eVvS85///GhpFz3taob3f/KTn6TnPOc5aY89WsuPrYysmUujpvNtt91WwRxcM33iHedHv8vpUfb0UdFb55WvBNvhKaotpVNPTWnNmpTe8IaUnvvc1mBwdw5zvyycvf7Cwac85Slp1KhRnT5ybpSHOu2009Lee++dXvziF1ffX7RoUcULBnf3pNuZHT5wxhlnVPzgpS99aQXb9gYeNn/+/PSSmnKz1n9VNGK+5ppr0tChQ6vPdtppp423gPvuL3C7777/9UTcd9996S9/+UvFQw4++OAqm7et8Y0ocTsjAl3HHntsBeu+Ln9q19go/4I3F0eqOz4Hhuhpmw1ZG0pgnxMnzxcsWFDJ5cMOO6x6BHq5OfpK2rOmcE7gj/vtt9/DQPzHP/6xwr2nbWnj7JWhGyw9PUpmtvb1WxjZqXACPpATtbKzIyIhm88888wKV+AD3JHtve22Tj31zLjzzjvTn/70p4q/0xdGKDVQN/CBa6+9tlqzfXnRi16Udt11143fWrZsWbUu+7ZjXXYAXmdv6QbW/YxnPGPj78gYl/H0pz+9ohPjvj//Od0V9zsgat5PFmTaxIHW4QXdg+zGvzI+dXQr+IQHm8vj47nWDf8mTJiwiTPouq/fcMMN6ZI4BbTzzjunY445pkM++vvf/76Cfy0+kjl/CyFy6623ph122KGSOXDWwHe8j5YMMmyfffbZOPm//vWvlZyD5y987gvT3L2i/F+8fhevMfG6/fbbEz7n936b5Vxnq3df/PTlUUaQ7okGjM501c7u21Wfd6b/1j4Hv/5pnNCCM3sJhsbAzy666KL00EMPRdXjPdMLo4R5vfy7//770//93/+lt771rRttjZuiP673836gB/u+VUfMOZSUFEgXpe3nVwHeuWHfXBd0PyT0x/ER/D2sAz20dq5sKvQN5+DHmlBi9LGvtye26vpqHkZn/t3vflfhNzunLT6MR9OD0QF76Oijj05Tp059xJRPDSXt0OhnfOCBB278LOtz6II+lG1C96R3kwd0Jfixxfbi6rmRkf3xMGDXpFuHvCo9sGR0Wh9NL/faa8+0226N9T3N9s/botQMGwJd4puN6H7dsYeN6g+e3Z79057+4Ddwke7GZreveFEe+CL9DW7gU3hnHujznHNeHXz2E+mWW2ZVtO2inzSyj+5NNzki+rmwu/AQeiL8a0ROdQesa+9p38GFXKfv1sr6+mfzNdx1113VWtjaedDX6G3u4TPytH787Gc/q1qbZLnvc3Lh71FVwF54dsPwWLwsrZ+/KF3+0P2VrgF3wJb+19kAe7YaXst+NuAEOdmQ/6KzB2zG5+wQOpWBN0106KadAWZ333139b3aQZbwCdBj6Me19skDDzyQ6Atkrt9lnSDzJnL9oIMOquzXnhwr56xL9/yhOT10RUsas/u6NGvSlWnbfbap1nTEE58S+mrnB8/JYf4q9gFe2xv8dO3BvxbWcJgeS5814CJbhk8qj7b0D/RIx/I79hL9Nw9ybObMmRv/Tyev19nzh9MDB/83/E/vnTYtDQr+hgfW0mpHeEH/8Sz0xOZmo7kaocfuwjfzoUvjZ3SS9nj1jVHZhM1CzuP9WXe74447Ensp62d0ZXqNPfjPf/5T+YP8+9nPfvbDbFG0jBfaD3uRbdjuWme5b4FAgUCBQIFAgcBAh8DGwO/0f96f/nH6Lemd31NfuHVQSDhvPvWpT1X9FY877riGjF1Otc997nOV0s2BQLC/JdLzvvnNb7bpHNicTfjRj35UOUw5FTobFH3BWPPncKWoUHjbM17+Faf5KZLW8NGPtpatEvgUhHjzm99cObA4PQQNax3Cn/jEJ9IXv/jF6hkcFwxZz2UoGIxtii2ldZOCpmfHj0+O68NxRYBrcwdj593vfnel5H/yk59sV7Gtvz94vP71r6+Uw2mh7MrE8/9axXlz5+R3t9xyS3Xv90Ypy0bGBz7wgQo3GV9f/epXo6fud6OqXpTVqxsUzu9973vpggsuSJyH9Y6pf//735XxDbc/+9nPbtyj73znOxFUPDUCim9In/nMZzbelVPC91wc/hx4DPzsmD3rrOkRdAkn8GeePiDpB56AJZrhJEbvHHm1wd9f/vKXFVzBEh4aH/vYx6qgEfpi1AuK/va3v60Miy9HmVMOj/e9733Ve5yMP/rRD+NXrWXLYourAHD8PAKYrVcnZzoaQbE2v8Pg/PnPf54+/OEPV7j6/ve/v83DBPU/5nD5yle+Ujl7OT3hrhLGeEWjQYHOJi1w7sDN6173us6+WgXW0O/+++9fPf8HP/hBxcvq6YMTAR3gtVOi1CyHfB4OXpANaJFByCGGzraPnoazIwvK3gt2f+tb30qvec1rqp9xdr3gBS+o9p8z6Qtf+EIVtAHH2iHIf8IJJ1SHh+DDxz/+8V4nf6yVXIOzmzoa4V8MZU5xAUH7dNJJJ8XhhudWuJefi3dxEPoMjDix7MU7IzCIBsmbE088MTnERAZxXOKH9o3zEO/corH4RxFpjoySCa18G81//vOfrwKmJ598chUIbWTACzzA/OAbh53f+3fDDs5OHkRGgGVHh4TyLegH5Dy8JCM4KDhA6x0iHOBf+tKX0oc+9KEqWIhO0IiDRHSAb3/72xXsOXtqnb/4GX5gnzjm3Qf9GGjmzxHg9fyrr766crR+/etf37i6xeFguf5rX0s7xt7vHTS8KQNf/Vr81locrKCbNAJf66c3CNbZX2u1X+baVkB8U+aUvwse2RnW2e8F2vEHcCdHOH/JifrBcU2Wn3LKKVUgkc6TB12NHieo7zAf/Q4PpBNaI4dVDsThWRxdBvjZW05hPGDK5CnpQx/+UBRl+VJaH6+Pxcu+oXGOSOtCo40MAS/3tS58Ef7Yn0b1os6egR+Ah7ltatCqEf239vnw2X6SE9bCKYjnPDGyZOjt+JDAGzmRcRDPI7/ISA72DH8HDtkUWWcWgKs/qNfZ2jfr85DTVQnn0PFCuLaWcH7e81IYHVXPifuDdj8dfPeyOECAvzjk2siwNjKRPeIvPRKf+OEP6TVbPsgHcpfOlAMXjd4162HmBV/o5WRwPb4IhpLPeCQ7R7CKfVF7gAx9OPSC39gzA91xErMHrdn30Zvxnve8p9ID6QfwA57U6t+NrmHj9x6KIP30KJe066tT2uOt6YqrrknvP/7d1YEVMrM2GN3RvevtH3ITXLuq/cTWtn860h/ofGSPIABZiV/Ya7QKDnCKbiFohG+y72sPAP3lLyeErvjU0PtvCf71jYpf0jUbOeBo748//vjKLsU32e0f/OAHK9zqqsMv5oMfNRr0z3hB94eX7HoHWegn7BGyvn6QRezNV7/61ZWOBefZquBOJxIAoY99+tOfrnTgWr5x4YUXBot5XqWT0w8Muj06AAu06Pm1sqxDurh/dlo/fFg68x9/TccHfdkLNlpHAdPaNX8/Ko3g5fwdePib3vSmCgcalWmd0Sz8QUuN8E7ynL4tOAVPyX6/rz/QbZ54E33M9+BtHoJ7DjOoIuR39GP4LUmB/kpmveMd70j3RK92urT7wF38izz3W3tPJ/C9rT0WTm9Jd/++OS25syVNecKQtMdLh6URk1vST085NX3kQx+tcIS+0Ai9OOBh/XCVne7/9hftdXSoYVPWzNZgv5D7nY324O+QSe2gt9GT+KIMOig6qsXpev3Db9hTZC5+hZ7wb3LIQNv0j/ws+NFeIHJ58IIXBQ6MD7l9dxzy+3bwyGc2WHqMT5QuCe5wnq1ExtLHu2LAfftHt2/kcBwfGX3TBQcmRzUhc6sf7CCy/n//938r/UygOtuP+Il1ZV3D+tAHfwddk61Al+DvgA9wwf/xQjCAH3ghvsmGLaNAoECgQKBAoECgQKB7ILAx8Hv9xfekay+4K7316w8/yUhAU4A4Kzn1BTEolZz7DJl8mj9PjwJAUeac4wigOHPocmAKHlBM8j04k5yAFXzg1PE9v/c9mX95UN452yhlTrz6vyw1jiQKIAW+oxPFjCRGJYXd4FDgGGkrcMm4oBSaBwUlB34pZoJ91mPkgGEOXoGPIKATcZROp0jBiBM5Z1Z5n+HBabnJ47b4xYficnhYAHgz27c47cvRIrOKw10gjcJrvZT9WkeRPTNfASGKHEcNo9yeyYTyWzjAKcQxx1DnyLEfec/cr96I4PiR5cD4ZkxxDnKcMeQo8R1llTu1yfiiVGblk4EmoFg/ZCrBC4Z+PqmYv2PeDjQw8Bjh2cHEOW7fzAcO5oCw3wnWmbPvWh8ngLnn054//OE18f76MC5as++MgUQ/YJkzOa0dfTGOczDS3nHocYwzFuyjwfFpDzh64RscldHFQMN77AEHIrzhFHFCtd7Yj7MD4SBKQW8pnCwpHASRiDhlk6ms0x8I2tpvBhtehIbgMKMZ/guO1B7qABP0JQuMA9RpcrQCzxhZnN7+j6fiUQxU90UH7glmThTjiXngofih3+KdcJyxB985atBjvbFcuzCOJAFE+2BwrHNgoYfagUYFYX1PQAs/z8Oz0Kn1GvgdR4vsDgFoPF6wyN4zQg3rZGjmLF+OQwa7IEvtYHQzAPF3+CQrAn8Fr8xvwN1z0GDtAZ6tIX/MFazwQXC3d41mQDTKv/AXDoFsCHNwkVkccAxvcgmNGAJwOcAIJq6cSUI+uQdnEFiirxxQ5QTdorHgiykNjYz+cf/NqBDExB/NE/44ZAAfM07UVwBA0/DI7+AZHEIbfmu/4RH6cQ8BRwMPhvucz3QINFAbmMBz0R0ZBa/dA9/Ai8gxvKOjgCfns/sJ6po/fQGM6w8Xke0+57gwfI8DA1+zz/QgThB6R842ta8C+PAHrRj0Hjhk3RzEaC3Te/6sdp+a4/vXRzC4JWD02HD0Dd+EzGh0yyFNZoKx+eBfgo5gkp1p+Xn4DL6Md9kHewuP0DJdIO+x+eN/+CP+Ze3ow767Z21GQ+ZrdAOfuRdZAR/x+7Yqc9SuX7AW7PAXQWm/5TCvr1qAnwqsCy5ygtXyN5UbOHtlk5H3AvPXRQk/Oq6AKxjV6qCeD6c4njmSM4/P+7M0LU2vjNdp8ZocL/QGbnQt6wNbeA7fPRNu5wGHyAe4Cketj5PS2sgB98H38HS83j3MM8/P/+0NXlg70Lo9cF+04Htwk+zy/Eacw/l+nem/tc+FS3iVAxxoCczMDz/LmVJ4l7lwOmfcEHjnYKSr4fc505SMEDzZaiMOZ0ZEobWUM7lLT1EdoY3qHmSYII055322Z3iDddVmDQkeoSe4KMiJF7Ff4Ck6tJ9og3xHk2QZuZJpkmPcfrK5anVkerpgMpygq4M/hyp7xP83ZZ/pZ2BP3hgOy6AzOnTtsH/WlwNoAvEChjnAi+7wT/zGGukY1olHkl/0BfgpI5ysoOvhozKA0CUdRYCJrtfI4ZRH4MatIdvmRIb2Y78SfZZb+bPh0Cp7xEGpzbF/7B26JB+sH13iBeZoz+1hzoJtjy4d/sXr0SUc39r2D/rnjG9Lf2BXCYiwdfEa9AufBcrpcvY7B+rhmCCcvc3jsstODJLZJ/j/oXGw83mVnEH7WQ/IlRDqA6/4H77PjiNfBB/IcfBFQ37vgsvwBq2R++QMvPIe/l+bnU7u2wO/8Tz/JzfwE7Z9Z3pALU6xUQQx8DQDjOyzw+G1A32SR3Ac3QoO0x3IJzAlV+CJYQ/o+4Ihhn9bN50bXHPgN/MJwSm4Q59Do/Xy6RE0oGLFLXdHdYKoQjJsaGW3OARFjwHXrHN4LtlR60PxHLzISpQimwAAIABJREFUeshN+hn4gTU+gy+Rfegg6+Jg7P90Amu0F/XBJ/uM12W7RSDO/dgj9IGODgg4AIDf5gOodDq2hWB27XB/uI1/Zn6WP+eDcZgBzzHoZ3QzAVN4TYeh6xh0aDoJOsUH8SJrQiNwnr5am2X6CPh30Rstcf5o1j+b071/bE7+vevzhqSdnz00DR39357N6MG+2ieVl+yd/cWH0VO9bpB1aXCCow4UZLs0657+b0/wOxe9jtzxb7LIftfqauicfLOH9tf/yX4y3x515qdrC/5kSH1VKLgJD8iHtkZb+gcYsDPJG8MeS/6gBxqe3ehhimZtiALOeweOXxN0eFbMJdsp7enS9GK8iOxBx/Q8dgD6MtBArf7gu+6VD5ZYc97HWtve7/E+vACfzNmz9C/40JkuTa7bH7wGH+CrhEP1dItvoRPyAA8g7x3swuMEgP2+/ln2wXez3YRmyBK+Nf5hcMAPDIFn/L6rDr91EemV2xQIFAgUCBQIFAj0KwhsDPzefuWD6eLTrk/H/fAFD1sgZUCQkyFOyWCsUAyVh1Eqj3KcnTKcgpQrgp5DhyJAWWfYMDhcjGSnxiiHnHyyXxmUThdzZruvE+TeozRyynGiMeoYy4wNATjvUTw5CxgmHFvtlSGiYHGmyfow3Jejj7JfPzjyrYnjgyKV11b/Gw4OzjOn2CgsAlmMF452SnRt+SDP4PSh/FJk652rDWPUqvjmZ+IKWy6Fzz093M/X0G0ob5zTjCbzFYhh/DDIGemMAAYtBxz4+L69chpQmRyn0xmngjPuwYHlt5TH7NSikDPo7Jn9s0f2lnLMeM7OZo5WTjPGM2NKcI/D030ZkxTc+owiCj8nZDbcONzgE4O8LaOxFn9rMxrdg4OJ8spAys6MDEQOIvtfG/illML5H//4xxUcBPA517Kj5+ST/x3G8zbhFPhvFvpAox/wy4Y/HAArRicj0D6hGzjjymWPM8wZLZy/HMQcQJwLnI5O8votBxk89Le9QFvY7XGCu7UFX2xvZNS0/u2qwfjCO8yDgQ3XGcGcM3ACjzR3eIuXcNCoSsCQ47jCV5wwh/eMMzjmHj4T8GYQuRcDFa3gI5woYIXvMbrBDg/GCwW/OOUYkrnsLxhzsOKHcLs+CIwHZVoHF3jt0AWHYFvDHtYHfvP30DTaYzTbu9qABp7gBHkO/Nbfm1zgIOPszQMsOdXAiazI9AMnGMIMT7zBvTli4BoZAx+2hvyBo/gnWWLtHIhwFI9rpAxePf+yLny2Pf6Vyx16pj0nf8EGbuHRBh5kDozoHACFTwxveMEwhw95wDfw2uLA7/wvhEMxyriOe8XGe8MTMpFcwdPtCYeRC68mi50cty4ygXNO5pX1c4pwyuGrnJ/wEX6Yv+9wjmTe4P5gKZDsu06L0x04aHM2F6cW3cWhErzIHqEnsEQX7ZWR5LilX+Rsbg5uB83IhLYGpw7aty4VAbJ8t0aZMYLZOfDLsYi+ZfEKiliTwAiHGtkCJuDHSexQRW159fpn3xV4cH84lA8MfrD9hqoinfE598VHcnk3cMOfBF5kJnPOoFd0BWbWJtCUg3bwj6z0XTzDGshIst4ecxrBK7oap6s9oQv6Hf6G7/g3fU9wnGMLbuLvnEm+j5fAz7bag5iX+TrgYm8N+hodMB/Cq4cBWoVb9QdbfA8909dkWTs8kenCXzSUS2vSLehG9tc+wy2O9NoMhS+GUibo+7Z40Y8EbPFafA4O2EsOWbAUjIYTDi7IOoEznHdwmn4FVz2H7HQP75E5dCRzRjfmI4CVg0/uLWgNt8kWAWo6MhkEp9Cjz+EfmOMZeJh1duYg7Ej/rYW3oCW9Eo7ha4KBdO/6kXHd3PB5OiSY4P1ozdxzEIduDT74Pph3W5lNB2lifwMxWwO9srxrSre3RVv2gBOZbizAAy9lssBT/A7vgqccoPaZDoqPk3nwHM7ixw5IOBRm/8GBjsHpDj6CFXghmrOf+Dz+wbnuPXuaeSj+ag88F67gP2RmoyUl0T4ahFcGHkDudiYr0DY9XjajgdYE9v1O0IQcEoRg8+HR9hOPwOPgNdqHJ35vDuSAgxY5CNMZX9v4+doo/3ntB6LvR2SJHRxB3yEPb+mDF+BVZABn86bYP+gWreFVZEqu/kNGoSn8ioOe/ocG4AC+wfazp+BoX/Bg/Agc8Ht6E3um1v5By35XT5ebqj+0Zf+0pz+gQfhrnXDREBzB87yHLuElejTYjXRzvC2Pyy8/KWzxaYGDj4vDAkdXfFJwBf9Bu3gcnOX0pxviPWQt2lYiFF9AL/QGfI8+kcsm2zP6MpxBW3gi/gW2+CU5Y08Fd+kE9gAuwyPPdV+6hTXQA+Ao3tNIGyr7Rt/KZYbhpb0gN2qHfRQEscfubU7gxNalr9Pj0Su+DhfpFtkvYc1wwOfogQyBb+QdHAE/OIF3o49OW3UsWhrR5CiFtPe0Cs7uQ5fHg8gWhxXAhM2B1wrICP7aT2sDJ/q4wJLANToFaz4RPp6coY++7TNeg3a9Ty+jf7q//9vffKAOvNg09oeMoPv4rb3D39prg0M3sY9wyUCHYApn2xpw2HxzuzLfoX/Q48CTrkz3sh7BRbwY/MHdsBYwJ7fJeTqe3/BP4Xf2dFMzxxvmY/HF5TPXpXvPb05zrlqbRk0ZlHY/emiafHjbJ/7JF7aIfQITfAVtkgtkSOZXnp91AXhkLXQdCQ3kF/xgmzrUkhMU4AF5jD+7J3sRrdL90BD9C5+xz3CLP8we2i+0LYhI3yPv6Lvora3y7W3Bv1YWZdjByawjkWv8RbkVR6P6B3rGI9iOBjzEV8wdndS2Xqnfs7Wh1781/Ea7B+xuCHo/J/CMDGCTgRXY4XF0GRnkfGBkP5rnp8R/0Ti4gRkelnVLh0TZ/mx2MIfD9gXvAVt6H9r3bzqEQ7z8WHQ7/sXsX0V3WZc2f3ykvmUD2MEBvAzugB357GAMmOaReUctz6G7wjH8zPfputZhjfSftg5rqSLid3ACTMgT68Ur6In0BTKhjAKBAoECgQKBAoECge6BwMbA76LZy9MP3n1B+vAZ0S9tyH/78GbDkSKTT3cxAhk8FD/KBiOHgUNB5sClHFKkODMoNAZjjMLJqSoATMFkcLg/RZCDwb0YhJySFHKKNWOAMcIoETDkXKCo+67n5d4zTstRmDglOT9qB6WGoZMdUJQLilM2IPJ3rUMg0P0ZBxwrjBOD4u90XC7v434UHUoyhYiC7fkMUMZqvUHA+OXA4Qzd4nF+3EFlmKhgllpj2Q0PihdlnYHDEUPJZSxQEq0xO944YChilDQKMkWQUctRS6GnbPrMHlH+GH4cVYK/9teeMbpyxivjnXJKiWXcG5Rv++c3vkt5zsNemZv9rx2UVHBk+BvumR3ZbZ2+FRiDew4u5MCvuVKoGdoUb8YIp0LtaCvwy3iFd5RyxrDvUFjz+PWv9aJbEgpxq0PaGEj0k9dsLxnWDIB8cILTgDEIXugEXdWW9+IA956DI2g9O/UFB9ArRxlngXvnzzpC+rDfqgqNLq2dZQCrxtRGq86GaccXc+CX0YVm8Ax8IZ8G58AQ2OUgYDw62MLwxbcYb4IlBlrDQ8CAIYhvuYf7wxl47zv4onVzLPq9oBajCR0ZcJgjjgEIr7MTjtNR+SnPqM/W4TDBc7NTldGPj5lrW6O9wC9+zPmJ33GW5GyffI+OAr+cE2gf3dWW68cDONGzo7mefjgxOMrIG05VhiuYuh/HwdaQP/gn3gVncxnejuTPlvAv+MXJYb84lB024PjAn+EMhw4aw1MFBHJ5VHjAaUvecqDWGuJdFvhdxOEWWSUTjtu4xNrArzc5eziXHNbAqzn/yH1ODXwbvZMb5CrHA1zjPCd7OOw4vukC5A6cIIvgthPonkVGC3JZPzoi3zyTboB34Dt0EbhBtqEjw3M9nxypzZwRrIVTuRSb76IfTpqsC9TTCPhylHIU1pYtzw6T2sAvvOU09F0OYXBB84KO5mpOHG6+wznE8cix0t5YGDrYDaF/7BQybu8GyrznwC9eQl7ix2BMh8HTwJ9ul7Pxc+aX/UCncJ8chFe5tKsDKuSsNXBMWbc9y+vO2epol95hb/ALh1g4EQWZyGi8PfMCQQjfNafabJXsmKMD5HKT5AFne3tl7tsL/Hq+PaXDgHXOwBao9Ry05d8cZvgj3Q1ugQE9j/4oICqAalwdrx/H66fxqg38+oxDEI5zALoHR5z1+jf9B4yyI8596VQCLvRRshR/4TylW5Er+Jzf2S9wRd90NPOxN2AnqOVQGhyzx5x6ZAp9L5dFxL98z3c6Gh3pv7W/Q5P4E90I/ye/6g8voHN4LqvNZzmTnO6fe4/n3rHuDR4CPvQ3zlXrJMO6bOgXIesueGwYCSkUlzaze9t6Xm3g1+dwEW3jNeiWrObc9G97hsbRh72A9/bLPsJd+rUgiL1js8AN/IKdATbsLvyfLuEgGfmNXvA/8oA9hg/6LtmfM7vNi06F19HDOxr4I/splxdHH+Qc/aK9YU30abgpiGAO+GvWPdwT3ttnPI8dSe/GP+g55mn+5IL3HTSRkeZ+9QdoO5z88nsi6BttByY/K6V92s4GwwvIEnrT5to/aI6uRL7ihegS7xOss8f2jKymxxiCSvgsfgXfZQo6aAN37Ce40Cdq7Z/6w3l53V1h/7SnP7BpyD36Jh3WsK/eIy/oiXiWdZNZOVCfgye+f8klH4vDMk+LAy67hdx8cfU78h1/Rvdkgv128BY+093QAR4Md+AHfo/m8Tz0hDeS8w4MmRteJZib9QD4j3fDbXO1N+AMp+AguwP+49t4p+/k0rNggbfhsR21gaBj00UzHfg+mVlbRtj67SF9DB6wgclD88BjHfiwf+CV9x2eOKhD1wErsh9c8U52Ntqj07hvloO1lUU6pIfpcUJ856gsMW7MxsCvICk8JVfp7uiUbklmkCNwkazCx8k434enOTPS3Nh17GD4bY74jt8J9MJjvg96PZ3A/rmvgDkbPFcNsr94pINnaCFXVnN4Fe8Cp/r+x3ADv8sHD/BBumX2MdXDwhrhRm3g13fggX3Dax0CwZ/tFRyynpxBTIbRp+ELm5UeKFgFh9EBeysHHLtKFq1rjkIFV69N9/6pOenjO+VJUfHheUPT6Kn/9cm19awc+LVvApjwHe3aI3aBfYOTdGI2J10cPqI98oe+Z4C99/AsPCBX+nB/tEeHydVvfG6fcism9Io3onO4ZU/ZhPCfvDfQA10SHtS3OWoL/vSB+kNH5gK/yEm0zSb23Iy3nekffk9G28O8f+5nPmwBvBeukUVtjeVhf7zTgctYyxUh634f8s+AN3xJ7gvfwQndomm6Jn2OnerQBF0SjZMF7LHMR9ALu5hOSQciX/BOugE9FD9jd8NJ98GT6RJkJ7kD3u5h/7N+bA5oBf3V+sjQvd/ip7kdHbuD7M9+Veuiq+I5npX1c4dOyHT7ai32nKxGS+BYv2f5wCecyQFouj/+Bw/pr+CzKdVJuormyn0KBAoECgQKBAoEBgoENgZ+VQX66mvOSa/42BFp2mP+W2a53vFOoDMQKdSyVzhvKJEMIUZCVmAoCRSOXBqZQkn5oJRwplFkssHIySaIwvigaDMinK6kFHCIcBZzJNYOiqxnZwWF4kG54FTIzu/8fc+moGTl028EahmSeThJm7MaGGXmSAn0fEYkhZ+yk8vLUMac3qNoCUz5y0FD4aUwUnZrAxqUKYZDp6d0G8W8OSwYWtmGvw1m/9YGfjmlOMQZ4JQxa+VU41RnZNo7yjRllcFMmQVfa2ckU04ZExy/tcaVPabAyZah0NkXji84wgFZ31uSo5kRXev4yKW/7EXtYORxwubnUWbhBwd1W+Vt6wO/lGb7z6HOAUTZ5JiAGwySnEnaVuDXuhmpHHKcRvAFzmcD9aqrZgbe/CeMof/2tuwO+uEQ49zoTfRTu0doiVHBEGJAoV14Bq8YHowWeMaBUFvGiSOHI4JxyZkoYOp79gasGTeCOIzb2szSjkgmWEngSmvlRm36gsUE31AutlFCe/j36gO/9fiP18Bv+MGAzmWMGbr2K2dSMFrxBOtDV4yvnE0gAIAfMuyyg56Twe/xFvCsD7Iyvhh+OfCLH3LIgGFtDzarwaM4jrNzD68TSJGt19boKOPXXuMj5mS9ObDmPu0Ffq2PQ5mRWZ8NZo2MeTzFqKcfTmVOI3MlJzgL0AM41zriulv+cA4w5nPgtyP5Yy0cVHgmvpODNdZnPfCgPf5ljeBlPfYI7nNYZXxwwtseczKQvblCgn3hNODIwsNrAyVdFvhdEY7t5ZEZNPm7G9GmPvDLyQY2gtQcTGQlfQHfRAsZ5/B0jg74K/BLtnNakRfkkmBEdsjh+WQpnHNv6xRMsSfoj25RX6qsPvDLSUXGOMBUXz2AUxi8zMHwW3SaA3z1NALWcMGJdnSZe1q3FfgFA3oBR7Bnw3W6iDnTeaxR0IPDC07ge+RnR706m2P914c+tjayxB4buDYinE/tjfrAL/zg1CHbyFS8gT7AaUfPyy0UyDwHLQRMwJs+YP/IUDyZwys7ZAXnOZftEdjSi8hhfIYDlSO/tkcgHKcX1QZ+wQ7/wgdry9q6l/nmXmHWmbPQ6GhtjY4yfskctAQOnJ/1zkiHF+lMAhNkEhzLZRIFLcDFZxzHURAxvTNeZ8XruHcdl8aNH1d934CXaABcOMfsKVwnB+iKmd+BGack3AN7ulFulwJ25phLWoO7z3PLEo53QQyONM+oP8iDT5O5tYFf79G/60tBojFBVsNfc8eva/Xfel2OzLcH6NLBJw5ZeEKvqs2MJv99nu9lDQLv6JzTFh7gG2BW30pGAMJ+gt8W9Zdm8JB3EcQKQcJrm4LJpNjITVIM6gO/1ol2rLvWzmFDwNMc4KCD5oOr+BAdhwMdroOh/+eAOd0BX8EL6K/g7HvojROfDoL+8hAsyv0Ds56E/vCa+kAqeOaefnCVfYcv5UMuOQBMtrY1OK7pHvaMroKvmj+8pnfkbOTc94/T3Xv0KHzPfXNVGLBjJ+RDJWQEm6ChftRzoxfzTZ+JgG+00Zn6wnb3sDbw25b9Q87g3x3ZP7X7ah10WHuUbRUws5foxRCkRHd4ODmNtmpHW/YPvsPuqsf/evunM/2hrYOvnt2W/kA2CPTQI3IgKPeezvYWXkR+5z725BRfQB7nnPO6gMenQ4azp1+2MfDrAIi1sNX8Hn6BEXlCN8o97nNpfLiYD9OxG9mS9Ev6Tj6kS4dFU/CN7UdPIrPokPZEgNrntQMPde8c+CW76c3oopaf4KXmTDaxRwTMwCcHGT2D/kxW1o76/SALHeKh23gO/Z2u70AOHkf+oDnfgXt8CoI25B7dmLywBjITvaB/8s9vcnZ9m8g+f1FKC5ZU2b5G1kVy4Nf+2lt/M5zJcz4dvCfzVzLEHuWD1mw4+hAZZe1sndqsZwEk8skhHTLRutG47/ms1udiXoJieFfmi9YHToKX9UEg83IAOJfX9hu8LpfKrodDW4Ff+yd4D6fgTNaPyV/wJ39zZRcHaASx6UTgQqbm1h70foeyuqoX7pIZ69IDFzWnudesDf1tUJRzHloFfQcPa0wc1Qd+wZyuab/JVDLYXtJZaqsFwStXtj3xYHKF7KV/0BWynQgn6Gl4OV1QVQL2GbyBi+ikvuw2PHHP7HuD7/RchwpqWyJZZUfw7wgK9o5OmquZdKR/4Kn5IGitrVp7f2uGl2zKtnxKt4eu/9U4pHFYHE6EA+duOEwlEIqvwCk8nlxl34ClOeWkEfTDlmBT5MMemb/W6g/mhIfB83xADr6T6Z7lnvh4LZ2gH3tUG/gloxykJNdrDwCje7yED4wPiy3lL502t+Eyh3wgUaA2H7on28AdLtQOPBnvpZPkA7WejXejfXzNoHeAMf5Db/A5XmsPyygQKBAoECgQKBAoEOgeCGwM/Lr9JT+/Ic28bUF645ciNW7D4GRgeHDCUuYZeRyzFF8KZT7BnJ1gFH2DI5czMyuNFEMOe/di/FJCs8JOGeMQ93+KB6XSfRgKHBiMjdxHiKLDSKNQMoxy/7COevwytihHTpcalDOncmsVPwoT44YTzPMp+RxoFFbKWD7BmgMrghqcCNZFaWNAuhi0TrFTvhhqBqPB+7l8bZdupcOGEq+OjEvi1ciO727tDCfz56wG3+xgZ+hw2HBKgTGjgQOL4kjhoxBzbjCIKZGcxfaJAy9n8Xp6zhZmQFE0ObbgDkWYgs7RY3ifcsh5xFBxEpzy19FeMj7gA2cr55f94BxqL5MhG0TwjbHt/vbZmuyzuXBe2EsKaw4COI0syySXh/Q7gRvzzAY3GFKQ88nQ5cvXhNPo7FDWXxqB9BHVGgcK/VhrLkeUHWCcePAD3uceUQwptAduDCD4aD9qHcN4AWMbzqEhDpfcd4gDyP04RDZ1KAOtqnD4mwLvUvCuFIGIIJlOaKb2OYxdAVmOPs6JevyHG5wyTsly1nJqoQEOMw6fHPi1dqd34RwHBeM7O5UYxwIjnCXoD57ie4xltIm35DJc6IFDDe9kUOO7ndEQWjHHfIrfvRh9nH5tDY4S6xX4yKO2L7P30A864gDOgyGfDdT8HscJvABDzi5BFEG67ATgjOIozaUm6+mHTOEczM4mgV9OOLyEYdnd8sf97YO94Uj3tzN4Ww+84cDGdziWO+Nf7p0dLWDH4CcPOU3re5lyYsEhzhvzc/ApV5yAD/Cu1kFpv/E5gZktGi3hXJz9hpR2iqoeg8ZUtyIjyJdcij+Xyic/OU85hgQ90YOAgX8bnFHgZL6c1TnjlzOWXMp6gO+CAfmfs1Zzj1ROOCfY8RO0SR4LHuInZD0+zdnS2X4JTnP8Z2ckXM1ZRbXwMndlynKpf8FijjCOlDxyX71cahs+5yx1ThB8Aj6Zs3lZJ8cnfQU9mzc8qO2R296ezQi6vjeufcIptNOGMsj133UvsOPUggNkuEA0XsXhz8mrugtdyfqyXBXMIKvxbsFXwRk6H75Mt+G8zYcL0DQHOx7BSZUPRdAZctA2O5DMw/u+Dx/Aq7P9qe3tl0th4k3tZd/U9vUEj6wD1Moce2y/ObLIqvwZHclnYCNbhcPO/hj2jO6DN+PRK+P1+nidHa/j33N8Gjt+7MZs7Vr9lwPNPtCvOO/oWuBu5H7c5AN5QLch78gEMLMfuW8smhJYoGNbE9zzPQ5feks+dOT93NMRPuEFeIR9aa9/Kj4l+GQ47IdXoMta/be+jD9HIpjAD3Le/MgAtJyD0xx7Dn/ZE0Ea8zA/MKSDgzc7Af5xLgqE4Gm5Nx9dgN4PfpuVHRLBoVA0U3j+U0TiUpxEUY5os9kg3mo/c2AEbpJd1ksu4YNkM75HB842SM6CFWhAL2jSd+m+3pMhmkuXuzfehd/BM/CFi2iLHoRO3ZuDlhykf5lHDvB3tM/sHftg4J/2h/M2HypkD6AJcrx+2BeHrshzhwDYOXAz9zs2V3iDfthpHOC1g0yDHwKA1sOW9Gy4Q2/HF+jtnZZTvSMMoAf/EP18o6/vtgd0uJfwTtCSc3tz7Z9a+xXO08fQaZYDAidsZHoT2KMbsgi8yDn2juH9vGfgvjXsn7aAU6s/4H14vEOWBj6CPtvqvehwCv6VD2UvXz47DqYpb3p28KC74vDKSysexE4jP8hUtqOgABuZ3UlfJG8EUAwyhMyn45HreB4as2e5NHOuIgTffI6f5YNe+Ag9iUwT/Mg4Zx5sCf/PveQ7kjP2BV3aPzKOzoEvZb3G/H2nPlCBZ3pGln32lN3rd/RrtJEPOFuz++Bp3ucHQTO5tQW44ntsALYC+oCzaN4+1euBG/e2eW1Kt85o7e07YvjGt/OhQz4WcoTcyJUm6NF0fHuNX9Ob8Fc8BA3n7HV8yufmZo34WV4PWDkkRUaid7KFfGKzkZP0h6xzej9n3uNj4NCZ3Icr8BK+Gvhk7kHeFl7TT/ipan0T6J/8yftWi38CguaQ7SAwAff6A2Xo2BoF99oKDDYqTFbNWx+9e9emB/8WvXtXRzv5CPTu8uwhaUwn2b1t3T/rQewi8ppuwfZEA/hsrgCCVuj/9tfA5+FhDvzWyi/6h88EHw2yhc+DLiRYB1buA5/yQe58ODJnQ5MbdFqHujrb30bh75nsxXwoBi9nO5CzeEl7+gcbjD1CF3OROWBFJ4ePWUdhF/M30jHqg9Pg8OOg16ag0wnBU84Omsk2vd/QWcjuXN7efqAXfCpXryMv8DK2f73/oBb+noX34R9gjr7wCPIaj/TdXGnM+2CQE2jwa/KzM5jTN+lxbFK6gL3EB+oPHNFX6AHWlgPGbE60ba3ZJ0bu5ZZVuToVvon+2WRsQDYTOeh3uQKaA8P0ptx3vlEaKt8rECgQKBAoECgQKBBoHAIPC/yuisDVl489K/2/k49KU3afUBmrFBfBTw4fygvhzDigZHFEMOSc1mXUMVIoN5yvDLjc75Iixkj0XQaBE7cEPKU0l1fitGfIcRpzeFI6KZzurZwMRcYpXEY3RxgFnsOMYsagobRRAHM2by0IKEeUstyblUFO4WDYMH4YcLnPjt95PkWFMWleFBYOCQFHzknZfBQXykrOpuO0YmAwjBgb+cS7+1kvo6f2GY1vUQPfDP97Em+5Jq53xPXitn/D+LUP5mEvGFHgKNhCAbY+hhsnJGWT4cBQ43xxUhvcKZOCohQ+38snSO0VpZHjyt7ZL058SiIjHuydsKdk+oziyjEIr+wrA4vBS3GHAxztsm+clK8dOWPXsyijTlHaI8YFpZNBBw+yQ5FTiXObIUThzgFE97Q+xoY9pIhTdinKHDO5H43Ps9PefRjejF1zBjuGc23/zI9+9JJwQG8fNHPQgKMfNIGuGVcC/Iw+MIIveXByoBHBHHyFcZD7ujGEOEg4dhioHBveQ9vuxdlhf9FZdrI1QB2P+Er4xqvgrzhlt9NqAAAgAElEQVQm33b4JcM4S+EwSuGsaP+OcIMDBJ1wHnEI4E/wloOHowO+ctIydK0L38EX4TqHPAPbffBBxhZDKpdhRC94mYH+wApMOaDQD16FH8M//JdB77foN5/cBm8GLUebZ3Ie48e1g5MgZ0AywtAQBwDadgKXQxJ/MAQ58F/7gibxB84O9xc4slbOLuvgMLF+/BRvUe4UjdprwS2OPPNj/HHakC8cXoKAObNZQNRz8JNa+YNncBLj3dbOOPUcz8v9PTncyJ3ulj/2IZd7ZAyTc3gqvG1L/mwq/7JvjHB7BN85yPLzwEtwx2lrPBN/FbDifHeoyvdyvynwwbPcx3c4Dshs/JiDkSznIG0v+NMQbc2NzOwRkVUz7pWVA8XBGDKaMwRtww/PhaccZZzignScfWjbvMlx3yM70ADHjv/DazJY0AS/t14BDvpE7gWPBskbuAUP8Br3yafJ4Tp+hN44CfElzxWggGf4fH1QlZMFfMGSw9daOErpGnBPAB/t+i1asSaBCrLNv83X/vltfg+e5gCGQClY0ZU4dnIJRPTEoWpP4BXZa5/Irkb3aGnwiuvDQbpt6Cz7B60NrqltzzlEhpPbOXMUXxUw9V7O7uLQwaM4mslnQd1Mw3gd+rV+h+PIvlzWGN7SC/wWj7de9M55zLEGl3OGF/5GNtNJvG9P7B1+Qy54Jjwlf3OgM+OjvbB3+VBDDn7ad7oX5xd9wDzwIXRJ7sMJQSj4yOElgOivwBkdgnwxf471/F3PcH/PhGP2MR++sY94Zg7aLo/yK2+O14kzTkzHv+v4NGrMqGqeaBS+5moN8AYM0Qke7//2BU6YEzhkuWBuPqNz+gxOmAPd1bzsg2egE/Own2gll1nGr8HR/jlk5aLDokHvk6XkUs44bo/m29J/yTyVYtAHZ2RtaUR83DPhsUMFeX5wC03k4DuZkbNA0Kp7ug8eS+47AIN/4Sv20F6S/fjJJo3QPatTX4GLVd9eLToI/i0Y+D56gBvoGH/Aj8h88h986UP2j01BNvk3OrSX9pidQeeFf+4h0O0z+IuurDnLa3pHloF4FtoAY7wUzuQWE2QzHIAX9HN4gRexgzorkc157PkCIoL/+LN7oEd/6Rb5sIO9hdd4st+Ze6YFYLV29I+ezImNYf/IKTyHboP3wz24L9Di+/YbnAQd6IFttXCptm3FfdG0M8oeDY5DlgfHod5hEzrcTTRH1wEvOhT62VT7h1ObI9va0C+bAw3iO+ZtrgIGeFjGWXzRXuIV6NJ68U1yyftZn6q1f+CUTKmccZ0X1hX2D9mEv7WlPwiOCFTAXwFU8CF/yCS6B56Nxwj6oXu6Wz6A8e9/nxw62ZL47gmBi7+scDqXaUYT9Hl8H57DLzyIzKMjkiX4fO537nPrh/N4BL7FBvV99iG9FQ9BQ2xr+ipcwXfwNzY33opfkuf4qGcIluA/ytaStZkvgUV9lZBaZEKz+C5eBnfBxaEHMIIL9Hr7jAfYU9nddMLcYsozySLr8btcKcPfWl4Gd+AoGrFeMhSM0QM5CefYoB32vr4j6GLsqJR23KFaAnmH/unc9BPrtqfoy17w56Bl/MJekIm5JYN9IBfp22x2eIEvw2H8xnzo5Lm6GT0dXuSAI5x2EM668A3zztVZ6PjWRLZZL9jROfCI7GOo3QN2Bv5qT9EB/MoHofBQ/C0H18g0+owgcS4bjTbtE7oDT+uBb+S5ueHR9onMx+fAiI/HoRYyyffwOPPDI+ur0DUiSpoWr69KOT946dq0cu66tN2+g9MuzxmaJh44uEPbs6N7g4U9sjfgTs/Fh7O/DOzhLTxy+MHn+ApeBoZ4WNah4Qi8zX4stINu/I49BgZsOXQHNvg+3geuuXqDhJBsr+Yev/wxuYoVmUJ3qm2xYn0dwZ+dTUagDfsK9+Cr98wXT67NUq3VP/AeOgM+Tabh02woug9cNV9+MfvNDiUj+YJyxZNa2Ovv+8qwkf83DmafHrh7WcDHfNA7vR+csj7HVnB/eAln4Tt7Ad54hnnTw/kS8EJyAH6T6fCSzGVXoEkBdXLU/vK1WpM5OyBu3+np5Cu64ecCd7q1fWfzoAM4UX9QgT5mf132kJ5nnmysrE96Xj5EgTbMFc+DM7laAJrCF/Fq/MTz0DWeCV/M01rgGl8DfgzH8A76A3lE966tHtEIPZXvFAgUCBQIFAgUCBQINA6BhwV+/exf59yWrvj9bemEX7wkNa1pqpQARg9nZ8769D2OCYoFRYbxwnCguFFAGNaUSgoPg42h6TOKNuc8g4MxIqCaT7UzBhhEgnECcdlZ5FmUE6fDGJgUHifT3Y+RQaFjXFHqKZOUrxw8qQUDg5USZg6Uo1yih+FCyeEgz4NCY11G7RzzaVPGp3nUnooThMllrRmk1pU/t17wqC9B3fg2NfhNiShfjyuSGtK74oqytrWDkUfxMuwXmFLOKFyURkEtDmaKJMcSoyz3g7I+66Lc5dPgcMA9OKYYRH7HUW2ANeeA0965tHKFXxvKiHHSZie3AAUDk2HnHoxASjfYt1W+kcONAswpyIjJJfE4CijRHG4ckox7xoln5Wyq2lJ3FN2c1QIGnFiMKEahexucEbmcODpg0DCorNP360t33333wnBCnB8G9StCyV4/oOgnH/SwDwbnoz3OGdycSvgJY8HglMYf8BE0jk9kfOGgN7IRyWjAgzjUNqnvWyekEzZf5QvWMjpYUJX8E36PoN1H/pDhCzcYjwwoRjKHCLxg2FgnZxMew6hzkIUTCj+DJ/ihdcEx/3YPThbBXO/hSbm8LHzFm3K2H0M7B47gNFoFK8/hBMvZp2DM8YR2OHngaC5rV7siBjv+ifasI592ZmA7oJHLcFofJ4iBx4K/v/gIg9d3rVvgJldQAA9zZ1wbeAZegc/i8eboMzKA8c/Zkg1SckCQjsMIPHJfJM9E5wxlc4Zb7pczv8gLzh5r2hryBz80R/uWnRucTu3Jn1rYd8a/OEbwX3ghKGi9HBLWKJgKRrnXM6cUnMnl5jlC7AsnNxwiC/FUMgu8OUw4Dg2yk/HdaFCxTVJqmh7pyNFvc+o5aeaD88PRe2b1NbjK0Z17upGHjH1rd6CHkwbdM/w5XAXrOROsw9zRO0exK5espTvkXlScC5wQ8B7+gw26g1v5MBH8IdfhDkdQdjLQF8h3DisOo7ayaTkSBaE4dDiVcxUDz8x8iOwEz5wxRz/K/bR9Rh8AW3DPQTewsZ/wFF3ZA3PMB1nAB8+wfjIpZ6h0wsYe9vG6oK3pQWfzw+F3UDgsJ2wor+ae+Jf5oBEOHXoR+rUfnIdoF4zB2mcc9/QYNEznEngSmCc3OabgV852tHe5EgNnE0ca/sCxw2EHzngox497WTNehT/mHs3m5D08liOdY7K+3YPF0mXoF+aA/nLfMA5/hwk5nDwr96P0G/fJzlr8Fy/JMsf7+QAXJzlHF71G4M3c6TeGvYYD4OQ5eFeuEnJ/uj99NF7vvPyd6ZqrncJLlX4CRz0PLjkMxFltD/wbjXCSOViDBsAIbyYvrM/36I7g6H16B3rO85E9R1+FZw4YZX2ajsLhjR7w9qxH+S56EmSzZnOhc+cy3R3hWXv6LxwhD3LwGH6DO/gZGS9y0CLzfvo8uZb1YvRgPvDRujlqyQe0KKjjd+QamddQmWcCXeai/oVkWOgbEXnZ/D4PdcCxH7kKBrzFF/A06xLgw/vwYDiATuAsmoJn9s96yWeyHL3gi2gC/hmCVFnXQW/4mu95D94JlIAxXgIv/R6/oBfQbdEUngSODgOZW66k0dE+02HwNbgG1nkOdHqOYXIOPzVvNEYG2jPrpNMZ3nePrEdziNMRcq9PsILvtb0E6et4A9pCz2wstuUjxtoVKc2InsMzo1/x7pGJPO01DbFH9GRtBvz3PHKgUfvHOtFYlmlgS8dz4QFkf+ZDaMVa0aV1038Me04Horugcfvflv0DV9Cw4H796Ex/6Mz+6Uh/8Cy0nHmc+eWsWXKZYx5esIvI3FxifPXqRYHfrwo+c1rs/Zig/9MqvPA5xz9cBAtyJuO79+m/+BEeSI57j3xBP/Q5c0EraCa3hfDv3I8drpAz8B9/x6vtgWfngKM5sPnpUJ6FB3qWYIrfC+TB6XYzaDdsALsGXOxdbv3kI7TgnnQJNOmeZDiaheO15W/pc2SL+cE7OJ5LmXsPzZDTBvkCDgadDl8Ad0HIdls/zJoX7TeCPvaathFt8FK/pzPZOzAHSzQKjmgALZDD+Epu5YXHklFkl6Ad2USHQ+vwGU8GCzJSQDsPsID/1mXtmX/Yd7YLXZ8MI/s8ix6GZ9HLPIMfxxrx+vpBR8wVVcgO9zDq+Zv15axWtCmYluUMuZ+rHeHL5pj9FvAD7ZkPXLJHRq7SAe7oAW9udKxesL4q4TzrsrVpxex1ady0wWnnZw5JOxwyOA0Z0cFJ4wYfgJ7BhCyg69rTXBGpVl+jhwlYoyt4jC7wMDCFp9mesnb7zm9FfmXfiOnQy9Ab/RZvBqOMi2Q3Orfv5Ibf5XLTaFhwL7dDExxtq11Te/BHF2wbNJsDme4Nt9FI5q/mWK9/8Cexz/lu6BDZLgUPeGFYK9nsM/gKt9rK9j09eNPlQdfvCX/Zn0KmGmQbuY0esi5NZ+HngF/kIr1bQgH5iK7IDDzEc8HEM7Od4p74bsY9ekbW5ejmGV/Bw16ga/QpWAzX0Rkcd0+6NPqt5U/1aEV/Qw/WQJdGJ/RGh4Xtb6ZfPhr7i4+iT3sK/vYM/VkvWy7r+vglGeg7cBT/N//sJwAvNha+R3fBC9s95NUgLZSvFQgUCBQIFAgUCBQItA+BRwR+ffUHx12Qdtpzu/Ti9z28P04BZB+BgBZSP4xLteG3xVUXAO4jq+iz0/zKVy4Ph9fqOHX+rD67hoE48bAjw4BJ4dxI4ZxIYRTrzShwORCh0XNrZohyXHCQltEHIDDvE1HqeVxKEz/UByY7cKY4N7K7bwln147ByPYOR+s2Gw5lDRwIbN2Vnp/OTxfH6xvxKqOHIKBfrzKWSscK+kYQKE4BaDjfWtq5jL4LgaYIiD0QQfwHIuC7XbTR2fv4sHEm99319KOZX3jh+yNwuHsc8nhPP1pVH1vKoqVBG3NS2i+ClUNaD2CX0TMQWHbfuiqzd+6/W9LqhRHs3W1w2ukpEex93OA0dMyWB3t7ZlUD+6kz42D6GyLb9dQ4vDKNXlFGgUCBQIFAgUCBQIFAgUAfgkCbgd9Vy9akr7729+mZr39MOuLY/frQcspUHwaBv8T/TotrfVyviEsf4KgAVUb3QmDNmpY4lfn7ONm4Z5wojfrBZfQpCMQB1Sg5muJUvL7FrVNXgVkQOA7hx4nmPrWcPjdZp8yd/pUp5vRwGb0cAuuWRc30V0bg9yNBHJvfL7OXr7JPTq85MgRviozAFZFZc2Cc0h8fmU5ldA8E3pfel54VrxfFq4ytCAEVRCJrKcojpEhrjZK/w+KwY5x2lJUVmTll9GEIrI9+pQuvaw32Lg6lbLvHRpbvGyOI35qJV0bPQ+A//zk1qhH8NSqynBYZb0N6fkIDcQbLZMFHr26ZviP/29d3IIKiJ9bctGh9WnhrSwR616ZFt8fhoxgT9onM+Ojbu90Bg7oks7cn1lWe2QqB5ZEJ/LrIeH1jOAJeWk6CF7QoECgQKBAoECgQKBDogxBoM/BrHQtnLUvffusf0+Ev3js9/x2HRPPLPri6MuVWCKgc95u4VHmOrUzPj0s8shwK7jYMmT9/ZZQLOi/K/EyLcjuHRXmf4hDpNmB3842jClrVE1gmsArgUX02Srem6GvVWjWyJNJ1/QYoEamklbLPykuX0cshoOTznOgLPeUHEXgpKfK9bbdmRym3W6Mc4E4RENsrynsPipJwZXQdBOakOekt8TojXmPiVUY3QyAOMlQCOcoMRjPQFHUrW0t0CPhG2cAy+jAE1kWJ7sU3pjQ7Tt4tiJN3Q4Kedoog/k7PDdnSWnK9jN4BgRtv/FUk2P82ypb+Msp0lr3pkV2ZF0bJrLnB96IsevSVL6P7IaBX7+I7WtK861oi0NuSmiPuPmryNmlSZPRu/9ghadyug4rPrPu3Yas8YUbYoidE6eZnR+nq46IkdhkFAgUCBQIFAgUCBQIFAn0RAu0Gfi1m2cJV6ZefuDQtmbcyHRXB34OeOS1tM6hEgPviRldzjn6mKSrgJaWg9QHWHufpcUXVtFQq13T5ti5Z0pROPDEc7rfOjWqDe0f/vb2jR1NxCnc5oLfiDaMFZ5VUxN+sNHS0yar8zNF2LPoItQaCS0ylazZEH109h/Ru04dND7IyejEEVsbpiPmfTWnyySkN37cXT3RgTm1NlKpT+nlZBMoO0LdW+YIyugQCn02fDRVq23R8vMroBghE38yqhDPBGz3rogldlPrdW7PWVuEr8FtG34WAMs4Lo//unJAhS29tDfZOikD+lGdHMCuUqjJ6FQTWrl0dfSFPTPPmTY/KRt+PvtaTetX8+v1k1rbEKdQo7Twv6MbJ0113jLLnJdO3W/Y9KkCteGhdWhyZvAtuakmL725Ja6PIxMgdtkkT949A78GD07jdS1Zvt8C+B286K6rl/Dx0jUuj1/q7IuD7kpLp24O7UR5dIFAgUCBQIFAgUCCwpRDoMPCbb37LP+5LF/7s+rRq+Zr02Gfvng496tFp0qPGb+mzy+97EgL3xsMvi+vyuKItUNohrihnW2UE7xVXibF02e7ceeeCdPrpN6XrrpudJk0anZ72tN0iY3TnqEI4IW1TzlF0GZx74kb3398aCL42fJZ33ZVScySr7Bg+mAPjMIXy0CqrlnZAm78zLS0t6Tvf+U60bLwgvTYyFV/1qlel4cOLg2vzIdrNv1z5jwj+fjoCMZ+JFIindfPDyu03BwJzon79raeemrbbd9+075vfnIaOHbs5tym/2QCB29PtVcD3d/EaG68yugACevXefXdrn94ro2TNgw9Gmd/IKJRxI7OXE7acsOoCQPfQLdZGIH9plFKZH3u74JqU1kQAa3RkLE6KjO3to5zKqJ17aGLlsZ1BQFnnK6/8Rui5h0SC/ccj7hil1cvofgg0rQmaCbpZEq01VsfJ7ZEjgl6CJ44d3f3PHkBPWLNkfVoaPXoX3RZB3gj2rpjVWrp59I6D0naPGZy2229QZPQOToMD/GX0LwisCgP+yqgmcl6c6r574cL0jMjyfXMY8hNGjuxfCy2rKRAoECgQKBAoECgQGHAQaCjwm6Fy//R56V/n3pbuvHZ2GjV2WNr3CTun/Y94VJq698Q0ZGipG9xnsSfsyBSH7KuS0LfENS8u/ksB4P3jkrwVPpnSH3jLdnjVqrXp6qtnpr/+9Z7IFgXkbSJpZfvIFJ0SgcLJUUJ42zR0aJSIKqPPQmD27JSmR9VbSUn+Ll7c2hNYq8GDorw6f7VS0ePG9dkl9sjEZ8yYkb773e9GLODudPTRR0c/uZdEklfJ8uqRzejsoU2RmTf3hMjUOjoOEEX55zJ6HQRamprS7b/6VZoTQbU94zDFzs96Vq+bY1+YUHNqTq+O19vi9bx4lbEFEBDcJTiVcNZfYVDoQvuHAvrkJ7eeohL4LaNvQqB5SQSt7mzt17soTsqtCkVpWJQZmhD7usOTUhof+zykBLB68+Y++ODV6ZprfpjWrFmRnvSkE9LUqY/vzdPt23NbH2mmAr0rorLBskgvXRl/vSfYu20Y5+MiI35I8bls6SYL8i6fGdm8d65LSyKTd9n961LL6mBNYZ+N32NwmrDf4Pg7qAr6blNM8y0Fd6/8/UPLl6drZ81Kf4/M3jujpNek0aPTC/baKz0zgr5jhpVDLb1y08qkCgQKBAoECgQKBAoENhkCmxT4zXdvaV6X7rlpTrrh0nvT3ZHFuCYCWpN3HZ8efehOaY8IYk3ZbUIaNrL0kNvk3egtPwg7M82IK3xwVSA4shpTGENVFvC0uKLCXtozrghgpeKL26xdY8Pfc8+iKgv4uutmRbbootTSsi7tsMPoCAZPTI95zOQoITwhTZkyNnpnFVraLCD3gh+tDFrSglAQ+MZoWxe2ZQo7M0rjRXW2XVurVYaNWQWGd4is+5IB3vGm3RVp1b/4xS+CZq6LmMD+VQD40Gi2PHTo0F6w22UKGyHQEice5n00pXWB7Dt8LqWhpVxnb8SOpXGgQvlnQbb93vrWcHKW/qibsk9KPK+O15fiVcYmQmD+/JRuuqk10HtLKJrKN+uV8IQntGb2Eopl9D0IrI8ytAK7S+I0qSDvklB+muN06bAwIAR4Jx7a+nd4MR56++Yq6Txjxl+iyvqZYZ80xeHFN4a++oLePu2+NT/VDZqiVNCqMLJXbriao4eMalDKN+vb6xoZ/y4Gwmbt7boA5+p569KyByLAO2NdWhqXTF7txAV5x0YG77Z7DaqCvaN32iYNGVlKcW0WoHv5j9aH42VWGODT586tgr23xN8VkeU7LcpyPTX0jSftsksV+C2jQKBAoECgQKBAoECgQKC/QWCzAr/1QFg4e1macf2cdOc1s9LMOxakppXNadz2o9LOe05Mux4wKU3da7u03Y5jSzC4L2PPopi8YPDtcUUyRopgVooWQ8mByIlx8evzGe8e19S4BInLCdlN2vGHHloeAeCF4WSZm26/fX7y/zVrWtLYscPTLruMC5/ohCgdvF1kjI6vSkaPGlWCXZsE4F7yZe0KlYjWI9iloqXewSoYS2Ll+xYQFoNRNrqUin7kxi2OVOqLLrqoKgG9ZMmS9LjHPS495znPCcfkQWnEiFKDrZegesiIM8Lx/9NwXL44EPl/wnFZynT3mr2pmcjMSy5Jd55xRtohGpXv9brXpWGl/HOn2/Sr9Kt0Xrz8HR6vMjqBACGnT+/VV7cGfKOHXjRwT+nxkTko2EvglfLNfQyN4gTj6rmxl9HnYnHsqWDvqlnB50P5HxHKy4Qoc7LdYyOyEj0v9O0to09AQO/eW289NyqsXx3VaabGQdTXhN0RmfdlbD4Eom1JWhMRSJm8gryrolzzmog8xoHfNCgCjcPCnhsVuuuoKCsryOv/ZWwSBNaLoS9aXwV1l0W55qX3xN/I6JXZW7GkidtEkLc1wDtut8jknTKolGzeJAj3nS+3RJB3Xhjb9yxaVAV4p8+bl2aGziH4u3OU3HpsGNeHxLXnxIlpmD7ZZRQIFAgUCBQIFAgUCBQI9GMIdEngtx4+yxetSrMig/HeyAq+f/r8NH/m0rS2qSWNHj88bR8BrF323T5NjaDwxJ3HpbETR6ahw4rS1SdxLBI00kNxyQiO4FUK30+Kan0pAlvVaWVtoMP3UwWFp2349+T4q8xtSWJtaMsXLVodQcLFVUB4xozF1b/nzVsZvWRbIhN4aAQKR0XJNUHhbauA8OTJY6Ii4sgIFpcSRQ0BuJd8aU34guZEr20ZwapculS+FCQWx5w0qTVDmG9cIhR/ucqXxV6VUX1flE//a7rsssvSojDy9wggHRF9IA+LrLGpU51CKaNHIdASgYEFXwsnZwQFBH/HvGiDgOjRWZWH10GgOZjNHb/5TZobPYB3i3Lqu77gBZFgVDJf2kKUP6Y/pu/F65fxmhSvMtqAQDhbq0Bv4FOV0UuYTZmS4pROa0bvnlE2pvTO6zuoExmfaXVk8i6Lks0CvIK9q0NpUb5meJz+HB89YbZ9TAR5o4TJyFD8S23UPrO36yNiNn/+bWFjXBI2xj8r+Txt2tPiAOKLIvBb+i03tJFBBpEWHdntEcwV4NWHd3Uo9oK7a+P/MnvRxLAwfmXyCu76OzxstVK2uSEQ5y9hRU2LImt3dpRqjizepfe2ZvA2CfDGl4aO2yaN2WlQGjst+vFGgHfM1EFp+IRtCkvaJCj3jS8L5C5avTrNiqCuvry3xwEzwd4FUW4LSW4fvZb2CGN5/zCi94uyWjvHocbB2kiUUSBQIFAgUCBQIFAgUCAwgCDQLYHftuC3bOGqKgA8686FaebtC9KcexcnAWInNEeNG5YmRvBKiejJu42v/j1+h1FVoHjQ4KKg9Tl8DFs3RXJHCh9RunfDJUPYe8pI21KH/8MHmPgUIohVXYLCsod9Vra9w21fvHh1FQCeOXNJlIwWEF6SZs9eHtmPq1NTHLIYPjxKV207oiodveOOY6rg8NSpY6tM4QkTRkS28LAIGhanfm+nLaWi+c/vuSfOVYSfVWBYH2HJUsb4OFwhKzgqVFWBYdfkoCM9hAdiUHhORM+vuuqq9M9//rPqBzw80qj322+/dPjhh1eloXcSMS+jZyDQFL0DFn4vHKDR73H8m4PP64laGH3PbEb7T13+wANp+qmnhmN1Udr79a9Pkw45pLdNsUfnc346P30jXqfG61FVv4syquCfk0oyea+9NirDRGkYwotwiizyqMff2tOgBHp7P7Io1dwUyvqKUDYEdwV6V8TpzjVR9mdQZCGODMVdcHfbA4KHx0m0EfH/QeUkZ+/f2IfPcPXqxXHY8MbQLf8WOubNUe1/SNp558fHwbkjw27Yr68tp/vni8etDdoQxBXYFdCVveuv0syCviJNsndVLhgetCKoWwV349/akRR/RsP7pDyzTN1V8wV1I8Ab/XeXR3B31bz1ae3KCPBGvsDwbbep+u+O3SWCu4+KDN4o0zxi4qDCjhqGct/54rI4HS2Dd3YYv/dFlacZoZ/OXLo0LYwWES1xqGJc2HpTIqj76AkT0j5ROmu3+Kts85AS5O07m1xmWiBQIFAgUCBQIFAg0G0Q2GqB37ZWsC5KHC1fuDopFf1QBIIFhQWHl0ZAa01TaP1hRI2ZMDJNmDw6gsFj0/aRITwhgljbRlbj2AhejRhTshq7DTO668ZxUjcpGx2JAmlmXLKFZQkLCkdbyCRoLAF8bFxR9jZF39Mqa9glscZ7MomjGlYZbUNg+fI1cXp/ZTh1VqRZs5aGP3ZZ/F0WgeIVEQbeIXEAACAASURBVDBcE36LdVUm1+jRQ6vg8JQpY6prctDZ9tuPDqfPqOr9MUFfQ4aUwExvxDMZwipnCgIrGy0wPDPoKapZVf52tq4S0fzurkdFfELyq6Bw2MNVWen+PtaGg07w9+ooLaonsMxgvYB3i1raSkK7do1I+ejS02nrosKqK4PXnxIB4BAEY49pzQAeVMqAbt1N6Pxpc6+5Jt3x619HD7xxaZ83vSkyZ0qf5t+l36WfxOvH8ZpWlTEZoCMybCqhc8MNKf0n+rj6t4w2J48EeQV74ctAEDR9FQU0uGyKPsuCusujj8vyKNuz8oF4b2GsKIyvYaFAjI79HLdPa6nmUXG6bDgFvIy+CIGmpmWhM94W9sA1YQ9cG3rigqgMNCWCvU8Msj0i9EJ9egbowLuqoK6M3fA9VFm7G64qqBufu5yVVQVDhq5SzMPCByGo698Cu0Pj/RJoahiJZO5uDO7OjgDvzCjT/NCG4O7y4EFArb3xpAjsRgbv6J3jb1wjd9gm9JKSwdswoPvAF1eFvbY49Ioc3BXUVZpZJu/SeH9NHKxQknliZPDuFAFefXl3i2vnOP08Kd4bXtpE9IFdLlMsECgQKBAoECgQKBDoKQj0aOC3o0U3R+B3WQSFF0Wf07n3LUnzH1iaFjwYQeEFq9LKpU1J0HhIGFmjxg2PfsIRHI7A1fjIZpy409g0LgJX4yaOSqOi3O3QEeUkek8h12Y9V0ZwDgxHECtFu7CqnLRAsfd9Xp2qjkvJaEFgAWHZwy5+qSiBW70fBmMq7T4fsQ0rVjSnpUtbM4bnzhUcFhQWKF4epXJXR3C4aWNwWOawHsPjgs4EhmUQyxqeGCXaZQ6PHy97eGjpN7xZyN49P+KTj4pXVVBYhnAk8FVB4fnh412+vNVvJfEqB4YFhXeOzHvlpPUYli3cH/31zeHME/y9OcqPCgTPmDEj4LE84LBt9M5+dJUZ7No5gDFmTAlEdg921ty16cYoGfrL8PxFo+uRT2oNAg+LTLIyeg8EIsvp/gsvTDPOPTdN2GeftNdrXxtOV6exBt5Q2vmieP0oXjtWJ9EG0CBQ9B8Q5JXV+1AoZYSI3gMywg88sPV00UAsM9Gr0SCU5TVRYWFVKAOrQhFYHgqBa3XsX3OUDaEMDA1lWVBXcHds7Oeo2EcBXtm9ZfRZCCxfPjv0+tuCVP8Tev4tadWqBdE2ZLs45HlQ6DhPCH1v/4hb9mM9R4ZuFbDdENCtgrobsnOr8ssb3hf0XceojJGzdYeG30BJZsHcKls3/i2wJOBb2h80TBMtcUC1OQK4qxdE5u68dWllBHWVZ/ZvvXjXxeeqXw8dE5m627dm746OAO+oKdukURHsHTZ+m8KGGoZ27/1iUwR1lwftyc6dL2s37C7XQ3HNj5PKi+N9gd1BcWhibBym2C50C314p8alNPOOcSnZPMZBizIKBAoECgQKBAoECgQKBAoENhkCvTbw29lKVkXmolLRCyMwvDgyGxdFmdtFEbhaMndlWhHlbtesWltVnxsyNE6HRubiGH1PI1i1nQCxjMYIYnlvdASuho8akoYOLwHizmDeKz4PWz0pc7s0LokJUQa3Cgq7/Nt7EfiqLoPvanRcgsEuPuvIeKz+Kiudg8cyiAsKbNzi1avXRnC4qboWLFgZQcNV4UBaXmUNL4yy7QLEvuNaF46TIeEQGTlySASCBYlHVEFhwWGZwxPjEEZr32GfDQvn09CqFHUZWx8CfGBRJasKAqvMKSDsmhUHLLwvWxjf1FdYD2HB4Jwp7K/AsIBx2OD9IrFh8eLFVQB4+vTp1XV/pE+vCieEwK8A8F5RnlTPYJnBkwIYSkeX0cUQWKt2+XmBfJeEFzAY8ZijgmcfGUEkDLqM3gCBtUETM37/+zTz0kvTjk98Ynr0scemoeGM649jRpoR3SbGbOzd25Sa0sfitTBe34nX2KocST8eykkoI6E/7/VRnj2qJgRTbGX+cTCm6tEbhwCq/5fR8xBQmrk5hPdq5T5CmMvgXRm9VQR7BX1FVwYHXx0ZwnxUZPAK7srkHRGHF/TmLb14e34Pt3AGK1fOC538nirAO2/eLaHLzQy9fG3o3DuG3nJAVH15XJDrXqG/OBHbRwfFNAdzBW2rfrqyc+NSfrn6u+F9Ad/q+7FWgVoBXYdSBHAfdm3I0vWZMswlqNs4cqh8vWp91VdXEHfV3A3B3Tmt5Zll8raEHW4bho6ODF3nSyYL6m4I7Ma/9d0dNrZk7jYO9N71TQHdFRHQXdLUVGXrzo1A7rwwIucI6IbOINC7ND4T1JUsPzIOUoyJa1LYV8owTw0dcsqGf08Io3N8XIMKDfauTS6zKRAoECgQKBAoECgQ6BcQ6LOB386gv7Z5XVodmYvLIkC1IvqhLo6g8OLIahQkXhZlcL3fFJmPa5tbos/w+jQkAlHDR0bmosBVBKrGRqBq28lxwjBKTQsQj4n3lZZ2CRIX3bSzHejhz5WUztnDMoUFhZWTdkXQK4U/rLrCn/n/2zsTKMuq8t7vmm6N3fQAMiXQENGFCIJTQAVFIUZ9ZhEDKubpczn2yzLPyIuRlYCSmCjLlxXyMMgQjU+NAhEJYnBpUEBUApFRNCCICgQiQ89dw711b9X7/769v1uni0a6mhq6qr9Ta9c+w77nnvs/wz33/Pb/+xIwGQcx7mC4DjAYSCzA1QbEwGKemQCR6SQfoNh28LjOs5ER/fBTZwucwgBhwPA6OfMff1wdMsxB3LBl5B5u6sEMHexrNXXI0PlGOGngMFB4xYpewcYcZhqA7OGmcRTTtkedOGKYWwUwRCjCloFhwkYDhAHEuIeZBximDc/JgL+EjSZ89D5y21MDijEEknuYCMqLMfrWZgnwkD70vffem+666y65pn+h43mdnjO29Ln2UD7lXzcYvGbNGpncDtAD1T3DITwrh6UuDKM/kCPtSoUb/bGeFsqGPiAAPPAyHXBckGNYaAXI+3vvJZekx+T8/PUTTkhrfud3Uje9RMowoQeBm9WRYgX5XBfhsEW9yo7V3wv09xn93a+/0/R3hP7O1J+yBy7CT/UUm4x7FzfvD+XAV+cXhf7IIR8I1XzkkSkdfngO4Rz5eRdu3zeHc45dc+7qS3kYsKv9VteNLXA36doJ3O3Vl++AemgNad/h3CUfL+5dlsWw6BVoNscUpeSXaePGX+j+7D90X3Kv7q0f1r1JQ/dje6qT5SG6Bztc92CHqpPlr1ne3l124IcAgLYaZtlhrufSNZBb2uDKhSJ6uGVCKuPApbgj16Eu8xzmRujlGR8Cls5YeXTHt8itK6iLY3dMLl3y645qvLFRy4bl2BVr72QXDMixuyq7dg3s7s14Z+oT2MXNG8EDZrwLFuQFk9rxYzoHh9X5a6sKMBd4u06FEMwbNL1B48wf1Q9B2nJH1KNzbVBAd4XuEQC4DnP31o/AlZqHgxe3LqGaYwgFQoFQIBQIBUKBUCAUmH8Fliz43VEpCSk9JgBM+OitglRbBa0AxOQZ3iRwNYyzUWALSNwS5JrUH+FoanIJDwz1GigeWtWXBhUKF0iMq5jw04OaT10TtKop3HRX5Erd0V0yv+3oEQ4gpuAiJs8wBTjsoBgXsbdxJzFbiZuYcNKAYCAxBWgMJIZTYAximsJzN56P7+bR83AIA4pxEm9UhwyvgcVMUzOPNqNy7Tca6pihH6M8G+ru7jBX8eBgrQ2Kh3QOOiQm7PTQEDC5V8trBov7dO6Fu3h2TynCRQOHAcPAYLgBrICaiKBKyWT7i4dH8AMgMIAYOAwU9jzDHlYaQLyrPw/gGFyvD/efskeTN/gegZIHFUP7cQlALmGcwHvrgwGCAcK4hfdVcuVVsk0PQMhjmJkCEzqIRm8QBP6WehrIcditg2fgOF1HX6prqMKSxrCgCgyrJ8g9X/pS2qTOEQe+7nXpwN/+bT3c7UmP3nJLum7t2vSSs89Ov/aqVy3oNu7Mm78nvSd9Wjl81c1ImPfD6d/09079vUF/S2IQuFeIgxyu+cfqXEEeAGALF+dDD01KfJ7SIYfkHjwxzJ8CTX2pAnbHBHKBuyPqbQXgHdMXK25ei4kK4NJNZa/2zaCugYDdAXWO6VOPq5q+YLsir8n87bC5fafxcUWuGn5UHSof1H3HT61s2fKQOk9u0b1Sj+6B99G9xcHqdHao6mfqfnc/3R8vQDQSbvIMyBaIa2GVAbW4cRkv+XGpgbi0tdDK3CAWDQG5wFkct9wIGswtYZUN6JZ5VZAbPa93+gA0oKvfszhy6wK4Y3Lnjj0uoLte0+snLAL8uJy8BBKg3wBQl4jgfXups67Abr+cutSA3h65dXHzxrBrKlDX+TgmQDtChzw5b8mVSw3IBeISYpmaecBe8uzyWwdnQ7fOSdy5gwK2wFtCLa9WvRcwV3AXmLtcv3sAvpFfd9fc/7FVoUAoEAqEAqFAKBAKuAK7PfidyaGAOxhIPLa1oXDSAsWCVLiJyUVM2GnGmT+Ku1HQqimHIzfRnV3q8QosFrTCMUzoaYPDCoe7TLB4UE7HQbkc+wWr+gSKaUPb7lqX5TGOYRdSQM8rzCUsA0bSszqDxDiKgcbUFHcTsxxQrGd2GDISu5JCmhqcw4BhaoCxg2JcxYBiWBHLKDzP4zW7cOf9udpDE3pQ5LDYcxMDiHER5zDUo+Ympmze3DBg3Gg0zYnc1AOoDv2A7dL516PzyKHx4GCP5Sz24jmMgcVAZZbjMgYa1zgHo9PGjHcvkUGBw4qkbIAYIAwcflTPtYHFzKcNzwPtWZ+ObSLHEkbaQ0yvVhRKQDHQmPksx1y4qxk4cAg/qg8GCP75z39u5b8ExpiPSxgoDADeX7GyCRkNFAYSr9YHXK4cVrXIW/Wrj68JXUhHbxIMuVYON+UD7tTFsU9ORPIC98qN2MlFMoaFUGCL3PD3XHxx2qoOEQefdFL6+de+ln5+5ZV6KLwqveycc9L+L3/5jDeLe6YNApScU5xH1HS6ICz7mB5Skqub9ALcU3XrwtGvB5A48TnHCMe+jyAm5xfTXP93dLgoXZTWpve2m+suTNj3xnSU/hblQOx+5TQ3wAvoJXwzF10uqMBd8vICe0nwvhhDMyyWnUK803F9GTb0JQjIxakL3CXPbl29C5v0lMI6B2URYcG1i1OXvLv9CsdMqekGEehrdscYloICrZZ+K45uaDt4cfFu2vSAAV/Ab1eXfifKxbtixYG6lh2i0/Zg3S/sr+vdLKdAcHjbduAWl62HTXbXLVDXijt1iwOX1zN4SOUnQNwKyHWwC+SlnZU4pp/u8Uwu3ZZgbUMOXXfpEn7ZnLrrFHZZl5jGZoVermeXLruqW52RuwVte1fk0q+cuv2rBXRVyK2LU7dH0DcuOU937zy913M/RKhkIO6I7n0Irexu3E0F2gJuceZuwamrcfLpEoa5qXOas7NLOxw426vzD1iLM3cFv0tUA3NX6IcVcHeZ5gF7B/SbpGdX+6H19GSMV4cCoUAoEAqEAqFAKLBbKxDgdw53f0vgaZw8qMDi4YaAsTuLBYkFiLcAi+UoHhVIJmdxXdCqJYdjSz+sJ1qTGVopvG2PwlDXlBcVMGxwGHCs0LgAYws/LVg1oNyp/ZrXK2Bck9PRwLFgF9A5hgVWQD+0lSZwChgDjR0OUwOLAciAYqAyNQ5jgDFhqB0aA3/p1A8I5hkgTmOYB7DY3cbMYxngmHYU3Ma8djfqQwAwJrT06Kh+KOPoHwEUNywkNcAYcOzjvnxkJOcsHlcHj2aT8y8/ICHEdK/Cu1MAwoSnBgoDioHGOI4dGLOMQltAc8DjJz/3eF4Ih8BBDKNQNOU2JAYWMw0gxkGsZxnF9Z1dxB5mGiDsgBhgTBFLNUhMm4VkqsCprfpwgKuHFTOb/MH3C8Q8IgIOyKrrQ/FQZ1A96IHAACvgMNDKwfAKfcBwDFeOoUldTBsCWSPfEzi5VddHXTx79tNBAQh+kXa4QgyTJziGeVVgk1zwP/y7v0v3X3WVOX8J+UwO4OP+9m/Tvi9TqO5fMXCOEFL91ltvFaP8sSIH/NI6THBeAG8phFMH7gJ56SgB9OX8AgKTk3uTLiC47zmvCMs+rLCEXXrIyXn0HOWlPeqoo6ymo8X2hpvSTem30okK9KyLTWU4Lf3v9H/0pyyE86rnjN+MC6U6nFioZmlpwFcaWI8ZhaVPz31uhrwKUx8hm2es7pO8wJJcZkduQ/rXgbo4duXWrat3EwUnL+CX4wfS0qMvKPLqDuiaRY5dakIx49jt5mZuFz/OZku63WA9k3LB4tAdG1uvexg6gj1kYHfzlv/UNWu9Oihu1f2lUgzJTjmkXLwrVh6UVuxxYNpDoHdoaJ/UV9v+tWob6arQ1t20bTiLw1Y/HhzcmuMWaFtqD53czoXL4Vduetvwtrhw28DWHbklJ663I090ANxZO6rNQD2WnblNhVQ2d25x6NZx5sqpSyHcssFcfitqIKRyVx95c3VJWZFDLePM7SUMc3Ho1pbLzdmrb7TdsCPxrO2gGayIe/xxnXdjuiei4Kql3oIDVwVYyzh5cm26zCOUMsCX11Iz4MKlEDIZpy0QlwK0BeQa1C25clkOyCWvLsA3cufOYKdF01AgFAgFQoFQIBQIBZaYAgF+d8EdSn5iQlA7NAYKA44JR42r2KfNXSyYBTCuC3A1BK0sHLV+aPBbnt/hXYK/gONcBK/IlypIDDjOIDnXfXI5sswLbXkNruMelY74Ub8wRwrAmMKzQ3cZV93GVYDsDmPaUpSL1cAxA88T+aHv4BgwTOHZEs8bfZxpB8fexoEzNWUJpjmcvnOBxjiHx8aU74hzT+fYVnXQcGcxNcCYZYBkxglNPTamc1GvxXGcz0NCw+M61o91nUeEnabO+Y0zRB4YyC5jIDIwGbhcLR6uulbLDuQZmNgW5pidg3fFGUx+YSAxjAM3MWDYC45i4DHLaUd7roEY2QDAhJMGBgOGMbw5JIaLUFhOCkvKfIWdbuiBD8DqMVFuYDCOYXILM858gBhwC1cj0As4DMjaSzZowkgzDRBbpg82NDRkMGy3G1ra8fU7siO4Ieg1oYtjl0Kf4gTuk1Oz9mxNE3s/hrlW4IYPfSjdd9llevCcQ84Cf2sCrcede27a55hjtnl7IO3111+frr32WgufTgeHw5VL9nkKNfzMZz7TjvO+Su7gmW47nSrocEFY9jvuuCP96Ec/MjDMefNyuZCPP/54cwczPKq/V+jv7iRgOm3YN+2XrtHfs/W3ywyETADy3i33O6AXyEsPGmLqH3xwzsn7bG0veXm5sMUwcwWAtRZ+GaCrL5q6eiLh1iUUs4VfVgcBlhMP1aAuvYz0RQLEJfRynxy7/VyHgLr60sHJG4kuZ74fduFXNEXbGgK7I6N0NHnUcu1u3fpfVo8AduubFdlY399d+o3Vt1Kn4t5puUIyk3t3+bL909DAMwR9l+t7u4Ro5lBqERJZN+6CPjlMcgXWutMWKrg9aItW5rqtOGmrDlsPlcxNkTtupztvd8eby3k4xmTuNpDbBObKlesOXFy5OHEpgFzCMDfl3KU9uxmeLuO3hVsmpDJO3F7B3F5qOXOpAbm4c7v79TtjAaJ9z4N8C/YWAFcvOG6BsThuzXmr+3cHt4wzH2iLGxe42yiQF3CL85YB+Aq4BcQCZPt1LhJKeQ+ctqoBtQ5zl2maeRTamWNXBfduDKFAKBAKhAKhQCgQCoQCocBMFAjwOxO1FkHbST0QaMo1DASmjAtCAYZxFROimnrEwlFnmOzzG3I7NgSbcSnzemrWZT9WAFcCyEBgnMTkLKYYJBawInR1r0BWr/IemwO5uJBrfYLGpS01IXNZD/mOw4k8DwcTvzWBvw6CAcgOjYHEjBOimuLj7jamLU5lXk/hULBcXCoAZHIV85ABcx3PlqndbezzPJw1ANmBs7uQeT3roSxBXmW9vAV/cRB7AQ4Dj4HIGSRn53F1XgbIihAg4IzzmNKS+5/1EQEgQ2Q97DGInB3FwGRAMrAYgJxhcp5mHDfyAOem2vYpckDVhcw5iaN5qQ2KgGaGN4qHnAYYA4odEpPuElAMM8FRDCj2sNPAYrFUg8XwFFzFAGIPO80ymAoFBzLO4tnmru4YJsQtcBgnJGAYoMU0cBi3IzmGPeQtAG2lNtJD3QK33C0JPMY9TNslO7SANHIEj92W6wlNd2hn1Q7KMLj3MF27lBuzI/Iuz+Yx8Pjtt6dvvulNilhCLlK5iXQyUCZ1bPbp5HnF+eenvV74wnTzD36QLr7kknSvcgMfKgfqiSeemF6o+Ry3cz1wvtx2223p6quvNmfxmgPWpJN//+R07m+emy5LX7a33zPtlQ7X3zH6e6n+jtCf/Pf6mlqAcwb4Q+J0wWtz8SqvuGJfZyDEhQgn72E6ngnbjJM3IO+vPoSIFuAO3XF9GQB1gbiAXYAuoZiZ11LPIYCufSFYPNTs0iUEc586C1AAupQe9ZQD6kJoYljUCuRfO4JuE4q81KybI7de35TGRjem0eHHdS/xWBqWc3d466P6TbVBv6/UMUvtejr7Uk3gf7BfnbAG9knLB/dNQ3172XSfjo8eOgV06IaXNzBoW2CuH2O8LR1rp4dK7sRVS+9d6uKw9Ty47rT1UMnUAYTm/PjDWdsa1zGC0V9uW8uXq9rctwK6OlwM4jLPl0/qMm7cD5DLbtT9IpAWWAu0pQBzgbo15cy1MMuCvBaKWe14TQxPrcCErtcAVkDrOLlti7PWaw+TDKRlHDgLpDVQW2Cuu3GBvayLdVL46dtVnLaEQMZx26f7aAezwFvGAbgAW6ZtnuBuH0VtKQBfwG8MoUAoEAqEAqFAKBAKhAKhwHwqEOB3PtVeRO+Fc5icxjiPG3IyWhHEwllMyGqgsQPlDJHlOHbncWkLQCZkNWF3J9Rb3UAy8EoPM4C/hKI2RzEuyApQZtxAcnEhO2i2GtisZVU3cjduZq2nE7DMg5HoEDt7RxoPqxwAu/PYQTLhqImMCTRmHGhcnfb5VfexuRrK5rGfqgAYN7GHpnaY7LmOgcoAZaapvbgL2WsAs+dSXgLHAc+emwrRNx0i13Ve4jCuQmN3Jfu87ECmnbuQCWE9YaHkPZQ1LlHALwCYAlAGDBOmGpjstQNlILLPAywzzmumF+vkofN8Jjk2Z++gnfmaYCzAX0CwFxzEwGFqh8WME3oasMzDPDgX+0jPdqwAgT3UNMCYAtMCFFOYhs8AlimYGnndzg+T6kQwYhB4/fqcFxVnI2CYQq5Uz40KILZc8zgIZG0mhC6QGDBMYRoXMYAYFzGQuOfpbdzOf6zZeuWELkzjckcSHnrsR3l8Qk9tuwRseuSI7H1OdgV3C5yFM3inVR9WKPPH5awdkVt9RLByRICSelzHZUMnz7i+9+8QqPypTppTfu/30qtf/eonDbu80xsxgxcSCvpb3/hW+ptNf5Nu/I1/S8dOHpfOfMWZBn0VXHoGa5qlpvRKkfM5/fSnKf3kJxn20ksF4IMz+VkKYa5Q1bJDp7SfwgMvZAz7WfrIs7IaSEyTEA8ksYS6AG910bZQy3LpAnKZbupmhLZmo8PxqBuGHl2YCbHcq/2NS9fhLvNw73bpAh0u3VnZTQuyEmAb968WAlmlnaOWPLX6wtd9UGt8LDXrI9ZBZVygtzG2RW7LEY2PCOo29JJG6rDoSeqwKmLX3dOn+ySB3t4h/eZYpjKQOnt1nHTreOJcBeB68Y6SFnqpmtO2hEV2aBvAdv4ODw4FjNSNDG9x4OKwxcBvsHZryZMLvOXWAbhLUTuCAJjBn4FdSFjlWoG0OgQM5ArcAnF7qHHiqob7A3K7FF65U4fJ7r67WzhgS95aXLE4ad1VC6R1KAuMBcQ6qJ0+n7a8FsgLpPVSBbW4YwGtPQXUDgi+DuC0VXFYC7BlHqGRDdhWQK0DW0Av64lwyfN3qsY7hQKhQCgQCoQCoUAoEArMngIBfmdPy1jTkygA+G2RN1UwmRoXsoNkagDymHKw1gWP6w6ZgVWAZIPJOJeb5kRmHeZIZl0VVzJvTThqHJEA4G5gloBUGyy781igCkjsTmTyIbfzIhPauoTEBjJ7eGzyLGdQTZ0dywGXd/Jwr7qIq25kchsDiD3HMdCYcWovwGXakM8KCE1dDWdtjor8UMYKQI3ioardoewA2SFzFShX27o7mXm+Lnc7Py1Yt5PazcLL3Imc3cTkyMSVjMM4g2SvCWHt7mN3KHvtuZM9HDbrwJWM+JOTPO3M+ZGBjA6TgcvuUsah7O5k4DKg2R3K2cGMM3nK0ewO5R7C1pPz3IrOVc7DBRwAvgBggLGHoQYKA4e9wHM8TzFtaMtrAM0+8PwXAEyYaaCwO409PDUg2YGxz6M9kJnX7KiBtylAsmXLVgPEGzduEldab3CYGli8YcNGuaM3a/vGzGHuYaYBwORbxZUJGHZYDCAmZyo1y4HJlF0+5HRLO6X5gHaGABtAuAEMVtgDObdSl0K01gTXanJRAoa7Nd1JEvUYdkaBnwtifviDH0yr9TD1He94Rzrida/bmdXM2WuG9eVy1013pQv+7wWKYlJLp59xejrgYDnCn2pQBwsDs+TNncnABQDXLqGaAbxyPsvGny8MnOg4dwnTDOhdsyYprvvshxKYyfbOd1sHubhuPXduG+QS1l2a49YF9tLGkltyP0ZMVHrRSEMPuWxQV/pZuGWdw4Be3LuQmLiBm+89O/V+llO2lBJVqB26uAprq9CWXlaen5ZQyIKyk6oBt+ONUf0WGDOXroFcxgV2Wzo2JnDXcl/C/UhXj2Bdr8HaHoHbbuq+QZ33y9OEpcXplTG3AFx32brrltsaLwun3G7/zkDbCaCtTntqDPw5PHKuGwK3wNtx/WZoAnFVmG+hlsmFq0OHvh8Mls649AEhL243hXDKivICsHVHLnWPGf/zPPqMAHGXmhPX+viWnLJV5ywO2npxvm9ABQAAIABJREFUz1IDWz1XrcNZaptfYK1DWYAur3EXLjXgt+yCHESKzuAqOGktnLHOPXfUAl4HCow1YFvALeOUtpNW8z0cMusB9FKHu3a3v2SEAKFAKBAKhAKhQCgQCoQC/PZZt3795CrCxsUQCiwyBQxONPXDHqgMFC5g2MJck/O4OI/zdHYrV93LtCePsofF9vU4VHaw7DmT+ZWKg5EHBjiLO1UMCBtgrox7XmUglsAWDmYH0JY7GQgNYAYu89qSS7ntgNY8YHNePw7pcDL/ykPTXckOgr0GDjssrrqUq05kllehM6+lAKi98OzQH0j6wz+YozuLq3AZWAxgdshchcc+r7pse45l5gGYWb/Xu7h7mXMEFzFAuUGoec4tAWF3JmfXcYbLAGSgMnUOa61zU51BpsbzNO5k1uEuZTqQ8Lw4Q+WcN5nSrXMEEAxQdjjsYbBxJAOVp4BydjNnV7M6fZScy7SfGsfdk6G1r38unMuwHsJMOzQmJHUVHDNNqGocyMynHQ5jXuc5jC3io44TDIAOj6mr0NhhMs5j2JI7jj2v8RNNvZxQY+YkHh7eam5inMPr1280QAw4BhYDikdGRrX/6tomTjY63qAbIccHzTW8bNlyA8VVSAxAJiexl14RbFzIc6HxDn+lTfLkWGF1Gz9TEZAbl+OSadzBBoQFkHoE5XoUMprSLdclDuGOSKr3ZBpfeeWV6dxPfjL9j7e/Pb3l93/fLme78nDppZemiy66KL373e9Ob37zm7e/qfTa+PznUzr77JRe8YqU/uEftt+OE5RcvA+og4G7eJXD23qBcMIp17Dl4wXyErKZ6aUWqhnKMsHFShcwy4mLK7c4cNu1YO64ltMGSx2vISSIERkSrquYA7e4cHsJsyyHLtM9grkGclWAvjE8fQWqUJZxd8tW88qSa9ZBbHs5bUvuWcs/q01pF5aVTbN5mrD3IZw2UYEypG2KzjV0LDRktazreBlrqBOSSn18cxqVm3tMiVGbEwK9KnWB/059z3R19wrm1gzk1nqXpb6BVbn0r9C9t0rv8tTbt4fKcn0v9avzZr++L2sCTd2B/p/+0bJDa2A3G7DV/SGnN7luAbHuop0Ki4wxvxImWV+9wFouCwZttQ6DthxDHhlbl9LOnpzbNoPb7K6thlJ2x62BW/X5ANrSfleGt7hWAaStUuOQxdnqztj2+JOENQbCOqR1OFvNV8s463AQy/t4aGM7RTk/kRnHbMU1C0gFylbBrANXICzjuGlx1lIDcg3OFsdtTeO1AmZ9PeGk3aHTKBqFAqFAKBAKhAKhQCgQCoQCO61AgN+dli5euDsoYKGq9aCLehvADNhqCExZKGwBZXKy4koWsLJawMpDY4/jWC5gGrezQ2qfB2D29yAcNoDLfnT7M47inuxQ6FzrHU0N9Kq6mou7ebrT2UGzuZe9jYXXBkarZzQgWssshzOgy/IwCzr7uGp3Unu9O+z3bT6jh6emdjBcrd2p7ADZXclVoAwX8+KOZc+j7IC55AFrPzB12FsNXc34dCdzNcy1h8t24EztjmUH0g6nfb67mKu1u6a9XuCd3iJqgIWo1nlVwHKDyAEaBxLjWgYqUwDMDpOpHTDTjmXVmtdnwJxzKfMe5ZmXfWLCVVsnjxJNwENi4zquOpMZr4bJdhdz1eUMWHbA7E7oms7BHCY71znf8o7Zi3jODjj2AiQGEFM8tzHOYwfHzHPXMVzKC58TgIxzmOJO4u05jz2vcTVUtUWs7ByXbuQbHpb2W/Wem7Qd67Udm1VvFixep3lbVLaaq5jcxPU6oTQ56AH3eogvRxYQeGBg0KDw4OCQgPEKcxovX57DTwOScSAPDOAuHhDsVthNQeMu6PdcDBNYhwSAx+9X/QvVFDk0cQhzonZgBZKjkFDR5hDeX0VhY7uUE7RT1qHdFC+cc8456brrrkvUBwM4F8nwnwq3fNppp6XnPe956c/+7M+mtpqT7YorUvr4x1O6+eY8H/D77WsEeBVSGMBLeGYg7y90jBAjnkHh09MBchDj4PVcvAqrvqgGIzeEVOZcUMFpS1hlHLmCcu3cuIxTgLi0t9DKfGmS2BJCgyNXsBZHLg7cms6R9jQgV+dLN4UQy/qyiry5BZBytBQIO90t60C2DV0LfGU+UTgc0BrErYJZb1eOxHzLWYby/WOWSErJH+vTlo/WL236vhSox8PXnBS81T4fF6lrqtR1HDQEaBt8JwjajumYqau2eQK8tCOUcku5lydUOvQ+QFlKT23QoG2tNiSIuzL1963UtV4gV6XP5i+zZT0ied1qrzviRXVK7aoba0zeQK1+h5DP1koeN1BbwiMDYwmR7Dlucdwa0GV+AbsTyoVrsLZ0nDReW1y29hvG3LY4benfkR23QNsepcSweqBMA3I1LsZvbbmM2D3tHOxyM5lXcrtWQwgDSadPE6rYXK0VKOvhh90Z6wDW2mod2wOwDl5ZP9CVaeCvD4V12+8/whcDZKnd2QpgdZCKY9ads+6INQjLfKBtAbSWc9ZfNw3G4pYlp62V3T029a56ssZ2hQKhQCgQCoQCoUAoEAqEAjuoQIDfHRQqmoUC86GA5UMuILjFwxeBEQfE7miuhs021zIATIDLx60GaAlyUY87lC5hsqvOZqCXvR9uypKP2Xt786zRxuEb5WGfh9K2PM3F9dwpx6UB41LM3eyQGbAsqOVu5mr4bR834OxhtKthtQuMBkI77M51Bt9T25CnF/3A0x0eklWdxtPDWjtwxhhVzbk8HSq7w9nn0776WqYdNHveMgR0lw7jLqmDZ3cgVwExMNnB83SgXA2b7W14rTuafZ47pqmrLud5dj1n47ge7pH7T+cE54Z14ChwmfOsDnQ24CzIPJIBsxdzLeNiZh5OZjqBFEgN4PTQ2h5m20Lg06mkOJn9vOMcM6dFybvsjmbczABiasCyh8Nmnk97fuaBgexsdhdzhsp07siFnTs52an3zqXV6hCI7dQ2dloNIAYUUzA5ujOZ+RSmPcw1ABmm4G5sGKwDZJzInvvYHcmEpwYud3VNql1dNaGlR6T3Vm3HsLSVu2tso95jk8pmvd9GbZNAgZxg4wrl2VBoz6bCfE7aE+VJg761WobGvb19BoWHhpYZOHaInMFxhsb9/YPmSKZtrcZralZ3dXHAzWQQYZ8ACis3a0Ng2OCwIGBLLkaelBMLEvgLBCaEdLdcnTiFu+Va7BIQZBngeIkNwN5bbrklXXjhhabzYhtwr7/vfe9L+x90UDrzT/80dQlgp499LKWrr972o/QLXp54tA5w7cPlApeEZgbw4uAlZDOAd0fjsM+5SLq6WbxT7HPQGSAuoBa3LfBWTlwDuSS7pMaBq5Mcxy51Oz4qtAYCg9OWmKgltDK1QVwd1zZO4diH6qjg4F3swzZuWC49doOUizlf3clama4C2Sp83QbElteZUzbfb+XeR2W8rZsD12lANve8yYDWx7epredgoW7czOXCH8AVWNuaxHU7LgdgPV9ntc/HRfMayntbx4UrYMv8hmLo1uty3mpZDqmc8+BOmHuX9epeUESPfLg9AvjkxAXO9vXKdWtlmdV9cuECbmuifDVBXty4uHe7ObZieHIFOCTcQUvYYn4j8P2LkxZ3rE5XA7bulC2A1ubb6V+Bsxjs6Z8BnC3r4f4zn+o5spEdUgXSmrNW3+fkqcUtC4Q1IEsp8NYctRQArXYlxcbLPR+XAb8U0FkgdxvQZ9AfdVNvbp38gKzcM1GaOF0Zx6VarRVRpiWYastzcRcrkJZp1vME0FoBuPY+FWctwNUiPNkpOAVec6SnDFs9NLHnj/UcslUQ645YICtu1+lgFujablPCEgNxmQd0rbphHcDivGU88szGBSIUCAVCgVAgFAgFQoFQIBQIBWaiQIDfmagVbUOBJa6AOY6L8xEgjAvS3MiVcUJhZ3ic6ykQnR3QGTpnIN0UIPO8zO3XtMNy55zNtu5prmd/X7bHQm5XIPT0BzK4TwyWFVem1fawKofqBUjn8Qyoq/PNNS0g1lXgtLmdCVdbAPRUfuccfttgNct4DfWTrD+H587bMH3bqtu5S7moM/mcypsMHGbagbHnVd4efHYIXXVC+7qqr/N1ek0bd1Q7dJ4eVjs/h5zK3ewuZFhCtVTzOjtgBiY7nKauQuaqc7qax5n51fV6u+r8Kgx/Gn0OeMQ4DmymOGwuwJlpdydX3c2Mj+FqLjmZ6yVUdsPdzOrowXLaGWTWeQq85jzKrml3NuvdgQ0lfD19Oyx0dDl/unX8Zmdyhs24kZl2gJzDYAOSFT1ApcOe6E4JMznZpffrFg/JdaPRqdJVAHOXtiOX8XFq4LMD6cxQ2gazEs4aoJzDfOfw1h0dTV0X6ipjaj+i12/V+LDGgceACgDFZs2npmzVsjG9LveGwKXc2Tlhnw+4DqPLAB3XcZ+gJc7iAUHkQTmOAcnkOs5O5EE5kvv6cBwPCGSoKFdkX69CiUqPnm7B6E49Ve8QPJtUuN8WMPhhlUf0wZQbVtuTcBLbc2XgsCCZFYWTJqR0p4Bhl0qnnJGWX5icpAsfynZ408/S8NZH0vI9j9Zn3X7s+auuuir9/d//ffrSl75k2u3o8I1vfCPddNNN2mfjaf/9908nnHCCoh/vmz7xiU+Y+/tP/uRPdnRVs9KO7TjrpJPSB+RQ3/P665+4TjH89DKV1wjynvydlJbJ6T2nAzCxWPB0DFuOWyslTLK7bS2kMkCX2h26AFxPblli7hq9KVDWAC45cB3kltDKNl3CKVtbAW4jOAswOISpgtHthSWugtiqG3Z7YYsdylbDGLfhawXq2nk6BYHaLn47BRzCTqvbIJYLFue4XVifBMwy35215XvOHbXaNjq4AFZBY9QAWmAroZGBr1arjDeGdf5Q6CAjaIur1ubRqSbnvm0qDy71hNYxqfy3OY1JPiY6Rfk6i+O2WySvWyC2p0c5cCmCs7hs3YXLtC1z163adukY4TWdWDl3l8E7z1F7ShDgKVHOC5A1uMq0wdlti+erzS5ZgU/6ZeCwpa3lss35bFvmniUaUAaSwFEcoZRJID4w375+VVP0HTRJqWm8XfRijXf0aR6lR8tVUk3HWC/jOsK6VPSd2OrScaZ6QtPcm+SjL3u7x3UMOmAFqpoLlvsKCzusew2B2AxU9XnKfOvQWt3mcjo5ZPXDxQ577kfseJwCnUBVh55V4Oqhhx2aOjCt5nl19ytuV3fIWj0NuBKCuFvzHLCybt6zOh3QdXc5seNzhgKhQCgQCoQCoUAoEAqEAktHgQC/S2dfxicJBZamAmagyZDqCWDagHGGww6PzSlt8AywnOFyy8FXaWd5nN3ZybK2Gzqvp8XDK2qD3NRl2t+nvK89zDKntB6eqbbnzubgrIx7UrJKzaOtHEExOwncUW0PvgDGBrFLmG0H1gUyW95n3KCCceZ6Nkd0cUBXnNfWpu2mnspJ7Q7q/LoKDK+2tfVou8p63Wnt22Z1WdbeXs1jfOrPfCPlL4/PaKjmWXZAXK3dxby9uupwng6ePQe0g+npMLoa2psHlNWHuz5NzcdxWO1g2h/YV0NlZ565LUyeDpanh9uuAmp3SG8vJLfD6Olw2t/Ta48gzQ7QNk7oQTFuG3PclAe27rCxh7XFXcO4OWpwPZO/uZLDmXFCZ7MM0JzdzaotHHeej1uH8yeH0s7nnJ0vnB+ct3b+5A4mbROc3MeTkx06p3Jpjpei+S0DxBkStwSNqScmunXOCTBPdqtthsxMy09MEOkCniWAHM64nA10s+sK9MA9DAgBBHd0AFWAI4IlAiYTCl/dkYalx7Deb9jCWXd1j+gB8agB50mFN+3tbQkGt1QDkXExJ3NbDy0j17Hy3Q3iQu6T43ggLRtSPdSThgY702D/hEoj9fUMq2xWTrzh1F/bpHok9arUulvmlq714NwesvyUnTgpyXNaw00KKMZNLECc5LRMhJYGtuIinv1YmL/8j0+n/q1r06bJl6TmwFvS8n1en1buub9cUPms3qj8tW984xvT+eefL9OrgOgODOyD008/PT3yyCPpD/7gD6wDwWWXXWYF1/A111yTzjrrLBvnejifQ0shnc9505vS245+aXrGerlg7/73lPaQw/tVOqle9NzUWH18unHzc1LP4SemY5615sk3zeKnOvWB7FhcVBWB2Tag9Ty47sIF6BJWGVsedj1seQXeAtY6LbllgbcktlR81LYDF1gLtC0g15y3hCTHisexwcViBtdiv8Z5btbtwlH7ks52wepyH58OWb2tA9ltgG2bClV4K+uuSlzcrwZe+ThV8FrcrQ5T3e26XTdsga7tNmU91rYiU1uuLIZfPSf0eQ3Kav9wDWl5rby1TE/BVjlkC6htCb4CZrNrdlTXFUHcNpTVtNqZi5bctyoGfg3S5tAchETuVDSBDgFlIGuXYHyGtHQ86W/XBmsLnO2WFZPlNavlsMWJC9wtsNZCce/yWbjL/veOYf5drNl2eAFa/TvFouXQwSmHLQacWocnq3PnJ7uvK/W4ACsdGccFX+ko1SzTTbUnUkejXiJ20MY6UpVpvt9IFcF6rM4duHJY4AxFDaRSOGo6CkAF6HdTMoCdArH6IABZoK3qDkCtLuUdZR59qzjtaWP9rDr12nKvQYAJu6f0yyR9Dsr9pR3K9r1HUOwp16qPdxNmWwXYybiF+i21zdOx1oaslbDAHhLYXK/WLtfTwWq7XQG4BlSnQdWqm9a3ez6v9/FeoUAoEAqEAqFAKBAKhAKhQCgQCixFBQL8LsW9Gp8pFAgFFk6B6aC6AGvP3+z1kzmq7UGlAbIK1LaHlBlA82DRwHU7JPhUO4NoVbhdAdVt93Ylb7XltK1MO8TOua0dYAPcCygr+add3KloeBncVQdgtj8v56GjPbknVF5xZ9vyEtbYnrsb8AZ2Fwe3wHI71KAD6GrYbwC4wfAMnB1Eu9t7m7DgxfHtzu8Mv6dy97J99rDRXeO2nXp/6srD0vaDU5tbHqAKTnYKVHYKKnZoPBd9Hh8XsLRpteloUjTOPGqmGfc2TAt0sgy3Ncu3cWG7s8jdRQ6lae/LHNRs5wG57Z/qfnKA7cDaATZPiqvw2I2825p6nxiae3vhuasQ3MengXKx3BzuESAtxxIuo3EenOvAawp4mKvI8kgWx5GW4TpqUKs09NTfw0LafD2QrwOfgdPAatzTNq4aUK0H+3U9vB9TGRnjIb4Ym0JeN6T9uDQfV60UxBrvFLChAJjlTNZ4Q/MbtNe8pvbbhEFqOp8ACciHqJ2jEJTakcTQzE7N5LHXSfztPRGqPRLUTnAgdanuFoTuqqfeWl2gRlC4NiIwvEX1ljTUP5JW7jGWhvqG0x5Do2kfsd89V3ak1au60uoVvWnFHjiU+wWXBy0nct/AHoLQq1Ktb5UAguBwN1BQ8LhLNS7jDkCxoKEVh4KQBU8SLghfTup1916U9hx/r+1zRUNOj2/ZK21Jr1Wq1remvQ84Lv3DZz+XNm14JJ1xRiU37lNchQG7a9euTbfffvs2DuGPfvSj6Y/+6I/Sgw8+mN797nen7373u3Y+jijO+K233mrhvV/84he3czuTM/oHP/iBTR9xxBH22RkeffTRdOeddyrV7qp02GGHWT7omQyf+OS5aVnnI+l/vk5C36Ecvx37pju7j0lfXbdnuvyxzem2DY+lM4/qT39xhDQj0aUclwZ0Hdhi12snuuSdi7MT5yzJKi0OKrX2A/vFc9x2keu2wFxgLctplylQLnaCan06/mwntcErFMyTdZZxm/b5QNRqKRcFv260QwxXLxQVUOw5Hx222sdy12oFwBp4dZDqn7s6DZlySMs6HOLmj1X58ijjlV44gDO6rRTwSm1+RF0LqgDWgCwAtQ1kBVVxvQJXS50BK7C11IBYD2EseDuhc5l1ZrhLAcISbSB/P9rHL/IAZTsqULZTlI6cte6kpSacMY7aLgO1qsu0uWwLvCXsMfOtlHEgL7AX4md1+wI91f9om0u/3YcApulok3OHUrcsnG4udFjL0+QVzWkHfNraFpdmrivT5jrN0wY3K68zt2dZl0eX8PC9hNK198Glqu2zTkfAUkCrRaMooXcN4Pq2cz9UOgnZ++X7I7ufAfDyuay/QXaVtjvd2SGeOwzYXiqHXt5flXsTg6V83+f7DovU4tMlcgvzuhkvyy3SS2lnUTBKB7oem890LgZCbTkO06l5Dj6zo7RA0DYMnQKwOadrzrNKO6Yd0rItNm6QtkDdSihiD0ns9Uyue9E2FAgFQoFQIBQIBUKBUCAUCAVCgVBgaSgQ4Hdp7Mf4FKFAKBAKzI8C5YGqPWR1F3bbkQ1zqMz3cR7KFsC8PQDtkNvbuJN6koe/BUIbDHeHtztHS/hib2PrKS7SDLTzw+AqSM8hE6fW6+Ptz1Ld5vb4FPjexs3tzm7qClG1B80FCjg+sYfQBW4YJ2hT8bLbCuxoI5YSgtmgefuhNQ7x/OA6m92KY7zyMNudPXlZaQN05u2tzg+9p8anLyugWlAToA3Athq4Dcyu1rauMo9xXlMB3t6+/d6+LtoBu6vrL6/DxGTvAVw3Q9NUbdwYuMJ89PH3L77yzJq21YQPm0OuE3UVMGMryc4og/3b6o+DKu/NEp6yhNI01ASYVnGAYWAa5KR92zSoAX4SA1TdAATr+BnXMQgLFnPWuKBxqbVY7TrUTiBVhTYAamuvhXXVBqoB21rruN4L0F0XfGoIJvOnrJz6r3DX+q/WeucR4aAxQaXRVOsfS/0DKoOjch0LFg+NCYhSNwSG6xofVwjribRs+aRCV7fUdlKvUT7Cvg6Nd6rINa3PasBJUGqo+2dpz/5bp64x6KZt3ijOub55eLrg4tH0hjdfmI4+5pU7fB36wz/8w/TYY4+lSy65ZLuvueOOO8wJ/L3vfS9tVdjl97znPen5z39++uUvf5k2bNiQLrjgAoH4hs0H7G7evDnde++96fLLL0933XVX+tCHPpRe/vKXG1g+8MAD01/+5V/u8LbRsH7fFWn4+3+bNgy9OH195JD0lfWT6cZN67VfBHk5jtTZ4y8ObqYzfwMQC7wVrO2SA7czw9rJKrAV7J0UsJ20RJce1nwKqNoRZ9eMSm29Oco8xqx5vqLYuI5f474Vx+ukO6N1jDPf/akWElYvMejW9qxqjGOa67Px46naQCF/BRbaVBnPLle5+IvbNdc5xCt5Y1s2Tq0icJrDE/t0zifLdLNAVdyRgNemtVdN22ptAJd8tNld6+t32GeAk6gbfL4CKe17yK6zcseaHbJAU+0DYGyHwfeeHKJe8zoY17xc91ptkNVAK+3KMoPvWmeOrSv9GFddQOyERRbIF3M6hcibabvM4aSlr+A7lO20ou02Jl/yvRfYOvV9lOfb4Wb8vhpZJE/b8dD+omkfMrYN7UPG6aca+jXSr5cOB/OlsVw/uW6Wjloe/t9qQKOktFD/Ng4UzaF4bV5JEWA56h2Y+jxgqYNMA6mA0ZxSgFQCVhR638L6si38Gfws6y/gFQjroYANxhoArbQr2z0dfrYdsNUOXeW7Y0YXhmgcCoQCoUAoEAqEAqFAKBAKhAKhQCgQCiwCBQL8LoKdFJsYCoQCoUAosOsrkLlNeTDfdhsV11EB5u1Q4O2H+BmU53DmFcC8zQN+b+MP/kvbKixoA/fs9HJI4C6obR3ceRvbDqkq7K5sB4pXgYRDh/Y8B/rutCoww+B4+7NM5ejO78dnAGZkrZhnrizvPFCgiLWDkLANAvpWQ0vZbua7fuZ61nohrtXXqC0gg7bgD9YFwLZ1AmZ4jTuleZviomY5QHmyvBfzzdENgGbcHOC4uwuYYO0+DjQBbhc3ONuYIbW3z8sMbNs682vZHuDGNu0LAC+Y3pYZDrFtd+Cepyc1bfuzwCbgk0mkZVZrectDZ2fpcuhRcoYypZyO2XHMm8pxLHDc2dNQ7vOW8pq3ZDStp8Pf8Pl06KmXZcMy3BLupeZj63rSxrsOTg/d/JK08tX/Kx38uiN3+ER9k0Ip77nnnum8887b7muq4Be374033pie9axnGQQ+9dRT0+c//3nLAfya17wmXa9cvHvvvXe69tpr0/HHH2/LvvCFL6Svf/3rtm5ee+yxx+7wttHwvnseSmf9y3fSlzc/IOCu8MvmUK3GAJ5Iz1ZO5kOVkxn4WU754gBFX61kiu1OTReLaIaVuRNHBr9VzFtAn4NeW+gO7DJupwc7VLDRDn6jwOVEsB4Mhng5XiyXa/XcbrsjzS5Z3JF+LtI2ryYTxQwv83v5+styDnCbl5vScYPPxPFtZ0uBoHmaYz/rZ+eiIVOfzjUY1ZZ7VAVqA3WV2pYDKHE7dtk6cghkj8RQXt3uBJJfnzuL5POxHcmhnKuW47ztmCznuU07DLX+IqVNdd6UWzTDSKJPUHO4ZCDJYWMu0RJRYspVWnGYkgqY11n0iqkac+/0eUw/oR3gkw4t9vq8rifURMnwiBqVOkfZyIe29RtgF3jEh7wb87xqmdGZFI1DgVAgFAgFQoFQIBQIBUKBUCAUCAVCgVBgvhUI8Dvfisf7hQKhQCgQCoQCocAurYBxrozTyjA1Pn2Zh3y1V7Std9PHbWFZq63akd42YdLbr28vz6+D22Xb39S4M0VbVhb7GwDp8/Ls/G6/ztsZFc/bkTEy4wXwGcgrEBGupxDX/a0zUk/HJzSe0oaHl6fHbz8ibfrRKxSK9pWptf8+6bzvfip99l8+KXf1ju/W97///ebevfTSS7f7oir4XbduXXrf+96XVq5cmVavXp0uvvhig7sveclL0sc+9rF05ZVXpjVr1liI6GOOOcZyDn/gAx9I99xzTzrqqKPSBz/4QXP9zmSoD7fSO9/5kbT/kcemG0fWpX8fuz+N1WRx7gHWiowppPh7D3lZWnvQ0flIcYNueRN319tut04AFQqsWQY/y77z/eDbZ3uNfOEKAAAH2klEQVRgWvupV2eAOdW2usSPhbwvPZf8NseH728/QqxdOU543+KEt/doRx6YWq+75O24KVAwty1cvGyYRSR2LRwg8l6Vdu11YchlFb6+4sS3Y5f2M6lLBOn29lReb29SBZnTHf8ON12w6bAz4OdMTqFoGwqEAqFAKBAKhAKhQCgQCoQCoUAoEAqEAgukQIDfBRI+3jYUCAVCgVAgFAgFQoHFoMD6//irdPel16etP/yt1NP5kvSM3zwk7ftbK9OKw7vSiNywb33zf09f/MKXtsnV+1SfC5cuOXxvueUWc+4yjCvh8tlnn50cCr/zne+0HL+f+cxn0uc+9zlz9jKceOKJiVzARx6ZHcZ1JR7+6le/ms466yxrz/rI9fvwww+nT33qUzbvuuuua+cFfqptYznhiN/4ppPT/7vos2mgY2W648516Wu335u++tBd6c7Jh1Kzc0v6yH/77XTWy47fkdVFm1AgFAgFQoFQIBQIBUKBUCAUCAVCgVAgFAgFQoFQYF4UCPA7LzLHm4QCoUAoEAqEAqFAKLA4Fbjn0kfTlttSOuANK9Kq59fk9N32c7z1rW9Np512mrlrZzIAau+77760du1aC4372c9+Ng0ODpqL9/zzz0/nnnuuhWzGCf2Od7wjXXjhhQKyrfS2t73NHL2Edf74xz+ezjjjjPT444+nM888M33zm99MV1xxRbrtttsMLBP++dvf/nb653/+Z3uPHR1+8pOfpA9/+MPp4ksutvDAPow+PJluvv3R9OVbfpyOOGZ1etcJz9vRVUa7UCAUCAVCgVAgFAgFQoFQIBQIBUKBUCAUCAVCgVBgzhUI8DvnEscbhAKhQCgQCoQCoUAosHQV+OIXv2ig9a//+q9n/CGvueaadMMNN1g+acDx61//+jQ2Npa+9rWv2bxnPOMZBnivuuoqa/eiF73I3LyEfz7hhBPSv/7rv6a777479fT0pJNOOikddthh6ZFHHklf+cpXLJT0qlWr0lve8hZbz0yGj3zkI2m//fZL733ve7f/MoW9nlDO486Bmaw12oYCoUAoEAqEAqFAKBAKhAKhQCgQCoQCoUAoEAqEAnOrQIDfudU31h4KhAKhQCgQCoQCocCSVmB0dDSdcsop6c///M/TC17wgkX/We+66y5zFP/TP/1TWr58+aL/PPEBQoFQIBQIBUKBUCAUCAVCgVAgFAgFQoFQIBQIBXYfBQL87j77Oj5pKBAKhAKhQCgQCoQCc6LAjTfeaKGWcf/O1F07Jxu0kyvduHGjOYT/+I//OL3yla/cybXEy0KBUCAUCAVCgVAgFAgFQoFQIBQIBUKBUCAUCAVCgYVRIMDvwuge7xoKhAKhQCgQCoQCocCSUuDiiy9O//iP/5g+/elPp3333XfRfTbCR5MX+LWvfW1617vetei2PzY4FAgFQoFQIBQIBUKBUCAUCAVCgVAgFAgFQoFQIBQI8BvHQCgQCoQCoUAoEAqEAqHArCjw5S9/OV144YXpox/9aDrmmGNmZZ3zsRJyFJ9++unp1FNPTW9/+9vn4y3jPUKBUCAUCAVCgVAgFAgFQoFQIBQIBUKBUCAUCAVCgVlXIMDvrEsaKwwFQoFQIBQIBUKBUGD3VeDmm2+2sM8vfelL0/vf//60bNmyXVYM8hOfd9556eqrr05nnHFGOvbYY3fZbY0NCwVCgVAgFAgFQoFQIBQIBUKBUCAUCAVCgVAgFAgFnkqBAL9PpVAsDwVCgVAgFAgFQoFQIBSYkQJbt25N55xzTrrhhhvMRXvyySengYGBGa1jLhvX6/V0+eWXW07iI4880nL6rlixYi7fMtYdCoQCoUAoEAqEAqFAKBAKhAKhQCgQCoQCoUAoEArMuQIBfudc4niDUCAUCAVCgVAgFAgFdk8F7rvvvnTBBReku+++Ox1//PHpd3/3d9NBBx20YGI8+OCD6Yorrkjf+ta30po1a9LatWvToYceumDbE28cCoQCoUAoEAqEAqFAKBAKhAKhQCgQCoQCoUAoEArMpgIBfmdTzVhXKBAKhAKhQCgQCoQCocATFAC4kv/3+9//voV+JqTycccdlw4++ODU1dU1Z4pNTk6mn/3sZ/a+3/nOd9L69evT0UcfnU455RR77xhCgVAgFAgFQoFQIBQIBUKBUCAUCAVCgVAgFAgFQoGlpECA36W0N+OzhAKhQCgQCoQCoUAosAsr0Gw202233WY5de+8887UaDTSgQcemA4//PD0nOc8Jx1wwAFp9erVqVarzfhTsC7A7gMPPGAOY9Z///33p46OjvTc5z43vepVr0ovfOELd2rdM96YeEEoEAqEAqFAKBAKhAKhQCgQCoQCoUAoEAqEAqFAKLAACgT4XQDR4y1DgVAgFAgFQoFQIBQIBVLCCQyg/eEPf2jO3A0bNiRcuv39/eYM3mOPPdLy5cstPzAwuLOzM01MTBgwHh0dTZs3b06bNm1KW7ZsSSMjIwZ5eQ1u3iOOOMKAMjCZ+TGEAqFAKBAKhAKhQCgQCoQCoUAoEAqEAqFAKBAKhAJLXYEAv0t9D8fnCwVCgVAgFAgFQoFQYJEo0Gq10saNG9O6devSY489ZuOA3eHhYYO9QF/gLxAYGAzkXbFiRdprr73MKbxy5co5DR29SGSMzQwFQoFQIBQIBUKBUCAUCAVCgVAgFAgFQoFQIBTYTRX4/x8J3My6YGeJAAAAAElFTkSuQmCC)"
      ],
      "metadata": {
        "id": "yFeVS106UzNZ"
      }
    },
    {
      "cell_type": "markdown",
      "source": [
        "#**Split The Data**"
      ],
      "metadata": {
        "id": "4L9zYn1cxRhz"
      }
    },
    {
      "cell_type": "code",
      "source": [
        "warnings.filterwarnings(\"ignore\", category= ImportWarning)\n",
        "\n",
        "# Split the data\n",
        "from sklearn.model_selection import train_test_split\n",
        "\n",
        "# Make a copy of the data\n",
        "ml_data= df.copy()\n",
        "ml_data\n",
        "\n",
        "# Only use key features: grf, al, bu, hemo, pcv, sc, ane\n",
        "# Define the key features to be kept\n",
        "key_features= [\"grf\", \"al\", \"bu\", \"hemo\", \"pcv\", \"sc\", \"ane\"]\n",
        "y= ml_data[[\"class\"]]\n",
        "x= ml_data.drop(columns= [col for col in ml_data.columns if col not in key_features])\n",
        "\n",
        "# Ensure y is a 1D array & split teh data\n",
        "y= y.values.ravel()\n",
        "x_train, x_test, y_train, y_test= train_test_split(x, y, test_size= 0.2, random_state= 42)\n",
        "\n",
        "print(\"Standardisation Training set:\", x_train.shape, y_train.shape)\n",
        "print(\"Standardisation Testing set:\", x_test.shape, y_test.shape)"
      ],
      "metadata": {
        "id": "QQgQq0dJNzYG",
        "colab": {
          "base_uri": "https://localhost:8080/"
        },
        "outputId": "28ade055-c1ee-471e-ca3f-ac47cb8bf7f9"
      },
      "execution_count": null,
      "outputs": [
        {
          "output_type": "stream",
          "name": "stdout",
          "text": [
            "Standardisation Training set: (159, 7) (159,)\n",
            "Standardisation Testing set: (40, 7) (40,)\n"
          ]
        }
      ]
    },
    {
      "cell_type": "markdown",
      "source": [
        "#**Build a Machine Learning Model With Logistic Regression**"
      ],
      "metadata": {
        "id": "jgyOIExxbmN8"
      }
    },
    {
      "cell_type": "code",
      "source": [
        "# Standardise the data\n",
        "from sklearn.preprocessing import StandardScaler\n",
        "\n",
        "ss= StandardScaler()\n",
        "\n",
        "# Standardisation split\n",
        "# Fit_transform the train set\n",
        "# transform the test set\n",
        "x_train_ss= ss.fit_transform(x_train)\n",
        "x_test_ss= ss.transform(x_test)"
      ],
      "metadata": {
        "id": "pc0phmUgqoEC"
      },
      "execution_count": null,
      "outputs": []
    },
    {
      "cell_type": "code",
      "source": [
        "# Build a logistic regression model\n",
        "from sklearn.linear_model import LogisticRegression\n",
        "from sklearn.metrics import roc_auc_score, roc_curve, auc, accuracy_score, classification_report\n",
        "\n",
        "# Define the model\n",
        "logit= LogisticRegression(penalty= \"elasticnet\", solver= \"saga\", l1_ratio= 0.5, random_state= 42, max_iter= 10000)\n",
        "\n",
        "# Cross-validation scores\n",
        "skf_logit= StratifiedKFold(n_splits= 5, shuffle= True, random_state= 42)\n",
        "cv_scores_logit= cross_val_score(logit, x_train_ss, y_train, cv= skf_logit, scoring= \"roc_auc\")\n",
        "\n",
        "print(f'Cross-validation AUC scores (Logistic Regression): {cv_scores_logit}')\n",
        "print(f'Mean CV AUC score (Logistic Regression): {np.mean(cv_scores_logit):.2f}')"
      ],
      "metadata": {
        "id": "WSEqDvehJ1xx",
        "colab": {
          "base_uri": "https://localhost:8080/",
          "height": 52
        },
        "outputId": "474720ac-983f-42d2-fef9-0d7aac0ddf1c"
      },
      "execution_count": null,
      "outputs": [
        {
          "output_type": "display_data",
          "data": {
            "text/plain": [
              "<IPython.core.display.Javascript object>"
            ],
            "application/javascript": [
              "\n",
              "        if (window._pyforest_update_imports_cell) { window._pyforest_update_imports_cell('import statsmodels.api as sm\\nimport pandas as pd\\nfrom sklearn.model_selection import StratifiedKFold\\nimport matplotlib.pyplot as plt\\nimport seaborn as sns\\nimport numpy as np'); }\n",
              "    "
            ]
          },
          "metadata": {}
        },
        {
          "output_type": "display_data",
          "data": {
            "text/plain": [
              "<IPython.core.display.Javascript object>"
            ],
            "application/javascript": [
              "\n",
              "        if (window._pyforest_update_imports_cell) { window._pyforest_update_imports_cell('import statsmodels.api as sm\\nimport pandas as pd\\nfrom sklearn.model_selection import StratifiedKFold\\nimport matplotlib.pyplot as plt\\nimport seaborn as sns\\nimport numpy as np\\nfrom sklearn.model_selection import cross_val_score'); }\n",
              "    "
            ]
          },
          "metadata": {}
        },
        {
          "output_type": "stream",
          "name": "stdout",
          "text": [
            "Cross-validation AUC scores (Logistic Regression): [0.97402597 1.         1.         0.98051948 1.        ]\n"
          ]
        },
        {
          "output_type": "display_data",
          "data": {
            "text/plain": [
              "<IPython.core.display.Javascript object>"
            ],
            "application/javascript": [
              "\n",
              "        if (window._pyforest_update_imports_cell) { window._pyforest_update_imports_cell('import statsmodels.api as sm\\nimport pandas as pd\\nfrom sklearn.model_selection import StratifiedKFold\\nimport matplotlib.pyplot as plt\\nimport seaborn as sns\\nimport numpy as np\\nfrom sklearn.model_selection import cross_val_score'); }\n",
              "    "
            ]
          },
          "metadata": {}
        },
        {
          "output_type": "stream",
          "name": "stdout",
          "text": [
            "Mean CV AUC score (Logistic Regression): 0.99\n"
          ]
        }
      ]
    },
    {
      "cell_type": "code",
      "source": [
        "# Fit the model with logistic regression\n",
        "logit.fit(x_train_ss, y_train)\n",
        "\n",
        "# Make predictions\n",
        "y_pred_logit= logit.predict(x_test_ss)\n",
        "y_pred_proba_logit= logit.predict_proba(x_test_ss)[:, 1]\n",
        "\n",
        "# Evaluate the model\n",
        "accuracy= accuracy_score(y_test, y_pred_logit)\n",
        "print(\"Accuracy:\", accuracy)\n",
        "print(\"Classification Report:\\n\", classification_report(y_test, y_pred_logit))\n",
        "\n",
        "# Calculate AUC-ROC\n",
        "auc_logit= roc_auc_score(y_test, y_pred_proba_logit)\n",
        "print(\"AUC-ROC:\", auc_logit)\n",
        "\n",
        "# Plot ROC curve\n",
        "fpr_logit, tpr_logit, thresholds= roc_curve(y_test, y_pred_proba_logit)\n",
        "plt.figure()\n",
        "plt.plot(fpr_logit, tpr_logit, color= \"darkorange\", lw= 2, label= f'ROC curve (area = {auc_logit:.2f})')\n",
        "plt.plot([0, 1], [0, 1], color= \"navy\", lw= 2, linestyle= \"--\")\n",
        "plt.xlim([0.0, 1.0])\n",
        "plt.ylim([0.0, 1.05])\n",
        "plt.xlabel(\"False Positive Rate\")\n",
        "plt.ylabel(\"True Positive Rate\")\n",
        "plt.title(\"Receiver Operating Characteristic (ROC) Curve\")\n",
        "plt.legend(loc= \"lower right\")\n",
        "plt.show()"
      ],
      "metadata": {
        "id": "I7jUIA42LUHY",
        "colab": {
          "base_uri": "https://localhost:8080/",
          "height": 680
        },
        "outputId": "f06f10d0-6362-49e5-8551-21fa5e94731f"
      },
      "execution_count": null,
      "outputs": [
        {
          "output_type": "stream",
          "name": "stdout",
          "text": [
            "Accuracy: 0.975\n",
            "Classification Report:\n",
            "               precision    recall  f1-score   support\n",
            "\n",
            "         0.0       1.00      0.94      0.97        17\n",
            "         1.0       0.96      1.00      0.98        23\n",
            "\n",
            "    accuracy                           0.97        40\n",
            "   macro avg       0.98      0.97      0.97        40\n",
            "weighted avg       0.98      0.97      0.97        40\n",
            "\n",
            "AUC-ROC: 1.0\n"
          ]
        },
        {
          "output_type": "display_data",
          "data": {
            "text/plain": [
              "<IPython.core.display.Javascript object>"
            ],
            "application/javascript": [
              "\n",
              "        if (window._pyforest_update_imports_cell) { window._pyforest_update_imports_cell('import statsmodels.api as sm\\nimport pandas as pd\\nfrom sklearn.model_selection import StratifiedKFold\\nimport matplotlib.pyplot as plt\\nimport seaborn as sns\\nimport numpy as np\\nfrom sklearn.model_selection import cross_val_score'); }\n",
              "    "
            ]
          },
          "metadata": {}
        },
        {
          "output_type": "display_data",
          "data": {
            "text/plain": [
              "<IPython.core.display.Javascript object>"
            ],
            "application/javascript": [
              "\n",
              "        if (window._pyforest_update_imports_cell) { window._pyforest_update_imports_cell('import statsmodels.api as sm\\nimport pandas as pd\\nfrom sklearn.model_selection import StratifiedKFold\\nimport matplotlib.pyplot as plt\\nimport seaborn as sns\\nimport numpy as np\\nfrom sklearn.model_selection import cross_val_score'); }\n",
              "    "
            ]
          },
          "metadata": {}
        },
        {
          "output_type": "display_data",
          "data": {
            "text/plain": [
              "<IPython.core.display.Javascript object>"
            ],
            "application/javascript": [
              "\n",
              "        if (window._pyforest_update_imports_cell) { window._pyforest_update_imports_cell('import statsmodels.api as sm\\nimport pandas as pd\\nfrom sklearn.model_selection import StratifiedKFold\\nimport matplotlib.pyplot as plt\\nimport seaborn as sns\\nimport numpy as np\\nfrom sklearn.model_selection import cross_val_score'); }\n",
              "    "
            ]
          },
          "metadata": {}
        },
        {
          "output_type": "display_data",
          "data": {
            "text/plain": [
              "<IPython.core.display.Javascript object>"
            ],
            "application/javascript": [
              "\n",
              "        if (window._pyforest_update_imports_cell) { window._pyforest_update_imports_cell('import statsmodels.api as sm\\nimport pandas as pd\\nfrom sklearn.model_selection import StratifiedKFold\\nimport matplotlib.pyplot as plt\\nimport seaborn as sns\\nimport numpy as np\\nfrom sklearn.model_selection import cross_val_score'); }\n",
              "    "
            ]
          },
          "metadata": {}
        },
        {
          "output_type": "display_data",
          "data": {
            "text/plain": [
              "<IPython.core.display.Javascript object>"
            ],
            "application/javascript": [
              "\n",
              "        if (window._pyforest_update_imports_cell) { window._pyforest_update_imports_cell('import statsmodels.api as sm\\nimport pandas as pd\\nfrom sklearn.model_selection import StratifiedKFold\\nimport matplotlib.pyplot as plt\\nimport seaborn as sns\\nimport numpy as np\\nfrom sklearn.model_selection import cross_val_score'); }\n",
              "    "
            ]
          },
          "metadata": {}
        },
        {
          "output_type": "display_data",
          "data": {
            "text/plain": [
              "<IPython.core.display.Javascript object>"
            ],
            "application/javascript": [
              "\n",
              "        if (window._pyforest_update_imports_cell) { window._pyforest_update_imports_cell('import statsmodels.api as sm\\nimport pandas as pd\\nfrom sklearn.model_selection import StratifiedKFold\\nimport matplotlib.pyplot as plt\\nimport seaborn as sns\\nimport numpy as np\\nfrom sklearn.model_selection import cross_val_score'); }\n",
              "    "
            ]
          },
          "metadata": {}
        },
        {
          "output_type": "display_data",
          "data": {
            "text/plain": [
              "<IPython.core.display.Javascript object>"
            ],
            "application/javascript": [
              "\n",
              "        if (window._pyforest_update_imports_cell) { window._pyforest_update_imports_cell('import statsmodels.api as sm\\nimport pandas as pd\\nfrom sklearn.model_selection import StratifiedKFold\\nimport matplotlib.pyplot as plt\\nimport seaborn as sns\\nimport numpy as np\\nfrom sklearn.model_selection import cross_val_score'); }\n",
              "    "
            ]
          },
          "metadata": {}
        },
        {
          "output_type": "display_data",
          "data": {
            "text/plain": [
              "<IPython.core.display.Javascript object>"
            ],
            "application/javascript": [
              "\n",
              "        if (window._pyforest_update_imports_cell) { window._pyforest_update_imports_cell('import statsmodels.api as sm\\nimport pandas as pd\\nfrom sklearn.model_selection import StratifiedKFold\\nimport matplotlib.pyplot as plt\\nimport seaborn as sns\\nimport numpy as np\\nfrom sklearn.model_selection import cross_val_score'); }\n",
              "    "
            ]
          },
          "metadata": {}
        },
        {
          "output_type": "display_data",
          "data": {
            "text/plain": [
              "<IPython.core.display.Javascript object>"
            ],
            "application/javascript": [
              "\n",
              "        if (window._pyforest_update_imports_cell) { window._pyforest_update_imports_cell('import statsmodels.api as sm\\nimport pandas as pd\\nfrom sklearn.model_selection import StratifiedKFold\\nimport matplotlib.pyplot as plt\\nimport seaborn as sns\\nimport numpy as np\\nfrom sklearn.model_selection import cross_val_score'); }\n",
              "    "
            ]
          },
          "metadata": {}
        },
        {
          "output_type": "display_data",
          "data": {
            "text/plain": [
              "<IPython.core.display.Javascript object>"
            ],
            "application/javascript": [
              "\n",
              "        if (window._pyforest_update_imports_cell) { window._pyforest_update_imports_cell('import statsmodels.api as sm\\nimport pandas as pd\\nfrom sklearn.model_selection import StratifiedKFold\\nimport matplotlib.pyplot as plt\\nimport seaborn as sns\\nimport numpy as np\\nfrom sklearn.model_selection import cross_val_score'); }\n",
              "    "
            ]
          },
          "metadata": {}
        },
        {
          "output_type": "display_data",
          "data": {
            "text/plain": [
              "<Figure size 640x480 with 1 Axes>"
            ],
            "image/png": "[encoded data removed]"
          },
          "metadata": {}
        }
      ]
    },
    {
      "cell_type": "markdown",
      "source": [
        "#**Observations**"
      ],
      "metadata": {
        "id": "UiShP-DBPuB8"
      }
    },
    {
      "cell_type": "markdown",
      "source": [
        "While the clinical studies from Dimerix suggest that both glomerular filteration rate and proteinuria are the key indicator of kidney disease, however, we found that both glomerular filteration rate and blood urea are the obvious indicators of CKD in our case. Let understand these technical term.\n",
        "\n",
        "(a) Glomerular filteration rate (GFR): GFR (in our dataset, it is grf) is the key measure of kidney fucntion that estimates how much blood the kidney filter per minutes. A normal GFR is typically above 90 mL/min/1.73m², with lower values indicating reduced kidney function or kidney disease. GFR is calculated using blood creatinine levels and other factors, and is crucial for detecting, staging, and monitoring kidney disease progression.\n",
        "\n",
        "(b) Protenuria: A symptom refers to the presence of excess protein in the urine. Normally, proteins should be retained in the blood by the kidneys' filtering system, not in urine. Presence of protein in urine mean that the kidney could not perform properly, causing protein leaking into urine.\n",
        "\n",
        "(c) Blood urea: Blood urea is a measure of how much waste product (urea) is in your blood, which comes from breaking down proteins. Kidneys are supposed to filter out this waste, so high levels of blood urea can indicate that the kidneys aren't working properly.\n",
        "\n",
        "Despite both glomerular filteration rate and proteinuria are the best CKD indicator and are recognised by the industry, our dataset suggest that blood urea can also be an indicator of CKD.  "
      ],
      "metadata": {
        "id": "mW_91qljAxms"
      }
    },
    {
      "cell_type": "markdown",
      "source": [
        "#**Comparison between Causal Analysis and PPS and Feature Importance**"
      ],
      "metadata": {
        "id": "7idGj4Q6_1JX"
      }
    },
    {
      "cell_type": "markdown",
      "source": [
        "When comparing mediation analysis to feature importance and predictive power score (PPS), we noticed that both feature importance and PPS successfully capture the important features within the dataset, what both of them couldn't do but causal inference could is to tell the influence one one features to another.\n",
        "\n",
        "During the mediaton analysis, we begin to realised that both hemoglobin and packed cell volume (percentage of red cells in blood) have a strong significant direct relationship toward the risk of CKD. However, given that both hemogobin and packed cell volume can be influence by other factors such as: cardiovascular disease and cancer, carefully observe and evaluate health biomaker is crucial to avoid misdiagnosis.\n",
        "\n",
        "On the other hand, while serum creatinine does not show a significant direct relationship toward the risk of CKD, however, through blood urea (bu), it appear that higher serum creatinine lead to higher blood urea, further leading to the increase of the risk of CKD.\n",
        "\n",
        "One thing that mediation analysis captured and PPS and feature importance doesn't is that white blood cell count (wbcc) have significant impact to hemoglobin,  glomerular filteration rate and packed cell volume.\n"
      ],
      "metadata": {
        "id": "IgOH3_nVAS4_"
      }
    },
    {
      "cell_type": "markdown",
      "source": [
        "#**Wraping Up the Project- Using Keep It Simple, Simplicity Principles**"
      ],
      "metadata": {
        "id": "0NnoK-9_bvnj"
      }
    },
    {
      "cell_type": "markdown",
      "source": [
        "Glomerular filtration rate and proteinuria are the main indicators of CKD. However, this analysis shows that hemoglobin, packed cell volume, white blood cell count, and albumin are also useful for assessing overall health and CKD risk. Regular and close monitoring of these biomarkers can help catch health issues early and prevent severe and irreversible disease progression.\n",
        "\n"
      ],
      "metadata": {
        "id": "00K3o3y70wMA"
      }
    },
    {
      "cell_type": "markdown",
      "source": [
        "#**Summary**"
      ],
      "metadata": {
        "id": "HyXSKWY1qN-Q"
      }
    },
    {
      "cell_type": "markdown",
      "source": [
        "When I first decided to work on this project, my interest was simply in studying a healthcare dataset. However, by working on this project, I have developed a deeper understanding of different health biomakers, which help me better in interpretating the reading of biomarker and the relationship between one and another.\n",
        "\n",
        "Through this journey, I have learnt a couple of things, one of them I spent quite a bit of time is to think whether or not I am on the right path and the following 6 questions guided me along the way:\n",
        "\n",
        "(a) What is the purpose of the project?\n",
        "\n",
        "(b) What am I trying to achieve/ explore?\n",
        "\n",
        "(c) Have I thoroughly understood the test and the requirements?\n",
        "\n",
        "(d) Does the process flow/ test logic make sense to me?\n",
        "\n",
        "(e) Have I achieved what I wanted to achieved? If not, what is the challenge? How can I get overcome it?\n",
        "\n",
        "(f) How should I interpret the data? Am I interpret correctly? How is the interpretation related to the project's objective?\n",
        "\n",
        "These questions served as a compass, helping me navigate through the complexities of this project. Looking back, this checklist not only test my understanding towards the objective of the project, more importantly, it challenges my logical thinking through the process of mediation analysis.\n",
        "\n",
        "\n"
      ],
      "metadata": {
        "id": "pubm4o6cuWcW"
      }
    }
  ]
}